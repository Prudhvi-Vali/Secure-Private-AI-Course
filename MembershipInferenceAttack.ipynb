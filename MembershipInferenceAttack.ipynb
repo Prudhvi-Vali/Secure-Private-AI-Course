{
  "nbformat": 4,
  "nbformat_minor": 0,
  "metadata": {
    "colab": {
      "name": "MembershipInferenceAttack.ipynb",
      "provenance": [],
      "collapsed_sections": []
    },
    "kernelspec": {
      "name": "python3",
      "display_name": "Python 3"
    },
    "language_info": {
      "name": "python"
    },
    "accelerator": "GPU"
  },
  "cells": [
    {
      "cell_type": "code",
      "metadata": {
        "id": "1Ell6NNMCfzY",
        "colab": {
          "base_uri": "https://localhost:8080/"
        },
        "outputId": "5e36d3be-8228-41d9-b6cf-c7f4cb4d14da"
      },
      "source": [
        "!pip install -U git+https://github.com/tensorflow/privacy"
      ],
      "execution_count": 1,
      "outputs": [
        {
          "output_type": "stream",
          "name": "stdout",
          "text": [
            "Collecting git+https://github.com/tensorflow/privacy\n",
            "  Cloning https://github.com/tensorflow/privacy to /tmp/pip-req-build-g6a89gs4\n",
            "  Running command git clone -q https://github.com/tensorflow/privacy /tmp/pip-req-build-g6a89gs4\n",
            "Requirement already satisfied: absl-py~=1.0.0 in /usr/local/lib/python3.7/dist-packages (from tensorflow-privacy==0.7.3) (1.0.0)\n",
            "Requirement already satisfied: attrs~=21.2.0 in /usr/local/lib/python3.7/dist-packages (from tensorflow-privacy==0.7.3) (21.2.0)\n",
            "Requirement already satisfied: dm-tree~=0.1.1 in /usr/local/lib/python3.7/dist-packages (from tensorflow-privacy==0.7.3) (0.1.6)\n",
            "Requirement already satisfied: matplotlib~=3.3.4 in /usr/local/lib/python3.7/dist-packages (from tensorflow-privacy==0.7.3) (3.3.4)\n",
            "Requirement already satisfied: numpy~=1.21.5 in /usr/local/lib/python3.7/dist-packages (from tensorflow-privacy==0.7.3) (1.21.5)\n",
            "Requirement already satisfied: pandas~=1.1.4 in /usr/local/lib/python3.7/dist-packages (from tensorflow-privacy==0.7.3) (1.1.5)\n",
            "Requirement already satisfied: scipy~=1.5.0 in /usr/local/lib/python3.7/dist-packages (from tensorflow-privacy==0.7.3) (1.5.4)\n",
            "Requirement already satisfied: scikit-learn~=1.0.2 in /usr/local/lib/python3.7/dist-packages (from tensorflow-privacy==0.7.3) (1.0.2)\n",
            "Requirement already satisfied: tensorflow-datasets~=4.5.2 in /usr/local/lib/python3.7/dist-packages (from tensorflow-privacy==0.7.3) (4.5.2)\n",
            "Requirement already satisfied: tensorflow-estimator~=2.4 in /usr/local/lib/python3.7/dist-packages (from tensorflow-privacy==0.7.3) (2.8.0)\n",
            "Requirement already satisfied: tensorflow-probability~=0.15.0 in /usr/local/lib/python3.7/dist-packages (from tensorflow-privacy==0.7.3) (0.15.0)\n",
            "Requirement already satisfied: tensorflow~=2.4 in /usr/local/lib/python3.7/dist-packages (from tensorflow-privacy==0.7.3) (2.8.0)\n",
            "Requirement already satisfied: six in /usr/local/lib/python3.7/dist-packages (from absl-py~=1.0.0->tensorflow-privacy==0.7.3) (1.15.0)\n",
            "Requirement already satisfied: python-dateutil>=2.1 in /usr/local/lib/python3.7/dist-packages (from matplotlib~=3.3.4->tensorflow-privacy==0.7.3) (2.8.2)\n",
            "Requirement already satisfied: pyparsing!=2.0.4,!=2.1.2,!=2.1.6,>=2.0.3 in /usr/local/lib/python3.7/dist-packages (from matplotlib~=3.3.4->tensorflow-privacy==0.7.3) (3.0.7)\n",
            "Requirement already satisfied: pillow>=6.2.0 in /usr/local/lib/python3.7/dist-packages (from matplotlib~=3.3.4->tensorflow-privacy==0.7.3) (7.1.2)\n",
            "Requirement already satisfied: cycler>=0.10 in /usr/local/lib/python3.7/dist-packages (from matplotlib~=3.3.4->tensorflow-privacy==0.7.3) (0.11.0)\n",
            "Requirement already satisfied: kiwisolver>=1.0.1 in /usr/local/lib/python3.7/dist-packages (from matplotlib~=3.3.4->tensorflow-privacy==0.7.3) (1.3.2)\n",
            "Requirement already satisfied: pytz>=2017.2 in /usr/local/lib/python3.7/dist-packages (from pandas~=1.1.4->tensorflow-privacy==0.7.3) (2018.9)\n",
            "Requirement already satisfied: joblib>=0.11 in /usr/local/lib/python3.7/dist-packages (from scikit-learn~=1.0.2->tensorflow-privacy==0.7.3) (1.1.0)\n",
            "Requirement already satisfied: threadpoolctl>=2.0.0 in /usr/local/lib/python3.7/dist-packages (from scikit-learn~=1.0.2->tensorflow-privacy==0.7.3) (3.1.0)\n",
            "Requirement already satisfied: opt-einsum>=2.3.2 in /usr/local/lib/python3.7/dist-packages (from tensorflow~=2.4->tensorflow-privacy==0.7.3) (3.3.0)\n",
            "Requirement already satisfied: setuptools in /usr/local/lib/python3.7/dist-packages (from tensorflow~=2.4->tensorflow-privacy==0.7.3) (57.4.0)\n",
            "Requirement already satisfied: tf-estimator-nightly==2.8.0.dev2021122109 in /usr/local/lib/python3.7/dist-packages (from tensorflow~=2.4->tensorflow-privacy==0.7.3) (2.8.0.dev2021122109)\n",
            "Requirement already satisfied: grpcio<2.0,>=1.24.3 in /usr/local/lib/python3.7/dist-packages (from tensorflow~=2.4->tensorflow-privacy==0.7.3) (1.43.0)\n",
            "Requirement already satisfied: typing-extensions>=3.6.6 in /usr/local/lib/python3.7/dist-packages (from tensorflow~=2.4->tensorflow-privacy==0.7.3) (3.10.0.2)\n",
            "Requirement already satisfied: wrapt>=1.11.0 in /usr/local/lib/python3.7/dist-packages (from tensorflow~=2.4->tensorflow-privacy==0.7.3) (1.13.3)\n",
            "Requirement already satisfied: h5py>=2.9.0 in /usr/local/lib/python3.7/dist-packages (from tensorflow~=2.4->tensorflow-privacy==0.7.3) (3.1.0)\n",
            "Requirement already satisfied: astunparse>=1.6.0 in /usr/local/lib/python3.7/dist-packages (from tensorflow~=2.4->tensorflow-privacy==0.7.3) (1.6.3)\n",
            "Requirement already satisfied: tensorflow-io-gcs-filesystem>=0.23.1 in /usr/local/lib/python3.7/dist-packages (from tensorflow~=2.4->tensorflow-privacy==0.7.3) (0.24.0)\n",
            "Requirement already satisfied: gast>=0.2.1 in /usr/local/lib/python3.7/dist-packages (from tensorflow~=2.4->tensorflow-privacy==0.7.3) (0.5.3)\n",
            "Requirement already satisfied: tensorboard<2.9,>=2.8 in /usr/local/lib/python3.7/dist-packages (from tensorflow~=2.4->tensorflow-privacy==0.7.3) (2.8.0)\n",
            "Requirement already satisfied: keras-preprocessing>=1.1.1 in /usr/local/lib/python3.7/dist-packages (from tensorflow~=2.4->tensorflow-privacy==0.7.3) (1.1.2)\n",
            "Requirement already satisfied: keras<2.9,>=2.8.0rc0 in /usr/local/lib/python3.7/dist-packages (from tensorflow~=2.4->tensorflow-privacy==0.7.3) (2.8.0)\n",
            "Requirement already satisfied: google-pasta>=0.1.1 in /usr/local/lib/python3.7/dist-packages (from tensorflow~=2.4->tensorflow-privacy==0.7.3) (0.2.0)\n",
            "Requirement already satisfied: flatbuffers>=1.12 in /usr/local/lib/python3.7/dist-packages (from tensorflow~=2.4->tensorflow-privacy==0.7.3) (2.0)\n",
            "Requirement already satisfied: libclang>=9.0.1 in /usr/local/lib/python3.7/dist-packages (from tensorflow~=2.4->tensorflow-privacy==0.7.3) (13.0.0)\n",
            "Requirement already satisfied: protobuf>=3.9.2 in /usr/local/lib/python3.7/dist-packages (from tensorflow~=2.4->tensorflow-privacy==0.7.3) (3.17.3)\n",
            "Requirement already satisfied: termcolor>=1.1.0 in /usr/local/lib/python3.7/dist-packages (from tensorflow~=2.4->tensorflow-privacy==0.7.3) (1.1.0)\n",
            "Requirement already satisfied: wheel<1.0,>=0.23.0 in /usr/local/lib/python3.7/dist-packages (from astunparse>=1.6.0->tensorflow~=2.4->tensorflow-privacy==0.7.3) (0.37.1)\n",
            "Requirement already satisfied: cached-property in /usr/local/lib/python3.7/dist-packages (from h5py>=2.9.0->tensorflow~=2.4->tensorflow-privacy==0.7.3) (1.5.2)\n",
            "Requirement already satisfied: markdown>=2.6.8 in /usr/local/lib/python3.7/dist-packages (from tensorboard<2.9,>=2.8->tensorflow~=2.4->tensorflow-privacy==0.7.3) (3.3.6)\n",
            "Requirement already satisfied: tensorboard-data-server<0.7.0,>=0.6.0 in /usr/local/lib/python3.7/dist-packages (from tensorboard<2.9,>=2.8->tensorflow~=2.4->tensorflow-privacy==0.7.3) (0.6.1)\n",
            "Requirement already satisfied: google-auth<3,>=1.6.3 in /usr/local/lib/python3.7/dist-packages (from tensorboard<2.9,>=2.8->tensorflow~=2.4->tensorflow-privacy==0.7.3) (1.35.0)\n",
            "Requirement already satisfied: werkzeug>=0.11.15 in /usr/local/lib/python3.7/dist-packages (from tensorboard<2.9,>=2.8->tensorflow~=2.4->tensorflow-privacy==0.7.3) (1.0.1)\n",
            "Requirement already satisfied: google-auth-oauthlib<0.5,>=0.4.1 in /usr/local/lib/python3.7/dist-packages (from tensorboard<2.9,>=2.8->tensorflow~=2.4->tensorflow-privacy==0.7.3) (0.4.6)\n",
            "Requirement already satisfied: requests<3,>=2.21.0 in /usr/local/lib/python3.7/dist-packages (from tensorboard<2.9,>=2.8->tensorflow~=2.4->tensorflow-privacy==0.7.3) (2.23.0)\n",
            "Requirement already satisfied: tensorboard-plugin-wit>=1.6.0 in /usr/local/lib/python3.7/dist-packages (from tensorboard<2.9,>=2.8->tensorflow~=2.4->tensorflow-privacy==0.7.3) (1.8.1)\n",
            "Requirement already satisfied: cachetools<5.0,>=2.0.0 in /usr/local/lib/python3.7/dist-packages (from google-auth<3,>=1.6.3->tensorboard<2.9,>=2.8->tensorflow~=2.4->tensorflow-privacy==0.7.3) (4.2.4)\n",
            "Requirement already satisfied: rsa<5,>=3.1.4 in /usr/local/lib/python3.7/dist-packages (from google-auth<3,>=1.6.3->tensorboard<2.9,>=2.8->tensorflow~=2.4->tensorflow-privacy==0.7.3) (4.8)\n",
            "Requirement already satisfied: pyasn1-modules>=0.2.1 in /usr/local/lib/python3.7/dist-packages (from google-auth<3,>=1.6.3->tensorboard<2.9,>=2.8->tensorflow~=2.4->tensorflow-privacy==0.7.3) (0.2.8)\n",
            "Requirement already satisfied: requests-oauthlib>=0.7.0 in /usr/local/lib/python3.7/dist-packages (from google-auth-oauthlib<0.5,>=0.4.1->tensorboard<2.9,>=2.8->tensorflow~=2.4->tensorflow-privacy==0.7.3) (1.3.1)\n",
            "Requirement already satisfied: importlib-metadata>=4.4 in /usr/local/lib/python3.7/dist-packages (from markdown>=2.6.8->tensorboard<2.9,>=2.8->tensorflow~=2.4->tensorflow-privacy==0.7.3) (4.11.0)\n",
            "Requirement already satisfied: zipp>=0.5 in /usr/local/lib/python3.7/dist-packages (from importlib-metadata>=4.4->markdown>=2.6.8->tensorboard<2.9,>=2.8->tensorflow~=2.4->tensorflow-privacy==0.7.3) (3.7.0)\n",
            "Requirement already satisfied: pyasn1<0.5.0,>=0.4.6 in /usr/local/lib/python3.7/dist-packages (from pyasn1-modules>=0.2.1->google-auth<3,>=1.6.3->tensorboard<2.9,>=2.8->tensorflow~=2.4->tensorflow-privacy==0.7.3) (0.4.8)\n",
            "Requirement already satisfied: certifi>=2017.4.17 in /usr/local/lib/python3.7/dist-packages (from requests<3,>=2.21.0->tensorboard<2.9,>=2.8->tensorflow~=2.4->tensorflow-privacy==0.7.3) (2021.10.8)\n",
            "Requirement already satisfied: chardet<4,>=3.0.2 in /usr/local/lib/python3.7/dist-packages (from requests<3,>=2.21.0->tensorboard<2.9,>=2.8->tensorflow~=2.4->tensorflow-privacy==0.7.3) (3.0.4)\n",
            "Requirement already satisfied: urllib3!=1.25.0,!=1.25.1,<1.26,>=1.21.1 in /usr/local/lib/python3.7/dist-packages (from requests<3,>=2.21.0->tensorboard<2.9,>=2.8->tensorflow~=2.4->tensorflow-privacy==0.7.3) (1.24.3)\n",
            "Requirement already satisfied: idna<3,>=2.5 in /usr/local/lib/python3.7/dist-packages (from requests<3,>=2.21.0->tensorboard<2.9,>=2.8->tensorflow~=2.4->tensorflow-privacy==0.7.3) (2.10)\n",
            "Requirement already satisfied: oauthlib>=3.0.0 in /usr/local/lib/python3.7/dist-packages (from requests-oauthlib>=0.7.0->google-auth-oauthlib<0.5,>=0.4.1->tensorboard<2.9,>=2.8->tensorflow~=2.4->tensorflow-privacy==0.7.3) (3.2.0)\n",
            "Requirement already satisfied: promise in /usr/local/lib/python3.7/dist-packages (from tensorflow-datasets~=4.5.2->tensorflow-privacy==0.7.3) (2.3)\n",
            "Requirement already satisfied: tqdm in /usr/local/lib/python3.7/dist-packages (from tensorflow-datasets~=4.5.2->tensorflow-privacy==0.7.3) (4.62.3)\n",
            "Requirement already satisfied: dill in /usr/local/lib/python3.7/dist-packages (from tensorflow-datasets~=4.5.2->tensorflow-privacy==0.7.3) (0.3.4)\n",
            "Requirement already satisfied: tensorflow-metadata in /usr/local/lib/python3.7/dist-packages (from tensorflow-datasets~=4.5.2->tensorflow-privacy==0.7.3) (1.6.0)\n",
            "Requirement already satisfied: importlib-resources in /usr/local/lib/python3.7/dist-packages (from tensorflow-datasets~=4.5.2->tensorflow-privacy==0.7.3) (5.4.0)\n",
            "Requirement already satisfied: cloudpickle>=1.3 in /usr/local/lib/python3.7/dist-packages (from tensorflow-probability~=0.15.0->tensorflow-privacy==0.7.3) (1.3.0)\n",
            "Requirement already satisfied: decorator in /usr/local/lib/python3.7/dist-packages (from tensorflow-probability~=0.15.0->tensorflow-privacy==0.7.3) (4.4.2)\n",
            "Requirement already satisfied: googleapis-common-protos<2,>=1.52.0 in /usr/local/lib/python3.7/dist-packages (from tensorflow-metadata->tensorflow-datasets~=4.5.2->tensorflow-privacy==0.7.3) (1.54.0)\n"
          ]
        }
      ]
    },
    {
      "cell_type": "code",
      "source": [
        "import numpy as np\n",
        "import matplotlib.pyplot as plt\n",
        "import tensorflow as tf\n",
        "\n",
        "from scipy import special\n",
        "\n",
        "\n",
        "from tensorflow.keras.layers import Input, Conv2D, Dense, Flatten, MaxPooling2D,Dropout\n",
        "from tensorflow.keras.models import Model\n",
        "from tensorflow.keras.utils import to_categorical"
      ],
      "metadata": {
        "id": "anMsMyznnHF0"
      },
      "execution_count": 2,
      "outputs": []
    },
    {
      "cell_type": "code",
      "source": [
        "from tensorflow_privacy.privacy.membership_inference_attack import membership_inference_attack as mia\n",
        "from tensorflow_privacy.privacy.membership_inference_attack.data_structures import AttackInputData\n",
        "from tensorflow_privacy.privacy.membership_inference_attack.data_structures import SlicingSpec\n",
        "from tensorflow_privacy.privacy.membership_inference_attack.data_structures import AttackType"
      ],
      "metadata": {
        "colab": {
          "base_uri": "https://localhost:8080/"
        },
        "id": "Izljcg8KnsKQ",
        "outputId": "736f536b-18db-4962-e1d1-d742f89739c6"
      },
      "execution_count": 3,
      "outputs": [
        {
          "output_type": "stream",
          "name": "stderr",
          "text": [
            "/usr/local/lib/python3.7/dist-packages/tensorflow_privacy/privacy/membership_inference_attack/__init__.py:19: UserWarning: \n",
            "Membership inference attack sources were moved. Please replace\n",
            "import tensorflow_privacy.privacy.membership_inference_attack\n",
            "\n",
            "with\n",
            "import tensorflow_privacy.privacy.privacy_tests.membership_inference_attack\n",
            "  \"\\nMembership inference attack sources were moved. Please replace\"\n"
          ]
        }
      ]
    },
    {
      "cell_type": "code",
      "source": [
        "def load_cifar100():\n",
        "\n",
        "  \n",
        "  train, test = tf.keras.datasets.cifar100.load_data()\n",
        "  train_data, train_labels = train\n",
        "  test_data, test_labels = test\n",
        "\n",
        "  train_data = np.array(train_data, dtype=np.float32) / 255\n",
        "  test_data = np.array(test_data, dtype=np.float32) / 255\n",
        "\n",
        "  train_labels = train_labels.flatten()\n",
        "  test_labels = test_labels.flatten()\n",
        "\n",
        "  return train_data, train_labels, test_data, test_labels\n",
        " \n",
        "def make_simple_model():\n",
        "  \"\"\" Define a Keras model without much of regularization\n",
        "  Such a model is prone to overfitting\"\"\"\n",
        "  shape = (32, 32, 3)\n",
        "  i = Input(shape=shape)\n",
        "  x = Conv2D(32, (3, 3), activation='relu')(i)\n",
        "  x = MaxPooling2D()(x)\n",
        "\n",
        "  x = Conv2D(64, (3, 3), activation='relu')(x)\n",
        "  x = MaxPooling2D()(x)\n",
        "\n",
        "  x = Conv2D(64, (3, 3), activation='relu')(x)\n",
        "  x = MaxPooling2D()(x)\n",
        "\n",
        "  x = Flatten()(x)\n",
        "  x = Dense(128, activation='relu')(x)\n",
        "  x = Dense(100)(x)\n",
        "  model = Model(i, x)\n",
        "  return model"
      ],
      "metadata": {
        "id": "Yf_TT-a_nvXQ"
      },
      "execution_count": 5,
      "outputs": []
    },
    {
      "cell_type": "code",
      "source": [
        "train_data, train_labels, test_data, test_labels = load_cifar100()"
      ],
      "metadata": {
        "colab": {
          "base_uri": "https://localhost:8080/"
        },
        "id": "dMdI9Vtgoy9I",
        "outputId": "fa36d044-5ad5-46eb-b68e-40b28fee7391"
      },
      "execution_count": 6,
      "outputs": [
        {
          "output_type": "stream",
          "name": "stdout",
          "text": [
            "Downloading data from https://www.cs.toronto.edu/~kriz/cifar-100-python.tar.gz\n",
            "169009152/169001437 [==============================] - 2s 0us/step\n",
            "169017344/169001437 [==============================] - 2s 0us/step\n"
          ]
        }
      ]
    },
    {
      "cell_type": "code",
      "source": [
        "model = make_simple_model()\n",
        "model.summary()"
      ],
      "metadata": {
        "colab": {
          "base_uri": "https://localhost:8080/"
        },
        "id": "t7iuP2NqoSDF",
        "outputId": "d14bed4a-85a2-425a-c9b2-32a82900290b"
      },
      "execution_count": 7,
      "outputs": [
        {
          "output_type": "stream",
          "name": "stdout",
          "text": [
            "Model: \"model\"\n",
            "_________________________________________________________________\n",
            " Layer (type)                Output Shape              Param #   \n",
            "=================================================================\n",
            " input_1 (InputLayer)        [(None, 32, 32, 3)]       0         \n",
            "                                                                 \n",
            " conv2d (Conv2D)             (None, 30, 30, 32)        896       \n",
            "                                                                 \n",
            " max_pooling2d (MaxPooling2D  (None, 15, 15, 32)       0         \n",
            " )                                                               \n",
            "                                                                 \n",
            " conv2d_1 (Conv2D)           (None, 13, 13, 64)        18496     \n",
            "                                                                 \n",
            " max_pooling2d_1 (MaxPooling  (None, 6, 6, 64)         0         \n",
            " 2D)                                                             \n",
            "                                                                 \n",
            " conv2d_2 (Conv2D)           (None, 4, 4, 64)          36928     \n",
            "                                                                 \n",
            " max_pooling2d_2 (MaxPooling  (None, 2, 2, 64)         0         \n",
            " 2D)                                                             \n",
            "                                                                 \n",
            " flatten (Flatten)           (None, 256)               0         \n",
            "                                                                 \n",
            " dense (Dense)               (None, 128)               32896     \n",
            "                                                                 \n",
            " dense_1 (Dense)             (None, 100)               12900     \n",
            "                                                                 \n",
            "=================================================================\n",
            "Total params: 102,116\n",
            "Trainable params: 102,116\n",
            "Non-trainable params: 0\n",
            "_________________________________________________________________\n"
          ]
        }
      ]
    },
    {
      "cell_type": "code",
      "source": [
        "optimizer = tf.keras.optimizers.Adam()\n",
        "loss = tf.keras.losses.SparseCategoricalCrossentropy(from_logits=True)\n",
        "\n",
        "\n",
        "model.compile(optimizer=optimizer, loss=loss, metrics=['accuracy'])"
      ],
      "metadata": {
        "id": "8fCz47WBoXoX"
      },
      "execution_count": 8,
      "outputs": []
    },
    {
      "cell_type": "code",
      "source": [
        "history = model.fit(train_data, train_labels,\n",
        "                       validation_data=(test_data, test_labels),\n",
        "                       batch_size=128, \n",
        "                       epochs=20)"
      ],
      "metadata": {
        "colab": {
          "base_uri": "https://localhost:8080/"
        },
        "id": "QCWo0DXxocBH",
        "outputId": "6749aa09-89d3-4ab7-f9e2-d2cea7ce3737"
      },
      "execution_count": 9,
      "outputs": [
        {
          "output_type": "stream",
          "name": "stdout",
          "text": [
            "Epoch 1/20\n",
            "391/391 [==============================] - 16s 16ms/step - loss: 4.1260 - accuracy: 0.0705 - val_loss: 3.7152 - val_accuracy: 0.1389\n",
            "Epoch 2/20\n",
            "391/391 [==============================] - 6s 16ms/step - loss: 3.5376 - accuracy: 0.1652 - val_loss: 3.3822 - val_accuracy: 0.1946\n",
            "Epoch 3/20\n",
            "391/391 [==============================] - 6s 16ms/step - loss: 3.2293 - accuracy: 0.2198 - val_loss: 3.1329 - val_accuracy: 0.2396\n",
            "Epoch 4/20\n",
            "391/391 [==============================] - 6s 15ms/step - loss: 3.0273 - accuracy: 0.2582 - val_loss: 2.9921 - val_accuracy: 0.2674\n",
            "Epoch 5/20\n",
            "391/391 [==============================] - 6s 15ms/step - loss: 2.8871 - accuracy: 0.2840 - val_loss: 2.9129 - val_accuracy: 0.2872\n",
            "Epoch 6/20\n",
            "391/391 [==============================] - 6s 15ms/step - loss: 2.7658 - accuracy: 0.3105 - val_loss: 2.8524 - val_accuracy: 0.2970\n",
            "Epoch 7/20\n",
            "391/391 [==============================] - 6s 15ms/step - loss: 2.6687 - accuracy: 0.3275 - val_loss: 2.7899 - val_accuracy: 0.3102\n",
            "Epoch 8/20\n",
            "391/391 [==============================] - 6s 15ms/step - loss: 2.5892 - accuracy: 0.3432 - val_loss: 2.7202 - val_accuracy: 0.3268\n",
            "Epoch 9/20\n",
            "391/391 [==============================] - 6s 15ms/step - loss: 2.5124 - accuracy: 0.3595 - val_loss: 2.6433 - val_accuracy: 0.3380\n",
            "Epoch 10/20\n",
            "391/391 [==============================] - 6s 15ms/step - loss: 2.4528 - accuracy: 0.3726 - val_loss: 2.5965 - val_accuracy: 0.3495\n",
            "Epoch 11/20\n",
            "391/391 [==============================] - 6s 15ms/step - loss: 2.4028 - accuracy: 0.3836 - val_loss: 2.5957 - val_accuracy: 0.3498\n",
            "Epoch 12/20\n",
            "391/391 [==============================] - 6s 15ms/step - loss: 2.3506 - accuracy: 0.3940 - val_loss: 2.5991 - val_accuracy: 0.3525\n",
            "Epoch 13/20\n",
            "391/391 [==============================] - 6s 15ms/step - loss: 2.3137 - accuracy: 0.3990 - val_loss: 2.5293 - val_accuracy: 0.3622\n",
            "Epoch 14/20\n",
            "391/391 [==============================] - 6s 15ms/step - loss: 2.2717 - accuracy: 0.4103 - val_loss: 2.5269 - val_accuracy: 0.3650\n",
            "Epoch 15/20\n",
            "391/391 [==============================] - 6s 15ms/step - loss: 2.2300 - accuracy: 0.4183 - val_loss: 2.5204 - val_accuracy: 0.3587\n",
            "Epoch 16/20\n",
            "391/391 [==============================] - 6s 15ms/step - loss: 2.2013 - accuracy: 0.4256 - val_loss: 2.5263 - val_accuracy: 0.3692\n",
            "Epoch 17/20\n",
            "391/391 [==============================] - 6s 15ms/step - loss: 2.1736 - accuracy: 0.4303 - val_loss: 2.4898 - val_accuracy: 0.3700\n",
            "Epoch 18/20\n",
            "391/391 [==============================] - 6s 15ms/step - loss: 2.1333 - accuracy: 0.4382 - val_loss: 2.4662 - val_accuracy: 0.3787\n",
            "Epoch 19/20\n",
            "391/391 [==============================] - 6s 15ms/step - loss: 2.1126 - accuracy: 0.4424 - val_loss: 2.4760 - val_accuracy: 0.3780\n",
            "Epoch 20/20\n",
            "391/391 [==============================] - 6s 15ms/step - loss: 2.0838 - accuracy: 0.4503 - val_loss: 2.5285 - val_accuracy: 0.3650\n"
          ]
        }
      ]
    },
    {
      "cell_type": "code",
      "source": [
        "plt.plot(history.history['accuracy'], label='acc')\n",
        "plt.plot(history.history['val_accuracy'], label='val_acc')\n",
        "plt.legend();\n",
        "plt.ylim(0,1)"
      ],
      "metadata": {
        "colab": {
          "base_uri": "https://localhost:8080/",
          "height": 286
        },
        "id": "ptzPNoOEofup",
        "outputId": "e85f2d83-2013-44ec-84a7-afcabaf89cd5"
      },
      "execution_count": 10,
      "outputs": [
        {
          "output_type": "execute_result",
          "data": {
            "text/plain": [
              "(0.0, 1.0)"
            ]
          },
          "metadata": {},
          "execution_count": 10
        },
        {
          "output_type": "display_data",
          "data": {
            "image/png": "[encoded data removed]",
            "text/plain": [
              "<Figure size 432x288 with 1 Axes>"
            ]
          },
          "metadata": {
            "needs_background": "light"
          }
        }
      ]
    },
    {
      "cell_type": "code",
      "source": [
        "print('Predict on train...')\n",
        "logits_train = model.predict(train_data)\n",
        "print('Predict on test...')\n",
        "logits_test = model.predict(test_data)\n",
        "\n",
        "print('Apply softmax to get probabilities from logits...')\n",
        "prob_train = special.softmax(logits_train, axis=1)\n",
        "prob_test = special.softmax(logits_test, axis=1)\n",
        "\n",
        "print('Compute losses...')\n",
        "cce = tf.keras.backend.categorical_crossentropy\n",
        "constant = tf.keras.backend.constant\n",
        "\n",
        "y_train_onehot = to_categorical(train_labels)\n",
        "y_test_onehot = to_categorical(test_labels)\n",
        "\n",
        "loss_train = cce(constant(y_train_onehot), constant(prob_train), from_logits=False).numpy()\n",
        "loss_test = cce(constant(y_test_onehot), constant(prob_test), from_logits=False).numpy()"
      ],
      "metadata": {
        "colab": {
          "base_uri": "https://localhost:8080/"
        },
        "id": "8ECr9BfvpFn5",
        "outputId": "d280b188-31a2-45a9-96e5-b0231788bde4"
      },
      "execution_count": 11,
      "outputs": [
        {
          "output_type": "stream",
          "name": "stdout",
          "text": [
            "Predict on train...\n",
            "Predict on test...\n",
            "Apply softmax to get probabilities from logits...\n",
            "Compute losses...\n"
          ]
        }
      ]
    },
    {
      "cell_type": "code",
      "source": [
        "attack_input = AttackInputData(\n",
        "  logits_train = logits_train,\n",
        "  logits_test = logits_test,\n",
        "  loss_train = loss_train,\n",
        "  loss_test = loss_test,\n",
        "  labels_train = train_labels,\n",
        "  labels_test = test_labels\n",
        ")"
      ],
      "metadata": {
        "id": "FCFPWsRxpITB"
      },
      "execution_count": 12,
      "outputs": []
    },
    {
      "cell_type": "code",
      "source": [
        "slicing_spec = SlicingSpec(\n",
        "    entire_dataset = True,\n",
        "    by_class = True,\n",
        "    by_percentiles = False,\n",
        "    by_classification_correctness = True)"
      ],
      "metadata": {
        "id": "2L3Pajk8poeq"
      },
      "execution_count": 13,
      "outputs": []
    },
    {
      "cell_type": "code",
      "source": [
        "attack_types = [\n",
        "    AttackType.THRESHOLD_ATTACK\n",
        "]"
      ],
      "metadata": {
        "id": "TpZnMc1cpqMk"
      },
      "execution_count": 14,
      "outputs": []
    },
    {
      "cell_type": "code",
      "source": [
        "attacks_result = mia.run_attacks(attack_input=attack_input,\n",
        "                                 slicing_spec=slicing_spec,\n",
        "                                 attack_types=attack_types)"
      ],
      "metadata": {
        "id": "T7ri3eO9puJL"
      },
      "execution_count": 15,
      "outputs": []
    },
    {
      "cell_type": "code",
      "source": [
        "print(attacks_result.summary(by_slices=True))"
      ],
      "metadata": {
        "colab": {
          "base_uri": "https://localhost:8080/"
        },
        "id": "z4LifDeSpwRx",
        "outputId": "88f6e37f-84c1-4ae0-fc3b-799fd2fef27d"
      },
      "execution_count": 16,
      "outputs": [
        {
          "output_type": "stream",
          "name": "stdout",
          "text": [
            "Best-performing attacks over all slices\n",
            "  THRESHOLD_ATTACK (with 500 training and 100 test examples) achieved an AUC of 0.67 on slice CLASS=98\n",
            "  THRESHOLD_ATTACK (with 500 training and 100 test examples) achieved an advantage of 0.31 on slice CLASS=98\n",
            "\n",
            "Best-performing attacks over slice: \"Entire dataset\"\n",
            "  THRESHOLD_ATTACK (with 50000 training and 10000 test examples) achieved an AUC of 0.56\n",
            "  THRESHOLD_ATTACK (with 50000 training and 10000 test examples) achieved an advantage of 0.10\n",
            "\n",
            "Best-performing attacks over slice: \"CLASS=0\"\n",
            "  THRESHOLD_ATTACK (with 500 training and 100 test examples) achieved an AUC of 0.48\n",
            "  THRESHOLD_ATTACK (with 500 training and 100 test examples) achieved an advantage of 0.11\n",
            "\n",
            "Best-performing attacks over slice: \"CLASS=1\"\n",
            "  THRESHOLD_ATTACK (with 500 training and 100 test examples) achieved an AUC of 0.58\n",
            "  THRESHOLD_ATTACK (with 500 training and 100 test examples) achieved an advantage of 0.15\n",
            "\n",
            "Best-performing attacks over slice: \"CLASS=2\"\n",
            "  THRESHOLD_ATTACK (with 500 training and 100 test examples) achieved an AUC of 0.53\n",
            "  THRESHOLD_ATTACK (with 500 training and 100 test examples) achieved an advantage of 0.09\n",
            "\n",
            "Best-performing attacks over slice: \"CLASS=3\"\n",
            "  THRESHOLD_ATTACK (with 500 training and 100 test examples) achieved an AUC of 0.58\n",
            "  THRESHOLD_ATTACK (with 500 training and 100 test examples) achieved an advantage of 0.15\n",
            "\n",
            "Best-performing attacks over slice: \"CLASS=4\"\n",
            "  THRESHOLD_ATTACK (with 500 training and 100 test examples) achieved an AUC of 0.61\n",
            "  THRESHOLD_ATTACK (with 500 training and 100 test examples) achieved an advantage of 0.24\n",
            "\n",
            "Best-performing attacks over slice: \"CLASS=5\"\n",
            "  THRESHOLD_ATTACK (with 500 training and 100 test examples) achieved an AUC of 0.59\n",
            "  THRESHOLD_ATTACK (with 500 training and 100 test examples) achieved an advantage of 0.19\n",
            "\n",
            "Best-performing attacks over slice: \"CLASS=6\"\n",
            "  THRESHOLD_ATTACK (with 500 training and 100 test examples) achieved an AUC of 0.53\n",
            "  THRESHOLD_ATTACK (with 500 training and 100 test examples) achieved an advantage of 0.09\n",
            "\n",
            "Best-performing attacks over slice: \"CLASS=7\"\n",
            "  THRESHOLD_ATTACK (with 500 training and 100 test examples) achieved an AUC of 0.55\n",
            "  THRESHOLD_ATTACK (with 500 training and 100 test examples) achieved an advantage of 0.10\n",
            "\n",
            "Best-performing attacks over slice: \"CLASS=8\"\n",
            "  THRESHOLD_ATTACK (with 500 training and 100 test examples) achieved an AUC of 0.55\n",
            "  THRESHOLD_ATTACK (with 500 training and 100 test examples) achieved an advantage of 0.13\n",
            "\n",
            "Best-performing attacks over slice: \"CLASS=9\"\n",
            "  THRESHOLD_ATTACK (with 500 training and 100 test examples) achieved an AUC of 0.55\n",
            "  THRESHOLD_ATTACK (with 500 training and 100 test examples) achieved an advantage of 0.09\n",
            "\n",
            "Best-performing attacks over slice: \"CLASS=10\"\n",
            "  THRESHOLD_ATTACK (with 500 training and 100 test examples) achieved an AUC of 0.60\n",
            "  THRESHOLD_ATTACK (with 500 training and 100 test examples) achieved an advantage of 0.16\n",
            "\n",
            "Best-performing attacks over slice: \"CLASS=11\"\n",
            "  THRESHOLD_ATTACK (with 500 training and 100 test examples) achieved an AUC of 0.59\n",
            "  THRESHOLD_ATTACK (with 500 training and 100 test examples) achieved an advantage of 0.20\n",
            "\n",
            "Best-performing attacks over slice: \"CLASS=12\"\n",
            "  THRESHOLD_ATTACK (with 500 training and 100 test examples) achieved an AUC of 0.54\n",
            "  THRESHOLD_ATTACK (with 500 training and 100 test examples) achieved an advantage of 0.13\n",
            "\n",
            "Best-performing attacks over slice: \"CLASS=13\"\n",
            "  THRESHOLD_ATTACK (with 500 training and 100 test examples) achieved an AUC of 0.61\n",
            "  THRESHOLD_ATTACK (with 500 training and 100 test examples) achieved an advantage of 0.20\n",
            "\n",
            "Best-performing attacks over slice: \"CLASS=14\"\n",
            "  THRESHOLD_ATTACK (with 500 training and 100 test examples) achieved an AUC of 0.63\n",
            "  THRESHOLD_ATTACK (with 500 training and 100 test examples) achieved an advantage of 0.23\n",
            "\n",
            "Best-performing attacks over slice: \"CLASS=15\"\n",
            "  THRESHOLD_ATTACK (with 500 training and 100 test examples) achieved an AUC of 0.60\n",
            "  THRESHOLD_ATTACK (with 500 training and 100 test examples) achieved an advantage of 0.21\n",
            "\n",
            "Best-performing attacks over slice: \"CLASS=16\"\n",
            "  THRESHOLD_ATTACK (with 500 training and 100 test examples) achieved an AUC of 0.52\n",
            "  THRESHOLD_ATTACK (with 500 training and 100 test examples) achieved an advantage of 0.09\n",
            "\n",
            "Best-performing attacks over slice: \"CLASS=17\"\n",
            "  THRESHOLD_ATTACK (with 500 training and 100 test examples) achieved an AUC of 0.52\n",
            "  THRESHOLD_ATTACK (with 500 training and 100 test examples) achieved an advantage of 0.07\n",
            "\n",
            "Best-performing attacks over slice: \"CLASS=18\"\n",
            "  THRESHOLD_ATTACK (with 500 training and 100 test examples) achieved an AUC of 0.53\n",
            "  THRESHOLD_ATTACK (with 500 training and 100 test examples) achieved an advantage of 0.09\n",
            "\n",
            "Best-performing attacks over slice: \"CLASS=19\"\n",
            "  THRESHOLD_ATTACK (with 500 training and 100 test examples) achieved an AUC of 0.62\n",
            "  THRESHOLD_ATTACK (with 500 training and 100 test examples) achieved an advantage of 0.23\n",
            "\n",
            "Best-performing attacks over slice: \"CLASS=20\"\n",
            "  THRESHOLD_ATTACK (with 500 training and 100 test examples) achieved an AUC of 0.53\n",
            "  THRESHOLD_ATTACK (with 500 training and 100 test examples) achieved an advantage of 0.15\n",
            "\n",
            "Best-performing attacks over slice: \"CLASS=21\"\n",
            "  THRESHOLD_ATTACK (with 500 training and 100 test examples) achieved an AUC of 0.56\n",
            "  THRESHOLD_ATTACK (with 500 training and 100 test examples) achieved an advantage of 0.12\n",
            "\n",
            "Best-performing attacks over slice: \"CLASS=22\"\n",
            "  THRESHOLD_ATTACK (with 500 training and 100 test examples) achieved an AUC of 0.59\n",
            "  THRESHOLD_ATTACK (with 500 training and 100 test examples) achieved an advantage of 0.22\n",
            "\n",
            "Best-performing attacks over slice: \"CLASS=23\"\n",
            "  THRESHOLD_ATTACK (with 500 training and 100 test examples) achieved an AUC of 0.55\n",
            "  THRESHOLD_ATTACK (with 500 training and 100 test examples) achieved an advantage of 0.14\n",
            "\n",
            "Best-performing attacks over slice: \"CLASS=24\"\n",
            "  THRESHOLD_ATTACK (with 500 training and 100 test examples) achieved an AUC of 0.53\n",
            "  THRESHOLD_ATTACK (with 500 training and 100 test examples) achieved an advantage of 0.10\n",
            "\n",
            "Best-performing attacks over slice: \"CLASS=25\"\n",
            "  THRESHOLD_ATTACK (with 500 training and 100 test examples) achieved an AUC of 0.58\n",
            "  THRESHOLD_ATTACK (with 500 training and 100 test examples) achieved an advantage of 0.17\n",
            "\n",
            "Best-performing attacks over slice: \"CLASS=26\"\n",
            "  THRESHOLD_ATTACK (with 500 training and 100 test examples) achieved an AUC of 0.56\n",
            "  THRESHOLD_ATTACK (with 500 training and 100 test examples) achieved an advantage of 0.15\n",
            "\n",
            "Best-performing attacks over slice: \"CLASS=27\"\n",
            "  THRESHOLD_ATTACK (with 500 training and 100 test examples) achieved an AUC of 0.51\n",
            "  THRESHOLD_ATTACK (with 500 training and 100 test examples) achieved an advantage of 0.10\n",
            "\n",
            "Best-performing attacks over slice: \"CLASS=28\"\n",
            "  THRESHOLD_ATTACK (with 500 training and 100 test examples) achieved an AUC of 0.55\n",
            "  THRESHOLD_ATTACK (with 500 training and 100 test examples) achieved an advantage of 0.10\n",
            "\n",
            "Best-performing attacks over slice: \"CLASS=29\"\n",
            "  THRESHOLD_ATTACK (with 500 training and 100 test examples) achieved an AUC of 0.58\n",
            "  THRESHOLD_ATTACK (with 500 training and 100 test examples) achieved an advantage of 0.14\n",
            "\n",
            "Best-performing attacks over slice: \"CLASS=30\"\n",
            "  THRESHOLD_ATTACK (with 500 training and 100 test examples) achieved an AUC of 0.55\n",
            "  THRESHOLD_ATTACK (with 500 training and 100 test examples) achieved an advantage of 0.09\n",
            "\n",
            "Best-performing attacks over slice: \"CLASS=31\"\n",
            "  THRESHOLD_ATTACK (with 500 training and 100 test examples) achieved an AUC of 0.61\n",
            "  THRESHOLD_ATTACK (with 500 training and 100 test examples) achieved an advantage of 0.21\n",
            "\n",
            "Best-performing attacks over slice: \"CLASS=32\"\n",
            "  THRESHOLD_ATTACK (with 500 training and 100 test examples) achieved an AUC of 0.51\n",
            "  THRESHOLD_ATTACK (with 500 training and 100 test examples) achieved an advantage of 0.07\n",
            "\n",
            "Best-performing attacks over slice: \"CLASS=33\"\n",
            "  THRESHOLD_ATTACK (with 500 training and 100 test examples) achieved an AUC of 0.57\n",
            "  THRESHOLD_ATTACK (with 500 training and 100 test examples) achieved an advantage of 0.13\n",
            "\n",
            "Best-performing attacks over slice: \"CLASS=34\"\n",
            "  THRESHOLD_ATTACK (with 500 training and 100 test examples) achieved an AUC of 0.52\n",
            "  THRESHOLD_ATTACK (with 500 training and 100 test examples) achieved an advantage of 0.09\n",
            "\n",
            "Best-performing attacks over slice: \"CLASS=35\"\n",
            "  THRESHOLD_ATTACK (with 500 training and 100 test examples) achieved an AUC of 0.57\n",
            "  THRESHOLD_ATTACK (with 500 training and 100 test examples) achieved an advantage of 0.15\n",
            "\n",
            "Best-performing attacks over slice: \"CLASS=36\"\n",
            "  THRESHOLD_ATTACK (with 500 training and 100 test examples) achieved an AUC of 0.65\n",
            "  THRESHOLD_ATTACK (with 500 training and 100 test examples) achieved an advantage of 0.26\n",
            "\n",
            "Best-performing attacks over slice: \"CLASS=37\"\n",
            "  THRESHOLD_ATTACK (with 500 training and 100 test examples) achieved an AUC of 0.61\n",
            "  THRESHOLD_ATTACK (with 500 training and 100 test examples) achieved an advantage of 0.19\n",
            "\n",
            "Best-performing attacks over slice: \"CLASS=38\"\n",
            "  THRESHOLD_ATTACK (with 500 training and 100 test examples) achieved an AUC of 0.58\n",
            "  THRESHOLD_ATTACK (with 500 training and 100 test examples) achieved an advantage of 0.14\n",
            "\n",
            "Best-performing attacks over slice: \"CLASS=39\"\n",
            "  THRESHOLD_ATTACK (with 500 training and 100 test examples) achieved an AUC of 0.55\n",
            "  THRESHOLD_ATTACK (with 500 training and 100 test examples) achieved an advantage of 0.16\n",
            "\n",
            "Best-performing attacks over slice: \"CLASS=40\"\n",
            "  THRESHOLD_ATTACK (with 500 training and 100 test examples) achieved an AUC of 0.57\n",
            "  THRESHOLD_ATTACK (with 500 training and 100 test examples) achieved an advantage of 0.16\n",
            "\n",
            "Best-performing attacks over slice: \"CLASS=41\"\n",
            "  THRESHOLD_ATTACK (with 500 training and 100 test examples) achieved an AUC of 0.54\n",
            "  THRESHOLD_ATTACK (with 500 training and 100 test examples) achieved an advantage of 0.12\n",
            "\n",
            "Best-performing attacks over slice: \"CLASS=42\"\n",
            "  THRESHOLD_ATTACK (with 500 training and 100 test examples) achieved an AUC of 0.57\n",
            "  THRESHOLD_ATTACK (with 500 training and 100 test examples) achieved an advantage of 0.15\n",
            "\n",
            "Best-performing attacks over slice: \"CLASS=43\"\n",
            "  THRESHOLD_ATTACK (with 500 training and 100 test examples) achieved an AUC of 0.59\n",
            "  THRESHOLD_ATTACK (with 500 training and 100 test examples) achieved an advantage of 0.17\n",
            "\n",
            "Best-performing attacks over slice: \"CLASS=44\"\n",
            "  THRESHOLD_ATTACK (with 500 training and 100 test examples) achieved an AUC of 0.60\n",
            "  THRESHOLD_ATTACK (with 500 training and 100 test examples) achieved an advantage of 0.18\n",
            "\n",
            "Best-performing attacks over slice: \"CLASS=45\"\n",
            "  THRESHOLD_ATTACK (with 500 training and 100 test examples) achieved an AUC of 0.60\n",
            "  THRESHOLD_ATTACK (with 500 training and 100 test examples) achieved an advantage of 0.20\n",
            "\n",
            "Best-performing attacks over slice: \"CLASS=46\"\n",
            "  THRESHOLD_ATTACK (with 500 training and 100 test examples) achieved an AUC of 0.56\n",
            "  THRESHOLD_ATTACK (with 500 training and 100 test examples) achieved an advantage of 0.15\n",
            "\n",
            "Best-performing attacks over slice: \"CLASS=47\"\n",
            "  THRESHOLD_ATTACK (with 500 training and 100 test examples) achieved an AUC of 0.54\n",
            "  THRESHOLD_ATTACK (with 500 training and 100 test examples) achieved an advantage of 0.10\n",
            "\n",
            "Best-performing attacks over slice: \"CLASS=48\"\n",
            "  THRESHOLD_ATTACK (with 500 training and 100 test examples) achieved an AUC of 0.50\n",
            "  THRESHOLD_ATTACK (with 500 training and 100 test examples) achieved an advantage of 0.07\n",
            "\n",
            "Best-performing attacks over slice: \"CLASS=49\"\n",
            "  THRESHOLD_ATTACK (with 500 training and 100 test examples) achieved an AUC of 0.60\n",
            "  THRESHOLD_ATTACK (with 500 training and 100 test examples) achieved an advantage of 0.18\n",
            "\n",
            "Best-performing attacks over slice: \"CLASS=50\"\n",
            "  THRESHOLD_ATTACK (with 500 training and 100 test examples) achieved an AUC of 0.60\n",
            "  THRESHOLD_ATTACK (with 500 training and 100 test examples) achieved an advantage of 0.19\n",
            "\n",
            "Best-performing attacks over slice: \"CLASS=51\"\n",
            "  THRESHOLD_ATTACK (with 500 training and 100 test examples) achieved an AUC of 0.56\n",
            "  THRESHOLD_ATTACK (with 500 training and 100 test examples) achieved an advantage of 0.13\n",
            "\n",
            "Best-performing attacks over slice: \"CLASS=52\"\n",
            "  THRESHOLD_ATTACK (with 500 training and 100 test examples) achieved an AUC of 0.53\n",
            "  THRESHOLD_ATTACK (with 500 training and 100 test examples) achieved an advantage of 0.07\n",
            "\n",
            "Best-performing attacks over slice: \"CLASS=53\"\n",
            "  THRESHOLD_ATTACK (with 500 training and 100 test examples) achieved an AUC of 0.57\n",
            "  THRESHOLD_ATTACK (with 500 training and 100 test examples) achieved an advantage of 0.16\n",
            "\n",
            "Best-performing attacks over slice: \"CLASS=54\"\n",
            "  THRESHOLD_ATTACK (with 500 training and 100 test examples) achieved an AUC of 0.51\n",
            "  THRESHOLD_ATTACK (with 500 training and 100 test examples) achieved an advantage of 0.06\n",
            "\n",
            "Best-performing attacks over slice: \"CLASS=55\"\n",
            "  THRESHOLD_ATTACK (with 500 training and 100 test examples) achieved an AUC of 0.61\n",
            "  THRESHOLD_ATTACK (with 500 training and 100 test examples) achieved an advantage of 0.26\n",
            "\n",
            "Best-performing attacks over slice: \"CLASS=56\"\n",
            "  THRESHOLD_ATTACK (with 500 training and 100 test examples) achieved an AUC of 0.58\n",
            "  THRESHOLD_ATTACK (with 500 training and 100 test examples) achieved an advantage of 0.16\n",
            "\n",
            "Best-performing attacks over slice: \"CLASS=57\"\n",
            "  THRESHOLD_ATTACK (with 500 training and 100 test examples) achieved an AUC of 0.54\n",
            "  THRESHOLD_ATTACK (with 500 training and 100 test examples) achieved an advantage of 0.14\n",
            "\n",
            "Best-performing attacks over slice: \"CLASS=58\"\n",
            "  THRESHOLD_ATTACK (with 500 training and 100 test examples) achieved an AUC of 0.61\n",
            "  THRESHOLD_ATTACK (with 500 training and 100 test examples) achieved an advantage of 0.19\n",
            "\n",
            "Best-performing attacks over slice: \"CLASS=59\"\n",
            "  THRESHOLD_ATTACK (with 500 training and 100 test examples) achieved an AUC of 0.56\n",
            "  THRESHOLD_ATTACK (with 500 training and 100 test examples) achieved an advantage of 0.14\n",
            "\n",
            "Best-performing attacks over slice: \"CLASS=60\"\n",
            "  THRESHOLD_ATTACK (with 500 training and 100 test examples) achieved an AUC of 0.52\n",
            "  THRESHOLD_ATTACK (with 500 training and 100 test examples) achieved an advantage of 0.09\n",
            "\n",
            "Best-performing attacks over slice: \"CLASS=61\"\n",
            "  THRESHOLD_ATTACK (with 500 training and 100 test examples) achieved an AUC of 0.58\n",
            "  THRESHOLD_ATTACK (with 500 training and 100 test examples) achieved an advantage of 0.19\n",
            "\n",
            "Best-performing attacks over slice: \"CLASS=62\"\n",
            "  THRESHOLD_ATTACK (with 500 training and 100 test examples) achieved an AUC of 0.56\n",
            "  THRESHOLD_ATTACK (with 500 training and 100 test examples) achieved an advantage of 0.13\n",
            "\n",
            "Best-performing attacks over slice: \"CLASS=63\"\n",
            "  THRESHOLD_ATTACK (with 500 training and 100 test examples) achieved an AUC of 0.58\n",
            "  THRESHOLD_ATTACK (with 500 training and 100 test examples) achieved an advantage of 0.14\n",
            "\n",
            "Best-performing attacks over slice: \"CLASS=64\"\n",
            "  THRESHOLD_ATTACK (with 500 training and 100 test examples) achieved an AUC of 0.60\n",
            "  THRESHOLD_ATTACK (with 500 training and 100 test examples) achieved an advantage of 0.17\n",
            "\n",
            "Best-performing attacks over slice: \"CLASS=65\"\n",
            "  THRESHOLD_ATTACK (with 500 training and 100 test examples) achieved an AUC of 0.60\n",
            "  THRESHOLD_ATTACK (with 500 training and 100 test examples) achieved an advantage of 0.18\n",
            "\n",
            "Best-performing attacks over slice: \"CLASS=66\"\n",
            "  THRESHOLD_ATTACK (with 500 training and 100 test examples) achieved an AUC of 0.55\n",
            "  THRESHOLD_ATTACK (with 500 training and 100 test examples) achieved an advantage of 0.11\n",
            "\n",
            "Best-performing attacks over slice: \"CLASS=67\"\n",
            "  THRESHOLD_ATTACK (with 500 training and 100 test examples) achieved an AUC of 0.58\n",
            "  THRESHOLD_ATTACK (with 500 training and 100 test examples) achieved an advantage of 0.14\n",
            "\n",
            "Best-performing attacks over slice: \"CLASS=68\"\n",
            "  THRESHOLD_ATTACK (with 500 training and 100 test examples) achieved an AUC of 0.58\n",
            "  THRESHOLD_ATTACK (with 500 training and 100 test examples) achieved an advantage of 0.17\n",
            "\n",
            "Best-performing attacks over slice: \"CLASS=69\"\n",
            "  THRESHOLD_ATTACK (with 500 training and 100 test examples) achieved an AUC of 0.56\n",
            "  THRESHOLD_ATTACK (with 500 training and 100 test examples) achieved an advantage of 0.12\n",
            "\n",
            "Best-performing attacks over slice: \"CLASS=70\"\n",
            "  THRESHOLD_ATTACK (with 500 training and 100 test examples) achieved an AUC of 0.54\n",
            "  THRESHOLD_ATTACK (with 500 training and 100 test examples) achieved an advantage of 0.11\n",
            "\n",
            "Best-performing attacks over slice: \"CLASS=71\"\n",
            "  THRESHOLD_ATTACK (with 500 training and 100 test examples) achieved an AUC of 0.50\n",
            "  THRESHOLD_ATTACK (with 500 training and 100 test examples) achieved an advantage of 0.09\n",
            "\n",
            "Best-performing attacks over slice: \"CLASS=72\"\n",
            "  THRESHOLD_ATTACK (with 500 training and 100 test examples) achieved an AUC of 0.56\n",
            "  THRESHOLD_ATTACK (with 500 training and 100 test examples) achieved an advantage of 0.12\n",
            "\n",
            "Best-performing attacks over slice: \"CLASS=73\"\n",
            "  THRESHOLD_ATTACK (with 500 training and 100 test examples) achieved an AUC of 0.55\n",
            "  THRESHOLD_ATTACK (with 500 training and 100 test examples) achieved an advantage of 0.12\n",
            "\n",
            "Best-performing attacks over slice: \"CLASS=74\"\n",
            "  THRESHOLD_ATTACK (with 500 training and 100 test examples) achieved an AUC of 0.62\n",
            "  THRESHOLD_ATTACK (with 500 training and 100 test examples) achieved an advantage of 0.20\n",
            "\n",
            "Best-performing attacks over slice: \"CLASS=75\"\n",
            "  THRESHOLD_ATTACK (with 500 training and 100 test examples) achieved an AUC of 0.56\n",
            "  THRESHOLD_ATTACK (with 500 training and 100 test examples) achieved an advantage of 0.17\n",
            "\n",
            "Best-performing attacks over slice: \"CLASS=76\"\n",
            "  THRESHOLD_ATTACK (with 500 training and 100 test examples) achieved an AUC of 0.55\n",
            "  THRESHOLD_ATTACK (with 500 training and 100 test examples) achieved an advantage of 0.10\n",
            "\n",
            "Best-performing attacks over slice: \"CLASS=77\"\n",
            "  THRESHOLD_ATTACK (with 500 training and 100 test examples) achieved an AUC of 0.59\n",
            "  THRESHOLD_ATTACK (with 500 training and 100 test examples) achieved an advantage of 0.15\n",
            "\n",
            "Best-performing attacks over slice: \"CLASS=78\"\n",
            "  THRESHOLD_ATTACK (with 500 training and 100 test examples) achieved an AUC of 0.61\n",
            "  THRESHOLD_ATTACK (with 500 training and 100 test examples) achieved an advantage of 0.20\n",
            "\n",
            "Best-performing attacks over slice: \"CLASS=79\"\n",
            "  THRESHOLD_ATTACK (with 500 training and 100 test examples) achieved an AUC of 0.54\n",
            "  THRESHOLD_ATTACK (with 500 training and 100 test examples) achieved an advantage of 0.10\n",
            "\n",
            "Best-performing attacks over slice: \"CLASS=80\"\n",
            "  THRESHOLD_ATTACK (with 500 training and 100 test examples) achieved an AUC of 0.58\n",
            "  THRESHOLD_ATTACK (with 500 training and 100 test examples) achieved an advantage of 0.19\n",
            "\n",
            "Best-performing attacks over slice: \"CLASS=81\"\n",
            "  THRESHOLD_ATTACK (with 500 training and 100 test examples) achieved an AUC of 0.55\n",
            "  THRESHOLD_ATTACK (with 500 training and 100 test examples) achieved an advantage of 0.15\n",
            "\n",
            "Best-performing attacks over slice: \"CLASS=82\"\n",
            "  THRESHOLD_ATTACK (with 500 training and 100 test examples) achieved an AUC of 0.51\n",
            "  THRESHOLD_ATTACK (with 500 training and 100 test examples) achieved an advantage of 0.11\n",
            "\n",
            "Best-performing attacks over slice: \"CLASS=83\"\n",
            "  THRESHOLD_ATTACK (with 500 training and 100 test examples) achieved an AUC of 0.61\n",
            "  THRESHOLD_ATTACK (with 500 training and 100 test examples) achieved an advantage of 0.22\n",
            "\n",
            "Best-performing attacks over slice: \"CLASS=84\"\n",
            "  THRESHOLD_ATTACK (with 500 training and 100 test examples) achieved an AUC of 0.60\n",
            "  THRESHOLD_ATTACK (with 500 training and 100 test examples) achieved an advantage of 0.16\n",
            "\n",
            "Best-performing attacks over slice: \"CLASS=85\"\n",
            "  THRESHOLD_ATTACK (with 500 training and 100 test examples) achieved an AUC of 0.56\n",
            "  THRESHOLD_ATTACK (with 500 training and 100 test examples) achieved an advantage of 0.15\n",
            "\n",
            "Best-performing attacks over slice: \"CLASS=86\"\n",
            "  THRESHOLD_ATTACK (with 500 training and 100 test examples) achieved an AUC of 0.55\n",
            "  THRESHOLD_ATTACK (with 500 training and 100 test examples) achieved an advantage of 0.15\n",
            "\n",
            "Best-performing attacks over slice: \"CLASS=87\"\n",
            "  THRESHOLD_ATTACK (with 500 training and 100 test examples) achieved an AUC of 0.52\n",
            "  THRESHOLD_ATTACK (with 500 training and 100 test examples) achieved an advantage of 0.07\n",
            "\n",
            "Best-performing attacks over slice: \"CLASS=88\"\n",
            "  THRESHOLD_ATTACK (with 500 training and 100 test examples) achieved an AUC of 0.59\n",
            "  THRESHOLD_ATTACK (with 500 training and 100 test examples) achieved an advantage of 0.17\n",
            "\n",
            "Best-performing attacks over slice: \"CLASS=89\"\n",
            "  THRESHOLD_ATTACK (with 500 training and 100 test examples) achieved an AUC of 0.53\n",
            "  THRESHOLD_ATTACK (with 500 training and 100 test examples) achieved an advantage of 0.13\n",
            "\n",
            "Best-performing attacks over slice: \"CLASS=90\"\n",
            "  THRESHOLD_ATTACK (with 500 training and 100 test examples) achieved an AUC of 0.48\n",
            "  THRESHOLD_ATTACK (with 500 training and 100 test examples) achieved an advantage of 0.09\n",
            "\n",
            "Best-performing attacks over slice: \"CLASS=91\"\n",
            "  THRESHOLD_ATTACK (with 500 training and 100 test examples) achieved an AUC of 0.54\n",
            "  THRESHOLD_ATTACK (with 500 training and 100 test examples) achieved an advantage of 0.11\n",
            "\n",
            "Best-performing attacks over slice: \"CLASS=92\"\n",
            "  THRESHOLD_ATTACK (with 500 training and 100 test examples) achieved an AUC of 0.61\n",
            "  THRESHOLD_ATTACK (with 500 training and 100 test examples) achieved an advantage of 0.22\n",
            "\n",
            "Best-performing attacks over slice: \"CLASS=93\"\n",
            "  THRESHOLD_ATTACK (with 500 training and 100 test examples) achieved an AUC of 0.61\n",
            "  THRESHOLD_ATTACK (with 500 training and 100 test examples) achieved an advantage of 0.19\n",
            "\n",
            "Best-performing attacks over slice: \"CLASS=94\"\n",
            "  THRESHOLD_ATTACK (with 500 training and 100 test examples) achieved an AUC of 0.50\n",
            "  THRESHOLD_ATTACK (with 500 training and 100 test examples) achieved an advantage of 0.06\n",
            "\n",
            "Best-performing attacks over slice: \"CLASS=95\"\n",
            "  THRESHOLD_ATTACK (with 500 training and 100 test examples) achieved an AUC of 0.58\n",
            "  THRESHOLD_ATTACK (with 500 training and 100 test examples) achieved an advantage of 0.17\n",
            "\n",
            "Best-performing attacks over slice: \"CLASS=96\"\n",
            "  THRESHOLD_ATTACK (with 500 training and 100 test examples) achieved an AUC of 0.59\n",
            "  THRESHOLD_ATTACK (with 500 training and 100 test examples) achieved an advantage of 0.19\n",
            "\n",
            "Best-performing attacks over slice: \"CLASS=97\"\n",
            "  THRESHOLD_ATTACK (with 500 training and 100 test examples) achieved an AUC of 0.54\n",
            "  THRESHOLD_ATTACK (with 500 training and 100 test examples) achieved an advantage of 0.13\n",
            "\n",
            "Best-performing attacks over slice: \"CLASS=98\"\n",
            "  THRESHOLD_ATTACK (with 500 training and 100 test examples) achieved an AUC of 0.67\n",
            "  THRESHOLD_ATTACK (with 500 training and 100 test examples) achieved an advantage of 0.31\n",
            "\n",
            "Best-performing attacks over slice: \"CLASS=99\"\n",
            "  THRESHOLD_ATTACK (with 500 training and 100 test examples) achieved an AUC of 0.53\n",
            "  THRESHOLD_ATTACK (with 500 training and 100 test examples) achieved an advantage of 0.09\n",
            "\n",
            "Best-performing attacks over slice: \"CORRECTLY_CLASSIFIED=True\"\n",
            "  THRESHOLD_ATTACK (with 22214 training and 3650 test examples) achieved an AUC of 0.48\n",
            "  THRESHOLD_ATTACK (with 22214 training and 3650 test examples) achieved an advantage of 0.03\n",
            "\n",
            "Best-performing attacks over slice: \"CORRECTLY_CLASSIFIED=False\"\n",
            "  THRESHOLD_ATTACK (with 27786 training and 6350 test examples) achieved an AUC of 0.56\n",
            "  THRESHOLD_ATTACK (with 27786 training and 6350 test examples) achieved an advantage of 0.09\n"
          ]
        }
      ]
    },
    {
      "cell_type": "code",
      "source": [
        "# plot the curve, we see that the attacker is much better than random guessing\n",
        "import tensorflow_privacy.privacy.membership_inference_attack.plotting as plotting\n",
        "print(plotting.plot_roc_curve(attacks_result.get_result_with_max_auc().roc_curve))"
      ],
      "metadata": {
        "colab": {
          "base_uri": "https://localhost:8080/",
          "height": 296
        },
        "id": "W1Pvk8XOpzwy",
        "outputId": "08735f5b-0306-4941-ad99-b84d9bca57ea"
      },
      "execution_count": 17,
      "outputs": [
        {
          "output_type": "stream",
          "name": "stdout",
          "text": [
            "Figure(432x288)\n"
          ]
        },
        {
          "output_type": "display_data",
          "data": {
            "image/png": "[encoded data removed]",
            "text/plain": [
              "<Figure size 432x288 with 1 Axes>"
            ]
          },
          "metadata": {
            "needs_background": "light"
          }
        }
      ]
    },
    {
      "cell_type": "code",
      "source": [
        ""
      ],
      "metadata": {
        "id": "aWy4JR93p5Mz"
      },
      "execution_count": null,
      "outputs": []
    }
  ]
}