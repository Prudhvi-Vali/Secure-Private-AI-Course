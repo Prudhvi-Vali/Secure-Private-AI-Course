{
  "nbformat": 4,
  "nbformat_minor": 0,
  "metadata": {
    "colab": {
      "name": "Pate_one class.ipynb",
      "provenance": [],
      "collapsed_sections": [],
      "machine_shape": "hm"
    },
    "kernelspec": {
      "name": "python3",
      "display_name": "Python 3"
    },
    "language_info": {
      "name": "python"
    },
    "accelerator": "GPU"
  },
  "cells": [
    {
      "cell_type": "code",
      "execution_count": 2,
      "metadata": {
        "id": "N-cMzTHFDzAO"
      },
      "outputs": [],
      "source": [
        "import keras\n",
        "from keras.datasets import cifar100\n",
        "from keras.models import Sequential\n",
        "from keras.layers import Dense, Dropout, Activation, Flatten\n",
        "from keras.layers import Conv2D, MaxPooling2D, ZeroPadding2D\n",
        "from keras.regularizers import l2\n",
        "from keras.callbacks import Callback, LearningRateScheduler, TensorBoard, ModelCheckpoint\n",
        "from keras.preprocessing.image import ImageDataGenerator\n",
        "from keras import backend as K\n",
        "from keras import utils as np_utils\n",
        "import sys\n",
        "import os\n",
        "import numpy as np\n",
        "import matplotlib.pyplot as plt\n",
        "from keras.utils import np_utils"
      ]
    },
    {
      "cell_type": "code",
      "source": [
        "import tensorflow as tf"
      ],
      "metadata": {
        "id": "25NX4SnJELtm"
      },
      "execution_count": 3,
      "outputs": []
    },
    {
      "cell_type": "code",
      "source": [
        "def extract_n_classes( data, labels,n, cat_y = True):\n",
        "    data_cl=[]\n",
        "    y=[]\n",
        "    # print(data.shape)\n",
        "    for i in range(n):\n",
        "            # print(data[ np.argwhere( labels == i ).reshape(-1) ].shape)\n",
        "            # print(labels.shape)\n",
        "            # print(data[ np.argwhere( labels.reshape(-1) == i ).reshape(-1)].shape,data.shape)\n",
        "            data_cl.append(data[ np.argwhere( labels.reshape(-1) == i ).reshape(-1) ][ : ])\n",
        "            y.extend(np.full((data_cl[i].shape[0]), i, dtype=int))\n",
        "\n",
        "    # print(np.array(data_cl).shape)\n",
        "    x = np.vstack( (data_cl) )\n",
        "    y = np.array(y)\n",
        "    # print(\"In extract classes function\")\n",
        "    # print(x.shape,y.shape)\n",
        "    return x, y"
      ],
      "metadata": {
        "id": "nKxHycpIEOi3"
      },
      "execution_count": 4,
      "outputs": []
    },
    {
      "cell_type": "code",
      "source": [
        "n_instances = 500\n",
        "n_teachers = 10\n",
        "\n",
        "# load data and transform it\n",
        "(x_train, y_train), (x_test, y_test) = keras.datasets.cifar100.load_data()\n",
        "\n",
        "x_train = x_train.astype( float ) / 255.\n",
        "x_test = x_test.astype( float ) / 255.\n",
        "\n",
        "x_train = x_train.reshape( -1, 32, 32, 3)\n",
        "x_test = x_test.reshape( -1, 32, 32, 3)\n",
        "\n",
        "x_train, y_train = extract_n_classes( x_train, y_train ,n=100,cat_y=False)\n",
        "\n",
        "y_train = keras.utils.np_utils.to_categorical( y_train )\n",
        "y_test = keras.utils.np_utils.to_categorical( y_test )\n",
        "\n",
        "# shuffle data\n",
        "idx = np.arange( len( x_train ) )\n",
        "np.random.shuffle( idx )\n",
        "x_train = x_train[ idx ]\n",
        "y_train = y_train[ idx ]\n",
        "\n",
        "# gather the teacher data\n",
        "teacher_data_x = np.array([ x_train[ i * n_instances : ( i + 1 ) * n_instances ] for i in range( n_teachers ) ])\n",
        "teacher_data_y = np.array([ y_train[ i * n_instances : ( i + 1 ) * n_instances ] for i in range( n_teachers ) ])\n",
        "\n",
        "# gather the student data\n",
        "student_data_x = np.array(x_train[ n_teachers * n_instances : ( n_teachers + 1 ) * n_instances ] )\n",
        "student_data_y = np.array(y_train[ n_teachers * n_instances : ( n_teachers + 1 ) * n_instances ]  )\n"
      ],
      "metadata": {
        "id": "Zg8i4gPgERMU",
        "colab": {
          "base_uri": "https://localhost:8080/"
        },
        "outputId": "5647fbaa-2e0f-4eee-aa3d-d1b5edb04dc4"
      },
      "execution_count": 4,
      "outputs": [
        {
          "output_type": "stream",
          "name": "stdout",
          "text": [
            "Downloading data from https://www.cs.toronto.edu/~kriz/cifar-100-python.tar.gz\n",
            "169009152/169001437 [==============================] - 2s 0us/step\n",
            "169017344/169001437 [==============================] - 2s 0us/step\n"
          ]
        }
      ]
    },
    {
      "cell_type": "code",
      "source": [
        "teacher_data_x.shape, teacher_data_y.shape"
      ],
      "metadata": {
        "colab": {
          "base_uri": "https://localhost:8080/"
        },
        "id": "sjDG9U-IEUrD",
        "outputId": "3c47d28e-723b-4ea8-8f61-f043135eb027"
      },
      "execution_count": 5,
      "outputs": [
        {
          "output_type": "execute_result",
          "data": {
            "text/plain": [
              "((10, 500, 32, 32, 3), (10, 500, 100))"
            ]
          },
          "metadata": {},
          "execution_count": 5
        }
      ]
    },
    {
      "cell_type": "code",
      "source": [
        "student_data_x.shape,student_data_y.shape"
      ],
      "metadata": {
        "colab": {
          "base_uri": "https://localhost:8080/"
        },
        "id": "wDjm7OijEY-1",
        "outputId": "ccdfb86d-56a2-45fa-9c4e-cd8c33968516"
      },
      "execution_count": 6,
      "outputs": [
        {
          "output_type": "execute_result",
          "data": {
            "text/plain": [
              "((500, 32, 32, 3), (500, 100))"
            ]
          },
          "metadata": {},
          "execution_count": 6
        }
      ]
    },
    {
      "cell_type": "code",
      "source": [
        "## train the teacher models\n",
        "# train the teacher models according to cifar100 dataset in tensorflow\n",
        "def get_model():\n",
        "  # Create the model\n",
        "  model = Sequential()\n",
        "  model.add(Conv2D(16, kernel_size=1, activation='relu'))\n",
        "  model.add(Conv2D(16, kernel_size=3, activation='relu'))\n",
        "  model.add(MaxPooling2D(pool_size=(2, 2)))\n",
        "  model.add(Conv2D(32, kernel_size=3, activation='relu'))\n",
        "  model.add(Conv2D(32, (3, 3), activation='relu'))\n",
        "  model.add(MaxPooling2D(pool_size=(2, 2)))\n",
        "  model.add(Flatten())\n",
        "  model.add(Dense(100, activation='softmax'))\n",
        "\n",
        "\n",
        "  model.compile( loss = 'categorical_crossentropy', optimizer = 'adam', metrics = [ 'accuracy' ],run_eagerly=True)\n",
        "\n",
        "  return model\n",
        "    \n",
        "\n",
        "# list of teacher models\n",
        "teacher_models = [ get_model() for i in range( n_teachers ) ]\n",
        "\n",
        "for i, (model, x, y) in enumerate( zip( teacher_models, teacher_data_x, teacher_data_y ) ):\n",
        "    print( 'teacher', i )\n",
        "    model.fit( x, y, batch_size = 32, epochs = 10, verbose = 0 )\n",
        "    print( 'test accuracy:', model.evaluate( x_test, y_test, verbose = 0 )[ 1 ] )\n",
        "    #model.save( '/content/drive/MyDrive/Pate_one_class/10_teac/teacher_model_{}.h5'.format( i ) )\n"
      ],
      "metadata": {
        "colab": {
          "base_uri": "https://localhost:8080/"
        },
        "id": "pxFSrWgDEbFP",
        "outputId": "873a41ed-ff69-4fb0-8092-4fa70c2a7df9"
      },
      "execution_count": 7,
      "outputs": [
        {
          "output_type": "stream",
          "name": "stdout",
          "text": [
            "teacher 0\n",
            "test accuracy: 0.0706000030040741\n",
            "teacher 1\n",
            "test accuracy: 0.056699998676776886\n",
            "teacher 2\n",
            "test accuracy: 0.06469999998807907\n",
            "teacher 3\n",
            "test accuracy: 0.05220000073313713\n",
            "teacher 4\n",
            "test accuracy: 0.06080000102519989\n",
            "teacher 5\n",
            "test accuracy: 0.053599998354911804\n",
            "teacher 6\n",
            "test accuracy: 0.05530000105500221\n",
            "teacher 7\n",
            "test accuracy: 0.06340000033378601\n",
            "teacher 8\n",
            "test accuracy: 0.05380000174045563\n",
            "teacher 9\n",
            "test accuracy: 0.07129999995231628\n"
          ]
        }
      ]
    },
    {
      "cell_type": "markdown",
      "source": [
        "training the student model"
      ],
      "metadata": {
        "id": "pOTimv4SGAum"
      }
    },
    {
      "cell_type": "code",
      "source": [
        "tf.config.run_functions_eagerly(True)\n",
        "tf.data.experimental.enable_debug_mode()"
      ],
      "metadata": {
        "id": "tkdFMP1wEgR7"
      },
      "execution_count": 8,
      "outputs": []
    },
    {
      "cell_type": "code",
      "source": [
        "# label the data\n",
        "labels = np.array([ teacher.predict( student_data_x ) for teacher in teacher_models ])"
      ],
      "metadata": {
        "id": "CxX8-EqMFRTK"
      },
      "execution_count": 9,
      "outputs": []
    },
    {
      "cell_type": "code",
      "source": [
        "labels.shape"
      ],
      "metadata": {
        "colab": {
          "base_uri": "https://localhost:8080/"
        },
        "id": "RGZG-fBLFVY7",
        "outputId": "2a59e74a-a22c-46f4-d155-99401d165cc7"
      },
      "execution_count": 10,
      "outputs": [
        {
          "output_type": "execute_result",
          "data": {
            "text/plain": [
              "(10, 500, 100)"
            ]
          },
          "metadata": {},
          "execution_count": 10
        }
      ]
    },
    {
      "cell_type": "code",
      "source": [
        "student_data_x.shape"
      ],
      "metadata": {
        "colab": {
          "base_uri": "https://localhost:8080/"
        },
        "id": "4th_UnDGFXhP",
        "outputId": "29961a48-dc6b-4bb0-c591-f4def9c42f52"
      },
      "execution_count": 11,
      "outputs": [
        {
          "output_type": "execute_result",
          "data": {
            "text/plain": [
              "(500, 32, 32, 3)"
            ]
          },
          "metadata": {},
          "execution_count": 11
        }
      ]
    },
    {
      "cell_type": "code",
      "source": [
        "len(student_data_x)"
      ],
      "metadata": {
        "colab": {
          "base_uri": "https://localhost:8080/"
        },
        "id": "QHFuIL3xFZtk",
        "outputId": "1b8572cc-b9aa-4c7e-b4c0-b0cf079898e6"
      },
      "execution_count": 12,
      "outputs": [
        {
          "output_type": "execute_result",
          "data": {
            "text/plain": [
              "500"
            ]
          },
          "metadata": {},
          "execution_count": 12
        }
      ]
    },
    {
      "cell_type": "code",
      "source": [
        "# preform the voting\n",
        "votes = np.zeros( ( student_data_x.shape[ 0 ], 100 ), dtype=np.float )\n",
        "for i in range( len( student_data_x ) ):\n",
        "  for j in range( n_teachers ):\n",
        "    label = np.argmax( labels[ j ][ i ] )\n",
        "    votes[ i, label ] += 1\n",
        "  # add the noise per class\n",
        "  for j in range( 10 ):\n",
        "    votes[ i, j ] += np.random.laplace(loc=0.0, scale=5 )"
      ],
      "metadata": {
        "id": "9Aj7qUhlFcrh",
        "colab": {
          "base_uri": "https://localhost:8080/"
        },
        "outputId": "f74560c6-f33b-4324-92a2-52a85eff51bf"
      },
      "execution_count": 13,
      "outputs": [
        {
          "output_type": "stream",
          "name": "stderr",
          "text": [
            "/usr/local/lib/python3.7/dist-packages/ipykernel_launcher.py:2: DeprecationWarning: `np.float` is a deprecated alias for the builtin `float`. To silence this warning, use `float` by itself. Doing this will not modify any behavior and is safe. If you specifically wanted the numpy scalar type, use `np.float64` here.\n",
            "Deprecated in NumPy 1.20; for more details and guidance: https://numpy.org/devdocs/release/1.20.0-notes.html#deprecations\n",
            "  \n"
          ]
        }
      ]
    },
    {
      "cell_type": "code",
      "source": [
        "student_data_x.shape,student_data_y.shape,votes.shape"
      ],
      "metadata": {
        "colab": {
          "base_uri": "https://localhost:8080/"
        },
        "id": "P042oatfFe6r",
        "outputId": "f6972ec4-b726-4fd3-e9b0-765e7584e2f1"
      },
      "execution_count": 14,
      "outputs": [
        {
          "output_type": "execute_result",
          "data": {
            "text/plain": [
              "((500, 32, 32, 3), (500, 100), (500, 100))"
            ]
          },
          "metadata": {},
          "execution_count": 14
        }
      ]
    },
    {
      "cell_type": "code",
      "source": [
        "ll = np.argmax( votes, axis=1 )"
      ],
      "metadata": {
        "id": "a8OsSYcOFhGh"
      },
      "execution_count": 15,
      "outputs": []
    },
    {
      "cell_type": "code",
      "source": [
        "ll.shape"
      ],
      "metadata": {
        "colab": {
          "base_uri": "https://localhost:8080/"
        },
        "id": "uD3YCLO5Fkah",
        "outputId": "f1c7f7bc-41d7-4a43-de84-de878803b069"
      },
      "execution_count": 16,
      "outputs": [
        {
          "output_type": "execute_result",
          "data": {
            "text/plain": [
              "(500,)"
            ]
          },
          "metadata": {},
          "execution_count": 16
        }
      ]
    },
    {
      "cell_type": "code",
      "source": [
        "student_data_y.shape,keras.utils.np_utils.to_categorical( ll,num_classes=100 ).shape"
      ],
      "metadata": {
        "colab": {
          "base_uri": "https://localhost:8080/"
        },
        "id": "DT0DiUGFFmW5",
        "outputId": "1e5bab9a-44ff-4316-c22f-50585a7739e6"
      },
      "execution_count": 17,
      "outputs": [
        {
          "output_type": "execute_result",
          "data": {
            "text/plain": [
              "((500, 100), (500, 100))"
            ]
          },
          "metadata": {},
          "execution_count": 17
        }
      ]
    },
    {
      "cell_type": "code",
      "source": [
        "student_data_y = keras.utils.np_utils.to_categorical( np.argmax( votes, axis=1 ),num_classes=100 )\n",
        "\n",
        "# train model\n",
        "student_model = get_model()\n",
        "print( 'training student model' )\n",
        "student_model.fit( x, y, epochs=16, verbose=0 )\n",
        "print( 'test accuracy for the student model for considering 10 teaches:', student_model.evaluate( student_data_x, student_data_y, verbose=0 )[ 1 ] )"
      ],
      "metadata": {
        "colab": {
          "base_uri": "https://localhost:8080/"
        },
        "id": "u6eaMfjaFo1G",
        "outputId": "7bad7dc2-dbc2-4bb6-f257-db03b88dfb0a"
      },
      "execution_count": 18,
      "outputs": [
        {
          "output_type": "stream",
          "name": "stdout",
          "text": [
            "training student model\n",
            "test accuracy for the student model for considering 10 teaches: 0.006000000052154064\n"
          ]
        }
      ]
    },
    {
      "cell_type": "markdown",
      "source": [
        "20 teachers"
      ],
      "metadata": {
        "id": "PYhgFLK-GYDC"
      }
    },
    {
      "cell_type": "code",
      "source": [
        "n_instances = 500 \n",
        "n_teachers = 20\n",
        "\n",
        "# load data and transform it\n",
        "(x_train, y_train), (x_test, y_test) = keras.datasets.cifar100.load_data()\n",
        "\n",
        "x_train = x_train.astype( float ) / 255.\n",
        "x_test = x_test.astype( float ) / 255.\n",
        "\n",
        "x_train = x_train.reshape( -1, 32, 32, 3)\n",
        "x_test = x_test.reshape( -1, 32, 32, 3)\n",
        "\n",
        "x_train, y_train = extract_n_classes( x_train, y_train ,n=100,cat_y=False)\n",
        "\n",
        "y_train = keras.utils.np_utils.to_categorical( y_train )\n",
        "y_test = keras.utils.np_utils.to_categorical( y_test )\n",
        "\n",
        "# shuffle data\n",
        "idx = np.arange( len( x_train ) )\n",
        "np.random.shuffle( idx )\n",
        "x_train = x_train[ idx ]\n",
        "y_train = y_train[ idx ]\n",
        "\n",
        "# gather the teacher data\n",
        "teacher_data_x = np.array([ x_train[ i * n_instances : ( i + 1 ) * n_instances ] for i in range( n_teachers ) ])\n",
        "teacher_data_y = np.array([ y_train[ i * n_instances : ( i + 1 ) * n_instances ] for i in range( n_teachers ) ])\n",
        "\n",
        "# gather the student data\n",
        "student_data_x = np.array(x_train[ n_teachers * n_instances : ( n_teachers + 1 ) * n_instances ] )\n",
        "student_data_y = np.array(y_train[ n_teachers * n_instances : ( n_teachers + 1 ) * n_instances ]  )\n"
      ],
      "metadata": {
        "id": "CaVK5qJxFqyy"
      },
      "execution_count": 19,
      "outputs": []
    },
    {
      "cell_type": "code",
      "source": [
        "# Training \n",
        "def get_model():\n",
        "  # Create the model\n",
        "  model = Sequential()\n",
        "  model.add(Conv2D(16, kernel_size=1, activation='relu'))\n",
        "  model.add(Conv2D(16, kernel_size=3, activation='relu'))\n",
        "  model.add(MaxPooling2D(pool_size=(2, 2)))\n",
        "  model.add(Conv2D(32, kernel_size=3, activation='relu'))\n",
        "  model.add(Conv2D(32, (3, 3), activation='relu'))\n",
        "  model.add(MaxPooling2D(pool_size=(2, 2)))\n",
        "  model.add(Flatten())\n",
        "  model.add(Dense(100, activation='softmax'))\n",
        "\n",
        "\n",
        "  model.compile( loss = 'categorical_crossentropy', optimizer = 'adam', metrics = [ 'accuracy' ] )\n",
        "\n",
        "  return model\n",
        "    \n",
        "\n",
        "# list of teacher models\n",
        "teacher_models = [ get_model() for i in range( n_teachers ) ]\n",
        "\n",
        "for i, (model, x, y) in enumerate( zip( teacher_models, teacher_data_x, teacher_data_y ) ):\n",
        "    print( 'teacher', i )\n",
        "    model.fit( x, y, batch_size = 32, epochs = 10, verbose = 0 )\n",
        "    print( 'test accuracy:', model.evaluate( x_test, y_test, verbose = 0 )[ 1 ] )\n",
        "    #model.save( '/content/drive/MyDrive/Pate_one_class/20_teac/teacher_model_{}.h5'.format( i ) )"
      ],
      "metadata": {
        "colab": {
          "base_uri": "https://localhost:8080/"
        },
        "id": "reH30NeBGhed",
        "outputId": "c6b41237-b762-4fad-838d-a716277d5396"
      },
      "execution_count": 20,
      "outputs": [
        {
          "output_type": "stream",
          "name": "stdout",
          "text": [
            "teacher 0\n",
            "test accuracy: 0.059700001031160355\n",
            "teacher 1\n",
            "test accuracy: 0.05590000003576279\n",
            "teacher 2\n",
            "test accuracy: 0.052400000393390656\n",
            "teacher 3\n",
            "test accuracy: 0.060499999672174454\n",
            "teacher 4\n",
            "test accuracy: 0.06849999725818634\n",
            "teacher 5\n",
            "test accuracy: 0.0632999986410141\n",
            "teacher 6\n",
            "test accuracy: 0.06129999831318855\n",
            "teacher 7\n",
            "test accuracy: 0.0649000033736229\n",
            "teacher 8\n",
            "test accuracy: 0.0771000012755394\n",
            "teacher 9\n",
            "test accuracy: 0.05939999967813492\n",
            "teacher 10\n",
            "test accuracy: 0.054499998688697815\n",
            "teacher 11\n",
            "test accuracy: 0.0778999999165535\n",
            "teacher 12\n",
            "test accuracy: 0.05849999934434891\n",
            "teacher 13\n",
            "test accuracy: 0.05400000140070915\n",
            "teacher 14\n",
            "test accuracy: 0.06989999860525131\n",
            "teacher 15\n",
            "test accuracy: 0.054099999368190765\n",
            "teacher 16\n",
            "test accuracy: 0.06509999930858612\n",
            "teacher 17\n",
            "test accuracy: 0.061900001019239426\n",
            "teacher 18\n",
            "test accuracy: 0.0625\n",
            "teacher 19\n",
            "test accuracy: 0.05570000037550926\n"
          ]
        }
      ]
    },
    {
      "cell_type": "code",
      "source": [
        "labels = np.array([ teacher.predict( student_data_x ) for teacher in teacher_models ])"
      ],
      "metadata": {
        "id": "gZCce8LpIg5a"
      },
      "execution_count": 21,
      "outputs": []
    },
    {
      "cell_type": "code",
      "source": [
        "# preform the voting\n",
        "votes = np.zeros( ( student_data_x.shape[ 0 ], 100 ), dtype=np.float )\n",
        "for i in range( len( student_data_x ) ):\n",
        "  for j in range( n_teachers ):\n",
        "    label = np.argmax( labels[ j ][ i ] )\n",
        "    votes[ i, label ] += 1\n",
        "  # add the noise per class\n",
        "  for j in range( 10 ):\n",
        "    votes[ i, j ] += np.random.laplace(loc=0.0, scale=5 )"
      ],
      "metadata": {
        "id": "zKk9MMl8HF3W",
        "colab": {
          "base_uri": "https://localhost:8080/"
        },
        "outputId": "2559bdee-f9e4-4546-a706-a0df191aeefb"
      },
      "execution_count": 22,
      "outputs": [
        {
          "output_type": "stream",
          "name": "stderr",
          "text": [
            "/usr/local/lib/python3.7/dist-packages/ipykernel_launcher.py:2: DeprecationWarning: `np.float` is a deprecated alias for the builtin `float`. To silence this warning, use `float` by itself. Doing this will not modify any behavior and is safe. If you specifically wanted the numpy scalar type, use `np.float64` here.\n",
            "Deprecated in NumPy 1.20; for more details and guidance: https://numpy.org/devdocs/release/1.20.0-notes.html#deprecations\n",
            "  \n"
          ]
        }
      ]
    },
    {
      "cell_type": "code",
      "source": [
        "student_data_y = keras.utils.np_utils.to_categorical( np.argmax( votes, axis=1 ),num_classes=100 )\n",
        "\n",
        "# train model\n",
        "student_model = get_model()\n",
        "print( 'training student model' )\n",
        "student_model.fit( x, y, epochs=16, verbose=0 )\n",
        "print( 'test accuracy for the student model for considering 20 teaches:', student_model.evaluate( student_data_x, student_data_y, verbose=0 )[ 1 ] )"
      ],
      "metadata": {
        "colab": {
          "base_uri": "https://localhost:8080/"
        },
        "id": "3_4YXrizHXjh",
        "outputId": "87c069ae-41b1-4daa-a5eb-84393fcac74f"
      },
      "execution_count": 23,
      "outputs": [
        {
          "output_type": "stream",
          "name": "stdout",
          "text": [
            "training student model\n",
            "test accuracy for the student model for considering 20 teaches: 0.017999999225139618\n"
          ]
        }
      ]
    },
    {
      "cell_type": "markdown",
      "source": [
        "50 teachers"
      ],
      "metadata": {
        "id": "-P9YuaXqHc-r"
      }
    },
    {
      "cell_type": "code",
      "source": [
        "n_instances = 500 \n",
        "n_teachers = 50\n",
        "\n",
        "# load data and transform it\n",
        "(x_train, y_train), (x_test, y_test) = keras.datasets.cifar100.load_data()\n",
        "\n",
        "x_train = x_train.astype( float ) / 255.\n",
        "x_test = x_test.astype( float ) / 255.\n",
        "\n",
        "x_train = x_train.reshape( -1, 32, 32, 3)\n",
        "x_test = x_test.reshape( -1, 32, 32, 3)\n",
        "\n",
        "x_train, y_train = extract_n_classes( x_train, y_train ,n=100,cat_y=False)\n",
        "\n",
        "y_train = keras.utils.np_utils.to_categorical( y_train )\n",
        "y_test = keras.utils.np_utils.to_categorical( y_test )\n",
        "\n",
        "# shuffle data\n",
        "idx = np.arange( len( x_train ) )\n",
        "np.random.shuffle( idx )\n",
        "x_train = x_train[ idx ]\n",
        "y_train = y_train[ idx ]\n",
        "\n",
        "# gather the teacher data\n",
        "teacher_data_x = np.array([ x_train[ i * n_instances : ( i + 1 ) * n_instances ] for i in range( n_teachers ) ])\n",
        "teacher_data_y = np.array([ y_train[ i * n_instances : ( i + 1 ) * n_instances ] for i in range( n_teachers ) ])\n",
        "\n",
        "# gather the student data\n",
        "student_data_x = np.array(x_train[ n_teachers * n_instances : ( n_teachers + 1 ) * n_instances ] )\n",
        "student_data_y = np.array(y_train[ n_teachers * n_instances : ( n_teachers + 1 ) * n_instances ]  )\n"
      ],
      "metadata": {
        "id": "NhcsCbPYHeY4"
      },
      "execution_count": 5,
      "outputs": []
    },
    {
      "cell_type": "code",
      "source": [
        "# Training \n",
        "def get_model():\n",
        "  # Create the model\n",
        "  model = Sequential()\n",
        "  model.add(Conv2D(16, kernel_size=1, activation='relu'))\n",
        "  model.add(Conv2D(16, kernel_size=3, activation='relu'))\n",
        "  model.add(MaxPooling2D(pool_size=(2, 2)))\n",
        "  model.add(Conv2D(32, kernel_size=3, activation='relu'))\n",
        "  model.add(Conv2D(32, (3, 3), activation='relu'))\n",
        "  model.add(MaxPooling2D(pool_size=(2, 2)))\n",
        "  model.add(Flatten())\n",
        "  model.add(Dense(100, activation='softmax'))\n",
        "\n",
        "\n",
        "  model.compile( loss = 'categorical_crossentropy', optimizer = 'adam', metrics = [ 'accuracy' ] )\n",
        "\n",
        "  return model\n",
        "    \n",
        "\n",
        "# list of teacher models\n",
        "teacher_models = [ get_model() for i in range( n_teachers ) ]\n",
        "\n",
        "for i, (model, x, y) in enumerate( zip( teacher_models, teacher_data_x, teacher_data_y ) ):\n",
        "    print( 'teacher', i )\n",
        "    model.fit( x, y, batch_size = 32, epochs = 10, verbose = 0 )\n",
        "    print( 'test accuracy:', model.evaluate( x_test, y_test, verbose = 0 )[ 1 ] )\n",
        "    #model.save( '/content/drive/MyDrive/Pate_one_class/50_teac/teacher_model_{}.h5'.format( i ) )"
      ],
      "metadata": {
        "colab": {
          "base_uri": "https://localhost:8080/"
        },
        "id": "cre2_TQcHpH6",
        "outputId": "707b46a7-e2e8-4aac-ca0f-2b9b0bc07bcd"
      },
      "execution_count": 6,
      "outputs": [
        {
          "output_type": "stream",
          "name": "stdout",
          "text": [
            "teacher 0\n",
            "test accuracy: 0.06480000168085098\n",
            "teacher 1\n",
            "test accuracy: 0.05130000039935112\n",
            "teacher 2\n",
            "test accuracy: 0.06530000269412994\n",
            "teacher 3\n",
            "test accuracy: 0.06159999966621399\n",
            "teacher 4\n",
            "test accuracy: 0.06620000302791595\n",
            "teacher 5\n",
            "test accuracy: 0.05389999970793724\n",
            "teacher 6\n",
            "test accuracy: 0.06639999896287918\n",
            "teacher 7\n",
            "test accuracy: 0.05169999971985817\n",
            "teacher 8\n",
            "test accuracy: 0.06679999828338623\n",
            "teacher 9\n",
            "test accuracy: 0.05249999836087227\n",
            "teacher 10\n",
            "test accuracy: 0.05169999971985817\n",
            "teacher 11\n",
            "test accuracy: 0.05249999836087227\n",
            "teacher 12\n",
            "test accuracy: 0.05920000001788139\n",
            "teacher 13\n",
            "test accuracy: 0.0714000016450882\n",
            "teacher 14\n",
            "test accuracy: 0.05990000069141388\n",
            "teacher 15\n",
            "test accuracy: 0.05660000070929527\n",
            "teacher 16\n",
            "test accuracy: 0.07360000163316727\n",
            "teacher 17\n",
            "test accuracy: 0.060100000351667404\n",
            "teacher 18\n",
            "test accuracy: 0.05510000139474869\n",
            "teacher 19\n",
            "test accuracy: 0.061400000005960464\n",
            "teacher 20\n",
            "test accuracy: 0.059700001031160355\n",
            "teacher 21\n",
            "test accuracy: 0.05770000070333481\n",
            "teacher 22\n",
            "test accuracy: 0.05009999871253967\n",
            "teacher 23\n",
            "test accuracy: 0.06679999828338623\n",
            "teacher 24\n",
            "test accuracy: 0.06350000202655792\n",
            "teacher 25\n",
            "test accuracy: 0.058400001376867294\n",
            "teacher 26\n",
            "test accuracy: 0.05999999865889549\n",
            "teacher 27\n",
            "test accuracy: 0.0706000030040741\n",
            "teacher 28\n",
            "test accuracy: 0.05460000038146973\n",
            "teacher 29\n",
            "test accuracy: 0.062199998646974564\n",
            "teacher 30\n",
            "test accuracy: 0.07079999893903732\n",
            "teacher 31\n",
            "test accuracy: 0.07540000230073929\n",
            "teacher 32\n",
            "test accuracy: 0.06930000334978104\n",
            "teacher 33\n",
            "test accuracy: 0.05270000174641609\n",
            "teacher 34\n",
            "test accuracy: 0.06019999831914902\n",
            "teacher 35\n",
            "test accuracy: 0.061799999326467514\n",
            "teacher 36\n",
            "test accuracy: 0.05739999935030937\n",
            "teacher 37\n",
            "test accuracy: 0.06849999725818634\n",
            "teacher 38\n",
            "test accuracy: 0.066600002348423\n",
            "teacher 39\n",
            "test accuracy: 0.06270000338554382\n",
            "teacher 40\n",
            "test accuracy: 0.06400000303983688\n",
            "teacher 41\n",
            "test accuracy: 0.05999999865889549\n",
            "teacher 42\n",
            "test accuracy: 0.06340000033378601\n",
            "teacher 43\n",
            "test accuracy: 0.06239999830722809\n",
            "teacher 44\n",
            "test accuracy: 0.07440000027418137\n",
            "teacher 45\n",
            "test accuracy: 0.05950000137090683\n",
            "teacher 46\n",
            "test accuracy: 0.061799999326467514\n",
            "teacher 47\n",
            "test accuracy: 0.07339999824762344\n",
            "teacher 48\n",
            "test accuracy: 0.05939999967813492\n",
            "teacher 49\n",
            "test accuracy: 0.0681999996304512\n"
          ]
        }
      ]
    },
    {
      "cell_type": "code",
      "source": [
        "labels = np.array([ teacher.predict( student_data_x ) for teacher in teacher_models ])"
      ],
      "metadata": {
        "id": "cNwFzVO8Ik6G"
      },
      "execution_count": 7,
      "outputs": []
    },
    {
      "cell_type": "code",
      "source": [
        "# preform the voting\n",
        "votes = np.zeros( ( student_data_x.shape[ 0 ], 100 ), dtype=np.float )\n",
        "for i in range( len( student_data_x ) ):\n",
        "  for j in range( n_teachers ):\n",
        "    label = np.argmax( labels[ j ][ i ] )\n",
        "    votes[ i, label ] += 1\n",
        "  # add the noise per class\n",
        "  for j in range( 10 ):\n",
        "    votes[ i, j ] += np.random.laplace(loc=0.0, scale=5 )"
      ],
      "metadata": {
        "id": "QULCNqm1Hss4",
        "colab": {
          "base_uri": "https://localhost:8080/"
        },
        "outputId": "5b4872bc-67f3-494d-bbc8-a1a6a6ee46e3"
      },
      "execution_count": 8,
      "outputs": [
        {
          "output_type": "stream",
          "name": "stderr",
          "text": [
            "/usr/local/lib/python3.7/dist-packages/ipykernel_launcher.py:2: DeprecationWarning: `np.float` is a deprecated alias for the builtin `float`. To silence this warning, use `float` by itself. Doing this will not modify any behavior and is safe. If you specifically wanted the numpy scalar type, use `np.float64` here.\n",
            "Deprecated in NumPy 1.20; for more details and guidance: https://numpy.org/devdocs/release/1.20.0-notes.html#deprecations\n",
            "  \n"
          ]
        }
      ]
    },
    {
      "cell_type": "code",
      "source": [
        "student_data_y = keras.utils.np_utils.to_categorical( np.argmax( votes, axis=1 ),num_classes=100 )\n",
        "\n",
        "# train model\n",
        "student_model = get_model()\n",
        "print( 'training student model' )\n",
        "student_model.fit( x, y, epochs=16, verbose=0 )\n",
        "print( 'test accuracy for the student model for considering 50 teaches :', student_model.evaluate( student_data_x, student_data_y, verbose=0 )[ 1 ] )"
      ],
      "metadata": {
        "colab": {
          "base_uri": "https://localhost:8080/"
        },
        "id": "I4UVEfAUHyg9",
        "outputId": "d70b14a8-c7ca-4e1b-9167-8d9e27729d3e"
      },
      "execution_count": 9,
      "outputs": [
        {
          "output_type": "stream",
          "name": "stdout",
          "text": [
            "training student model\n",
            "test accuracy for the student model for considering 50 teaches : 0.0560000017285347\n"
          ]
        }
      ]
    },
    {
      "cell_type": "code",
      "source": [
        ""
      ],
      "metadata": {
        "id": "OAJJReWVJ2Wq"
      },
      "execution_count": null,
      "outputs": []
    }
  ]
}