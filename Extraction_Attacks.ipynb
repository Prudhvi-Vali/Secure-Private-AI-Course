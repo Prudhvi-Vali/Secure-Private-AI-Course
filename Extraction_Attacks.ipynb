{
  "nbformat": 4,
  "nbformat_minor": 0,
  "metadata": {
    "colab": {
      "name": "Extraction Attacks.ipynb",
      "provenance": [],
      "machine_shape": "hm",
      "collapsed_sections": []
    },
    "kernelspec": {
      "name": "python3",
      "display_name": "Python 3"
    },
    "language_info": {
      "name": "python"
    },
    "accelerator": "GPU"
  },
  "cells": [
    {
      "cell_type": "code",
      "execution_count": null,
      "metadata": {
        "colab": {
          "base_uri": "https://localhost:8080/"
        },
        "id": "uen4GwnrtOxk",
        "outputId": "cd93fcf3-5dd2-4525-bfbe-5da24f6cd7d6"
      },
      "outputs": [
        {
          "output_type": "stream",
          "name": "stdout",
          "text": [
            "Requirement already satisfied: adversarial-robustness-toolbox in /usr/local/lib/python3.7/dist-packages (1.8.1)\n",
            "Requirement already satisfied: scipy>=1.4.1 in /usr/local/lib/python3.7/dist-packages (from adversarial-robustness-toolbox) (1.4.1)\n",
            "Requirement already satisfied: scikit-learn<1.1.0,>=0.22.2 in /usr/local/lib/python3.7/dist-packages (from adversarial-robustness-toolbox) (1.0.1)\n",
            "Requirement already satisfied: numpy>=1.18.0 in /usr/local/lib/python3.7/dist-packages (from adversarial-robustness-toolbox) (1.19.5)\n",
            "Requirement already satisfied: numba>=0.53.1 in /usr/local/lib/python3.7/dist-packages (from adversarial-robustness-toolbox) (0.54.1)\n",
            "Requirement already satisfied: six in /usr/local/lib/python3.7/dist-packages (from adversarial-robustness-toolbox) (1.15.0)\n",
            "Requirement already satisfied: tqdm in /usr/local/lib/python3.7/dist-packages (from adversarial-robustness-toolbox) (4.62.3)\n",
            "Requirement already satisfied: setuptools in /usr/local/lib/python3.7/dist-packages (from adversarial-robustness-toolbox) (57.4.0)\n",
            "Requirement already satisfied: llvmlite<0.38,>=0.37.0rc1 in /usr/local/lib/python3.7/dist-packages (from numba>=0.53.1->adversarial-robustness-toolbox) (0.37.0)\n",
            "Requirement already satisfied: joblib>=0.11 in /usr/local/lib/python3.7/dist-packages (from scikit-learn<1.1.0,>=0.22.2->adversarial-robustness-toolbox) (1.1.0)\n",
            "Requirement already satisfied: threadpoolctl>=2.0.0 in /usr/local/lib/python3.7/dist-packages (from scikit-learn<1.1.0,>=0.22.2->adversarial-robustness-toolbox) (3.0.0)\n"
          ]
        }
      ],
      "source": [
        "!pip install adversarial-robustness-toolbox"
      ]
    },
    {
      "cell_type": "code",
      "source": [
        "%tensorflow_version 1.x"
      ],
      "metadata": {
        "id": "DjIDrVNSb_id"
      },
      "execution_count": null,
      "outputs": []
    },
    {
      "cell_type": "code",
      "source": [
        "\n",
        "import tensorflow as tf\n",
        "import tensorflow.keras as keras\n",
        "import pandas as pd\n",
        "import numpy as np\n",
        "from tensorflow.keras import utils as np_utils\n",
        "import tensorflow.keras.backend as K\n",
        "from keras.datasets import cifar10\n",
        "from tensorflow.keras.utils import to_categorical\n",
        "from keras.layers import Dense, Flatten, Conv2D, MaxPooling2D, Dropout\n",
        "# from keras.optimizers import Adam\n",
        "from tensorflow.keras.layers import InputLayer, Reshape\n",
        "from tensorflow.keras import Sequential\n",
        "from tensorflow.keras.layers import Dense, Flatten, Conv2D, MaxPooling2D, Dropout\n",
        "from tensorflow.keras.optimizers import SGD, Adam\n",
        "from tensorflow.keras.utils import to_categorical\n",
        "from tensorflow.keras.losses import CategoricalCrossentropy\n",
        "from art.estimators.classification import KerasClassifier\n",
        "tf.compat.v1.disable_eager_execution()"
      ],
      "metadata": {
        "id": "IKgX7YXGuach"
      },
      "execution_count": null,
      "outputs": []
    },
    {
      "cell_type": "code",
      "source": [
        "import matplotlib.pyplot as plt\n",
        "def show_image( img ):\n",
        "    plt.imshow( img)\n",
        "    plt.axis( 'off' )\n",
        "    plt.show( )"
      ],
      "metadata": {
        "id": "E_zaSNn0uf1i"
      },
      "execution_count": null,
      "outputs": []
    },
    {
      "cell_type": "code",
      "source": [
        "(x_train, y_train), (x_test, y_test) = cifar10.load_data()\n",
        "y_test = to_categorical(y_test, 10)\n",
        "y_train = to_categorical(y_train, 10)\n",
        "x_train = x_train.astype('float32')\n",
        "x_test = x_test.astype('float32')\n",
        "x_train  /= 255\n",
        "x_test /= 255\n",
        "# print(y_train.shape)\n",
        "assert x_train.shape == (50000, 32, 32, 3)\n",
        "assert x_test.shape == (10000, 32, 32, 3)\n",
        "assert y_train.shape == (50000, 10)\n",
        "assert y_test.shape == (10000, 10)"
      ],
      "metadata": {
        "id": "y6WaottuujN3"
      },
      "execution_count": null,
      "outputs": []
    },
    {
      "cell_type": "code",
      "source": [
        "show_image(x_train[37])"
      ],
      "metadata": {
        "colab": {
          "base_uri": "https://localhost:8080/",
          "height": 248
        },
        "id": "XyQ5HnaMuoYf",
        "outputId": "7bdb69be-52c7-4c7c-81fd-39dddc12504c"
      },
      "execution_count": null,
      "outputs": [
        {
          "output_type": "display_data",
          "data": {
            "image/png": "[encoded data removed]",
            "text/plain": [
              "<Figure size 432x288 with 1 Axes>"
            ]
          },
          "metadata": {
            "needs_background": "light"
          }
        }
      ]
    },
    {
      "cell_type": "code",
      "source": [
        "print(y_train[37])"
      ],
      "metadata": {
        "colab": {
          "base_uri": "https://localhost:8080/"
        },
        "id": "5PhsKI6zurNG",
        "outputId": "f32a6a7a-0371-46dc-e80f-63d7270998e9"
      },
      "execution_count": null,
      "outputs": [
        {
          "output_type": "stream",
          "name": "stdout",
          "text": [
            "[0. 0. 0. 0. 0. 0. 0. 1. 0. 0.]\n"
          ]
        }
      ]
    },
    {
      "cell_type": "code",
      "source": [
        "import tensorflow_hub as hub\n",
        "\n",
        "model_url = \"https://tfhub.dev/deepmind/ganeval-cifar10-convnet/1\"\n",
        "# model2 = hub.load(model_url,signature=\"image_classification\")"
      ],
      "metadata": {
        "id": "pUjOO559uyPE"
      },
      "execution_count": null,
      "outputs": []
    },
    {
      "cell_type": "code",
      "source": [
        "from tensorflow.keras import Sequential\n",
        "model_url = \"https://tfhub.dev/deepmind/ganeval-cifar10-convnet/1\"\n",
        "model_main = hub.KerasLayer(model_url, input_shape=(32, 32, 3))\n",
        "victim_model = tf.keras.Sequential([\n",
        "        model_main,\n",
        "        tf.keras.layers.Activation('softmax')\n",
        "])\n",
        "\n",
        "victim_model.compile(loss=\"categorical_crossentropy\", optimizer=\"adam\", metrics=[\"accuracy\"])\n",
        "victim_model.summary()\n"
      ],
      "metadata": {
        "colab": {
          "base_uri": "https://localhost:8080/"
        },
        "id": "E8X9mxKhu0fN",
        "outputId": "e0a0a1ba-f463-4125-c579-455a9c63c392"
      },
      "execution_count": null,
      "outputs": [
        {
          "output_type": "stream",
          "name": "stdout",
          "text": [
            "WARNING:tensorflow:Entity <bound method KerasLayer.call of <tensorflow_hub.keras_layer.KerasLayer object at 0x7f49484e0750>> could not be transformed and will be executed as-is. Please report this to the AutoGraph team. When filing the bug, set the verbosity to 10 (on Linux, `export AUTOGRAPH_VERBOSITY=10`) and attach the full output. Cause: module 'gast' has no attribute 'Index'\n"
          ]
        },
        {
          "output_type": "stream",
          "name": "stderr",
          "text": [
            "WARNING:tensorflow:Entity <bound method KerasLayer.call of <tensorflow_hub.keras_layer.KerasLayer object at 0x7f49484e0750>> could not be transformed and will be executed as-is. Please report this to the AutoGraph team. When filing the bug, set the verbosity to 10 (on Linux, `export AUTOGRAPH_VERBOSITY=10`) and attach the full output. Cause: module 'gast' has no attribute 'Index'\n"
          ]
        },
        {
          "output_type": "stream",
          "name": "stdout",
          "text": [
            "WARNING: Entity <bound method KerasLayer.call of <tensorflow_hub.keras_layer.KerasLayer object at 0x7f49484e0750>> could not be transformed and will be executed as-is. Please report this to the AutoGraph team. When filing the bug, set the verbosity to 10 (on Linux, `export AUTOGRAPH_VERBOSITY=10`) and attach the full output. Cause: module 'gast' has no attribute 'Index'\n",
            "Model: \"sequential_3\"\n",
            "_________________________________________________________________\n",
            "Layer (type)                 Output Shape              Param #   \n",
            "=================================================================\n",
            "keras_layer_1 (KerasLayer)   (None, 10)                7796426   \n",
            "_________________________________________________________________\n",
            "activation_1 (Activation)    (None, 10)                0         \n",
            "=================================================================\n",
            "Total params: 7,796,426\n",
            "Trainable params: 0\n",
            "Non-trainable params: 7,796,426\n",
            "_________________________________________________________________\n"
          ]
        }
      ]
    },
    {
      "cell_type": "code",
      "source": [
        "victim_classifier = KerasClassifier(model=victim_model, clip_values=(0., 1.))\n",
        "predictions = victim_classifier.predict(x_test) \n",
        "dependent_maxvalue = np.argmax(y_test, axis=1)\n",
        "predict_maxvalue = np.argmax(predictions, axis=1)\n",
        "\n",
        "# calculates the accuracy of the predictions\n",
        "begin_example_accuracy = np.sum(predict_maxvalue == dependent_maxvalue) / len(y_test) \n",
        "acc_rate = begin_example_accuracy * 100\n",
        "\n",
        "print(\"Accuracy for classifier on original test set: {}%\\n\".format(acc_rate))"
      ],
      "metadata": {
        "colab": {
          "base_uri": "https://localhost:8080/"
        },
        "id": "FKHHKYQC30Co",
        "outputId": "b0e1522f-5739-40e6-d1a8-7d46ca6c9c51"
      },
      "execution_count": null,
      "outputs": [
        {
          "output_type": "stream",
          "name": "stdout",
          "text": [
            "Accuracy for classifier on original test set: 94.52000000000001%\n",
            "\n"
          ]
        }
      ]
    },
    {
      "cell_type": "code",
      "source": [
        "tf.__version__"
      ],
      "metadata": {
        "colab": {
          "base_uri": "https://localhost:8080/",
          "height": 35
        },
        "id": "XzVtH-_ivGP4",
        "outputId": "e0c4adb6-8bfe-4334-d757-a13cd291d703"
      },
      "execution_count": null,
      "outputs": [
        {
          "output_type": "execute_result",
          "data": {
            "application/vnd.google.colaboratory.intrinsic+json": {
              "type": "string"
            },
            "text/plain": [
              "'1.15.2'"
            ]
          },
          "metadata": {},
          "execution_count": 175
        }
      ]
    },
    {
      "cell_type": "code",
      "source": [
        "def extract_n_percent(n):\n",
        "   \n",
        "    num_imgs = x_train.shape[ 0 ]\n",
        "    num_poisoned_images = n\n",
        "    print( 'Percentage of access to train images', num_poisoned_images*100 / num_imgs )\n",
        "    idx = np.arange( num_imgs, dtype=np.int )\n",
        "    np.random.shuffle( idx )\n",
        "    candidate_images = np.copy( x_train[ idx[ :num_poisoned_images ] ] )\n",
        "    target_labels=np.copy( y_train[ idx[ :num_poisoned_images ] ] )\n",
        "    # target_labels=[lb for i in range(num_poisoned_images)]\n",
        "    # target_labels=np.array(target_labels)\n",
        "    return candidate_images,target_labels"
      ],
      "metadata": {
        "id": "IXKUg9lMyAJD"
      },
      "execution_count": null,
      "outputs": []
    },
    {
      "cell_type": "code",
      "source": [
        "#tf.compat.v1.disable_eager_execution()"
      ],
      "metadata": {
        "id": "zPbn7XKtyNX0"
      },
      "execution_count": null,
      "outputs": []
    },
    {
      "cell_type": "code",
      "source": [
        "from art.estimators.classification import KerasClassifier\n",
        "wrapper_exc = KerasClassifier(model = victim_model, use_logits=False)"
      ],
      "metadata": {
        "id": "j8DNvbFKvlBF"
      },
      "execution_count": null,
      "outputs": []
    },
    {
      "cell_type": "code",
      "source": [
        "model = Sequential()\n",
        "model.add(Conv2D(32, (3, 3), padding=\"same\", input_shape=x_train.shape[1:], activation='relu'))\n",
        "model.add(MaxPooling2D(pool_size=(2, 2)))\n",
        "#model2.add(Dropout(0.25))\n",
        "\n",
        "model.add(Conv2D(64, (3, 3), padding=\"same\", activation='relu'))\n",
        "model.add(MaxPooling2D(pool_size=(2, 2)))\n",
        "#model2.add(Dropout(0.25))\n",
        "\n",
        "model.add(Flatten())\n",
        "model.add(Dense(128, activation='sigmoid'))\n",
        "#model2.add(Dropout(0.5))\n",
        "model.add(Dense(10))\n",
        "\n",
        "model.compile(loss=\"categorical_crossentropy\", optimizer=\"adam\", metrics=[\"accuracy\"])\n",
        "model.summary()\n",
        "\n",
        "\n",
        "#Create the classifier\n",
        "thieved_classifier = KerasClassifier(model=model, clip_values=(0, 1.0))"
      ],
      "metadata": {
        "colab": {
          "base_uri": "https://localhost:8080/"
        },
        "id": "mA_gO1IfYwE7",
        "outputId": "21baa31e-d764-4bd9-cea3-5e4509e4dcc4"
      },
      "execution_count": null,
      "outputs": [
        {
          "output_type": "stream",
          "name": "stdout",
          "text": [
            "Model: \"sequential_4\"\n",
            "_________________________________________________________________\n",
            "Layer (type)                 Output Shape              Param #   \n",
            "=================================================================\n",
            "conv2d_4 (Conv2D)            (None, 32, 32, 32)        896       \n",
            "_________________________________________________________________\n",
            "max_pooling2d_4 (MaxPooling2 (None, 16, 16, 32)        0         \n",
            "_________________________________________________________________\n",
            "conv2d_5 (Conv2D)            (None, 16, 16, 64)        18496     \n",
            "_________________________________________________________________\n",
            "max_pooling2d_5 (MaxPooling2 (None, 8, 8, 64)          0         \n",
            "_________________________________________________________________\n",
            "flatten_2 (Flatten)          (None, 4096)              0         \n",
            "_________________________________________________________________\n",
            "dense_4 (Dense)              (None, 128)               524416    \n",
            "_________________________________________________________________\n",
            "dense_5 (Dense)              (None, 10)                1290      \n",
            "=================================================================\n",
            "Total params: 545,098\n",
            "Trainable params: 545,098\n",
            "Non-trainable params: 0\n",
            "_________________________________________________________________\n"
          ]
        }
      ]
    },
    {
      "cell_type": "markdown",
      "source": [
        "#CopyCat with 5% =2500"
      ],
      "metadata": {
        "id": "F_z37cKkdFEP"
      }
    },
    {
      "cell_type": "code",
      "source": [
        "from art.attacks.extraction import CopycatCNN\n",
        "exc_cc = CopycatCNN(classifier = wrapper_exc, batch_size_fit=5, \n",
        "                        batch_size_query=10,\n",
        "                        nb_epochs=5,\n",
        "                        nb_stolen=100)"
      ],
      "metadata": {
        "id": "N3WCyb8JyLLV"
      },
      "execution_count": null,
      "outputs": []
    },
    {
      "cell_type": "code",
      "source": [
        "x_exc,y_exc = extract_n_percent(2500)"
      ],
      "metadata": {
        "colab": {
          "base_uri": "https://localhost:8080/"
        },
        "id": "8zoorCC_5t8W",
        "outputId": "2639329d-e626-4763-b084-580252b71a7f"
      },
      "execution_count": null,
      "outputs": [
        {
          "output_type": "stream",
          "name": "stdout",
          "text": [
            "Percentage of access to train images 5.0\n"
          ]
        }
      ]
    },
    {
      "cell_type": "code",
      "source": [
        "stolen_cls = exc_cc.extract(x_exc,y_exc,thieved_classifier=thieved_classifier)"
      ],
      "metadata": {
        "colab": {
          "base_uri": "https://localhost:8080/"
        },
        "id": "_ad73M1-5-MC",
        "outputId": "438e096c-df32-4a9a-9c23-1ed13c293577"
      },
      "execution_count": null,
      "outputs": [
        {
          "output_type": "stream",
          "name": "stderr",
          "text": [
            "WARNING:art.attacks.extraction.copycat_cnn:This attack does not use the provided label y.\n"
          ]
        },
        {
          "output_type": "stream",
          "name": "stdout",
          "text": [
            "Train on 100 samples\n",
            "Epoch 1/5\n",
            "100/100 [==============================] - 0s 2ms/sample - loss: 8.1633 - acc: 0.1300\n",
            "Epoch 2/5\n",
            "100/100 [==============================] - 0s 732us/sample - loss: 8.6198 - acc: 0.1300\n",
            "Epoch 3/5\n",
            "100/100 [==============================] - 0s 691us/sample - loss: 6.9403 - acc: 0.1200\n",
            "Epoch 4/5\n",
            "100/100 [==============================] - 0s 691us/sample - loss: 8.7038 - acc: 0.1100\n",
            "Epoch 5/5\n",
            "100/100 [==============================] - 0s 688us/sample - loss: 8.7038 - acc: 0.1100\n"
          ]
        }
      ]
    },
    {
      "cell_type": "code",
      "source": [
        "stolen_cls._model.evaluate(x_test,y_test)"
      ],
      "metadata": {
        "id": "RhUC5fWZ6IYl",
        "colab": {
          "base_uri": "https://localhost:8080/"
        },
        "outputId": "3eec0168-d68e-4013-ce58-063d111f2654"
      },
      "execution_count": null,
      "outputs": [
        {
          "output_type": "stream",
          "name": "stdout",
          "text": [
            "10000/10000 [==============================] - 1s 81us/sample - loss: 8.0590 - acc: 0.1000\n"
          ]
        },
        {
          "output_type": "execute_result",
          "data": {
            "text/plain": [
              "[8.059047782897949, 0.1]"
            ]
          },
          "metadata": {},
          "execution_count": 183
        }
      ]
    },
    {
      "cell_type": "markdown",
      "source": [
        "increase the querries 100"
      ],
      "metadata": {
        "id": "oI_9CHCjgiIU"
      }
    },
    {
      "cell_type": "code",
      "source": [
        "from art.attacks.extraction import CopycatCNN\n",
        "exc_cc = CopycatCNN(classifier = wrapper_exc, batch_size_fit=5, \n",
        "                        batch_size_query=100,\n",
        "                        nb_epochs=5,\n",
        "                        nb_stolen=100)"
      ],
      "metadata": {
        "id": "5ehREx4KgiIV"
      },
      "execution_count": null,
      "outputs": []
    },
    {
      "cell_type": "code",
      "source": [
        "x_exc,y_exc = extract_n_percent(5000)"
      ],
      "metadata": {
        "colab": {
          "base_uri": "https://localhost:8080/"
        },
        "outputId": "fcf10738-cb73-4b38-c9dd-961cee5ccab6",
        "id": "5mDRXP3agiIW"
      },
      "execution_count": null,
      "outputs": [
        {
          "output_type": "stream",
          "name": "stdout",
          "text": [
            "Percentage of access to train images 10.0\n"
          ]
        }
      ]
    },
    {
      "cell_type": "code",
      "source": [
        "show_image(x_exc[2500])\n",
        "np.argmax(y_exc[2500])"
      ],
      "metadata": {
        "colab": {
          "base_uri": "https://localhost:8080/",
          "height": 266
        },
        "outputId": "30828afe-4747-4226-8aba-b2b66f1f0b80",
        "id": "p23TszwogiIX"
      },
      "execution_count": null,
      "outputs": [
        {
          "output_type": "display_data",
          "data": {
            "image/png": "[encoded data removed]",
            "text/plain": [
              "<Figure size 432x288 with 1 Axes>"
            ]
          },
          "metadata": {
            "needs_background": "light"
          }
        },
        {
          "output_type": "execute_result",
          "data": {
            "text/plain": [
              "9"
            ]
          },
          "metadata": {},
          "execution_count": 186
        }
      ]
    },
    {
      "cell_type": "code",
      "source": [
        "stolen_cls = exc_cc.extract(x_exc,y_exc,thieved_classifier=thieved_classifier)"
      ],
      "metadata": {
        "colab": {
          "base_uri": "https://localhost:8080/"
        },
        "outputId": "cfccafc8-f81e-4c5e-f12e-c8217815f908",
        "id": "IP1BpKeDgiIY"
      },
      "execution_count": null,
      "outputs": [
        {
          "output_type": "stream",
          "name": "stderr",
          "text": [
            "WARNING:art.attacks.extraction.copycat_cnn:This attack does not use the provided label y.\n"
          ]
        },
        {
          "output_type": "stream",
          "name": "stdout",
          "text": [
            "Train on 100 samples\n",
            "Epoch 1/5\n",
            "100/100 [==============================] - 0s 773us/sample - loss: 8.8650 - acc: 0.1000\n",
            "Epoch 2/5\n",
            "100/100 [==============================] - 0s 680us/sample - loss: 8.8650 - acc: 0.1000\n",
            "Epoch 3/5\n",
            "100/100 [==============================] - 0s 717us/sample - loss: 8.8650 - acc: 0.1000\n",
            "Epoch 4/5\n",
            "100/100 [==============================] - 0s 704us/sample - loss: 8.8650 - acc: 0.1000\n",
            "Epoch 5/5\n",
            "100/100 [==============================] - 0s 698us/sample - loss: 8.8650 - acc: 0.1000\n"
          ]
        }
      ]
    },
    {
      "cell_type": "code",
      "source": [
        "stolen_cls._model.evaluate(x_test,y_test)"
      ],
      "metadata": {
        "colab": {
          "base_uri": "https://localhost:8080/"
        },
        "outputId": "8f0e5772-cc86-4a47-eb24-e96545c8cb18",
        "id": "_WIHRJvZgiIZ"
      },
      "execution_count": null,
      "outputs": [
        {
          "output_type": "stream",
          "name": "stdout",
          "text": [
            "10000/10000 [==============================] - 1s 72us/sample - loss: 8.0590 - acc: 0.1000\n"
          ]
        },
        {
          "output_type": "execute_result",
          "data": {
            "text/plain": [
              "[8.059047782897949, 0.1]"
            ]
          },
          "metadata": {},
          "execution_count": 188
        }
      ]
    },
    {
      "cell_type": "markdown",
      "source": [
        "increase the querries 1000"
      ],
      "metadata": {
        "id": "bwi7et4ogzRs"
      }
    },
    {
      "cell_type": "code",
      "source": [
        "from art.attacks.extraction import CopycatCNN\n",
        "exc_cc = CopycatCNN(classifier = wrapper_exc, batch_size_fit=5, \n",
        "                        batch_size_query=1000,\n",
        "                        nb_epochs=5,\n",
        "                        nb_stolen=100)"
      ],
      "metadata": {
        "id": "wASp23SDgzRt"
      },
      "execution_count": null,
      "outputs": []
    },
    {
      "cell_type": "code",
      "source": [
        "x_exc,y_exc = extract_n_percent(5000)"
      ],
      "metadata": {
        "colab": {
          "base_uri": "https://localhost:8080/"
        },
        "outputId": "0137fa5e-6009-4e5f-92d3-7970c496d49f",
        "id": "-5HT3Yr4gzRt"
      },
      "execution_count": null,
      "outputs": [
        {
          "output_type": "stream",
          "name": "stdout",
          "text": [
            "Percentage of access to train images 10.0\n"
          ]
        }
      ]
    },
    {
      "cell_type": "code",
      "source": [
        "show_image(x_exc[2500])\n",
        "np.argmax(y_exc[2500])"
      ],
      "metadata": {
        "colab": {
          "base_uri": "https://localhost:8080/",
          "height": 266
        },
        "outputId": "8c6606ca-4d91-4b89-acac-12beeb29dd50",
        "id": "SnIQP58pgzRt"
      },
      "execution_count": null,
      "outputs": [
        {
          "output_type": "display_data",
          "data": {
            "image/png": "[encoded data removed]",
            "text/plain": [
              "<Figure size 432x288 with 1 Axes>"
            ]
          },
          "metadata": {
            "needs_background": "light"
          }
        },
        {
          "output_type": "execute_result",
          "data": {
            "text/plain": [
              "7"
            ]
          },
          "metadata": {},
          "execution_count": 191
        }
      ]
    },
    {
      "cell_type": "code",
      "source": [
        "stolen_cls = exc_cc.extract(x_exc,y_exc,thieved_classifier=thieved_classifier)"
      ],
      "metadata": {
        "colab": {
          "base_uri": "https://localhost:8080/"
        },
        "outputId": "e33ca397-ab48-4f11-c3c5-6ba04695326d",
        "id": "4XcCyKQBgzRu"
      },
      "execution_count": null,
      "outputs": [
        {
          "output_type": "stream",
          "name": "stderr",
          "text": [
            "WARNING:art.attacks.extraction.copycat_cnn:This attack does not use the provided label y.\n"
          ]
        },
        {
          "output_type": "stream",
          "name": "stdout",
          "text": [
            "Train on 100 samples\n",
            "Epoch 1/5\n",
            "100/100 [==============================] - 0s 737us/sample - loss: 8.3814 - acc: 0.1200\n",
            "Epoch 2/5\n",
            "100/100 [==============================] - 0s 740us/sample - loss: 8.3814 - acc: 0.1200\n",
            "Epoch 3/5\n",
            "100/100 [==============================] - 0s 712us/sample - loss: 8.3814 - acc: 0.1200\n",
            "Epoch 4/5\n",
            "100/100 [==============================] - 0s 720us/sample - loss: 8.3814 - acc: 0.1200\n",
            "Epoch 5/5\n",
            "100/100 [==============================] - 0s 705us/sample - loss: 8.3814 - acc: 0.1200\n"
          ]
        }
      ]
    },
    {
      "cell_type": "code",
      "source": [
        "stolen_cls._model.evaluate(x_test,y_test)"
      ],
      "metadata": {
        "colab": {
          "base_uri": "https://localhost:8080/"
        },
        "outputId": "1c96b0ca-9bd0-4618-fa7b-c0b2a3c41d32",
        "id": "QsMOF3oZgzRu"
      },
      "execution_count": null,
      "outputs": [
        {
          "output_type": "stream",
          "name": "stdout",
          "text": [
            "10000/10000 [==============================] - 1s 71us/sample - loss: 8.0590 - acc: 0.1000\n"
          ]
        },
        {
          "output_type": "execute_result",
          "data": {
            "text/plain": [
              "[8.059047782897949, 0.1]"
            ]
          },
          "metadata": {},
          "execution_count": 193
        }
      ]
    },
    {
      "cell_type": "markdown",
      "source": [
        "10 % data access = 5000"
      ],
      "metadata": {
        "id": "bdVNsrolc6tZ"
      }
    },
    {
      "cell_type": "code",
      "source": [
        "from art.attacks.extraction import CopycatCNN\n",
        "exc_cc = CopycatCNN(classifier = wrapper_exc, batch_size_fit=5, \n",
        "                        batch_size_query=10,\n",
        "                        nb_epochs=5,\n",
        "                        nb_stolen=100)"
      ],
      "metadata": {
        "id": "18La6ZDdb48Z"
      },
      "execution_count": null,
      "outputs": []
    },
    {
      "cell_type": "code",
      "source": [
        "x_exc,y_exc = extract_n_percent(5000)"
      ],
      "metadata": {
        "colab": {
          "base_uri": "https://localhost:8080/"
        },
        "id": "BBJU_-PNda5i",
        "outputId": "ef0491a2-81f3-4933-8867-b0c5aeaab73d"
      },
      "execution_count": null,
      "outputs": [
        {
          "output_type": "stream",
          "name": "stdout",
          "text": [
            "Percentage of access to train images 10.0\n"
          ]
        }
      ]
    },
    {
      "cell_type": "code",
      "source": [
        "show_image(x_exc[2500])\n",
        "np.argmax(y_exc[2500])"
      ],
      "metadata": {
        "colab": {
          "base_uri": "https://localhost:8080/",
          "height": 266
        },
        "id": "REcxfZlqddCC",
        "outputId": "ad68437e-4772-4e23-d0f2-f154c8dd989f"
      },
      "execution_count": null,
      "outputs": [
        {
          "output_type": "display_data",
          "data": {
            "image/png": "[encoded data removed]",
            "text/plain": [
              "<Figure size 432x288 with 1 Axes>"
            ]
          },
          "metadata": {
            "needs_background": "light"
          }
        },
        {
          "output_type": "execute_result",
          "data": {
            "text/plain": [
              "7"
            ]
          },
          "metadata": {},
          "execution_count": 196
        }
      ]
    },
    {
      "cell_type": "code",
      "source": [
        "stolen_cls = exc_cc.extract(x_exc,y_exc,thieved_classifier=thieved_classifier)"
      ],
      "metadata": {
        "colab": {
          "base_uri": "https://localhost:8080/"
        },
        "id": "nFZ7mxJtdr-q",
        "outputId": "6e2984ff-d34f-4bde-d07c-ba09ca0de371"
      },
      "execution_count": null,
      "outputs": [
        {
          "output_type": "stream",
          "name": "stderr",
          "text": [
            "WARNING:art.attacks.extraction.copycat_cnn:This attack does not use the provided label y.\n"
          ]
        },
        {
          "output_type": "stream",
          "name": "stdout",
          "text": [
            "Train on 100 samples\n",
            "Epoch 1/5\n",
            "100/100 [==============================] - 0s 745us/sample - loss: 9.3485 - acc: 0.1200\n",
            "Epoch 2/5\n",
            "100/100 [==============================] - 0s 736us/sample - loss: 9.3485 - acc: 0.1200\n",
            "Epoch 3/5\n",
            "100/100 [==============================] - 0s 701us/sample - loss: 9.3485 - acc: 0.1200\n",
            "Epoch 4/5\n",
            "100/100 [==============================] - 0s 707us/sample - loss: 9.3485 - acc: 0.1200\n",
            "Epoch 5/5\n",
            "100/100 [==============================] - 0s 720us/sample - loss: 9.3485 - acc: 0.1200\n"
          ]
        }
      ]
    },
    {
      "cell_type": "code",
      "source": [
        "stolen_cls._model.evaluate(x_test,y_test)"
      ],
      "metadata": {
        "colab": {
          "base_uri": "https://localhost:8080/"
        },
        "id": "hCTIDQX2dwy0",
        "outputId": "cabce87f-30a7-4d95-83ad-e6a7f7c4360d"
      },
      "execution_count": null,
      "outputs": [
        {
          "output_type": "stream",
          "name": "stdout",
          "text": [
            "10000/10000 [==============================] - 1s 70us/sample - loss: 8.0590 - acc: 0.1000\n"
          ]
        },
        {
          "output_type": "execute_result",
          "data": {
            "text/plain": [
              "[8.059047782897949, 0.1]"
            ]
          },
          "metadata": {},
          "execution_count": 198
        }
      ]
    },
    {
      "cell_type": "markdown",
      "source": [
        "increase the querries 100"
      ],
      "metadata": {
        "id": "3Jeur-vQetY7"
      }
    },
    {
      "cell_type": "code",
      "source": [
        "from art.attacks.extraction import CopycatCNN\n",
        "exc_cc = CopycatCNN(classifier = wrapper_exc, batch_size_fit=5, \n",
        "                        batch_size_query=100,\n",
        "                        nb_epochs=5,\n",
        "                        nb_stolen=100)"
      ],
      "metadata": {
        "id": "PT6Q8S62ewAc"
      },
      "execution_count": null,
      "outputs": []
    },
    {
      "cell_type": "code",
      "source": [
        "x_exc,y_exc = extract_n_percent(5000)"
      ],
      "metadata": {
        "colab": {
          "base_uri": "https://localhost:8080/"
        },
        "id": "0Ti6Kjose7Q3",
        "outputId": "2b08a41a-6a74-4557-eeb1-6f87a8b11a62"
      },
      "execution_count": null,
      "outputs": [
        {
          "output_type": "stream",
          "name": "stdout",
          "text": [
            "Percentage of access to train images 10.0\n"
          ]
        }
      ]
    },
    {
      "cell_type": "code",
      "source": [
        "show_image(x_exc[2500])\n",
        "np.argmax(y_exc[2500])"
      ],
      "metadata": {
        "colab": {
          "base_uri": "https://localhost:8080/",
          "height": 266
        },
        "id": "iMeYH-KTe-7s",
        "outputId": "deb17615-aae3-4601-fd02-23ba3a685c92"
      },
      "execution_count": null,
      "outputs": [
        {
          "output_type": "display_data",
          "data": {
            "image/png": "[encoded data removed]",
            "text/plain": [
              "<Figure size 432x288 with 1 Axes>"
            ]
          },
          "metadata": {
            "needs_background": "light"
          }
        },
        {
          "output_type": "execute_result",
          "data": {
            "text/plain": [
              "7"
            ]
          },
          "metadata": {},
          "execution_count": 201
        }
      ]
    },
    {
      "cell_type": "code",
      "source": [
        "stolen_cls = exc_cc.extract(x_exc,y_exc,thieved_classifier=thieved_classifier)"
      ],
      "metadata": {
        "colab": {
          "base_uri": "https://localhost:8080/"
        },
        "id": "Bbo-7jNwfCV3",
        "outputId": "5a567bd7-f2b7-4e47-9faf-9111f403d640"
      },
      "execution_count": null,
      "outputs": [
        {
          "output_type": "stream",
          "name": "stderr",
          "text": [
            "WARNING:art.attacks.extraction.copycat_cnn:This attack does not use the provided label y.\n"
          ]
        },
        {
          "output_type": "stream",
          "name": "stdout",
          "text": [
            "Train on 100 samples\n",
            "Epoch 1/5\n",
            "100/100 [==============================] - 0s 716us/sample - loss: 7.7367 - acc: 0.0800\n",
            "Epoch 2/5\n",
            "100/100 [==============================] - 0s 718us/sample - loss: 7.7367 - acc: 0.0800\n",
            "Epoch 3/5\n",
            "100/100 [==============================] - 0s 707us/sample - loss: 7.7367 - acc: 0.0800\n",
            "Epoch 4/5\n",
            "100/100 [==============================] - 0s 731us/sample - loss: 7.7367 - acc: 0.0800\n",
            "Epoch 5/5\n",
            "100/100 [==============================] - 0s 717us/sample - loss: 7.7367 - acc: 0.0800\n"
          ]
        }
      ]
    },
    {
      "cell_type": "code",
      "source": [
        "stolen_cls._model.evaluate(x_test,y_test)"
      ],
      "metadata": {
        "colab": {
          "base_uri": "https://localhost:8080/"
        },
        "id": "90S4Bfi3fHIi",
        "outputId": "0e6b5ae1-de2e-461f-971a-9bbba54befc6"
      },
      "execution_count": null,
      "outputs": [
        {
          "output_type": "stream",
          "name": "stdout",
          "text": [
            "10000/10000 [==============================] - 1s 72us/sample - loss: 8.0590 - acc: 0.1000\n"
          ]
        },
        {
          "output_type": "execute_result",
          "data": {
            "text/plain": [
              "[8.059047782897949, 0.1]"
            ]
          },
          "metadata": {},
          "execution_count": 203
        }
      ]
    },
    {
      "cell_type": "code",
      "source": [
        ""
      ],
      "metadata": {
        "id": "th4RYjLPfR2k"
      },
      "execution_count": null,
      "outputs": []
    },
    {
      "cell_type": "markdown",
      "source": [
        "increase the querries 1000"
      ],
      "metadata": {
        "id": "FNqbBekxfSJL"
      }
    },
    {
      "cell_type": "code",
      "source": [
        "from art.attacks.extraction import CopycatCNN\n",
        "exc_cc = CopycatCNN(classifier = wrapper_exc, batch_size_fit=5, \n",
        "                        batch_size_query=1000,\n",
        "                        nb_epochs=5,\n",
        "                        nb_stolen=100)"
      ],
      "metadata": {
        "id": "GPN4aJ4lfSJL"
      },
      "execution_count": null,
      "outputs": []
    },
    {
      "cell_type": "code",
      "source": [
        "x_exc,y_exc = extract_n_percent(5000)"
      ],
      "metadata": {
        "colab": {
          "base_uri": "https://localhost:8080/"
        },
        "outputId": "ddac76af-2f1f-4930-b0fa-be58ee100f25",
        "id": "XSr8gsC4fSJM"
      },
      "execution_count": null,
      "outputs": [
        {
          "output_type": "stream",
          "name": "stdout",
          "text": [
            "Percentage of access to train images 10.0\n"
          ]
        }
      ]
    },
    {
      "cell_type": "code",
      "source": [
        "show_image(x_exc[2500])\n",
        "np.argmax(y_exc[2500])"
      ],
      "metadata": {
        "colab": {
          "base_uri": "https://localhost:8080/",
          "height": 266
        },
        "outputId": "699d2e21-451a-4ec8-c4bd-9eb4b3c332fa",
        "id": "7mCPPUM5fSJM"
      },
      "execution_count": null,
      "outputs": [
        {
          "output_type": "display_data",
          "data": {
            "image/png": "[encoded data removed]",
            "text/plain": [
              "<Figure size 432x288 with 1 Axes>"
            ]
          },
          "metadata": {
            "needs_background": "light"
          }
        },
        {
          "output_type": "execute_result",
          "data": {
            "text/plain": [
              "6"
            ]
          },
          "metadata": {},
          "execution_count": 206
        }
      ]
    },
    {
      "cell_type": "code",
      "source": [
        "stolen_cls = exc_cc.extract(x_exc,y_exc,thieved_classifier=thieved_classifier)"
      ],
      "metadata": {
        "colab": {
          "base_uri": "https://localhost:8080/"
        },
        "outputId": "4c96a18d-1f13-4fb1-d5b0-7774968392ea",
        "id": "q7aKquvtfSJN"
      },
      "execution_count": null,
      "outputs": [
        {
          "output_type": "stream",
          "name": "stderr",
          "text": [
            "WARNING:art.attacks.extraction.copycat_cnn:This attack does not use the provided label y.\n"
          ]
        },
        {
          "output_type": "stream",
          "name": "stdout",
          "text": [
            "Train on 100 samples\n",
            "Epoch 1/5\n",
            "100/100 [==============================] - 0s 709us/sample - loss: 8.5426 - acc: 0.1300\n",
            "Epoch 2/5\n",
            "100/100 [==============================] - 0s 681us/sample - loss: 8.5426 - acc: 0.1300\n",
            "Epoch 3/5\n",
            "100/100 [==============================] - 0s 697us/sample - loss: 8.5426 - acc: 0.1300\n",
            "Epoch 4/5\n",
            "100/100 [==============================] - 0s 703us/sample - loss: 8.5426 - acc: 0.1300\n",
            "Epoch 5/5\n",
            "100/100 [==============================] - 0s 720us/sample - loss: 8.5426 - acc: 0.1300\n"
          ]
        }
      ]
    },
    {
      "cell_type": "code",
      "source": [
        "stolen_cls._model.evaluate(x_test,y_test)"
      ],
      "metadata": {
        "colab": {
          "base_uri": "https://localhost:8080/"
        },
        "outputId": "ed2bf327-e6a1-4b03-fadf-6943bb89a0f4",
        "id": "wwAZ3Uz6fSJN"
      },
      "execution_count": null,
      "outputs": [
        {
          "output_type": "stream",
          "name": "stdout",
          "text": [
            "10000/10000 [==============================] - 1s 73us/sample - loss: 8.0590 - acc: 0.1000\n"
          ]
        },
        {
          "output_type": "execute_result",
          "data": {
            "text/plain": [
              "[8.059047782897949, 0.1]"
            ]
          },
          "metadata": {},
          "execution_count": 208
        }
      ]
    },
    {
      "cell_type": "code",
      "source": [
        ""
      ],
      "metadata": {
        "id": "EPozpG8GfbA8"
      },
      "execution_count": null,
      "outputs": []
    },
    {
      "cell_type": "markdown",
      "source": [
        "30% = 15000 data access"
      ],
      "metadata": {
        "id": "scfEvxvJeAjz"
      }
    },
    {
      "cell_type": "code",
      "source": [
        "from art.attacks.extraction import CopycatCNN\n",
        "exc_cc = CopycatCNN(classifier = wrapper_exc, batch_size_fit=5, \n",
        "                        batch_size_query=10,\n",
        "                        nb_epochs=5,\n",
        "                        nb_stolen=100)"
      ],
      "metadata": {
        "id": "56Jotuqqd1P0"
      },
      "execution_count": null,
      "outputs": []
    },
    {
      "cell_type": "code",
      "source": [
        "x_exc,y_exc = extract_n_percent(15000)"
      ],
      "metadata": {
        "colab": {
          "base_uri": "https://localhost:8080/"
        },
        "id": "rTyh9-zteOMJ",
        "outputId": "977968d5-290e-424e-acd6-2512a8c40a5b"
      },
      "execution_count": null,
      "outputs": [
        {
          "output_type": "stream",
          "name": "stdout",
          "text": [
            "Percentage of access to train images 30.0\n"
          ]
        }
      ]
    },
    {
      "cell_type": "code",
      "source": [
        "show_image(x_exc[2500])\n",
        "np.argmax(y_exc[2500])"
      ],
      "metadata": {
        "colab": {
          "base_uri": "https://localhost:8080/",
          "height": 266
        },
        "id": "TY6izjWseQQY",
        "outputId": "ad66786d-cab7-41a5-c760-4e2b4aaaff50"
      },
      "execution_count": null,
      "outputs": [
        {
          "output_type": "display_data",
          "data": {
            "image/png": "[encoded data removed]",
            "text/plain": [
              "<Figure size 432x288 with 1 Axes>"
            ]
          },
          "metadata": {
            "needs_background": "light"
          }
        },
        {
          "output_type": "execute_result",
          "data": {
            "text/plain": [
              "9"
            ]
          },
          "metadata": {},
          "execution_count": 211
        }
      ]
    },
    {
      "cell_type": "code",
      "source": [
        "stolen_cls = exc_cc.extract(x_exc,y_exc,thieved_classifier=thieved_classifier)"
      ],
      "metadata": {
        "colab": {
          "base_uri": "https://localhost:8080/"
        },
        "id": "usqzRXRHeWtp",
        "outputId": "2f2763a7-568e-45b0-c2c0-afa30c887d41"
      },
      "execution_count": null,
      "outputs": [
        {
          "output_type": "stream",
          "name": "stderr",
          "text": [
            "WARNING:art.attacks.extraction.copycat_cnn:This attack does not use the provided label y.\n"
          ]
        },
        {
          "output_type": "stream",
          "name": "stdout",
          "text": [
            "Train on 100 samples\n",
            "Epoch 1/5\n",
            "100/100 [==============================] - 0s 786us/sample - loss: 8.3814 - acc: 0.1100\n",
            "Epoch 2/5\n",
            "100/100 [==============================] - 0s 689us/sample - loss: 8.3814 - acc: 0.1100\n",
            "Epoch 3/5\n",
            "100/100 [==============================] - 0s 749us/sample - loss: 8.3814 - acc: 0.1100\n",
            "Epoch 4/5\n",
            "100/100 [==============================] - 0s 746us/sample - loss: 8.3814 - acc: 0.1100\n",
            "Epoch 5/5\n",
            "100/100 [==============================] - 0s 745us/sample - loss: 8.3814 - acc: 0.1100\n"
          ]
        }
      ]
    },
    {
      "cell_type": "code",
      "source": [
        "stolen_cls._model.evaluate(x_test,y_test)"
      ],
      "metadata": {
        "colab": {
          "base_uri": "https://localhost:8080/"
        },
        "id": "_CTmckLIeaVn",
        "outputId": "222cab78-4650-4973-e118-b15539a6ba34"
      },
      "execution_count": null,
      "outputs": [
        {
          "output_type": "stream",
          "name": "stdout",
          "text": [
            "10000/10000 [==============================] - 1s 73us/sample - loss: 8.0590 - acc: 0.1000\n"
          ]
        },
        {
          "output_type": "execute_result",
          "data": {
            "text/plain": [
              "[8.059047782897949, 0.1]"
            ]
          },
          "metadata": {},
          "execution_count": 213
        }
      ]
    },
    {
      "cell_type": "code",
      "source": [
        ""
      ],
      "metadata": {
        "id": "2psyMGAwefpT"
      },
      "execution_count": null,
      "outputs": []
    },
    {
      "cell_type": "markdown",
      "source": [
        "increase the querries 100"
      ],
      "metadata": {
        "id": "_EgnhzKVf94c"
      }
    },
    {
      "cell_type": "code",
      "source": [
        "from art.attacks.extraction import CopycatCNN\n",
        "exc_cc = CopycatCNN(classifier = wrapper_exc, batch_size_fit=5, \n",
        "                        batch_size_query=100,\n",
        "                        nb_epochs=5,\n",
        "                        nb_stolen=100)"
      ],
      "metadata": {
        "id": "gE7rJTbcf94d"
      },
      "execution_count": null,
      "outputs": []
    },
    {
      "cell_type": "code",
      "source": [
        "x_exc,y_exc = extract_n_percent(5000)"
      ],
      "metadata": {
        "colab": {
          "base_uri": "https://localhost:8080/"
        },
        "outputId": "04b0116c-54f2-4174-fc97-d0cb10a9c38b",
        "id": "CxHbRh7sf94e"
      },
      "execution_count": null,
      "outputs": [
        {
          "output_type": "stream",
          "name": "stdout",
          "text": [
            "Percentage of access to train images 10.0\n"
          ]
        }
      ]
    },
    {
      "cell_type": "code",
      "source": [
        "show_image(x_exc[2500])\n",
        "np.argmax(y_exc[2500])"
      ],
      "metadata": {
        "colab": {
          "base_uri": "https://localhost:8080/",
          "height": 266
        },
        "outputId": "bf407ef3-5d60-4953-a259-eb3d8b5b29f2",
        "id": "4wFpYedHf94e"
      },
      "execution_count": null,
      "outputs": [
        {
          "output_type": "display_data",
          "data": {
            "image/png": "[encoded data removed]",
            "text/plain": [
              "<Figure size 432x288 with 1 Axes>"
            ]
          },
          "metadata": {
            "needs_background": "light"
          }
        },
        {
          "output_type": "execute_result",
          "data": {
            "text/plain": [
              "9"
            ]
          },
          "metadata": {},
          "execution_count": 216
        }
      ]
    },
    {
      "cell_type": "code",
      "source": [
        "stolen_cls = exc_cc.extract(x_exc,y_exc,thieved_classifier=thieved_classifier)"
      ],
      "metadata": {
        "colab": {
          "base_uri": "https://localhost:8080/"
        },
        "outputId": "414b6c58-d46e-414d-9713-79f135927201",
        "id": "rwfUQol3f94f"
      },
      "execution_count": null,
      "outputs": [
        {
          "output_type": "stream",
          "name": "stderr",
          "text": [
            "WARNING:art.attacks.extraction.copycat_cnn:This attack does not use the provided label y.\n"
          ]
        },
        {
          "output_type": "stream",
          "name": "stdout",
          "text": [
            "Train on 100 samples\n",
            "Epoch 1/5\n",
            "100/100 [==============================] - 0s 741us/sample - loss: 7.7367 - acc: 0.0600\n",
            "Epoch 2/5\n",
            "100/100 [==============================] - 0s 702us/sample - loss: 7.7367 - acc: 0.0600\n",
            "Epoch 3/5\n",
            "100/100 [==============================] - 0s 757us/sample - loss: 7.7367 - acc: 0.0600\n",
            "Epoch 4/5\n",
            "100/100 [==============================] - 0s 739us/sample - loss: 7.7367 - acc: 0.0600\n",
            "Epoch 5/5\n",
            "100/100 [==============================] - 0s 707us/sample - loss: 7.7367 - acc: 0.0600\n"
          ]
        }
      ]
    },
    {
      "cell_type": "code",
      "source": [
        "stolen_cls._model.evaluate(x_test,y_test)"
      ],
      "metadata": {
        "colab": {
          "base_uri": "https://localhost:8080/"
        },
        "outputId": "d6803fbf-5e22-4fbc-e396-3ee583503a60",
        "id": "cu-J99htf94f"
      },
      "execution_count": null,
      "outputs": [
        {
          "output_type": "stream",
          "name": "stdout",
          "text": [
            "10000/10000 [==============================] - 1s 72us/sample - loss: 8.0590 - acc: 0.1000\n"
          ]
        },
        {
          "output_type": "execute_result",
          "data": {
            "text/plain": [
              "[8.059047782897949, 0.1]"
            ]
          },
          "metadata": {},
          "execution_count": 218
        }
      ]
    },
    {
      "cell_type": "code",
      "source": [
        ""
      ],
      "metadata": {
        "id": "6jIWQdIrgKJm"
      },
      "execution_count": null,
      "outputs": []
    },
    {
      "cell_type": "markdown",
      "source": [
        "increase the querries 1000"
      ],
      "metadata": {
        "id": "EMs4WoJzgLFp"
      }
    },
    {
      "cell_type": "code",
      "source": [
        "from art.attacks.extraction import CopycatCNN\n",
        "exc_cc = CopycatCNN(classifier = wrapper_exc, batch_size_fit=5, \n",
        "                        batch_size_query=1000,\n",
        "                        nb_epochs=5,\n",
        "                        nb_stolen=100)"
      ],
      "metadata": {
        "id": "McA4_bYigLFq"
      },
      "execution_count": null,
      "outputs": []
    },
    {
      "cell_type": "code",
      "source": [
        "x_exc,y_exc = extract_n_percent(5000)"
      ],
      "metadata": {
        "colab": {
          "base_uri": "https://localhost:8080/"
        },
        "outputId": "12daae84-fc2d-46e0-bcfa-e68598273254",
        "id": "iRapKuMkgLFq"
      },
      "execution_count": null,
      "outputs": [
        {
          "output_type": "stream",
          "name": "stdout",
          "text": [
            "Percentage of access to train images 10.0\n"
          ]
        }
      ]
    },
    {
      "cell_type": "code",
      "source": [
        "show_image(x_exc[2500])\n",
        "np.argmax(y_exc[2500])"
      ],
      "metadata": {
        "colab": {
          "base_uri": "https://localhost:8080/",
          "height": 266
        },
        "outputId": "4ffc77d5-59e5-4a9b-9964-6df389628f00",
        "id": "1c1aWYr2gLFq"
      },
      "execution_count": null,
      "outputs": [
        {
          "output_type": "display_data",
          "data": {
            "image/png": "[encoded data removed]",
            "text/plain": [
              "<Figure size 432x288 with 1 Axes>"
            ]
          },
          "metadata": {
            "needs_background": "light"
          }
        },
        {
          "output_type": "execute_result",
          "data": {
            "text/plain": [
              "7"
            ]
          },
          "metadata": {},
          "execution_count": 221
        }
      ]
    },
    {
      "cell_type": "code",
      "source": [
        "stolen_cls = exc_cc.extract(x_exc,y_exc,thieved_classifier=thieved_classifier)"
      ],
      "metadata": {
        "colab": {
          "base_uri": "https://localhost:8080/"
        },
        "outputId": "c04d683d-b409-4eca-865c-634295df61ef",
        "id": "yVIlrGB0gLFr"
      },
      "execution_count": null,
      "outputs": [
        {
          "output_type": "stream",
          "name": "stderr",
          "text": [
            "WARNING:art.attacks.extraction.copycat_cnn:This attack does not use the provided label y.\n"
          ]
        },
        {
          "output_type": "stream",
          "name": "stdout",
          "text": [
            "Train on 100 samples\n",
            "Epoch 1/5\n",
            "100/100 [==============================] - 0s 724us/sample - loss: 8.5426 - acc: 0.1600\n",
            "Epoch 2/5\n",
            "100/100 [==============================] - 0s 765us/sample - loss: 8.5426 - acc: 0.1600\n",
            "Epoch 3/5\n",
            "100/100 [==============================] - 0s 741us/sample - loss: 8.5426 - acc: 0.1600\n",
            "Epoch 4/5\n",
            "100/100 [==============================] - 0s 719us/sample - loss: 8.5426 - acc: 0.1600\n",
            "Epoch 5/5\n",
            "100/100 [==============================] - 0s 760us/sample - loss: 8.5426 - acc: 0.1600\n"
          ]
        }
      ]
    },
    {
      "cell_type": "code",
      "source": [
        "stolen_cls._model.evaluate(x_test,y_test)"
      ],
      "metadata": {
        "colab": {
          "base_uri": "https://localhost:8080/"
        },
        "outputId": "54454bbc-9b4a-49ce-dee0-0d1f7a41f20f",
        "id": "EGquoXSagLFr"
      },
      "execution_count": null,
      "outputs": [
        {
          "output_type": "stream",
          "name": "stdout",
          "text": [
            "10000/10000 [==============================] - 1s 71us/sample - loss: 8.0590 - acc: 0.1000\n"
          ]
        },
        {
          "output_type": "execute_result",
          "data": {
            "text/plain": [
              "[8.059047782897949, 0.1]"
            ]
          },
          "metadata": {},
          "execution_count": 223
        }
      ]
    },
    {
      "cell_type": "code",
      "source": [
        ""
      ],
      "metadata": {
        "id": "PGZfTvE6gU2p"
      },
      "execution_count": null,
      "outputs": []
    },
    {
      "cell_type": "markdown",
      "source": [
        "#Knockoff Nets"
      ],
      "metadata": {
        "id": "7g-HehKChkvU"
      }
    },
    {
      "cell_type": "markdown",
      "source": [
        "5% data access"
      ],
      "metadata": {
        "id": "RAKXDTfAh2XB"
      }
    },
    {
      "cell_type": "code",
      "source": [
        "from art.attacks.extraction import KnockoffNets\n",
        "exc_cc = KnockoffNets(classifier = wrapper_exc, batch_size_fit=5, \n",
        "                        batch_size_query=10,\n",
        "                        nb_epochs=5,\n",
        "                        nb_stolen=100,reward=\"all\")"
      ],
      "metadata": {
        "id": "qsobUFgBhuR6"
      },
      "execution_count": null,
      "outputs": []
    },
    {
      "cell_type": "code",
      "source": [
        "x_exc,y_exc = extract_n_percent(2500)"
      ],
      "metadata": {
        "colab": {
          "base_uri": "https://localhost:8080/"
        },
        "id": "OTd84GgbhxYs",
        "outputId": "3f91bb06-97a6-4eb6-9b53-be9b3825af02"
      },
      "execution_count": null,
      "outputs": [
        {
          "output_type": "stream",
          "name": "stdout",
          "text": [
            "Percentage of access to train images 5.0\n"
          ]
        }
      ]
    },
    {
      "cell_type": "code",
      "source": [
        "stolen_cls = exc_cc.extract(x_exc,y_exc,thieved_classifier=thieved_classifier)"
      ],
      "metadata": {
        "colab": {
          "base_uri": "https://localhost:8080/"
        },
        "id": "ZwKSY1Gfh4nk",
        "outputId": "692b5573-2007-4ffe-da58-d2cf1d91cf00"
      },
      "execution_count": null,
      "outputs": [
        {
          "output_type": "stream",
          "name": "stderr",
          "text": [
            "WARNING:art.attacks.extraction.knockoff_nets:This attack with random sampling strategy does not use the provided label y.\n"
          ]
        }
      ]
    },
    {
      "cell_type": "code",
      "source": [
        "stolen_cls._model.evaluate(x_test,y_test)"
      ],
      "metadata": {
        "colab": {
          "base_uri": "https://localhost:8080/"
        },
        "id": "moxRb487h8QC",
        "outputId": "de16a03e-f74f-4ce6-9de6-9b90b4355b58"
      },
      "execution_count": null,
      "outputs": [
        {
          "output_type": "stream",
          "name": "stdout",
          "text": [
            "10000/10000 [==============================] - 1s 73us/sample - loss: 8.0590 - acc: 0.1000\n"
          ]
        },
        {
          "output_type": "execute_result",
          "data": {
            "text/plain": [
              "[8.059047782897949, 0.1]"
            ]
          },
          "metadata": {},
          "execution_count": 227
        }
      ]
    },
    {
      "cell_type": "code",
      "source": [
        "show_image(x_exc[250])\n",
        "np.argmax(y_exc[250])"
      ],
      "metadata": {
        "colab": {
          "base_uri": "https://localhost:8080/",
          "height": 266
        },
        "id": "lZTx3ttaijuy",
        "outputId": "e4286bbc-54c5-4ff4-dddd-840bfb70888e"
      },
      "execution_count": null,
      "outputs": [
        {
          "output_type": "display_data",
          "data": {
            "image/png": "[encoded data removed]",
            "text/plain": [
              "<Figure size 432x288 with 1 Axes>"
            ]
          },
          "metadata": {
            "needs_background": "light"
          }
        },
        {
          "output_type": "execute_result",
          "data": {
            "text/plain": [
              "5"
            ]
          },
          "metadata": {},
          "execution_count": 228
        }
      ]
    },
    {
      "cell_type": "markdown",
      "source": [
        "# query = 100"
      ],
      "metadata": {
        "id": "tsx9NQtSiNEU"
      }
    },
    {
      "cell_type": "code",
      "source": [
        "from art.attacks.extraction import KnockoffNets\n",
        "exc_cc = KnockoffNets(classifier = wrapper_exc, batch_size_fit=5, \n",
        "                        batch_size_query=100,\n",
        "                        nb_epochs=5,\n",
        "                        nb_stolen=100,reward=\"all\")"
      ],
      "metadata": {
        "id": "7iW9atNXiK9F"
      },
      "execution_count": null,
      "outputs": []
    },
    {
      "cell_type": "code",
      "source": [
        "x_exc,y_exc = extract_n_percent(2500)"
      ],
      "metadata": {
        "colab": {
          "base_uri": "https://localhost:8080/"
        },
        "outputId": "6f6c33cf-abc5-499e-a5f6-635963ef318d",
        "id": "fScmx6ojiK9G"
      },
      "execution_count": null,
      "outputs": [
        {
          "output_type": "stream",
          "name": "stdout",
          "text": [
            "Percentage of access to train images 5.0\n"
          ]
        }
      ]
    },
    {
      "cell_type": "code",
      "source": [
        "stolen_cls = exc_cc.extract(x_exc,y_exc,thieved_classifier=thieved_classifier)"
      ],
      "metadata": {
        "colab": {
          "base_uri": "https://localhost:8080/"
        },
        "outputId": "930f0c35-e756-4dfa-a968-a80e62e1b601",
        "id": "QUhq5gK_iK9H"
      },
      "execution_count": null,
      "outputs": [
        {
          "output_type": "stream",
          "name": "stderr",
          "text": [
            "WARNING:art.attacks.extraction.knockoff_nets:This attack with random sampling strategy does not use the provided label y.\n"
          ]
        }
      ]
    },
    {
      "cell_type": "code",
      "source": [
        "stolen_cls._model.evaluate(x_test,y_test)"
      ],
      "metadata": {
        "colab": {
          "base_uri": "https://localhost:8080/"
        },
        "outputId": "2e338ac2-17dc-4bb0-ca40-8b42400d64e9",
        "id": "-l04QDmHiK9I"
      },
      "execution_count": null,
      "outputs": [
        {
          "output_type": "stream",
          "name": "stdout",
          "text": [
            "10000/10000 [==============================] - 1s 71us/sample - loss: 8.0590 - acc: 0.1000\n"
          ]
        },
        {
          "output_type": "execute_result",
          "data": {
            "text/plain": [
              "[8.059047782897949, 0.1]"
            ]
          },
          "metadata": {},
          "execution_count": 232
        }
      ]
    },
    {
      "cell_type": "code",
      "source": [
        "show_image(x_exc[250])\n",
        "np.argmax(y_exc[250])"
      ],
      "metadata": {
        "colab": {
          "base_uri": "https://localhost:8080/",
          "height": 266
        },
        "id": "XMPOK_F8h_rg",
        "outputId": "22ab7269-2336-427e-9659-883f828ab6ce"
      },
      "execution_count": null,
      "outputs": [
        {
          "output_type": "display_data",
          "data": {
            "image/png": "[encoded data removed]",
            "text/plain": [
              "<Figure size 432x288 with 1 Axes>"
            ]
          },
          "metadata": {
            "needs_background": "light"
          }
        },
        {
          "output_type": "execute_result",
          "data": {
            "text/plain": [
              "4"
            ]
          },
          "metadata": {},
          "execution_count": 233
        }
      ]
    },
    {
      "cell_type": "markdown",
      "source": [
        "# query = 1000"
      ],
      "metadata": {
        "id": "6l1D0GwAiXvS"
      }
    },
    {
      "cell_type": "code",
      "source": [
        "from art.attacks.extraction import KnockoffNets\n",
        "exc_cc = KnockoffNets(classifier = wrapper_exc, batch_size_fit=5, \n",
        "                        batch_size_query=1000,\n",
        "                        nb_epochs=5,\n",
        "                        nb_stolen=100,reward=\"all\")"
      ],
      "metadata": {
        "id": "vjatltpciXvT"
      },
      "execution_count": null,
      "outputs": []
    },
    {
      "cell_type": "code",
      "source": [
        "x_exc,y_exc = extract_n_percent(2500)"
      ],
      "metadata": {
        "colab": {
          "base_uri": "https://localhost:8080/"
        },
        "outputId": "311cc243-a75b-4143-9f8e-034ff4d8915a",
        "id": "yFJOEwzPiXvU"
      },
      "execution_count": null,
      "outputs": [
        {
          "output_type": "stream",
          "name": "stdout",
          "text": [
            "Percentage of access to train images 5.0\n"
          ]
        }
      ]
    },
    {
      "cell_type": "code",
      "source": [
        "stolen_cls = exc_cc.extract(x_exc,y_exc,thieved_classifier=thieved_classifier)"
      ],
      "metadata": {
        "colab": {
          "base_uri": "https://localhost:8080/"
        },
        "outputId": "14f669db-678d-4bd0-a866-74634805c313",
        "id": "l9nvl_HHiXvV"
      },
      "execution_count": null,
      "outputs": [
        {
          "output_type": "stream",
          "name": "stderr",
          "text": [
            "WARNING:art.attacks.extraction.knockoff_nets:This attack with random sampling strategy does not use the provided label y.\n"
          ]
        }
      ]
    },
    {
      "cell_type": "code",
      "source": [
        "stolen_cls._model.evaluate(x_test,y_test)"
      ],
      "metadata": {
        "colab": {
          "base_uri": "https://localhost:8080/"
        },
        "outputId": "cfc15f9f-ca83-4cd2-d0fc-cf4a7910017f",
        "id": "S6exj9-UiXvV"
      },
      "execution_count": null,
      "outputs": [
        {
          "output_type": "stream",
          "name": "stdout",
          "text": [
            "10000/10000 [==============================] - 1s 73us/sample - loss: 8.0590 - acc: 0.1000\n"
          ]
        },
        {
          "output_type": "execute_result",
          "data": {
            "text/plain": [
              "[8.059047782897949, 0.1]"
            ]
          },
          "metadata": {},
          "execution_count": 237
        }
      ]
    },
    {
      "cell_type": "code",
      "source": [
        "show_image(x_exc[250])\n",
        "np.argmax(y_exc[250])"
      ],
      "metadata": {
        "colab": {
          "base_uri": "https://localhost:8080/",
          "height": 266
        },
        "id": "gkyeBAZWibkQ",
        "outputId": "a1230a03-5893-4745-9815-391facc5c976"
      },
      "execution_count": null,
      "outputs": [
        {
          "output_type": "display_data",
          "data": {
            "image/png": "[encoded data removed]",
            "text/plain": [
              "<Figure size 432x288 with 1 Axes>"
            ]
          },
          "metadata": {
            "needs_background": "light"
          }
        },
        {
          "output_type": "execute_result",
          "data": {
            "text/plain": [
              "4"
            ]
          },
          "metadata": {},
          "execution_count": 238
        }
      ]
    },
    {
      "cell_type": "code",
      "source": [
        ""
      ],
      "metadata": {
        "id": "guykce1liyC_"
      },
      "execution_count": null,
      "outputs": []
    },
    {
      "cell_type": "markdown",
      "source": [
        ""
      ],
      "metadata": {
        "id": "1okfUSGPi3-Z"
      }
    },
    {
      "cell_type": "markdown",
      "source": [
        "10% data access"
      ],
      "metadata": {
        "id": "f_kLEA9ti4De"
      }
    },
    {
      "cell_type": "code",
      "source": [
        "from art.attacks.extraction import KnockoffNets\n",
        "exc_cc = KnockoffNets(classifier = wrapper_exc, batch_size_fit=5, \n",
        "                        batch_size_query=10,\n",
        "                        nb_epochs=5,\n",
        "                        nb_stolen=100,reward=\"all\")"
      ],
      "metadata": {
        "id": "QVLCDfFJi66s"
      },
      "execution_count": null,
      "outputs": []
    },
    {
      "cell_type": "code",
      "source": [
        "x_exc,y_exc = extract_n_percent(5000)"
      ],
      "metadata": {
        "colab": {
          "base_uri": "https://localhost:8080/"
        },
        "id": "XtP-EvoLi9lk",
        "outputId": "0782aa13-c7f5-4a81-fb44-7a64c2c160f6"
      },
      "execution_count": null,
      "outputs": [
        {
          "output_type": "stream",
          "name": "stdout",
          "text": [
            "Percentage of access to train images 10.0\n"
          ]
        }
      ]
    },
    {
      "cell_type": "code",
      "source": [
        "show_image(x_exc[1000])\n",
        "np.argmax(y_exc[1000])"
      ],
      "metadata": {
        "colab": {
          "base_uri": "https://localhost:8080/",
          "height": 266
        },
        "id": "C74kd4aEjACj",
        "outputId": "4f5e377b-9c25-4acd-f830-6846bfb60895"
      },
      "execution_count": null,
      "outputs": [
        {
          "output_type": "display_data",
          "data": {
            "image/png": "[encoded data removed]",
            "text/plain": [
              "<Figure size 432x288 with 1 Axes>"
            ]
          },
          "metadata": {
            "needs_background": "light"
          }
        },
        {
          "output_type": "execute_result",
          "data": {
            "text/plain": [
              "5"
            ]
          },
          "metadata": {},
          "execution_count": 241
        }
      ]
    },
    {
      "cell_type": "code",
      "source": [
        "stolen_cls = exc_cc.extract(x_exc,y_exc,thieved_classifier=thieved_classifier)"
      ],
      "metadata": {
        "colab": {
          "base_uri": "https://localhost:8080/"
        },
        "id": "MslddkVdjCJP",
        "outputId": "02dd8228-e47b-4229-bfe7-bef6d3fa7d93"
      },
      "execution_count": null,
      "outputs": [
        {
          "output_type": "stream",
          "name": "stderr",
          "text": [
            "WARNING:art.attacks.extraction.knockoff_nets:This attack with random sampling strategy does not use the provided label y.\n"
          ]
        }
      ]
    },
    {
      "cell_type": "code",
      "source": [
        "stolen_cls._model.evaluate(x_test,y_test)"
      ],
      "metadata": {
        "colab": {
          "base_uri": "https://localhost:8080/"
        },
        "id": "Lten-7jEjGGR",
        "outputId": "113fbc95-77f5-486c-a3f8-28c81d610a03"
      },
      "execution_count": null,
      "outputs": [
        {
          "output_type": "stream",
          "name": "stdout",
          "text": [
            "10000/10000 [==============================] - 1s 73us/sample - loss: 8.0590 - acc: 0.1000\n"
          ]
        },
        {
          "output_type": "execute_result",
          "data": {
            "text/plain": [
              "[8.059047782897949, 0.1]"
            ]
          },
          "metadata": {},
          "execution_count": 243
        }
      ]
    },
    {
      "cell_type": "markdown",
      "source": [
        "100 querry"
      ],
      "metadata": {
        "id": "0NnukiHijVgQ"
      }
    },
    {
      "cell_type": "code",
      "source": [
        ""
      ],
      "metadata": {
        "id": "7awMOMWijImt"
      },
      "execution_count": null,
      "outputs": []
    },
    {
      "cell_type": "code",
      "source": [
        "from art.attacks.extraction import KnockoffNets\n",
        "exc_cc = KnockoffNets(classifier = wrapper_exc, batch_size_fit=5, \n",
        "                        batch_size_query=100,\n",
        "                        nb_epochs=5,\n",
        "                        nb_stolen=100,reward=\"all\")"
      ],
      "metadata": {
        "id": "l931N0ttjSJ_"
      },
      "execution_count": null,
      "outputs": []
    },
    {
      "cell_type": "code",
      "source": [
        "x_exc,y_exc = extract_n_percent(5000)"
      ],
      "metadata": {
        "colab": {
          "base_uri": "https://localhost:8080/"
        },
        "outputId": "40b73a3a-baf3-487d-a915-2ee95cf15bb4",
        "id": "Y9wfpxP6jSKA"
      },
      "execution_count": null,
      "outputs": [
        {
          "output_type": "stream",
          "name": "stdout",
          "text": [
            "Percentage of access to train images 10.0\n"
          ]
        }
      ]
    },
    {
      "cell_type": "code",
      "source": [
        "show_image(x_exc[1000])\n",
        "np.argmax(y_exc[1000])"
      ],
      "metadata": {
        "colab": {
          "base_uri": "https://localhost:8080/",
          "height": 266
        },
        "outputId": "d208479d-0ad7-4a41-ddc2-9543516294e0",
        "id": "n7-5VDbhjSKC"
      },
      "execution_count": null,
      "outputs": [
        {
          "output_type": "display_data",
          "data": {
            "image/png": "[encoded data removed]",
            "text/plain": [
              "<Figure size 432x288 with 1 Axes>"
            ]
          },
          "metadata": {
            "needs_background": "light"
          }
        },
        {
          "output_type": "execute_result",
          "data": {
            "text/plain": [
              "0"
            ]
          },
          "metadata": {},
          "execution_count": 246
        }
      ]
    },
    {
      "cell_type": "code",
      "source": [
        "stolen_cls = exc_cc.extract(x_exc,y_exc,thieved_classifier=thieved_classifier)"
      ],
      "metadata": {
        "colab": {
          "base_uri": "https://localhost:8080/"
        },
        "outputId": "df05fd7a-2036-41d4-c23a-5afed3c92259",
        "id": "bqNE5YqFjSKD"
      },
      "execution_count": null,
      "outputs": [
        {
          "output_type": "stream",
          "name": "stderr",
          "text": [
            "WARNING:art.attacks.extraction.knockoff_nets:This attack with random sampling strategy does not use the provided label y.\n"
          ]
        }
      ]
    },
    {
      "cell_type": "code",
      "source": [
        "stolen_cls._model.evaluate(x_test,y_test)"
      ],
      "metadata": {
        "colab": {
          "base_uri": "https://localhost:8080/"
        },
        "outputId": "2e9f60b9-8846-40a2-fb84-6b9f77a2fce1",
        "id": "FCtXJ1DtjSKE"
      },
      "execution_count": null,
      "outputs": [
        {
          "output_type": "stream",
          "name": "stdout",
          "text": [
            "10000/10000 [==============================] - 1s 74us/sample - loss: 8.0590 - acc: 0.1000\n"
          ]
        },
        {
          "output_type": "execute_result",
          "data": {
            "text/plain": [
              "[8.059047782897949, 0.1]"
            ]
          },
          "metadata": {},
          "execution_count": 248
        }
      ]
    },
    {
      "cell_type": "markdown",
      "source": [
        "30% access"
      ],
      "metadata": {
        "id": "U6DfOWCIjbmA"
      }
    },
    {
      "cell_type": "code",
      "source": [
        "from art.attacks.extraction import KnockoffNets\n",
        "exc_cc = KnockoffNets(classifier = wrapper_exc, batch_size_fit=5, \n",
        "                        batch_size_query=10,\n",
        "                        nb_epochs=5,\n",
        "                        nb_stolen=1000,reward=\"all\")"
      ],
      "metadata": {
        "id": "TAkwY0G5jaIV"
      },
      "execution_count": null,
      "outputs": []
    },
    {
      "cell_type": "code",
      "source": [
        "x_exc,y_exc = extract_n_percent(15000)"
      ],
      "metadata": {
        "colab": {
          "base_uri": "https://localhost:8080/"
        },
        "id": "nZXS4sg5jf29",
        "outputId": "1837e97d-22df-4426-bf8c-238a5522e94b"
      },
      "execution_count": null,
      "outputs": [
        {
          "output_type": "stream",
          "name": "stdout",
          "text": [
            "Percentage of access to train images 30.0\n"
          ]
        }
      ]
    },
    {
      "cell_type": "code",
      "source": [
        "show_image(x_exc[1000])\n",
        "np.argmax(y_exc[1000])"
      ],
      "metadata": {
        "colab": {
          "base_uri": "https://localhost:8080/",
          "height": 266
        },
        "id": "yfaRpL5Pjhpz",
        "outputId": "fb242074-8d07-414f-c5a0-08af7230703d"
      },
      "execution_count": null,
      "outputs": [
        {
          "output_type": "display_data",
          "data": {
            "image/png": "[encoded data removed]",
            "text/plain": [
              "<Figure size 432x288 with 1 Axes>"
            ]
          },
          "metadata": {
            "needs_background": "light"
          }
        },
        {
          "output_type": "execute_result",
          "data": {
            "text/plain": [
              "2"
            ]
          },
          "metadata": {},
          "execution_count": 251
        }
      ]
    },
    {
      "cell_type": "code",
      "source": [
        "stolen_cls = exc_cc.extract(x_exc,y_exc,thieved_classifier=thieved_classifier)"
      ],
      "metadata": {
        "colab": {
          "base_uri": "https://localhost:8080/"
        },
        "id": "qRa_wwcgjjQv",
        "outputId": "3e29ab6c-c09c-40dc-affb-c0b5dba3900a"
      },
      "execution_count": null,
      "outputs": [
        {
          "output_type": "stream",
          "name": "stderr",
          "text": [
            "WARNING:art.attacks.extraction.knockoff_nets:This attack with random sampling strategy does not use the provided label y.\n"
          ]
        }
      ]
    },
    {
      "cell_type": "code",
      "source": [
        "stolen_cls._model.evaluate(x_test,y_test)"
      ],
      "metadata": {
        "colab": {
          "base_uri": "https://localhost:8080/"
        },
        "id": "-ZzHoDCUjlh_",
        "outputId": "17e254e6-7aee-46bb-f8d5-0ee0368701f2"
      },
      "execution_count": null,
      "outputs": [
        {
          "output_type": "stream",
          "name": "stdout",
          "text": [
            "10000/10000 [==============================] - 1s 73us/sample - loss: 8.0590 - acc: 0.1000\n"
          ]
        },
        {
          "output_type": "execute_result",
          "data": {
            "text/plain": [
              "[8.059047782897949, 0.1]"
            ]
          },
          "metadata": {},
          "execution_count": 253
        }
      ]
    },
    {
      "cell_type": "code",
      "source": [
        ""
      ],
      "metadata": {
        "id": "SAYd0r8rjow9"
      },
      "execution_count": null,
      "outputs": []
    }
  ]
}