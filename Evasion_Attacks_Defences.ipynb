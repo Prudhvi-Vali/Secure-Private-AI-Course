{
  "nbformat": 4,
  "nbformat_minor": 0,
  "metadata": {
    "colab": {
      "name": "Ev_def.ipynb",
      "provenance": [],
      "collapsed_sections": [],
      "machine_shape": "hm"
    },
    "kernelspec": {
      "name": "python3",
      "display_name": "Python 3"
    },
    "language_info": {
      "name": "python"
    },
    "accelerator": "GPU",
    "widgets": {
      "application/vnd.jupyter.widget-state+json": {
        "cde36b032a394c1ca04ff6be82723a9a": {
          "model_module": "@jupyter-widgets/controls",
          "model_name": "HBoxModel",
          "model_module_version": "1.5.0",
          "state": {
            "_view_name": "HBoxView",
            "_dom_classes": [],
            "_model_name": "HBoxModel",
            "_view_module": "@jupyter-widgets/controls",
            "_model_module_version": "1.5.0",
            "_view_count": null,
            "_view_module_version": "1.5.0",
            "box_style": "",
            "layout": "IPY_MODEL_8906efdcf9c040d3821cd5424cfc4387",
            "_model_module": "@jupyter-widgets/controls",
            "children": [
              "IPY_MODEL_62aa1db989ae41bc86e6888f31303f6a",
              "IPY_MODEL_6236be803b4149d8b72eb3a41dd14e5e",
              "IPY_MODEL_2fd05c652d44417180e0b398d612d5ac"
            ]
          }
        },
        "8906efdcf9c040d3821cd5424cfc4387": {
          "model_module": "@jupyter-widgets/base",
          "model_name": "LayoutModel",
          "model_module_version": "1.2.0",
          "state": {
            "_view_name": "LayoutView",
            "grid_template_rows": null,
            "right": null,
            "justify_content": null,
            "_view_module": "@jupyter-widgets/base",
            "overflow": null,
            "_model_module_version": "1.2.0",
            "_view_count": null,
            "flex_flow": null,
            "width": null,
            "min_width": null,
            "border": null,
            "align_items": null,
            "bottom": null,
            "_model_module": "@jupyter-widgets/base",
            "top": null,
            "grid_column": null,
            "overflow_y": null,
            "overflow_x": null,
            "grid_auto_flow": null,
            "grid_area": null,
            "grid_template_columns": null,
            "flex": null,
            "_model_name": "LayoutModel",
            "justify_items": null,
            "grid_row": null,
            "max_height": null,
            "align_content": null,
            "visibility": null,
            "align_self": null,
            "height": null,
            "min_height": null,
            "padding": null,
            "grid_auto_rows": null,
            "grid_gap": null,
            "max_width": null,
            "order": null,
            "_view_module_version": "1.2.0",
            "grid_template_areas": null,
            "object_position": null,
            "object_fit": null,
            "grid_auto_columns": null,
            "margin": null,
            "display": null,
            "left": null
          }
        },
        "62aa1db989ae41bc86e6888f31303f6a": {
          "model_module": "@jupyter-widgets/controls",
          "model_name": "HTMLModel",
          "model_module_version": "1.5.0",
          "state": {
            "_view_name": "HTMLView",
            "style": "IPY_MODEL_470005115d4849f696ca1778fefd80f6",
            "_dom_classes": [],
            "description": "",
            "_model_name": "HTMLModel",
            "placeholder": "​",
            "_view_module": "@jupyter-widgets/controls",
            "_model_module_version": "1.5.0",
            "value": "PGD - Random Initializations: 100%",
            "_view_count": null,
            "_view_module_version": "1.5.0",
            "description_tooltip": null,
            "_model_module": "@jupyter-widgets/controls",
            "layout": "IPY_MODEL_76c9e9d7db36432682e49806c53c6307"
          }
        },
        "6236be803b4149d8b72eb3a41dd14e5e": {
          "model_module": "@jupyter-widgets/controls",
          "model_name": "FloatProgressModel",
          "model_module_version": "1.5.0",
          "state": {
            "_view_name": "ProgressView",
            "style": "IPY_MODEL_f9f8f27755554eec829d6d101462e324",
            "_dom_classes": [],
            "description": "",
            "_model_name": "FloatProgressModel",
            "bar_style": "success",
            "max": 1,
            "_view_module": "@jupyter-widgets/controls",
            "_model_module_version": "1.5.0",
            "value": 1,
            "_view_count": null,
            "_view_module_version": "1.5.0",
            "orientation": "horizontal",
            "min": 0,
            "description_tooltip": null,
            "_model_module": "@jupyter-widgets/controls",
            "layout": "IPY_MODEL_32f4f371164f4467bf3e5cc060892587"
          }
        },
        "2fd05c652d44417180e0b398d612d5ac": {
          "model_module": "@jupyter-widgets/controls",
          "model_name": "HTMLModel",
          "model_module_version": "1.5.0",
          "state": {
            "_view_name": "HTMLView",
            "style": "IPY_MODEL_b432167f81774e8aac37435ad6478409",
            "_dom_classes": [],
            "description": "",
            "_model_name": "HTMLModel",
            "placeholder": "​",
            "_view_module": "@jupyter-widgets/controls",
            "_model_module_version": "1.5.0",
            "value": " 1/1 [00:02&lt;00:00,  2.24s/it]",
            "_view_count": null,
            "_view_module_version": "1.5.0",
            "description_tooltip": null,
            "_model_module": "@jupyter-widgets/controls",
            "layout": "IPY_MODEL_dc191ab9bf494e21b8efaf4c0d7b9129"
          }
        },
        "470005115d4849f696ca1778fefd80f6": {
          "model_module": "@jupyter-widgets/controls",
          "model_name": "DescriptionStyleModel",
          "model_module_version": "1.5.0",
          "state": {
            "_view_name": "StyleView",
            "_model_name": "DescriptionStyleModel",
            "description_width": "",
            "_view_module": "@jupyter-widgets/base",
            "_model_module_version": "1.5.0",
            "_view_count": null,
            "_view_module_version": "1.2.0",
            "_model_module": "@jupyter-widgets/controls"
          }
        },
        "76c9e9d7db36432682e49806c53c6307": {
          "model_module": "@jupyter-widgets/base",
          "model_name": "LayoutModel",
          "model_module_version": "1.2.0",
          "state": {
            "_view_name": "LayoutView",
            "grid_template_rows": null,
            "right": null,
            "justify_content": null,
            "_view_module": "@jupyter-widgets/base",
            "overflow": null,
            "_model_module_version": "1.2.0",
            "_view_count": null,
            "flex_flow": null,
            "width": null,
            "min_width": null,
            "border": null,
            "align_items": null,
            "bottom": null,
            "_model_module": "@jupyter-widgets/base",
            "top": null,
            "grid_column": null,
            "overflow_y": null,
            "overflow_x": null,
            "grid_auto_flow": null,
            "grid_area": null,
            "grid_template_columns": null,
            "flex": null,
            "_model_name": "LayoutModel",
            "justify_items": null,
            "grid_row": null,
            "max_height": null,
            "align_content": null,
            "visibility": null,
            "align_self": null,
            "height": null,
            "min_height": null,
            "padding": null,
            "grid_auto_rows": null,
            "grid_gap": null,
            "max_width": null,
            "order": null,
            "_view_module_version": "1.2.0",
            "grid_template_areas": null,
            "object_position": null,
            "object_fit": null,
            "grid_auto_columns": null,
            "margin": null,
            "display": null,
            "left": null
          }
        },
        "f9f8f27755554eec829d6d101462e324": {
          "model_module": "@jupyter-widgets/controls",
          "model_name": "ProgressStyleModel",
          "model_module_version": "1.5.0",
          "state": {
            "_view_name": "StyleView",
            "_model_name": "ProgressStyleModel",
            "description_width": "",
            "_view_module": "@jupyter-widgets/base",
            "_model_module_version": "1.5.0",
            "_view_count": null,
            "_view_module_version": "1.2.0",
            "bar_color": null,
            "_model_module": "@jupyter-widgets/controls"
          }
        },
        "32f4f371164f4467bf3e5cc060892587": {
          "model_module": "@jupyter-widgets/base",
          "model_name": "LayoutModel",
          "model_module_version": "1.2.0",
          "state": {
            "_view_name": "LayoutView",
            "grid_template_rows": null,
            "right": null,
            "justify_content": null,
            "_view_module": "@jupyter-widgets/base",
            "overflow": null,
            "_model_module_version": "1.2.0",
            "_view_count": null,
            "flex_flow": null,
            "width": null,
            "min_width": null,
            "border": null,
            "align_items": null,
            "bottom": null,
            "_model_module": "@jupyter-widgets/base",
            "top": null,
            "grid_column": null,
            "overflow_y": null,
            "overflow_x": null,
            "grid_auto_flow": null,
            "grid_area": null,
            "grid_template_columns": null,
            "flex": null,
            "_model_name": "LayoutModel",
            "justify_items": null,
            "grid_row": null,
            "max_height": null,
            "align_content": null,
            "visibility": null,
            "align_self": null,
            "height": null,
            "min_height": null,
            "padding": null,
            "grid_auto_rows": null,
            "grid_gap": null,
            "max_width": null,
            "order": null,
            "_view_module_version": "1.2.0",
            "grid_template_areas": null,
            "object_position": null,
            "object_fit": null,
            "grid_auto_columns": null,
            "margin": null,
            "display": null,
            "left": null
          }
        },
        "b432167f81774e8aac37435ad6478409": {
          "model_module": "@jupyter-widgets/controls",
          "model_name": "DescriptionStyleModel",
          "model_module_version": "1.5.0",
          "state": {
            "_view_name": "StyleView",
            "_model_name": "DescriptionStyleModel",
            "description_width": "",
            "_view_module": "@jupyter-widgets/base",
            "_model_module_version": "1.5.0",
            "_view_count": null,
            "_view_module_version": "1.2.0",
            "_model_module": "@jupyter-widgets/controls"
          }
        },
        "dc191ab9bf494e21b8efaf4c0d7b9129": {
          "model_module": "@jupyter-widgets/base",
          "model_name": "LayoutModel",
          "model_module_version": "1.2.0",
          "state": {
            "_view_name": "LayoutView",
            "grid_template_rows": null,
            "right": null,
            "justify_content": null,
            "_view_module": "@jupyter-widgets/base",
            "overflow": null,
            "_model_module_version": "1.2.0",
            "_view_count": null,
            "flex_flow": null,
            "width": null,
            "min_width": null,
            "border": null,
            "align_items": null,
            "bottom": null,
            "_model_module": "@jupyter-widgets/base",
            "top": null,
            "grid_column": null,
            "overflow_y": null,
            "overflow_x": null,
            "grid_auto_flow": null,
            "grid_area": null,
            "grid_template_columns": null,
            "flex": null,
            "_model_name": "LayoutModel",
            "justify_items": null,
            "grid_row": null,
            "max_height": null,
            "align_content": null,
            "visibility": null,
            "align_self": null,
            "height": null,
            "min_height": null,
            "padding": null,
            "grid_auto_rows": null,
            "grid_gap": null,
            "max_width": null,
            "order": null,
            "_view_module_version": "1.2.0",
            "grid_template_areas": null,
            "object_position": null,
            "object_fit": null,
            "grid_auto_columns": null,
            "margin": null,
            "display": null,
            "left": null
          }
        },
        "418834ae1076458381c84f4e2d58f7c7": {
          "model_module": "@jupyter-widgets/controls",
          "model_name": "HBoxModel",
          "model_module_version": "1.5.0",
          "state": {
            "_view_name": "HBoxView",
            "_dom_classes": [],
            "_model_name": "HBoxModel",
            "_view_module": "@jupyter-widgets/controls",
            "_model_module_version": "1.5.0",
            "_view_count": null,
            "_view_module_version": "1.5.0",
            "box_style": "",
            "layout": "IPY_MODEL_6981e7b8cb7a408095375fdc14fdfdbe",
            "_model_module": "@jupyter-widgets/controls",
            "children": [
              "IPY_MODEL_d13444f5e1cc4dc583f3bfc41295b34c",
              "IPY_MODEL_e797f8f6704f415cb1c923b4bc0d39f2",
              "IPY_MODEL_10695551cf6943a2bb07598ed0f48f49"
            ]
          }
        },
        "6981e7b8cb7a408095375fdc14fdfdbe": {
          "model_module": "@jupyter-widgets/base",
          "model_name": "LayoutModel",
          "model_module_version": "1.2.0",
          "state": {
            "_view_name": "LayoutView",
            "grid_template_rows": null,
            "right": null,
            "justify_content": null,
            "_view_module": "@jupyter-widgets/base",
            "overflow": null,
            "_model_module_version": "1.2.0",
            "_view_count": null,
            "flex_flow": null,
            "width": null,
            "min_width": null,
            "border": null,
            "align_items": null,
            "bottom": null,
            "_model_module": "@jupyter-widgets/base",
            "top": null,
            "grid_column": null,
            "overflow_y": null,
            "overflow_x": null,
            "grid_auto_flow": null,
            "grid_area": null,
            "grid_template_columns": null,
            "flex": null,
            "_model_name": "LayoutModel",
            "justify_items": null,
            "grid_row": null,
            "max_height": null,
            "align_content": null,
            "visibility": null,
            "align_self": null,
            "height": null,
            "min_height": null,
            "padding": null,
            "grid_auto_rows": null,
            "grid_gap": null,
            "max_width": null,
            "order": null,
            "_view_module_version": "1.2.0",
            "grid_template_areas": null,
            "object_position": null,
            "object_fit": null,
            "grid_auto_columns": null,
            "margin": null,
            "display": null,
            "left": null
          }
        },
        "d13444f5e1cc4dc583f3bfc41295b34c": {
          "model_module": "@jupyter-widgets/controls",
          "model_name": "HTMLModel",
          "model_module_version": "1.5.0",
          "state": {
            "_view_name": "HTMLView",
            "style": "IPY_MODEL_44c1c602507244608727053fb2ca1f27",
            "_dom_classes": [],
            "description": "",
            "_model_name": "HTMLModel",
            "placeholder": "​",
            "_view_module": "@jupyter-widgets/controls",
            "_model_module_version": "1.5.0",
            "value": "PGD - Iterations:  98%",
            "_view_count": null,
            "_view_module_version": "1.5.0",
            "description_tooltip": null,
            "_model_module": "@jupyter-widgets/controls",
            "layout": "IPY_MODEL_9828d94303054eb39db0c776d3c9f37e"
          }
        },
        "e797f8f6704f415cb1c923b4bc0d39f2": {
          "model_module": "@jupyter-widgets/controls",
          "model_name": "FloatProgressModel",
          "model_module_version": "1.5.0",
          "state": {
            "_view_name": "ProgressView",
            "style": "IPY_MODEL_3bb04f94979a4a0dbfbcc42ed604ac6a",
            "_dom_classes": [],
            "description": "",
            "_model_name": "FloatProgressModel",
            "bar_style": "",
            "max": 100,
            "_view_module": "@jupyter-widgets/controls",
            "_model_module_version": "1.5.0",
            "value": 100,
            "_view_count": null,
            "_view_module_version": "1.5.0",
            "orientation": "horizontal",
            "min": 0,
            "description_tooltip": null,
            "_model_module": "@jupyter-widgets/controls",
            "layout": "IPY_MODEL_43b3c5a7387c4bdfaf6473dd1d169901"
          }
        },
        "10695551cf6943a2bb07598ed0f48f49": {
          "model_module": "@jupyter-widgets/controls",
          "model_name": "HTMLModel",
          "model_module_version": "1.5.0",
          "state": {
            "_view_name": "HTMLView",
            "style": "IPY_MODEL_4baecf8c72114ec1a6a97588c188f393",
            "_dom_classes": [],
            "description": "",
            "_model_name": "HTMLModel",
            "placeholder": "​",
            "_view_module": "@jupyter-widgets/controls",
            "_model_module_version": "1.5.0",
            "value": " 98/100 [00:02&lt;00:00, 46.77it/s]",
            "_view_count": null,
            "_view_module_version": "1.5.0",
            "description_tooltip": null,
            "_model_module": "@jupyter-widgets/controls",
            "layout": "IPY_MODEL_7901dd87ec2d45ff81bc63062f0a51a8"
          }
        },
        "44c1c602507244608727053fb2ca1f27": {
          "model_module": "@jupyter-widgets/controls",
          "model_name": "DescriptionStyleModel",
          "model_module_version": "1.5.0",
          "state": {
            "_view_name": "StyleView",
            "_model_name": "DescriptionStyleModel",
            "description_width": "",
            "_view_module": "@jupyter-widgets/base",
            "_model_module_version": "1.5.0",
            "_view_count": null,
            "_view_module_version": "1.2.0",
            "_model_module": "@jupyter-widgets/controls"
          }
        },
        "9828d94303054eb39db0c776d3c9f37e": {
          "model_module": "@jupyter-widgets/base",
          "model_name": "LayoutModel",
          "model_module_version": "1.2.0",
          "state": {
            "_view_name": "LayoutView",
            "grid_template_rows": null,
            "right": null,
            "justify_content": null,
            "_view_module": "@jupyter-widgets/base",
            "overflow": null,
            "_model_module_version": "1.2.0",
            "_view_count": null,
            "flex_flow": null,
            "width": null,
            "min_width": null,
            "border": null,
            "align_items": null,
            "bottom": null,
            "_model_module": "@jupyter-widgets/base",
            "top": null,
            "grid_column": null,
            "overflow_y": null,
            "overflow_x": null,
            "grid_auto_flow": null,
            "grid_area": null,
            "grid_template_columns": null,
            "flex": null,
            "_model_name": "LayoutModel",
            "justify_items": null,
            "grid_row": null,
            "max_height": null,
            "align_content": null,
            "visibility": null,
            "align_self": null,
            "height": null,
            "min_height": null,
            "padding": null,
            "grid_auto_rows": null,
            "grid_gap": null,
            "max_width": null,
            "order": null,
            "_view_module_version": "1.2.0",
            "grid_template_areas": null,
            "object_position": null,
            "object_fit": null,
            "grid_auto_columns": null,
            "margin": null,
            "display": null,
            "left": null
          }
        },
        "3bb04f94979a4a0dbfbcc42ed604ac6a": {
          "model_module": "@jupyter-widgets/controls",
          "model_name": "ProgressStyleModel",
          "model_module_version": "1.5.0",
          "state": {
            "_view_name": "StyleView",
            "_model_name": "ProgressStyleModel",
            "description_width": "",
            "_view_module": "@jupyter-widgets/base",
            "_model_module_version": "1.5.0",
            "_view_count": null,
            "_view_module_version": "1.2.0",
            "bar_color": null,
            "_model_module": "@jupyter-widgets/controls"
          }
        },
        "43b3c5a7387c4bdfaf6473dd1d169901": {
          "model_module": "@jupyter-widgets/base",
          "model_name": "LayoutModel",
          "model_module_version": "1.2.0",
          "state": {
            "_view_name": "LayoutView",
            "grid_template_rows": null,
            "right": null,
            "justify_content": null,
            "_view_module": "@jupyter-widgets/base",
            "overflow": null,
            "_model_module_version": "1.2.0",
            "_view_count": null,
            "flex_flow": null,
            "width": null,
            "min_width": null,
            "border": null,
            "align_items": null,
            "bottom": null,
            "_model_module": "@jupyter-widgets/base",
            "top": null,
            "grid_column": null,
            "overflow_y": null,
            "overflow_x": null,
            "grid_auto_flow": null,
            "grid_area": null,
            "grid_template_columns": null,
            "flex": null,
            "_model_name": "LayoutModel",
            "justify_items": null,
            "grid_row": null,
            "max_height": null,
            "align_content": null,
            "visibility": null,
            "align_self": null,
            "height": null,
            "min_height": null,
            "padding": null,
            "grid_auto_rows": null,
            "grid_gap": null,
            "max_width": null,
            "order": null,
            "_view_module_version": "1.2.0",
            "grid_template_areas": null,
            "object_position": null,
            "object_fit": null,
            "grid_auto_columns": null,
            "margin": null,
            "display": null,
            "left": null
          }
        },
        "4baecf8c72114ec1a6a97588c188f393": {
          "model_module": "@jupyter-widgets/controls",
          "model_name": "DescriptionStyleModel",
          "model_module_version": "1.5.0",
          "state": {
            "_view_name": "StyleView",
            "_model_name": "DescriptionStyleModel",
            "description_width": "",
            "_view_module": "@jupyter-widgets/base",
            "_model_module_version": "1.5.0",
            "_view_count": null,
            "_view_module_version": "1.2.0",
            "_model_module": "@jupyter-widgets/controls"
          }
        },
        "7901dd87ec2d45ff81bc63062f0a51a8": {
          "model_module": "@jupyter-widgets/base",
          "model_name": "LayoutModel",
          "model_module_version": "1.2.0",
          "state": {
            "_view_name": "LayoutView",
            "grid_template_rows": null,
            "right": null,
            "justify_content": null,
            "_view_module": "@jupyter-widgets/base",
            "overflow": null,
            "_model_module_version": "1.2.0",
            "_view_count": null,
            "flex_flow": null,
            "width": null,
            "min_width": null,
            "border": null,
            "align_items": null,
            "bottom": null,
            "_model_module": "@jupyter-widgets/base",
            "top": null,
            "grid_column": null,
            "overflow_y": null,
            "overflow_x": null,
            "grid_auto_flow": null,
            "grid_area": null,
            "grid_template_columns": null,
            "flex": null,
            "_model_name": "LayoutModel",
            "justify_items": null,
            "grid_row": null,
            "max_height": null,
            "align_content": null,
            "visibility": null,
            "align_self": null,
            "height": null,
            "min_height": null,
            "padding": null,
            "grid_auto_rows": null,
            "grid_gap": null,
            "max_width": null,
            "order": null,
            "_view_module_version": "1.2.0",
            "grid_template_areas": null,
            "object_position": null,
            "object_fit": null,
            "grid_auto_columns": null,
            "margin": null,
            "display": null,
            "left": null
          }
        },
        "91d99785d910419c8d9933bc954e7375": {
          "model_module": "@jupyter-widgets/controls",
          "model_name": "HBoxModel",
          "model_module_version": "1.5.0",
          "state": {
            "_view_name": "HBoxView",
            "_dom_classes": [],
            "_model_name": "HBoxModel",
            "_view_module": "@jupyter-widgets/controls",
            "_model_module_version": "1.5.0",
            "_view_count": null,
            "_view_module_version": "1.5.0",
            "box_style": "",
            "layout": "IPY_MODEL_9e102b1e2fc8457898d9e7cff0493ade",
            "_model_module": "@jupyter-widgets/controls",
            "children": [
              "IPY_MODEL_968ebf79bef04718b7038000ee2db2a9",
              "IPY_MODEL_e342e78be5f6438cb8359967517d7582",
              "IPY_MODEL_20efc00961034f57a256cdf28a48de2a"
            ]
          }
        },
        "9e102b1e2fc8457898d9e7cff0493ade": {
          "model_module": "@jupyter-widgets/base",
          "model_name": "LayoutModel",
          "model_module_version": "1.2.0",
          "state": {
            "_view_name": "LayoutView",
            "grid_template_rows": null,
            "right": null,
            "justify_content": null,
            "_view_module": "@jupyter-widgets/base",
            "overflow": null,
            "_model_module_version": "1.2.0",
            "_view_count": null,
            "flex_flow": null,
            "width": null,
            "min_width": null,
            "border": null,
            "align_items": null,
            "bottom": null,
            "_model_module": "@jupyter-widgets/base",
            "top": null,
            "grid_column": null,
            "overflow_y": null,
            "overflow_x": null,
            "grid_auto_flow": null,
            "grid_area": null,
            "grid_template_columns": null,
            "flex": null,
            "_model_name": "LayoutModel",
            "justify_items": null,
            "grid_row": null,
            "max_height": null,
            "align_content": null,
            "visibility": null,
            "align_self": null,
            "height": null,
            "min_height": null,
            "padding": null,
            "grid_auto_rows": null,
            "grid_gap": null,
            "max_width": null,
            "order": null,
            "_view_module_version": "1.2.0",
            "grid_template_areas": null,
            "object_position": null,
            "object_fit": null,
            "grid_auto_columns": null,
            "margin": null,
            "display": null,
            "left": null
          }
        },
        "968ebf79bef04718b7038000ee2db2a9": {
          "model_module": "@jupyter-widgets/controls",
          "model_name": "HTMLModel",
          "model_module_version": "1.5.0",
          "state": {
            "_view_name": "HTMLView",
            "style": "IPY_MODEL_55f91ca8aba54b459ba84f0845e6aff1",
            "_dom_classes": [],
            "description": "",
            "_model_name": "HTMLModel",
            "placeholder": "​",
            "_view_module": "@jupyter-widgets/controls",
            "_model_module_version": "1.5.0",
            "value": "PGD - Random Initializations: 100%",
            "_view_count": null,
            "_view_module_version": "1.5.0",
            "description_tooltip": null,
            "_model_module": "@jupyter-widgets/controls",
            "layout": "IPY_MODEL_a11a3af6fae54997a2f4d6e161a2ccb7"
          }
        },
        "e342e78be5f6438cb8359967517d7582": {
          "model_module": "@jupyter-widgets/controls",
          "model_name": "FloatProgressModel",
          "model_module_version": "1.5.0",
          "state": {
            "_view_name": "ProgressView",
            "style": "IPY_MODEL_55c0b5dde7754604a08a93c5bba00a24",
            "_dom_classes": [],
            "description": "",
            "_model_name": "FloatProgressModel",
            "bar_style": "success",
            "max": 1,
            "_view_module": "@jupyter-widgets/controls",
            "_model_module_version": "1.5.0",
            "value": 1,
            "_view_count": null,
            "_view_module_version": "1.5.0",
            "orientation": "horizontal",
            "min": 0,
            "description_tooltip": null,
            "_model_module": "@jupyter-widgets/controls",
            "layout": "IPY_MODEL_9a878ce01208406492984ef3d086558e"
          }
        },
        "20efc00961034f57a256cdf28a48de2a": {
          "model_module": "@jupyter-widgets/controls",
          "model_name": "HTMLModel",
          "model_module_version": "1.5.0",
          "state": {
            "_view_name": "HTMLView",
            "style": "IPY_MODEL_ab8cce39fe824224a92bae857604c8f0",
            "_dom_classes": [],
            "description": "",
            "_model_name": "HTMLModel",
            "placeholder": "​",
            "_view_module": "@jupyter-widgets/controls",
            "_model_module_version": "1.5.0",
            "value": " 1/1 [00:02&lt;00:00,  2.21s/it]",
            "_view_count": null,
            "_view_module_version": "1.5.0",
            "description_tooltip": null,
            "_model_module": "@jupyter-widgets/controls",
            "layout": "IPY_MODEL_bedfe8672ac747fcb30a17b0a228a000"
          }
        },
        "55f91ca8aba54b459ba84f0845e6aff1": {
          "model_module": "@jupyter-widgets/controls",
          "model_name": "DescriptionStyleModel",
          "model_module_version": "1.5.0",
          "state": {
            "_view_name": "StyleView",
            "_model_name": "DescriptionStyleModel",
            "description_width": "",
            "_view_module": "@jupyter-widgets/base",
            "_model_module_version": "1.5.0",
            "_view_count": null,
            "_view_module_version": "1.2.0",
            "_model_module": "@jupyter-widgets/controls"
          }
        },
        "a11a3af6fae54997a2f4d6e161a2ccb7": {
          "model_module": "@jupyter-widgets/base",
          "model_name": "LayoutModel",
          "model_module_version": "1.2.0",
          "state": {
            "_view_name": "LayoutView",
            "grid_template_rows": null,
            "right": null,
            "justify_content": null,
            "_view_module": "@jupyter-widgets/base",
            "overflow": null,
            "_model_module_version": "1.2.0",
            "_view_count": null,
            "flex_flow": null,
            "width": null,
            "min_width": null,
            "border": null,
            "align_items": null,
            "bottom": null,
            "_model_module": "@jupyter-widgets/base",
            "top": null,
            "grid_column": null,
            "overflow_y": null,
            "overflow_x": null,
            "grid_auto_flow": null,
            "grid_area": null,
            "grid_template_columns": null,
            "flex": null,
            "_model_name": "LayoutModel",
            "justify_items": null,
            "grid_row": null,
            "max_height": null,
            "align_content": null,
            "visibility": null,
            "align_self": null,
            "height": null,
            "min_height": null,
            "padding": null,
            "grid_auto_rows": null,
            "grid_gap": null,
            "max_width": null,
            "order": null,
            "_view_module_version": "1.2.0",
            "grid_template_areas": null,
            "object_position": null,
            "object_fit": null,
            "grid_auto_columns": null,
            "margin": null,
            "display": null,
            "left": null
          }
        },
        "55c0b5dde7754604a08a93c5bba00a24": {
          "model_module": "@jupyter-widgets/controls",
          "model_name": "ProgressStyleModel",
          "model_module_version": "1.5.0",
          "state": {
            "_view_name": "StyleView",
            "_model_name": "ProgressStyleModel",
            "description_width": "",
            "_view_module": "@jupyter-widgets/base",
            "_model_module_version": "1.5.0",
            "_view_count": null,
            "_view_module_version": "1.2.0",
            "bar_color": null,
            "_model_module": "@jupyter-widgets/controls"
          }
        },
        "9a878ce01208406492984ef3d086558e": {
          "model_module": "@jupyter-widgets/base",
          "model_name": "LayoutModel",
          "model_module_version": "1.2.0",
          "state": {
            "_view_name": "LayoutView",
            "grid_template_rows": null,
            "right": null,
            "justify_content": null,
            "_view_module": "@jupyter-widgets/base",
            "overflow": null,
            "_model_module_version": "1.2.0",
            "_view_count": null,
            "flex_flow": null,
            "width": null,
            "min_width": null,
            "border": null,
            "align_items": null,
            "bottom": null,
            "_model_module": "@jupyter-widgets/base",
            "top": null,
            "grid_column": null,
            "overflow_y": null,
            "overflow_x": null,
            "grid_auto_flow": null,
            "grid_area": null,
            "grid_template_columns": null,
            "flex": null,
            "_model_name": "LayoutModel",
            "justify_items": null,
            "grid_row": null,
            "max_height": null,
            "align_content": null,
            "visibility": null,
            "align_self": null,
            "height": null,
            "min_height": null,
            "padding": null,
            "grid_auto_rows": null,
            "grid_gap": null,
            "max_width": null,
            "order": null,
            "_view_module_version": "1.2.0",
            "grid_template_areas": null,
            "object_position": null,
            "object_fit": null,
            "grid_auto_columns": null,
            "margin": null,
            "display": null,
            "left": null
          }
        },
        "ab8cce39fe824224a92bae857604c8f0": {
          "model_module": "@jupyter-widgets/controls",
          "model_name": "DescriptionStyleModel",
          "model_module_version": "1.5.0",
          "state": {
            "_view_name": "StyleView",
            "_model_name": "DescriptionStyleModel",
            "description_width": "",
            "_view_module": "@jupyter-widgets/base",
            "_model_module_version": "1.5.0",
            "_view_count": null,
            "_view_module_version": "1.2.0",
            "_model_module": "@jupyter-widgets/controls"
          }
        },
        "bedfe8672ac747fcb30a17b0a228a000": {
          "model_module": "@jupyter-widgets/base",
          "model_name": "LayoutModel",
          "model_module_version": "1.2.0",
          "state": {
            "_view_name": "LayoutView",
            "grid_template_rows": null,
            "right": null,
            "justify_content": null,
            "_view_module": "@jupyter-widgets/base",
            "overflow": null,
            "_model_module_version": "1.2.0",
            "_view_count": null,
            "flex_flow": null,
            "width": null,
            "min_width": null,
            "border": null,
            "align_items": null,
            "bottom": null,
            "_model_module": "@jupyter-widgets/base",
            "top": null,
            "grid_column": null,
            "overflow_y": null,
            "overflow_x": null,
            "grid_auto_flow": null,
            "grid_area": null,
            "grid_template_columns": null,
            "flex": null,
            "_model_name": "LayoutModel",
            "justify_items": null,
            "grid_row": null,
            "max_height": null,
            "align_content": null,
            "visibility": null,
            "align_self": null,
            "height": null,
            "min_height": null,
            "padding": null,
            "grid_auto_rows": null,
            "grid_gap": null,
            "max_width": null,
            "order": null,
            "_view_module_version": "1.2.0",
            "grid_template_areas": null,
            "object_position": null,
            "object_fit": null,
            "grid_auto_columns": null,
            "margin": null,
            "display": null,
            "left": null
          }
        },
        "d1d0e5310ae84a228ec217dbfb914bb1": {
          "model_module": "@jupyter-widgets/controls",
          "model_name": "HBoxModel",
          "model_module_version": "1.5.0",
          "state": {
            "_view_name": "HBoxView",
            "_dom_classes": [],
            "_model_name": "HBoxModel",
            "_view_module": "@jupyter-widgets/controls",
            "_model_module_version": "1.5.0",
            "_view_count": null,
            "_view_module_version": "1.5.0",
            "box_style": "",
            "layout": "IPY_MODEL_2c473838628848419e7e49e5a5cc402e",
            "_model_module": "@jupyter-widgets/controls",
            "children": [
              "IPY_MODEL_9d51ee007de341f6ae41899fc0c06e9f",
              "IPY_MODEL_4905340a25b44259bf29c18669e50ede",
              "IPY_MODEL_87b35d032b024b5789db849359918ec8"
            ]
          }
        },
        "2c473838628848419e7e49e5a5cc402e": {
          "model_module": "@jupyter-widgets/base",
          "model_name": "LayoutModel",
          "model_module_version": "1.2.0",
          "state": {
            "_view_name": "LayoutView",
            "grid_template_rows": null,
            "right": null,
            "justify_content": null,
            "_view_module": "@jupyter-widgets/base",
            "overflow": null,
            "_model_module_version": "1.2.0",
            "_view_count": null,
            "flex_flow": null,
            "width": null,
            "min_width": null,
            "border": null,
            "align_items": null,
            "bottom": null,
            "_model_module": "@jupyter-widgets/base",
            "top": null,
            "grid_column": null,
            "overflow_y": null,
            "overflow_x": null,
            "grid_auto_flow": null,
            "grid_area": null,
            "grid_template_columns": null,
            "flex": null,
            "_model_name": "LayoutModel",
            "justify_items": null,
            "grid_row": null,
            "max_height": null,
            "align_content": null,
            "visibility": null,
            "align_self": null,
            "height": null,
            "min_height": null,
            "padding": null,
            "grid_auto_rows": null,
            "grid_gap": null,
            "max_width": null,
            "order": null,
            "_view_module_version": "1.2.0",
            "grid_template_areas": null,
            "object_position": null,
            "object_fit": null,
            "grid_auto_columns": null,
            "margin": null,
            "display": null,
            "left": null
          }
        },
        "9d51ee007de341f6ae41899fc0c06e9f": {
          "model_module": "@jupyter-widgets/controls",
          "model_name": "HTMLModel",
          "model_module_version": "1.5.0",
          "state": {
            "_view_name": "HTMLView",
            "style": "IPY_MODEL_4539d235959740349a14ea43c4eba831",
            "_dom_classes": [],
            "description": "",
            "_model_name": "HTMLModel",
            "placeholder": "​",
            "_view_module": "@jupyter-widgets/controls",
            "_model_module_version": "1.5.0",
            "value": "PGD - Iterations:  97%",
            "_view_count": null,
            "_view_module_version": "1.5.0",
            "description_tooltip": null,
            "_model_module": "@jupyter-widgets/controls",
            "layout": "IPY_MODEL_8e3152406572440084b59ce9c8ed539e"
          }
        },
        "4905340a25b44259bf29c18669e50ede": {
          "model_module": "@jupyter-widgets/controls",
          "model_name": "FloatProgressModel",
          "model_module_version": "1.5.0",
          "state": {
            "_view_name": "ProgressView",
            "style": "IPY_MODEL_6a42d75a56ae4d8cbd08238ec53beda5",
            "_dom_classes": [],
            "description": "",
            "_model_name": "FloatProgressModel",
            "bar_style": "",
            "max": 100,
            "_view_module": "@jupyter-widgets/controls",
            "_model_module_version": "1.5.0",
            "value": 100,
            "_view_count": null,
            "_view_module_version": "1.5.0",
            "orientation": "horizontal",
            "min": 0,
            "description_tooltip": null,
            "_model_module": "@jupyter-widgets/controls",
            "layout": "IPY_MODEL_96c054210c8e4eb69b7dc6d0a6648e7e"
          }
        },
        "87b35d032b024b5789db849359918ec8": {
          "model_module": "@jupyter-widgets/controls",
          "model_name": "HTMLModel",
          "model_module_version": "1.5.0",
          "state": {
            "_view_name": "HTMLView",
            "style": "IPY_MODEL_4253f61c6acf44c7803e88db8b07a447",
            "_dom_classes": [],
            "description": "",
            "_model_name": "HTMLModel",
            "placeholder": "​",
            "_view_module": "@jupyter-widgets/controls",
            "_model_module_version": "1.5.0",
            "value": " 97/100 [00:02&lt;00:00, 47.41it/s]",
            "_view_count": null,
            "_view_module_version": "1.5.0",
            "description_tooltip": null,
            "_model_module": "@jupyter-widgets/controls",
            "layout": "IPY_MODEL_65480f1be99d4fc1aa938af0db9d68b9"
          }
        },
        "4539d235959740349a14ea43c4eba831": {
          "model_module": "@jupyter-widgets/controls",
          "model_name": "DescriptionStyleModel",
          "model_module_version": "1.5.0",
          "state": {
            "_view_name": "StyleView",
            "_model_name": "DescriptionStyleModel",
            "description_width": "",
            "_view_module": "@jupyter-widgets/base",
            "_model_module_version": "1.5.0",
            "_view_count": null,
            "_view_module_version": "1.2.0",
            "_model_module": "@jupyter-widgets/controls"
          }
        },
        "8e3152406572440084b59ce9c8ed539e": {
          "model_module": "@jupyter-widgets/base",
          "model_name": "LayoutModel",
          "model_module_version": "1.2.0",
          "state": {
            "_view_name": "LayoutView",
            "grid_template_rows": null,
            "right": null,
            "justify_content": null,
            "_view_module": "@jupyter-widgets/base",
            "overflow": null,
            "_model_module_version": "1.2.0",
            "_view_count": null,
            "flex_flow": null,
            "width": null,
            "min_width": null,
            "border": null,
            "align_items": null,
            "bottom": null,
            "_model_module": "@jupyter-widgets/base",
            "top": null,
            "grid_column": null,
            "overflow_y": null,
            "overflow_x": null,
            "grid_auto_flow": null,
            "grid_area": null,
            "grid_template_columns": null,
            "flex": null,
            "_model_name": "LayoutModel",
            "justify_items": null,
            "grid_row": null,
            "max_height": null,
            "align_content": null,
            "visibility": null,
            "align_self": null,
            "height": null,
            "min_height": null,
            "padding": null,
            "grid_auto_rows": null,
            "grid_gap": null,
            "max_width": null,
            "order": null,
            "_view_module_version": "1.2.0",
            "grid_template_areas": null,
            "object_position": null,
            "object_fit": null,
            "grid_auto_columns": null,
            "margin": null,
            "display": null,
            "left": null
          }
        },
        "6a42d75a56ae4d8cbd08238ec53beda5": {
          "model_module": "@jupyter-widgets/controls",
          "model_name": "ProgressStyleModel",
          "model_module_version": "1.5.0",
          "state": {
            "_view_name": "StyleView",
            "_model_name": "ProgressStyleModel",
            "description_width": "",
            "_view_module": "@jupyter-widgets/base",
            "_model_module_version": "1.5.0",
            "_view_count": null,
            "_view_module_version": "1.2.0",
            "bar_color": null,
            "_model_module": "@jupyter-widgets/controls"
          }
        },
        "96c054210c8e4eb69b7dc6d0a6648e7e": {
          "model_module": "@jupyter-widgets/base",
          "model_name": "LayoutModel",
          "model_module_version": "1.2.0",
          "state": {
            "_view_name": "LayoutView",
            "grid_template_rows": null,
            "right": null,
            "justify_content": null,
            "_view_module": "@jupyter-widgets/base",
            "overflow": null,
            "_model_module_version": "1.2.0",
            "_view_count": null,
            "flex_flow": null,
            "width": null,
            "min_width": null,
            "border": null,
            "align_items": null,
            "bottom": null,
            "_model_module": "@jupyter-widgets/base",
            "top": null,
            "grid_column": null,
            "overflow_y": null,
            "overflow_x": null,
            "grid_auto_flow": null,
            "grid_area": null,
            "grid_template_columns": null,
            "flex": null,
            "_model_name": "LayoutModel",
            "justify_items": null,
            "grid_row": null,
            "max_height": null,
            "align_content": null,
            "visibility": null,
            "align_self": null,
            "height": null,
            "min_height": null,
            "padding": null,
            "grid_auto_rows": null,
            "grid_gap": null,
            "max_width": null,
            "order": null,
            "_view_module_version": "1.2.0",
            "grid_template_areas": null,
            "object_position": null,
            "object_fit": null,
            "grid_auto_columns": null,
            "margin": null,
            "display": null,
            "left": null
          }
        },
        "4253f61c6acf44c7803e88db8b07a447": {
          "model_module": "@jupyter-widgets/controls",
          "model_name": "DescriptionStyleModel",
          "model_module_version": "1.5.0",
          "state": {
            "_view_name": "StyleView",
            "_model_name": "DescriptionStyleModel",
            "description_width": "",
            "_view_module": "@jupyter-widgets/base",
            "_model_module_version": "1.5.0",
            "_view_count": null,
            "_view_module_version": "1.2.0",
            "_model_module": "@jupyter-widgets/controls"
          }
        },
        "65480f1be99d4fc1aa938af0db9d68b9": {
          "model_module": "@jupyter-widgets/base",
          "model_name": "LayoutModel",
          "model_module_version": "1.2.0",
          "state": {
            "_view_name": "LayoutView",
            "grid_template_rows": null,
            "right": null,
            "justify_content": null,
            "_view_module": "@jupyter-widgets/base",
            "overflow": null,
            "_model_module_version": "1.2.0",
            "_view_count": null,
            "flex_flow": null,
            "width": null,
            "min_width": null,
            "border": null,
            "align_items": null,
            "bottom": null,
            "_model_module": "@jupyter-widgets/base",
            "top": null,
            "grid_column": null,
            "overflow_y": null,
            "overflow_x": null,
            "grid_auto_flow": null,
            "grid_area": null,
            "grid_template_columns": null,
            "flex": null,
            "_model_name": "LayoutModel",
            "justify_items": null,
            "grid_row": null,
            "max_height": null,
            "align_content": null,
            "visibility": null,
            "align_self": null,
            "height": null,
            "min_height": null,
            "padding": null,
            "grid_auto_rows": null,
            "grid_gap": null,
            "max_width": null,
            "order": null,
            "_view_module_version": "1.2.0",
            "grid_template_areas": null,
            "object_position": null,
            "object_fit": null,
            "grid_auto_columns": null,
            "margin": null,
            "display": null,
            "left": null
          }
        },
        "0199bb681c414dadacbafd4fcbce3308": {
          "model_module": "@jupyter-widgets/controls",
          "model_name": "HBoxModel",
          "model_module_version": "1.5.0",
          "state": {
            "_view_name": "HBoxView",
            "_dom_classes": [],
            "_model_name": "HBoxModel",
            "_view_module": "@jupyter-widgets/controls",
            "_model_module_version": "1.5.0",
            "_view_count": null,
            "_view_module_version": "1.5.0",
            "box_style": "",
            "layout": "IPY_MODEL_7eb5c34118924d49aa190e7ea7307853",
            "_model_module": "@jupyter-widgets/controls",
            "children": [
              "IPY_MODEL_fd3c2101fe774b1fa29acb2a48ad228d",
              "IPY_MODEL_36d3cfcb43334e51a32dd47c4a9993fe",
              "IPY_MODEL_3481db5e23994c91a1df0ff50ef1d101"
            ]
          }
        },
        "7eb5c34118924d49aa190e7ea7307853": {
          "model_module": "@jupyter-widgets/base",
          "model_name": "LayoutModel",
          "model_module_version": "1.2.0",
          "state": {
            "_view_name": "LayoutView",
            "grid_template_rows": null,
            "right": null,
            "justify_content": null,
            "_view_module": "@jupyter-widgets/base",
            "overflow": null,
            "_model_module_version": "1.2.0",
            "_view_count": null,
            "flex_flow": null,
            "width": null,
            "min_width": null,
            "border": null,
            "align_items": null,
            "bottom": null,
            "_model_module": "@jupyter-widgets/base",
            "top": null,
            "grid_column": null,
            "overflow_y": null,
            "overflow_x": null,
            "grid_auto_flow": null,
            "grid_area": null,
            "grid_template_columns": null,
            "flex": null,
            "_model_name": "LayoutModel",
            "justify_items": null,
            "grid_row": null,
            "max_height": null,
            "align_content": null,
            "visibility": null,
            "align_self": null,
            "height": null,
            "min_height": null,
            "padding": null,
            "grid_auto_rows": null,
            "grid_gap": null,
            "max_width": null,
            "order": null,
            "_view_module_version": "1.2.0",
            "grid_template_areas": null,
            "object_position": null,
            "object_fit": null,
            "grid_auto_columns": null,
            "margin": null,
            "display": null,
            "left": null
          }
        },
        "fd3c2101fe774b1fa29acb2a48ad228d": {
          "model_module": "@jupyter-widgets/controls",
          "model_name": "HTMLModel",
          "model_module_version": "1.5.0",
          "state": {
            "_view_name": "HTMLView",
            "style": "IPY_MODEL_72c3c7100e4142b89ba7f453dce08f78",
            "_dom_classes": [],
            "description": "",
            "_model_name": "HTMLModel",
            "placeholder": "​",
            "_view_module": "@jupyter-widgets/controls",
            "_model_module_version": "1.5.0",
            "value": "PGD - Random Initializations: 100%",
            "_view_count": null,
            "_view_module_version": "1.5.0",
            "description_tooltip": null,
            "_model_module": "@jupyter-widgets/controls",
            "layout": "IPY_MODEL_e45cdc58b4374c178601ee508546847c"
          }
        },
        "36d3cfcb43334e51a32dd47c4a9993fe": {
          "model_module": "@jupyter-widgets/controls",
          "model_name": "FloatProgressModel",
          "model_module_version": "1.5.0",
          "state": {
            "_view_name": "ProgressView",
            "style": "IPY_MODEL_7cc3d17ad710460695415f5176b06eca",
            "_dom_classes": [],
            "description": "",
            "_model_name": "FloatProgressModel",
            "bar_style": "success",
            "max": 1,
            "_view_module": "@jupyter-widgets/controls",
            "_model_module_version": "1.5.0",
            "value": 1,
            "_view_count": null,
            "_view_module_version": "1.5.0",
            "orientation": "horizontal",
            "min": 0,
            "description_tooltip": null,
            "_model_module": "@jupyter-widgets/controls",
            "layout": "IPY_MODEL_0641344ade3e47668ff1b42295eff08a"
          }
        },
        "3481db5e23994c91a1df0ff50ef1d101": {
          "model_module": "@jupyter-widgets/controls",
          "model_name": "HTMLModel",
          "model_module_version": "1.5.0",
          "state": {
            "_view_name": "HTMLView",
            "style": "IPY_MODEL_3720e3829f85489ab75d3132188099ab",
            "_dom_classes": [],
            "description": "",
            "_model_name": "HTMLModel",
            "placeholder": "​",
            "_view_module": "@jupyter-widgets/controls",
            "_model_module_version": "1.5.0",
            "value": " 1/1 [00:02&lt;00:00,  2.20s/it]",
            "_view_count": null,
            "_view_module_version": "1.5.0",
            "description_tooltip": null,
            "_model_module": "@jupyter-widgets/controls",
            "layout": "IPY_MODEL_fee794e1108a4719bc4ad4cb2d68cc00"
          }
        },
        "72c3c7100e4142b89ba7f453dce08f78": {
          "model_module": "@jupyter-widgets/controls",
          "model_name": "DescriptionStyleModel",
          "model_module_version": "1.5.0",
          "state": {
            "_view_name": "StyleView",
            "_model_name": "DescriptionStyleModel",
            "description_width": "",
            "_view_module": "@jupyter-widgets/base",
            "_model_module_version": "1.5.0",
            "_view_count": null,
            "_view_module_version": "1.2.0",
            "_model_module": "@jupyter-widgets/controls"
          }
        },
        "e45cdc58b4374c178601ee508546847c": {
          "model_module": "@jupyter-widgets/base",
          "model_name": "LayoutModel",
          "model_module_version": "1.2.0",
          "state": {
            "_view_name": "LayoutView",
            "grid_template_rows": null,
            "right": null,
            "justify_content": null,
            "_view_module": "@jupyter-widgets/base",
            "overflow": null,
            "_model_module_version": "1.2.0",
            "_view_count": null,
            "flex_flow": null,
            "width": null,
            "min_width": null,
            "border": null,
            "align_items": null,
            "bottom": null,
            "_model_module": "@jupyter-widgets/base",
            "top": null,
            "grid_column": null,
            "overflow_y": null,
            "overflow_x": null,
            "grid_auto_flow": null,
            "grid_area": null,
            "grid_template_columns": null,
            "flex": null,
            "_model_name": "LayoutModel",
            "justify_items": null,
            "grid_row": null,
            "max_height": null,
            "align_content": null,
            "visibility": null,
            "align_self": null,
            "height": null,
            "min_height": null,
            "padding": null,
            "grid_auto_rows": null,
            "grid_gap": null,
            "max_width": null,
            "order": null,
            "_view_module_version": "1.2.0",
            "grid_template_areas": null,
            "object_position": null,
            "object_fit": null,
            "grid_auto_columns": null,
            "margin": null,
            "display": null,
            "left": null
          }
        },
        "7cc3d17ad710460695415f5176b06eca": {
          "model_module": "@jupyter-widgets/controls",
          "model_name": "ProgressStyleModel",
          "model_module_version": "1.5.0",
          "state": {
            "_view_name": "StyleView",
            "_model_name": "ProgressStyleModel",
            "description_width": "",
            "_view_module": "@jupyter-widgets/base",
            "_model_module_version": "1.5.0",
            "_view_count": null,
            "_view_module_version": "1.2.0",
            "bar_color": null,
            "_model_module": "@jupyter-widgets/controls"
          }
        },
        "0641344ade3e47668ff1b42295eff08a": {
          "model_module": "@jupyter-widgets/base",
          "model_name": "LayoutModel",
          "model_module_version": "1.2.0",
          "state": {
            "_view_name": "LayoutView",
            "grid_template_rows": null,
            "right": null,
            "justify_content": null,
            "_view_module": "@jupyter-widgets/base",
            "overflow": null,
            "_model_module_version": "1.2.0",
            "_view_count": null,
            "flex_flow": null,
            "width": null,
            "min_width": null,
            "border": null,
            "align_items": null,
            "bottom": null,
            "_model_module": "@jupyter-widgets/base",
            "top": null,
            "grid_column": null,
            "overflow_y": null,
            "overflow_x": null,
            "grid_auto_flow": null,
            "grid_area": null,
            "grid_template_columns": null,
            "flex": null,
            "_model_name": "LayoutModel",
            "justify_items": null,
            "grid_row": null,
            "max_height": null,
            "align_content": null,
            "visibility": null,
            "align_self": null,
            "height": null,
            "min_height": null,
            "padding": null,
            "grid_auto_rows": null,
            "grid_gap": null,
            "max_width": null,
            "order": null,
            "_view_module_version": "1.2.0",
            "grid_template_areas": null,
            "object_position": null,
            "object_fit": null,
            "grid_auto_columns": null,
            "margin": null,
            "display": null,
            "left": null
          }
        },
        "3720e3829f85489ab75d3132188099ab": {
          "model_module": "@jupyter-widgets/controls",
          "model_name": "DescriptionStyleModel",
          "model_module_version": "1.5.0",
          "state": {
            "_view_name": "StyleView",
            "_model_name": "DescriptionStyleModel",
            "description_width": "",
            "_view_module": "@jupyter-widgets/base",
            "_model_module_version": "1.5.0",
            "_view_count": null,
            "_view_module_version": "1.2.0",
            "_model_module": "@jupyter-widgets/controls"
          }
        },
        "fee794e1108a4719bc4ad4cb2d68cc00": {
          "model_module": "@jupyter-widgets/base",
          "model_name": "LayoutModel",
          "model_module_version": "1.2.0",
          "state": {
            "_view_name": "LayoutView",
            "grid_template_rows": null,
            "right": null,
            "justify_content": null,
            "_view_module": "@jupyter-widgets/base",
            "overflow": null,
            "_model_module_version": "1.2.0",
            "_view_count": null,
            "flex_flow": null,
            "width": null,
            "min_width": null,
            "border": null,
            "align_items": null,
            "bottom": null,
            "_model_module": "@jupyter-widgets/base",
            "top": null,
            "grid_column": null,
            "overflow_y": null,
            "overflow_x": null,
            "grid_auto_flow": null,
            "grid_area": null,
            "grid_template_columns": null,
            "flex": null,
            "_model_name": "LayoutModel",
            "justify_items": null,
            "grid_row": null,
            "max_height": null,
            "align_content": null,
            "visibility": null,
            "align_self": null,
            "height": null,
            "min_height": null,
            "padding": null,
            "grid_auto_rows": null,
            "grid_gap": null,
            "max_width": null,
            "order": null,
            "_view_module_version": "1.2.0",
            "grid_template_areas": null,
            "object_position": null,
            "object_fit": null,
            "grid_auto_columns": null,
            "margin": null,
            "display": null,
            "left": null
          }
        },
        "5bd5b25fe74646db9b478efdb7f02e48": {
          "model_module": "@jupyter-widgets/controls",
          "model_name": "HBoxModel",
          "model_module_version": "1.5.0",
          "state": {
            "_view_name": "HBoxView",
            "_dom_classes": [],
            "_model_name": "HBoxModel",
            "_view_module": "@jupyter-widgets/controls",
            "_model_module_version": "1.5.0",
            "_view_count": null,
            "_view_module_version": "1.5.0",
            "box_style": "",
            "layout": "IPY_MODEL_4abc144f89ba4632ba3870c8aee41ad8",
            "_model_module": "@jupyter-widgets/controls",
            "children": [
              "IPY_MODEL_5c37fd1fd678444db9e4653a54e2649e",
              "IPY_MODEL_6ff57a3b88824a799d147d18edc5a5a4",
              "IPY_MODEL_f8f200afb5344745b1512d209ba9af05"
            ]
          }
        },
        "4abc144f89ba4632ba3870c8aee41ad8": {
          "model_module": "@jupyter-widgets/base",
          "model_name": "LayoutModel",
          "model_module_version": "1.2.0",
          "state": {
            "_view_name": "LayoutView",
            "grid_template_rows": null,
            "right": null,
            "justify_content": null,
            "_view_module": "@jupyter-widgets/base",
            "overflow": null,
            "_model_module_version": "1.2.0",
            "_view_count": null,
            "flex_flow": null,
            "width": null,
            "min_width": null,
            "border": null,
            "align_items": null,
            "bottom": null,
            "_model_module": "@jupyter-widgets/base",
            "top": null,
            "grid_column": null,
            "overflow_y": null,
            "overflow_x": null,
            "grid_auto_flow": null,
            "grid_area": null,
            "grid_template_columns": null,
            "flex": null,
            "_model_name": "LayoutModel",
            "justify_items": null,
            "grid_row": null,
            "max_height": null,
            "align_content": null,
            "visibility": null,
            "align_self": null,
            "height": null,
            "min_height": null,
            "padding": null,
            "grid_auto_rows": null,
            "grid_gap": null,
            "max_width": null,
            "order": null,
            "_view_module_version": "1.2.0",
            "grid_template_areas": null,
            "object_position": null,
            "object_fit": null,
            "grid_auto_columns": null,
            "margin": null,
            "display": null,
            "left": null
          }
        },
        "5c37fd1fd678444db9e4653a54e2649e": {
          "model_module": "@jupyter-widgets/controls",
          "model_name": "HTMLModel",
          "model_module_version": "1.5.0",
          "state": {
            "_view_name": "HTMLView",
            "style": "IPY_MODEL_1f1d35fa65bc44c1a4b753278ab9c420",
            "_dom_classes": [],
            "description": "",
            "_model_name": "HTMLModel",
            "placeholder": "​",
            "_view_module": "@jupyter-widgets/controls",
            "_model_module_version": "1.5.0",
            "value": "PGD - Iterations:  98%",
            "_view_count": null,
            "_view_module_version": "1.5.0",
            "description_tooltip": null,
            "_model_module": "@jupyter-widgets/controls",
            "layout": "IPY_MODEL_7a85a67a8add446d9cb305c4590a351a"
          }
        },
        "6ff57a3b88824a799d147d18edc5a5a4": {
          "model_module": "@jupyter-widgets/controls",
          "model_name": "FloatProgressModel",
          "model_module_version": "1.5.0",
          "state": {
            "_view_name": "ProgressView",
            "style": "IPY_MODEL_1726c4766324406989d48b8f15f5b021",
            "_dom_classes": [],
            "description": "",
            "_model_name": "FloatProgressModel",
            "bar_style": "",
            "max": 100,
            "_view_module": "@jupyter-widgets/controls",
            "_model_module_version": "1.5.0",
            "value": 100,
            "_view_count": null,
            "_view_module_version": "1.5.0",
            "orientation": "horizontal",
            "min": 0,
            "description_tooltip": null,
            "_model_module": "@jupyter-widgets/controls",
            "layout": "IPY_MODEL_5d401348540c40818da41557d7502190"
          }
        },
        "f8f200afb5344745b1512d209ba9af05": {
          "model_module": "@jupyter-widgets/controls",
          "model_name": "HTMLModel",
          "model_module_version": "1.5.0",
          "state": {
            "_view_name": "HTMLView",
            "style": "IPY_MODEL_28a04b40a0f84eba945d17fc2f5810c7",
            "_dom_classes": [],
            "description": "",
            "_model_name": "HTMLModel",
            "placeholder": "​",
            "_view_module": "@jupyter-widgets/controls",
            "_model_module_version": "1.5.0",
            "value": " 98/100 [00:02&lt;00:00, 47.06it/s]",
            "_view_count": null,
            "_view_module_version": "1.5.0",
            "description_tooltip": null,
            "_model_module": "@jupyter-widgets/controls",
            "layout": "IPY_MODEL_1a7a8d9875e541ff9f6030a61cf2d21e"
          }
        },
        "1f1d35fa65bc44c1a4b753278ab9c420": {
          "model_module": "@jupyter-widgets/controls",
          "model_name": "DescriptionStyleModel",
          "model_module_version": "1.5.0",
          "state": {
            "_view_name": "StyleView",
            "_model_name": "DescriptionStyleModel",
            "description_width": "",
            "_view_module": "@jupyter-widgets/base",
            "_model_module_version": "1.5.0",
            "_view_count": null,
            "_view_module_version": "1.2.0",
            "_model_module": "@jupyter-widgets/controls"
          }
        },
        "7a85a67a8add446d9cb305c4590a351a": {
          "model_module": "@jupyter-widgets/base",
          "model_name": "LayoutModel",
          "model_module_version": "1.2.0",
          "state": {
            "_view_name": "LayoutView",
            "grid_template_rows": null,
            "right": null,
            "justify_content": null,
            "_view_module": "@jupyter-widgets/base",
            "overflow": null,
            "_model_module_version": "1.2.0",
            "_view_count": null,
            "flex_flow": null,
            "width": null,
            "min_width": null,
            "border": null,
            "align_items": null,
            "bottom": null,
            "_model_module": "@jupyter-widgets/base",
            "top": null,
            "grid_column": null,
            "overflow_y": null,
            "overflow_x": null,
            "grid_auto_flow": null,
            "grid_area": null,
            "grid_template_columns": null,
            "flex": null,
            "_model_name": "LayoutModel",
            "justify_items": null,
            "grid_row": null,
            "max_height": null,
            "align_content": null,
            "visibility": null,
            "align_self": null,
            "height": null,
            "min_height": null,
            "padding": null,
            "grid_auto_rows": null,
            "grid_gap": null,
            "max_width": null,
            "order": null,
            "_view_module_version": "1.2.0",
            "grid_template_areas": null,
            "object_position": null,
            "object_fit": null,
            "grid_auto_columns": null,
            "margin": null,
            "display": null,
            "left": null
          }
        },
        "1726c4766324406989d48b8f15f5b021": {
          "model_module": "@jupyter-widgets/controls",
          "model_name": "ProgressStyleModel",
          "model_module_version": "1.5.0",
          "state": {
            "_view_name": "StyleView",
            "_model_name": "ProgressStyleModel",
            "description_width": "",
            "_view_module": "@jupyter-widgets/base",
            "_model_module_version": "1.5.0",
            "_view_count": null,
            "_view_module_version": "1.2.0",
            "bar_color": null,
            "_model_module": "@jupyter-widgets/controls"
          }
        },
        "5d401348540c40818da41557d7502190": {
          "model_module": "@jupyter-widgets/base",
          "model_name": "LayoutModel",
          "model_module_version": "1.2.0",
          "state": {
            "_view_name": "LayoutView",
            "grid_template_rows": null,
            "right": null,
            "justify_content": null,
            "_view_module": "@jupyter-widgets/base",
            "overflow": null,
            "_model_module_version": "1.2.0",
            "_view_count": null,
            "flex_flow": null,
            "width": null,
            "min_width": null,
            "border": null,
            "align_items": null,
            "bottom": null,
            "_model_module": "@jupyter-widgets/base",
            "top": null,
            "grid_column": null,
            "overflow_y": null,
            "overflow_x": null,
            "grid_auto_flow": null,
            "grid_area": null,
            "grid_template_columns": null,
            "flex": null,
            "_model_name": "LayoutModel",
            "justify_items": null,
            "grid_row": null,
            "max_height": null,
            "align_content": null,
            "visibility": null,
            "align_self": null,
            "height": null,
            "min_height": null,
            "padding": null,
            "grid_auto_rows": null,
            "grid_gap": null,
            "max_width": null,
            "order": null,
            "_view_module_version": "1.2.0",
            "grid_template_areas": null,
            "object_position": null,
            "object_fit": null,
            "grid_auto_columns": null,
            "margin": null,
            "display": null,
            "left": null
          }
        },
        "28a04b40a0f84eba945d17fc2f5810c7": {
          "model_module": "@jupyter-widgets/controls",
          "model_name": "DescriptionStyleModel",
          "model_module_version": "1.5.0",
          "state": {
            "_view_name": "StyleView",
            "_model_name": "DescriptionStyleModel",
            "description_width": "",
            "_view_module": "@jupyter-widgets/base",
            "_model_module_version": "1.5.0",
            "_view_count": null,
            "_view_module_version": "1.2.0",
            "_model_module": "@jupyter-widgets/controls"
          }
        },
        "1a7a8d9875e541ff9f6030a61cf2d21e": {
          "model_module": "@jupyter-widgets/base",
          "model_name": "LayoutModel",
          "model_module_version": "1.2.0",
          "state": {
            "_view_name": "LayoutView",
            "grid_template_rows": null,
            "right": null,
            "justify_content": null,
            "_view_module": "@jupyter-widgets/base",
            "overflow": null,
            "_model_module_version": "1.2.0",
            "_view_count": null,
            "flex_flow": null,
            "width": null,
            "min_width": null,
            "border": null,
            "align_items": null,
            "bottom": null,
            "_model_module": "@jupyter-widgets/base",
            "top": null,
            "grid_column": null,
            "overflow_y": null,
            "overflow_x": null,
            "grid_auto_flow": null,
            "grid_area": null,
            "grid_template_columns": null,
            "flex": null,
            "_model_name": "LayoutModel",
            "justify_items": null,
            "grid_row": null,
            "max_height": null,
            "align_content": null,
            "visibility": null,
            "align_self": null,
            "height": null,
            "min_height": null,
            "padding": null,
            "grid_auto_rows": null,
            "grid_gap": null,
            "max_width": null,
            "order": null,
            "_view_module_version": "1.2.0",
            "grid_template_areas": null,
            "object_position": null,
            "object_fit": null,
            "grid_auto_columns": null,
            "margin": null,
            "display": null,
            "left": null
          }
        },
        "336ac692f9704d5fbd7f14492732cc92": {
          "model_module": "@jupyter-widgets/controls",
          "model_name": "HBoxModel",
          "model_module_version": "1.5.0",
          "state": {
            "_view_name": "HBoxView",
            "_dom_classes": [],
            "_model_name": "HBoxModel",
            "_view_module": "@jupyter-widgets/controls",
            "_model_module_version": "1.5.0",
            "_view_count": null,
            "_view_module_version": "1.5.0",
            "box_style": "",
            "layout": "IPY_MODEL_5e178267d63043398eb94f1f0987aa1c",
            "_model_module": "@jupyter-widgets/controls",
            "children": [
              "IPY_MODEL_37fec6abf95c43d686471785b9d815eb",
              "IPY_MODEL_64b27fe4e49f4f2097863e9e3e6a0030",
              "IPY_MODEL_df76d359dd154795a03a40c5282f5aa5"
            ]
          }
        },
        "5e178267d63043398eb94f1f0987aa1c": {
          "model_module": "@jupyter-widgets/base",
          "model_name": "LayoutModel",
          "model_module_version": "1.2.0",
          "state": {
            "_view_name": "LayoutView",
            "grid_template_rows": null,
            "right": null,
            "justify_content": null,
            "_view_module": "@jupyter-widgets/base",
            "overflow": null,
            "_model_module_version": "1.2.0",
            "_view_count": null,
            "flex_flow": null,
            "width": null,
            "min_width": null,
            "border": null,
            "align_items": null,
            "bottom": null,
            "_model_module": "@jupyter-widgets/base",
            "top": null,
            "grid_column": null,
            "overflow_y": null,
            "overflow_x": null,
            "grid_auto_flow": null,
            "grid_area": null,
            "grid_template_columns": null,
            "flex": null,
            "_model_name": "LayoutModel",
            "justify_items": null,
            "grid_row": null,
            "max_height": null,
            "align_content": null,
            "visibility": null,
            "align_self": null,
            "height": null,
            "min_height": null,
            "padding": null,
            "grid_auto_rows": null,
            "grid_gap": null,
            "max_width": null,
            "order": null,
            "_view_module_version": "1.2.0",
            "grid_template_areas": null,
            "object_position": null,
            "object_fit": null,
            "grid_auto_columns": null,
            "margin": null,
            "display": null,
            "left": null
          }
        },
        "37fec6abf95c43d686471785b9d815eb": {
          "model_module": "@jupyter-widgets/controls",
          "model_name": "HTMLModel",
          "model_module_version": "1.5.0",
          "state": {
            "_view_name": "HTMLView",
            "style": "IPY_MODEL_ad6f6fd0de824d7ba5d41bd9b38f4ffe",
            "_dom_classes": [],
            "description": "",
            "_model_name": "HTMLModel",
            "placeholder": "​",
            "_view_module": "@jupyter-widgets/controls",
            "_model_module_version": "1.5.0",
            "value": "PGD - Random Initializations: 100%",
            "_view_count": null,
            "_view_module_version": "1.5.0",
            "description_tooltip": null,
            "_model_module": "@jupyter-widgets/controls",
            "layout": "IPY_MODEL_7f47df09bd3c45369726dd453854c8bd"
          }
        },
        "64b27fe4e49f4f2097863e9e3e6a0030": {
          "model_module": "@jupyter-widgets/controls",
          "model_name": "FloatProgressModel",
          "model_module_version": "1.5.0",
          "state": {
            "_view_name": "ProgressView",
            "style": "IPY_MODEL_340ca97b426244ce88632471888b23fc",
            "_dom_classes": [],
            "description": "",
            "_model_name": "FloatProgressModel",
            "bar_style": "success",
            "max": 1,
            "_view_module": "@jupyter-widgets/controls",
            "_model_module_version": "1.5.0",
            "value": 1,
            "_view_count": null,
            "_view_module_version": "1.5.0",
            "orientation": "horizontal",
            "min": 0,
            "description_tooltip": null,
            "_model_module": "@jupyter-widgets/controls",
            "layout": "IPY_MODEL_85bbd6b2b0a043ea8e386027ef7ba0a7"
          }
        },
        "df76d359dd154795a03a40c5282f5aa5": {
          "model_module": "@jupyter-widgets/controls",
          "model_name": "HTMLModel",
          "model_module_version": "1.5.0",
          "state": {
            "_view_name": "HTMLView",
            "style": "IPY_MODEL_1c4a75d0254f4c5899306b8cbb2d3b98",
            "_dom_classes": [],
            "description": "",
            "_model_name": "HTMLModel",
            "placeholder": "​",
            "_view_module": "@jupyter-widgets/controls",
            "_model_module_version": "1.5.0",
            "value": " 1/1 [00:01&lt;00:00,  1.15s/it]",
            "_view_count": null,
            "_view_module_version": "1.5.0",
            "description_tooltip": null,
            "_model_module": "@jupyter-widgets/controls",
            "layout": "IPY_MODEL_81320ce726964ba9af3cd69400fd9136"
          }
        },
        "ad6f6fd0de824d7ba5d41bd9b38f4ffe": {
          "model_module": "@jupyter-widgets/controls",
          "model_name": "DescriptionStyleModel",
          "model_module_version": "1.5.0",
          "state": {
            "_view_name": "StyleView",
            "_model_name": "DescriptionStyleModel",
            "description_width": "",
            "_view_module": "@jupyter-widgets/base",
            "_model_module_version": "1.5.0",
            "_view_count": null,
            "_view_module_version": "1.2.0",
            "_model_module": "@jupyter-widgets/controls"
          }
        },
        "7f47df09bd3c45369726dd453854c8bd": {
          "model_module": "@jupyter-widgets/base",
          "model_name": "LayoutModel",
          "model_module_version": "1.2.0",
          "state": {
            "_view_name": "LayoutView",
            "grid_template_rows": null,
            "right": null,
            "justify_content": null,
            "_view_module": "@jupyter-widgets/base",
            "overflow": null,
            "_model_module_version": "1.2.0",
            "_view_count": null,
            "flex_flow": null,
            "width": null,
            "min_width": null,
            "border": null,
            "align_items": null,
            "bottom": null,
            "_model_module": "@jupyter-widgets/base",
            "top": null,
            "grid_column": null,
            "overflow_y": null,
            "overflow_x": null,
            "grid_auto_flow": null,
            "grid_area": null,
            "grid_template_columns": null,
            "flex": null,
            "_model_name": "LayoutModel",
            "justify_items": null,
            "grid_row": null,
            "max_height": null,
            "align_content": null,
            "visibility": null,
            "align_self": null,
            "height": null,
            "min_height": null,
            "padding": null,
            "grid_auto_rows": null,
            "grid_gap": null,
            "max_width": null,
            "order": null,
            "_view_module_version": "1.2.0",
            "grid_template_areas": null,
            "object_position": null,
            "object_fit": null,
            "grid_auto_columns": null,
            "margin": null,
            "display": null,
            "left": null
          }
        },
        "340ca97b426244ce88632471888b23fc": {
          "model_module": "@jupyter-widgets/controls",
          "model_name": "ProgressStyleModel",
          "model_module_version": "1.5.0",
          "state": {
            "_view_name": "StyleView",
            "_model_name": "ProgressStyleModel",
            "description_width": "",
            "_view_module": "@jupyter-widgets/base",
            "_model_module_version": "1.5.0",
            "_view_count": null,
            "_view_module_version": "1.2.0",
            "bar_color": null,
            "_model_module": "@jupyter-widgets/controls"
          }
        },
        "85bbd6b2b0a043ea8e386027ef7ba0a7": {
          "model_module": "@jupyter-widgets/base",
          "model_name": "LayoutModel",
          "model_module_version": "1.2.0",
          "state": {
            "_view_name": "LayoutView",
            "grid_template_rows": null,
            "right": null,
            "justify_content": null,
            "_view_module": "@jupyter-widgets/base",
            "overflow": null,
            "_model_module_version": "1.2.0",
            "_view_count": null,
            "flex_flow": null,
            "width": null,
            "min_width": null,
            "border": null,
            "align_items": null,
            "bottom": null,
            "_model_module": "@jupyter-widgets/base",
            "top": null,
            "grid_column": null,
            "overflow_y": null,
            "overflow_x": null,
            "grid_auto_flow": null,
            "grid_area": null,
            "grid_template_columns": null,
            "flex": null,
            "_model_name": "LayoutModel",
            "justify_items": null,
            "grid_row": null,
            "max_height": null,
            "align_content": null,
            "visibility": null,
            "align_self": null,
            "height": null,
            "min_height": null,
            "padding": null,
            "grid_auto_rows": null,
            "grid_gap": null,
            "max_width": null,
            "order": null,
            "_view_module_version": "1.2.0",
            "grid_template_areas": null,
            "object_position": null,
            "object_fit": null,
            "grid_auto_columns": null,
            "margin": null,
            "display": null,
            "left": null
          }
        },
        "1c4a75d0254f4c5899306b8cbb2d3b98": {
          "model_module": "@jupyter-widgets/controls",
          "model_name": "DescriptionStyleModel",
          "model_module_version": "1.5.0",
          "state": {
            "_view_name": "StyleView",
            "_model_name": "DescriptionStyleModel",
            "description_width": "",
            "_view_module": "@jupyter-widgets/base",
            "_model_module_version": "1.5.0",
            "_view_count": null,
            "_view_module_version": "1.2.0",
            "_model_module": "@jupyter-widgets/controls"
          }
        },
        "81320ce726964ba9af3cd69400fd9136": {
          "model_module": "@jupyter-widgets/base",
          "model_name": "LayoutModel",
          "model_module_version": "1.2.0",
          "state": {
            "_view_name": "LayoutView",
            "grid_template_rows": null,
            "right": null,
            "justify_content": null,
            "_view_module": "@jupyter-widgets/base",
            "overflow": null,
            "_model_module_version": "1.2.0",
            "_view_count": null,
            "flex_flow": null,
            "width": null,
            "min_width": null,
            "border": null,
            "align_items": null,
            "bottom": null,
            "_model_module": "@jupyter-widgets/base",
            "top": null,
            "grid_column": null,
            "overflow_y": null,
            "overflow_x": null,
            "grid_auto_flow": null,
            "grid_area": null,
            "grid_template_columns": null,
            "flex": null,
            "_model_name": "LayoutModel",
            "justify_items": null,
            "grid_row": null,
            "max_height": null,
            "align_content": null,
            "visibility": null,
            "align_self": null,
            "height": null,
            "min_height": null,
            "padding": null,
            "grid_auto_rows": null,
            "grid_gap": null,
            "max_width": null,
            "order": null,
            "_view_module_version": "1.2.0",
            "grid_template_areas": null,
            "object_position": null,
            "object_fit": null,
            "grid_auto_columns": null,
            "margin": null,
            "display": null,
            "left": null
          }
        },
        "e5401f9d018d42e7952220fb1064665a": {
          "model_module": "@jupyter-widgets/controls",
          "model_name": "HBoxModel",
          "model_module_version": "1.5.0",
          "state": {
            "_view_name": "HBoxView",
            "_dom_classes": [],
            "_model_name": "HBoxModel",
            "_view_module": "@jupyter-widgets/controls",
            "_model_module_version": "1.5.0",
            "_view_count": null,
            "_view_module_version": "1.5.0",
            "box_style": "",
            "layout": "IPY_MODEL_50052182adf44a80a92e453311bae3d4",
            "_model_module": "@jupyter-widgets/controls",
            "children": [
              "IPY_MODEL_e43544f3da454eb8acdff69e6b7bc491",
              "IPY_MODEL_835433dc3769486aaac131e7ee39df30",
              "IPY_MODEL_fa8886b5f93f46a8bd0d7495ab7d5d9a"
            ]
          }
        },
        "50052182adf44a80a92e453311bae3d4": {
          "model_module": "@jupyter-widgets/base",
          "model_name": "LayoutModel",
          "model_module_version": "1.2.0",
          "state": {
            "_view_name": "LayoutView",
            "grid_template_rows": null,
            "right": null,
            "justify_content": null,
            "_view_module": "@jupyter-widgets/base",
            "overflow": null,
            "_model_module_version": "1.2.0",
            "_view_count": null,
            "flex_flow": null,
            "width": null,
            "min_width": null,
            "border": null,
            "align_items": null,
            "bottom": null,
            "_model_module": "@jupyter-widgets/base",
            "top": null,
            "grid_column": null,
            "overflow_y": null,
            "overflow_x": null,
            "grid_auto_flow": null,
            "grid_area": null,
            "grid_template_columns": null,
            "flex": null,
            "_model_name": "LayoutModel",
            "justify_items": null,
            "grid_row": null,
            "max_height": null,
            "align_content": null,
            "visibility": null,
            "align_self": null,
            "height": null,
            "min_height": null,
            "padding": null,
            "grid_auto_rows": null,
            "grid_gap": null,
            "max_width": null,
            "order": null,
            "_view_module_version": "1.2.0",
            "grid_template_areas": null,
            "object_position": null,
            "object_fit": null,
            "grid_auto_columns": null,
            "margin": null,
            "display": null,
            "left": null
          }
        },
        "e43544f3da454eb8acdff69e6b7bc491": {
          "model_module": "@jupyter-widgets/controls",
          "model_name": "HTMLModel",
          "model_module_version": "1.5.0",
          "state": {
            "_view_name": "HTMLView",
            "style": "IPY_MODEL_2309821bf43b4e0185b39fb6bd96a65a",
            "_dom_classes": [],
            "description": "",
            "_model_name": "HTMLModel",
            "placeholder": "​",
            "_view_module": "@jupyter-widgets/controls",
            "_model_module_version": "1.5.0",
            "value": "PGD - Iterations:  94%",
            "_view_count": null,
            "_view_module_version": "1.5.0",
            "description_tooltip": null,
            "_model_module": "@jupyter-widgets/controls",
            "layout": "IPY_MODEL_8e35d1188ff54de8b138e10f1ef8e6dd"
          }
        },
        "835433dc3769486aaac131e7ee39df30": {
          "model_module": "@jupyter-widgets/controls",
          "model_name": "FloatProgressModel",
          "model_module_version": "1.5.0",
          "state": {
            "_view_name": "ProgressView",
            "style": "IPY_MODEL_243f197c7bc24bdcab0c56a7f2c349f2",
            "_dom_classes": [],
            "description": "",
            "_model_name": "FloatProgressModel",
            "bar_style": "",
            "max": 100,
            "_view_module": "@jupyter-widgets/controls",
            "_model_module_version": "1.5.0",
            "value": 100,
            "_view_count": null,
            "_view_module_version": "1.5.0",
            "orientation": "horizontal",
            "min": 0,
            "description_tooltip": null,
            "_model_module": "@jupyter-widgets/controls",
            "layout": "IPY_MODEL_94a9f0f053fe4f0696d71a9ed20e91a7"
          }
        },
        "fa8886b5f93f46a8bd0d7495ab7d5d9a": {
          "model_module": "@jupyter-widgets/controls",
          "model_name": "HTMLModel",
          "model_module_version": "1.5.0",
          "state": {
            "_view_name": "HTMLView",
            "style": "IPY_MODEL_22101487dce94abb8879145f6908ed90",
            "_dom_classes": [],
            "description": "",
            "_model_name": "HTMLModel",
            "placeholder": "​",
            "_view_module": "@jupyter-widgets/controls",
            "_model_module_version": "1.5.0",
            "value": " 94/100 [00:01&lt;00:00, 95.58it/s]",
            "_view_count": null,
            "_view_module_version": "1.5.0",
            "description_tooltip": null,
            "_model_module": "@jupyter-widgets/controls",
            "layout": "IPY_MODEL_c6e0ad0518af44609fe62dc750b17601"
          }
        },
        "2309821bf43b4e0185b39fb6bd96a65a": {
          "model_module": "@jupyter-widgets/controls",
          "model_name": "DescriptionStyleModel",
          "model_module_version": "1.5.0",
          "state": {
            "_view_name": "StyleView",
            "_model_name": "DescriptionStyleModel",
            "description_width": "",
            "_view_module": "@jupyter-widgets/base",
            "_model_module_version": "1.5.0",
            "_view_count": null,
            "_view_module_version": "1.2.0",
            "_model_module": "@jupyter-widgets/controls"
          }
        },
        "8e35d1188ff54de8b138e10f1ef8e6dd": {
          "model_module": "@jupyter-widgets/base",
          "model_name": "LayoutModel",
          "model_module_version": "1.2.0",
          "state": {
            "_view_name": "LayoutView",
            "grid_template_rows": null,
            "right": null,
            "justify_content": null,
            "_view_module": "@jupyter-widgets/base",
            "overflow": null,
            "_model_module_version": "1.2.0",
            "_view_count": null,
            "flex_flow": null,
            "width": null,
            "min_width": null,
            "border": null,
            "align_items": null,
            "bottom": null,
            "_model_module": "@jupyter-widgets/base",
            "top": null,
            "grid_column": null,
            "overflow_y": null,
            "overflow_x": null,
            "grid_auto_flow": null,
            "grid_area": null,
            "grid_template_columns": null,
            "flex": null,
            "_model_name": "LayoutModel",
            "justify_items": null,
            "grid_row": null,
            "max_height": null,
            "align_content": null,
            "visibility": null,
            "align_self": null,
            "height": null,
            "min_height": null,
            "padding": null,
            "grid_auto_rows": null,
            "grid_gap": null,
            "max_width": null,
            "order": null,
            "_view_module_version": "1.2.0",
            "grid_template_areas": null,
            "object_position": null,
            "object_fit": null,
            "grid_auto_columns": null,
            "margin": null,
            "display": null,
            "left": null
          }
        },
        "243f197c7bc24bdcab0c56a7f2c349f2": {
          "model_module": "@jupyter-widgets/controls",
          "model_name": "ProgressStyleModel",
          "model_module_version": "1.5.0",
          "state": {
            "_view_name": "StyleView",
            "_model_name": "ProgressStyleModel",
            "description_width": "",
            "_view_module": "@jupyter-widgets/base",
            "_model_module_version": "1.5.0",
            "_view_count": null,
            "_view_module_version": "1.2.0",
            "bar_color": null,
            "_model_module": "@jupyter-widgets/controls"
          }
        },
        "94a9f0f053fe4f0696d71a9ed20e91a7": {
          "model_module": "@jupyter-widgets/base",
          "model_name": "LayoutModel",
          "model_module_version": "1.2.0",
          "state": {
            "_view_name": "LayoutView",
            "grid_template_rows": null,
            "right": null,
            "justify_content": null,
            "_view_module": "@jupyter-widgets/base",
            "overflow": null,
            "_model_module_version": "1.2.0",
            "_view_count": null,
            "flex_flow": null,
            "width": null,
            "min_width": null,
            "border": null,
            "align_items": null,
            "bottom": null,
            "_model_module": "@jupyter-widgets/base",
            "top": null,
            "grid_column": null,
            "overflow_y": null,
            "overflow_x": null,
            "grid_auto_flow": null,
            "grid_area": null,
            "grid_template_columns": null,
            "flex": null,
            "_model_name": "LayoutModel",
            "justify_items": null,
            "grid_row": null,
            "max_height": null,
            "align_content": null,
            "visibility": null,
            "align_self": null,
            "height": null,
            "min_height": null,
            "padding": null,
            "grid_auto_rows": null,
            "grid_gap": null,
            "max_width": null,
            "order": null,
            "_view_module_version": "1.2.0",
            "grid_template_areas": null,
            "object_position": null,
            "object_fit": null,
            "grid_auto_columns": null,
            "margin": null,
            "display": null,
            "left": null
          }
        },
        "22101487dce94abb8879145f6908ed90": {
          "model_module": "@jupyter-widgets/controls",
          "model_name": "DescriptionStyleModel",
          "model_module_version": "1.5.0",
          "state": {
            "_view_name": "StyleView",
            "_model_name": "DescriptionStyleModel",
            "description_width": "",
            "_view_module": "@jupyter-widgets/base",
            "_model_module_version": "1.5.0",
            "_view_count": null,
            "_view_module_version": "1.2.0",
            "_model_module": "@jupyter-widgets/controls"
          }
        },
        "c6e0ad0518af44609fe62dc750b17601": {
          "model_module": "@jupyter-widgets/base",
          "model_name": "LayoutModel",
          "model_module_version": "1.2.0",
          "state": {
            "_view_name": "LayoutView",
            "grid_template_rows": null,
            "right": null,
            "justify_content": null,
            "_view_module": "@jupyter-widgets/base",
            "overflow": null,
            "_model_module_version": "1.2.0",
            "_view_count": null,
            "flex_flow": null,
            "width": null,
            "min_width": null,
            "border": null,
            "align_items": null,
            "bottom": null,
            "_model_module": "@jupyter-widgets/base",
            "top": null,
            "grid_column": null,
            "overflow_y": null,
            "overflow_x": null,
            "grid_auto_flow": null,
            "grid_area": null,
            "grid_template_columns": null,
            "flex": null,
            "_model_name": "LayoutModel",
            "justify_items": null,
            "grid_row": null,
            "max_height": null,
            "align_content": null,
            "visibility": null,
            "align_self": null,
            "height": null,
            "min_height": null,
            "padding": null,
            "grid_auto_rows": null,
            "grid_gap": null,
            "max_width": null,
            "order": null,
            "_view_module_version": "1.2.0",
            "grid_template_areas": null,
            "object_position": null,
            "object_fit": null,
            "grid_auto_columns": null,
            "margin": null,
            "display": null,
            "left": null
          }
        },
        "7b8bedfed9304189ab7f48bab737210c": {
          "model_module": "@jupyter-widgets/controls",
          "model_name": "HBoxModel",
          "model_module_version": "1.5.0",
          "state": {
            "_view_name": "HBoxView",
            "_dom_classes": [],
            "_model_name": "HBoxModel",
            "_view_module": "@jupyter-widgets/controls",
            "_model_module_version": "1.5.0",
            "_view_count": null,
            "_view_module_version": "1.5.0",
            "box_style": "",
            "layout": "IPY_MODEL_946f658919ca4d45baaed4a863de0cf6",
            "_model_module": "@jupyter-widgets/controls",
            "children": [
              "IPY_MODEL_151e1a0fae1f47849c9bb9d3b1e23f4f",
              "IPY_MODEL_95da519af1004df3bc56b5329115252c",
              "IPY_MODEL_8bb91aef45a14ecdaa480ca86dfa2198"
            ]
          }
        },
        "946f658919ca4d45baaed4a863de0cf6": {
          "model_module": "@jupyter-widgets/base",
          "model_name": "LayoutModel",
          "model_module_version": "1.2.0",
          "state": {
            "_view_name": "LayoutView",
            "grid_template_rows": null,
            "right": null,
            "justify_content": null,
            "_view_module": "@jupyter-widgets/base",
            "overflow": null,
            "_model_module_version": "1.2.0",
            "_view_count": null,
            "flex_flow": null,
            "width": null,
            "min_width": null,
            "border": null,
            "align_items": null,
            "bottom": null,
            "_model_module": "@jupyter-widgets/base",
            "top": null,
            "grid_column": null,
            "overflow_y": null,
            "overflow_x": null,
            "grid_auto_flow": null,
            "grid_area": null,
            "grid_template_columns": null,
            "flex": null,
            "_model_name": "LayoutModel",
            "justify_items": null,
            "grid_row": null,
            "max_height": null,
            "align_content": null,
            "visibility": null,
            "align_self": null,
            "height": null,
            "min_height": null,
            "padding": null,
            "grid_auto_rows": null,
            "grid_gap": null,
            "max_width": null,
            "order": null,
            "_view_module_version": "1.2.0",
            "grid_template_areas": null,
            "object_position": null,
            "object_fit": null,
            "grid_auto_columns": null,
            "margin": null,
            "display": null,
            "left": null
          }
        },
        "151e1a0fae1f47849c9bb9d3b1e23f4f": {
          "model_module": "@jupyter-widgets/controls",
          "model_name": "HTMLModel",
          "model_module_version": "1.5.0",
          "state": {
            "_view_name": "HTMLView",
            "style": "IPY_MODEL_b4890ace70ae46918f023a9d124ea61b",
            "_dom_classes": [],
            "description": "",
            "_model_name": "HTMLModel",
            "placeholder": "​",
            "_view_module": "@jupyter-widgets/controls",
            "_model_module_version": "1.5.0",
            "value": "EAD: 100%",
            "_view_count": null,
            "_view_module_version": "1.5.0",
            "description_tooltip": null,
            "_model_module": "@jupyter-widgets/controls",
            "layout": "IPY_MODEL_3bb27a29c142488f93d7dd1a276dc7a7"
          }
        },
        "95da519af1004df3bc56b5329115252c": {
          "model_module": "@jupyter-widgets/controls",
          "model_name": "FloatProgressModel",
          "model_module_version": "1.5.0",
          "state": {
            "_view_name": "ProgressView",
            "style": "IPY_MODEL_d6c613738dbc4f119a552fe012a9929b",
            "_dom_classes": [],
            "description": "",
            "_model_name": "FloatProgressModel",
            "bar_style": "success",
            "max": 100,
            "_view_module": "@jupyter-widgets/controls",
            "_model_module_version": "1.5.0",
            "value": 100,
            "_view_count": null,
            "_view_module_version": "1.5.0",
            "orientation": "horizontal",
            "min": 0,
            "description_tooltip": null,
            "_model_module": "@jupyter-widgets/controls",
            "layout": "IPY_MODEL_f4f509bd76094c2dafda26ac80e4d3a4"
          }
        },
        "8bb91aef45a14ecdaa480ca86dfa2198": {
          "model_module": "@jupyter-widgets/controls",
          "model_name": "HTMLModel",
          "model_module_version": "1.5.0",
          "state": {
            "_view_name": "HTMLView",
            "style": "IPY_MODEL_e006b95267214f1ba6a5e505af3a6a80",
            "_dom_classes": [],
            "description": "",
            "_model_name": "HTMLModel",
            "placeholder": "​",
            "_view_module": "@jupyter-widgets/controls",
            "_model_module_version": "1.5.0",
            "value": " 100/100 [00:27&lt;00:00,  3.71it/s]",
            "_view_count": null,
            "_view_module_version": "1.5.0",
            "description_tooltip": null,
            "_model_module": "@jupyter-widgets/controls",
            "layout": "IPY_MODEL_1a827fb84f1e4e73aa3bfbeb7dfa46f1"
          }
        },
        "b4890ace70ae46918f023a9d124ea61b": {
          "model_module": "@jupyter-widgets/controls",
          "model_name": "DescriptionStyleModel",
          "model_module_version": "1.5.0",
          "state": {
            "_view_name": "StyleView",
            "_model_name": "DescriptionStyleModel",
            "description_width": "",
            "_view_module": "@jupyter-widgets/base",
            "_model_module_version": "1.5.0",
            "_view_count": null,
            "_view_module_version": "1.2.0",
            "_model_module": "@jupyter-widgets/controls"
          }
        },
        "3bb27a29c142488f93d7dd1a276dc7a7": {
          "model_module": "@jupyter-widgets/base",
          "model_name": "LayoutModel",
          "model_module_version": "1.2.0",
          "state": {
            "_view_name": "LayoutView",
            "grid_template_rows": null,
            "right": null,
            "justify_content": null,
            "_view_module": "@jupyter-widgets/base",
            "overflow": null,
            "_model_module_version": "1.2.0",
            "_view_count": null,
            "flex_flow": null,
            "width": null,
            "min_width": null,
            "border": null,
            "align_items": null,
            "bottom": null,
            "_model_module": "@jupyter-widgets/base",
            "top": null,
            "grid_column": null,
            "overflow_y": null,
            "overflow_x": null,
            "grid_auto_flow": null,
            "grid_area": null,
            "grid_template_columns": null,
            "flex": null,
            "_model_name": "LayoutModel",
            "justify_items": null,
            "grid_row": null,
            "max_height": null,
            "align_content": null,
            "visibility": null,
            "align_self": null,
            "height": null,
            "min_height": null,
            "padding": null,
            "grid_auto_rows": null,
            "grid_gap": null,
            "max_width": null,
            "order": null,
            "_view_module_version": "1.2.0",
            "grid_template_areas": null,
            "object_position": null,
            "object_fit": null,
            "grid_auto_columns": null,
            "margin": null,
            "display": null,
            "left": null
          }
        },
        "d6c613738dbc4f119a552fe012a9929b": {
          "model_module": "@jupyter-widgets/controls",
          "model_name": "ProgressStyleModel",
          "model_module_version": "1.5.0",
          "state": {
            "_view_name": "StyleView",
            "_model_name": "ProgressStyleModel",
            "description_width": "",
            "_view_module": "@jupyter-widgets/base",
            "_model_module_version": "1.5.0",
            "_view_count": null,
            "_view_module_version": "1.2.0",
            "bar_color": null,
            "_model_module": "@jupyter-widgets/controls"
          }
        },
        "f4f509bd76094c2dafda26ac80e4d3a4": {
          "model_module": "@jupyter-widgets/base",
          "model_name": "LayoutModel",
          "model_module_version": "1.2.0",
          "state": {
            "_view_name": "LayoutView",
            "grid_template_rows": null,
            "right": null,
            "justify_content": null,
            "_view_module": "@jupyter-widgets/base",
            "overflow": null,
            "_model_module_version": "1.2.0",
            "_view_count": null,
            "flex_flow": null,
            "width": null,
            "min_width": null,
            "border": null,
            "align_items": null,
            "bottom": null,
            "_model_module": "@jupyter-widgets/base",
            "top": null,
            "grid_column": null,
            "overflow_y": null,
            "overflow_x": null,
            "grid_auto_flow": null,
            "grid_area": null,
            "grid_template_columns": null,
            "flex": null,
            "_model_name": "LayoutModel",
            "justify_items": null,
            "grid_row": null,
            "max_height": null,
            "align_content": null,
            "visibility": null,
            "align_self": null,
            "height": null,
            "min_height": null,
            "padding": null,
            "grid_auto_rows": null,
            "grid_gap": null,
            "max_width": null,
            "order": null,
            "_view_module_version": "1.2.0",
            "grid_template_areas": null,
            "object_position": null,
            "object_fit": null,
            "grid_auto_columns": null,
            "margin": null,
            "display": null,
            "left": null
          }
        },
        "e006b95267214f1ba6a5e505af3a6a80": {
          "model_module": "@jupyter-widgets/controls",
          "model_name": "DescriptionStyleModel",
          "model_module_version": "1.5.0",
          "state": {
            "_view_name": "StyleView",
            "_model_name": "DescriptionStyleModel",
            "description_width": "",
            "_view_module": "@jupyter-widgets/base",
            "_model_module_version": "1.5.0",
            "_view_count": null,
            "_view_module_version": "1.2.0",
            "_model_module": "@jupyter-widgets/controls"
          }
        },
        "1a827fb84f1e4e73aa3bfbeb7dfa46f1": {
          "model_module": "@jupyter-widgets/base",
          "model_name": "LayoutModel",
          "model_module_version": "1.2.0",
          "state": {
            "_view_name": "LayoutView",
            "grid_template_rows": null,
            "right": null,
            "justify_content": null,
            "_view_module": "@jupyter-widgets/base",
            "overflow": null,
            "_model_module_version": "1.2.0",
            "_view_count": null,
            "flex_flow": null,
            "width": null,
            "min_width": null,
            "border": null,
            "align_items": null,
            "bottom": null,
            "_model_module": "@jupyter-widgets/base",
            "top": null,
            "grid_column": null,
            "overflow_y": null,
            "overflow_x": null,
            "grid_auto_flow": null,
            "grid_area": null,
            "grid_template_columns": null,
            "flex": null,
            "_model_name": "LayoutModel",
            "justify_items": null,
            "grid_row": null,
            "max_height": null,
            "align_content": null,
            "visibility": null,
            "align_self": null,
            "height": null,
            "min_height": null,
            "padding": null,
            "grid_auto_rows": null,
            "grid_gap": null,
            "max_width": null,
            "order": null,
            "_view_module_version": "1.2.0",
            "grid_template_areas": null,
            "object_position": null,
            "object_fit": null,
            "grid_auto_columns": null,
            "margin": null,
            "display": null,
            "left": null
          }
        },
        "beeb7c95e75b405c88ab9094bd29580c": {
          "model_module": "@jupyter-widgets/controls",
          "model_name": "HBoxModel",
          "model_module_version": "1.5.0",
          "state": {
            "_view_name": "HBoxView",
            "_dom_classes": [],
            "_model_name": "HBoxModel",
            "_view_module": "@jupyter-widgets/controls",
            "_model_module_version": "1.5.0",
            "_view_count": null,
            "_view_module_version": "1.5.0",
            "box_style": "",
            "layout": "IPY_MODEL_3eaaaaac5eea41e3a7b69d983f107022",
            "_model_module": "@jupyter-widgets/controls",
            "children": [
              "IPY_MODEL_b5685fd505d944aa9b1913b3203b5e74",
              "IPY_MODEL_01364aa4aab74ea581817222314cc5e5",
              "IPY_MODEL_a3ad8908704b4bcebce18ee2a937be42"
            ]
          }
        },
        "3eaaaaac5eea41e3a7b69d983f107022": {
          "model_module": "@jupyter-widgets/base",
          "model_name": "LayoutModel",
          "model_module_version": "1.2.0",
          "state": {
            "_view_name": "LayoutView",
            "grid_template_rows": null,
            "right": null,
            "justify_content": null,
            "_view_module": "@jupyter-widgets/base",
            "overflow": null,
            "_model_module_version": "1.2.0",
            "_view_count": null,
            "flex_flow": null,
            "width": null,
            "min_width": null,
            "border": null,
            "align_items": null,
            "bottom": null,
            "_model_module": "@jupyter-widgets/base",
            "top": null,
            "grid_column": null,
            "overflow_y": null,
            "overflow_x": null,
            "grid_auto_flow": null,
            "grid_area": null,
            "grid_template_columns": null,
            "flex": null,
            "_model_name": "LayoutModel",
            "justify_items": null,
            "grid_row": null,
            "max_height": null,
            "align_content": null,
            "visibility": null,
            "align_self": null,
            "height": null,
            "min_height": null,
            "padding": null,
            "grid_auto_rows": null,
            "grid_gap": null,
            "max_width": null,
            "order": null,
            "_view_module_version": "1.2.0",
            "grid_template_areas": null,
            "object_position": null,
            "object_fit": null,
            "grid_auto_columns": null,
            "margin": null,
            "display": null,
            "left": null
          }
        },
        "b5685fd505d944aa9b1913b3203b5e74": {
          "model_module": "@jupyter-widgets/controls",
          "model_name": "HTMLModel",
          "model_module_version": "1.5.0",
          "state": {
            "_view_name": "HTMLView",
            "style": "IPY_MODEL_284e0e44833b4855b80532b2cc64beef",
            "_dom_classes": [],
            "description": "",
            "_model_name": "HTMLModel",
            "placeholder": "​",
            "_view_module": "@jupyter-widgets/controls",
            "_model_module_version": "1.5.0",
            "value": "Precompute adv samples: 100%",
            "_view_count": null,
            "_view_module_version": "1.5.0",
            "description_tooltip": null,
            "_model_module": "@jupyter-widgets/controls",
            "layout": "IPY_MODEL_248db5088c92466eaffd8bb778fb635f"
          }
        },
        "01364aa4aab74ea581817222314cc5e5": {
          "model_module": "@jupyter-widgets/controls",
          "model_name": "FloatProgressModel",
          "model_module_version": "1.5.0",
          "state": {
            "_view_name": "ProgressView",
            "style": "IPY_MODEL_495abee97f85469bb23b24222f583aad",
            "_dom_classes": [],
            "description": "",
            "_model_name": "FloatProgressModel",
            "bar_style": "success",
            "max": 1,
            "_view_module": "@jupyter-widgets/controls",
            "_model_module_version": "1.5.0",
            "value": 1,
            "_view_count": null,
            "_view_module_version": "1.5.0",
            "orientation": "horizontal",
            "min": 0,
            "description_tooltip": null,
            "_model_module": "@jupyter-widgets/controls",
            "layout": "IPY_MODEL_395aa5ad04804801abbe87d98f7d3540"
          }
        },
        "a3ad8908704b4bcebce18ee2a937be42": {
          "model_module": "@jupyter-widgets/controls",
          "model_name": "HTMLModel",
          "model_module_version": "1.5.0",
          "state": {
            "_view_name": "HTMLView",
            "style": "IPY_MODEL_7e94bffd759742e5849cb5edfd39bc3d",
            "_dom_classes": [],
            "description": "",
            "_model_name": "HTMLModel",
            "placeholder": "​",
            "_view_module": "@jupyter-widgets/controls",
            "_model_module_version": "1.5.0",
            "value": " 1/1 [00:00&lt;00:00, 24.09it/s]",
            "_view_count": null,
            "_view_module_version": "1.5.0",
            "description_tooltip": null,
            "_model_module": "@jupyter-widgets/controls",
            "layout": "IPY_MODEL_4b19522f7df440b8bcf37c4f16d14cb3"
          }
        },
        "284e0e44833b4855b80532b2cc64beef": {
          "model_module": "@jupyter-widgets/controls",
          "model_name": "DescriptionStyleModel",
          "model_module_version": "1.5.0",
          "state": {
            "_view_name": "StyleView",
            "_model_name": "DescriptionStyleModel",
            "description_width": "",
            "_view_module": "@jupyter-widgets/base",
            "_model_module_version": "1.5.0",
            "_view_count": null,
            "_view_module_version": "1.2.0",
            "_model_module": "@jupyter-widgets/controls"
          }
        },
        "248db5088c92466eaffd8bb778fb635f": {
          "model_module": "@jupyter-widgets/base",
          "model_name": "LayoutModel",
          "model_module_version": "1.2.0",
          "state": {
            "_view_name": "LayoutView",
            "grid_template_rows": null,
            "right": null,
            "justify_content": null,
            "_view_module": "@jupyter-widgets/base",
            "overflow": null,
            "_model_module_version": "1.2.0",
            "_view_count": null,
            "flex_flow": null,
            "width": null,
            "min_width": null,
            "border": null,
            "align_items": null,
            "bottom": null,
            "_model_module": "@jupyter-widgets/base",
            "top": null,
            "grid_column": null,
            "overflow_y": null,
            "overflow_x": null,
            "grid_auto_flow": null,
            "grid_area": null,
            "grid_template_columns": null,
            "flex": null,
            "_model_name": "LayoutModel",
            "justify_items": null,
            "grid_row": null,
            "max_height": null,
            "align_content": null,
            "visibility": null,
            "align_self": null,
            "height": null,
            "min_height": null,
            "padding": null,
            "grid_auto_rows": null,
            "grid_gap": null,
            "max_width": null,
            "order": null,
            "_view_module_version": "1.2.0",
            "grid_template_areas": null,
            "object_position": null,
            "object_fit": null,
            "grid_auto_columns": null,
            "margin": null,
            "display": null,
            "left": null
          }
        },
        "495abee97f85469bb23b24222f583aad": {
          "model_module": "@jupyter-widgets/controls",
          "model_name": "ProgressStyleModel",
          "model_module_version": "1.5.0",
          "state": {
            "_view_name": "StyleView",
            "_model_name": "ProgressStyleModel",
            "description_width": "",
            "_view_module": "@jupyter-widgets/base",
            "_model_module_version": "1.5.0",
            "_view_count": null,
            "_view_module_version": "1.2.0",
            "bar_color": null,
            "_model_module": "@jupyter-widgets/controls"
          }
        },
        "395aa5ad04804801abbe87d98f7d3540": {
          "model_module": "@jupyter-widgets/base",
          "model_name": "LayoutModel",
          "model_module_version": "1.2.0",
          "state": {
            "_view_name": "LayoutView",
            "grid_template_rows": null,
            "right": null,
            "justify_content": null,
            "_view_module": "@jupyter-widgets/base",
            "overflow": null,
            "_model_module_version": "1.2.0",
            "_view_count": null,
            "flex_flow": null,
            "width": null,
            "min_width": null,
            "border": null,
            "align_items": null,
            "bottom": null,
            "_model_module": "@jupyter-widgets/base",
            "top": null,
            "grid_column": null,
            "overflow_y": null,
            "overflow_x": null,
            "grid_auto_flow": null,
            "grid_area": null,
            "grid_template_columns": null,
            "flex": null,
            "_model_name": "LayoutModel",
            "justify_items": null,
            "grid_row": null,
            "max_height": null,
            "align_content": null,
            "visibility": null,
            "align_self": null,
            "height": null,
            "min_height": null,
            "padding": null,
            "grid_auto_rows": null,
            "grid_gap": null,
            "max_width": null,
            "order": null,
            "_view_module_version": "1.2.0",
            "grid_template_areas": null,
            "object_position": null,
            "object_fit": null,
            "grid_auto_columns": null,
            "margin": null,
            "display": null,
            "left": null
          }
        },
        "7e94bffd759742e5849cb5edfd39bc3d": {
          "model_module": "@jupyter-widgets/controls",
          "model_name": "DescriptionStyleModel",
          "model_module_version": "1.5.0",
          "state": {
            "_view_name": "StyleView",
            "_model_name": "DescriptionStyleModel",
            "description_width": "",
            "_view_module": "@jupyter-widgets/base",
            "_model_module_version": "1.5.0",
            "_view_count": null,
            "_view_module_version": "1.2.0",
            "_model_module": "@jupyter-widgets/controls"
          }
        },
        "4b19522f7df440b8bcf37c4f16d14cb3": {
          "model_module": "@jupyter-widgets/base",
          "model_name": "LayoutModel",
          "model_module_version": "1.2.0",
          "state": {
            "_view_name": "LayoutView",
            "grid_template_rows": null,
            "right": null,
            "justify_content": null,
            "_view_module": "@jupyter-widgets/base",
            "overflow": null,
            "_model_module_version": "1.2.0",
            "_view_count": null,
            "flex_flow": null,
            "width": null,
            "min_width": null,
            "border": null,
            "align_items": null,
            "bottom": null,
            "_model_module": "@jupyter-widgets/base",
            "top": null,
            "grid_column": null,
            "overflow_y": null,
            "overflow_x": null,
            "grid_auto_flow": null,
            "grid_area": null,
            "grid_template_columns": null,
            "flex": null,
            "_model_name": "LayoutModel",
            "justify_items": null,
            "grid_row": null,
            "max_height": null,
            "align_content": null,
            "visibility": null,
            "align_self": null,
            "height": null,
            "min_height": null,
            "padding": null,
            "grid_auto_rows": null,
            "grid_gap": null,
            "max_width": null,
            "order": null,
            "_view_module_version": "1.2.0",
            "grid_template_areas": null,
            "object_position": null,
            "object_fit": null,
            "grid_auto_columns": null,
            "margin": null,
            "display": null,
            "left": null
          }
        },
        "db36c20ed7a3451da9b8a5cc69f21a5b": {
          "model_module": "@jupyter-widgets/controls",
          "model_name": "HBoxModel",
          "model_module_version": "1.5.0",
          "state": {
            "_view_name": "HBoxView",
            "_dom_classes": [],
            "_model_name": "HBoxModel",
            "_view_module": "@jupyter-widgets/controls",
            "_model_module_version": "1.5.0",
            "_view_count": null,
            "_view_module_version": "1.5.0",
            "box_style": "",
            "layout": "IPY_MODEL_b464f66b09fc4c44951a822b7851e7c0",
            "_model_module": "@jupyter-widgets/controls",
            "children": [
              "IPY_MODEL_1389af072fd745c8994d72933b6dd88c",
              "IPY_MODEL_f88e22b1e49d4892814c8aed3471168e",
              "IPY_MODEL_a523b0f5821f4262bc61966e96139f64"
            ]
          }
        },
        "b464f66b09fc4c44951a822b7851e7c0": {
          "model_module": "@jupyter-widgets/base",
          "model_name": "LayoutModel",
          "model_module_version": "1.2.0",
          "state": {
            "_view_name": "LayoutView",
            "grid_template_rows": null,
            "right": null,
            "justify_content": null,
            "_view_module": "@jupyter-widgets/base",
            "overflow": null,
            "_model_module_version": "1.2.0",
            "_view_count": null,
            "flex_flow": null,
            "width": null,
            "min_width": null,
            "border": null,
            "align_items": null,
            "bottom": null,
            "_model_module": "@jupyter-widgets/base",
            "top": null,
            "grid_column": null,
            "overflow_y": null,
            "overflow_x": null,
            "grid_auto_flow": null,
            "grid_area": null,
            "grid_template_columns": null,
            "flex": null,
            "_model_name": "LayoutModel",
            "justify_items": null,
            "grid_row": null,
            "max_height": null,
            "align_content": null,
            "visibility": null,
            "align_self": null,
            "height": null,
            "min_height": null,
            "padding": null,
            "grid_auto_rows": null,
            "grid_gap": null,
            "max_width": null,
            "order": null,
            "_view_module_version": "1.2.0",
            "grid_template_areas": null,
            "object_position": null,
            "object_fit": null,
            "grid_auto_columns": null,
            "margin": null,
            "display": null,
            "left": null
          }
        },
        "1389af072fd745c8994d72933b6dd88c": {
          "model_module": "@jupyter-widgets/controls",
          "model_name": "HTMLModel",
          "model_module_version": "1.5.0",
          "state": {
            "_view_name": "HTMLView",
            "style": "IPY_MODEL_6fb4e3a7f72340718ade1b03274b0366",
            "_dom_classes": [],
            "description": "",
            "_model_name": "HTMLModel",
            "placeholder": "​",
            "_view_module": "@jupyter-widgets/controls",
            "_model_module_version": "1.5.0",
            "value": "Adversarial training epochs: 100%",
            "_view_count": null,
            "_view_module_version": "1.5.0",
            "description_tooltip": null,
            "_model_module": "@jupyter-widgets/controls",
            "layout": "IPY_MODEL_5db8f8b5c54848c0b72489770766c65e"
          }
        },
        "f88e22b1e49d4892814c8aed3471168e": {
          "model_module": "@jupyter-widgets/controls",
          "model_name": "FloatProgressModel",
          "model_module_version": "1.5.0",
          "state": {
            "_view_name": "ProgressView",
            "style": "IPY_MODEL_9315c14606934a0790d93e028d3a8bc6",
            "_dom_classes": [],
            "description": "",
            "_model_name": "FloatProgressModel",
            "bar_style": "success",
            "max": 5,
            "_view_module": "@jupyter-widgets/controls",
            "_model_module_version": "1.5.0",
            "value": 5,
            "_view_count": null,
            "_view_module_version": "1.5.0",
            "orientation": "horizontal",
            "min": 0,
            "description_tooltip": null,
            "_model_module": "@jupyter-widgets/controls",
            "layout": "IPY_MODEL_ff1ccdcbb0e8416c838eb4ed249002c8"
          }
        },
        "a523b0f5821f4262bc61966e96139f64": {
          "model_module": "@jupyter-widgets/controls",
          "model_name": "HTMLModel",
          "model_module_version": "1.5.0",
          "state": {
            "_view_name": "HTMLView",
            "style": "IPY_MODEL_fd8c7670833d46a483bee977dd855955",
            "_dom_classes": [],
            "description": "",
            "_model_name": "HTMLModel",
            "placeholder": "​",
            "_view_module": "@jupyter-widgets/controls",
            "_model_module_version": "1.5.0",
            "value": " 5/5 [02:49&lt;00:00, 33.74s/it]",
            "_view_count": null,
            "_view_module_version": "1.5.0",
            "description_tooltip": null,
            "_model_module": "@jupyter-widgets/controls",
            "layout": "IPY_MODEL_6905b8e1eefa43c6b9ff3a180edbe81f"
          }
        },
        "6fb4e3a7f72340718ade1b03274b0366": {
          "model_module": "@jupyter-widgets/controls",
          "model_name": "DescriptionStyleModel",
          "model_module_version": "1.5.0",
          "state": {
            "_view_name": "StyleView",
            "_model_name": "DescriptionStyleModel",
            "description_width": "",
            "_view_module": "@jupyter-widgets/base",
            "_model_module_version": "1.5.0",
            "_view_count": null,
            "_view_module_version": "1.2.0",
            "_model_module": "@jupyter-widgets/controls"
          }
        },
        "5db8f8b5c54848c0b72489770766c65e": {
          "model_module": "@jupyter-widgets/base",
          "model_name": "LayoutModel",
          "model_module_version": "1.2.0",
          "state": {
            "_view_name": "LayoutView",
            "grid_template_rows": null,
            "right": null,
            "justify_content": null,
            "_view_module": "@jupyter-widgets/base",
            "overflow": null,
            "_model_module_version": "1.2.0",
            "_view_count": null,
            "flex_flow": null,
            "width": null,
            "min_width": null,
            "border": null,
            "align_items": null,
            "bottom": null,
            "_model_module": "@jupyter-widgets/base",
            "top": null,
            "grid_column": null,
            "overflow_y": null,
            "overflow_x": null,
            "grid_auto_flow": null,
            "grid_area": null,
            "grid_template_columns": null,
            "flex": null,
            "_model_name": "LayoutModel",
            "justify_items": null,
            "grid_row": null,
            "max_height": null,
            "align_content": null,
            "visibility": null,
            "align_self": null,
            "height": null,
            "min_height": null,
            "padding": null,
            "grid_auto_rows": null,
            "grid_gap": null,
            "max_width": null,
            "order": null,
            "_view_module_version": "1.2.0",
            "grid_template_areas": null,
            "object_position": null,
            "object_fit": null,
            "grid_auto_columns": null,
            "margin": null,
            "display": null,
            "left": null
          }
        },
        "9315c14606934a0790d93e028d3a8bc6": {
          "model_module": "@jupyter-widgets/controls",
          "model_name": "ProgressStyleModel",
          "model_module_version": "1.5.0",
          "state": {
            "_view_name": "StyleView",
            "_model_name": "ProgressStyleModel",
            "description_width": "",
            "_view_module": "@jupyter-widgets/base",
            "_model_module_version": "1.5.0",
            "_view_count": null,
            "_view_module_version": "1.2.0",
            "bar_color": null,
            "_model_module": "@jupyter-widgets/controls"
          }
        },
        "ff1ccdcbb0e8416c838eb4ed249002c8": {
          "model_module": "@jupyter-widgets/base",
          "model_name": "LayoutModel",
          "model_module_version": "1.2.0",
          "state": {
            "_view_name": "LayoutView",
            "grid_template_rows": null,
            "right": null,
            "justify_content": null,
            "_view_module": "@jupyter-widgets/base",
            "overflow": null,
            "_model_module_version": "1.2.0",
            "_view_count": null,
            "flex_flow": null,
            "width": null,
            "min_width": null,
            "border": null,
            "align_items": null,
            "bottom": null,
            "_model_module": "@jupyter-widgets/base",
            "top": null,
            "grid_column": null,
            "overflow_y": null,
            "overflow_x": null,
            "grid_auto_flow": null,
            "grid_area": null,
            "grid_template_columns": null,
            "flex": null,
            "_model_name": "LayoutModel",
            "justify_items": null,
            "grid_row": null,
            "max_height": null,
            "align_content": null,
            "visibility": null,
            "align_self": null,
            "height": null,
            "min_height": null,
            "padding": null,
            "grid_auto_rows": null,
            "grid_gap": null,
            "max_width": null,
            "order": null,
            "_view_module_version": "1.2.0",
            "grid_template_areas": null,
            "object_position": null,
            "object_fit": null,
            "grid_auto_columns": null,
            "margin": null,
            "display": null,
            "left": null
          }
        },
        "fd8c7670833d46a483bee977dd855955": {
          "model_module": "@jupyter-widgets/controls",
          "model_name": "DescriptionStyleModel",
          "model_module_version": "1.5.0",
          "state": {
            "_view_name": "StyleView",
            "_model_name": "DescriptionStyleModel",
            "description_width": "",
            "_view_module": "@jupyter-widgets/base",
            "_model_module_version": "1.5.0",
            "_view_count": null,
            "_view_module_version": "1.2.0",
            "_model_module": "@jupyter-widgets/controls"
          }
        },
        "6905b8e1eefa43c6b9ff3a180edbe81f": {
          "model_module": "@jupyter-widgets/base",
          "model_name": "LayoutModel",
          "model_module_version": "1.2.0",
          "state": {
            "_view_name": "LayoutView",
            "grid_template_rows": null,
            "right": null,
            "justify_content": null,
            "_view_module": "@jupyter-widgets/base",
            "overflow": null,
            "_model_module_version": "1.2.0",
            "_view_count": null,
            "flex_flow": null,
            "width": null,
            "min_width": null,
            "border": null,
            "align_items": null,
            "bottom": null,
            "_model_module": "@jupyter-widgets/base",
            "top": null,
            "grid_column": null,
            "overflow_y": null,
            "overflow_x": null,
            "grid_auto_flow": null,
            "grid_area": null,
            "grid_template_columns": null,
            "flex": null,
            "_model_name": "LayoutModel",
            "justify_items": null,
            "grid_row": null,
            "max_height": null,
            "align_content": null,
            "visibility": null,
            "align_self": null,
            "height": null,
            "min_height": null,
            "padding": null,
            "grid_auto_rows": null,
            "grid_gap": null,
            "max_width": null,
            "order": null,
            "_view_module_version": "1.2.0",
            "grid_template_areas": null,
            "object_position": null,
            "object_fit": null,
            "grid_auto_columns": null,
            "margin": null,
            "display": null,
            "left": null
          }
        }
      }
    }
  },
  "cells": [
    {
      "cell_type": "code",
      "source": [
        "!pip install adversarial-robustness-toolbox"
      ],
      "metadata": {
        "colab": {
          "base_uri": "https://localhost:8080/"
        },
        "id": "jyw0Xc5Jbums",
        "outputId": "5602d37c-7806-423c-9525-ff3fdd3e4d31"
      },
      "execution_count": null,
      "outputs": [
        {
          "output_type": "stream",
          "name": "stdout",
          "text": [
            "Collecting adversarial-robustness-toolbox\n",
            "  Downloading adversarial_robustness_toolbox-1.8.1-py3-none-any.whl (1.1 MB)\n",
            "\u001b[?25l\r\u001b[K     |▎                               | 10 kB 24.5 MB/s eta 0:00:01\r\u001b[K     |▋                               | 20 kB 31.9 MB/s eta 0:00:01\r\u001b[K     |█                               | 30 kB 23.5 MB/s eta 0:00:01\r\u001b[K     |█▏                              | 40 kB 18.3 MB/s eta 0:00:01\r\u001b[K     |█▌                              | 51 kB 10.8 MB/s eta 0:00:01\r\u001b[K     |█▉                              | 61 kB 9.0 MB/s eta 0:00:01\r\u001b[K     |██                              | 71 kB 9.8 MB/s eta 0:00:01\r\u001b[K     |██▍                             | 81 kB 10.9 MB/s eta 0:00:01\r\u001b[K     |██▊                             | 92 kB 9.1 MB/s eta 0:00:01\r\u001b[K     |███                             | 102 kB 9.9 MB/s eta 0:00:01\r\u001b[K     |███▎                            | 112 kB 9.9 MB/s eta 0:00:01\r\u001b[K     |███▋                            | 122 kB 9.9 MB/s eta 0:00:01\r\u001b[K     |███▉                            | 133 kB 9.9 MB/s eta 0:00:01\r\u001b[K     |████▏                           | 143 kB 9.9 MB/s eta 0:00:01\r\u001b[K     |████▌                           | 153 kB 9.9 MB/s eta 0:00:01\r\u001b[K     |████▊                           | 163 kB 9.9 MB/s eta 0:00:01\r\u001b[K     |█████                           | 174 kB 9.9 MB/s eta 0:00:01\r\u001b[K     |█████▍                          | 184 kB 9.9 MB/s eta 0:00:01\r\u001b[K     |█████▋                          | 194 kB 9.9 MB/s eta 0:00:01\r\u001b[K     |██████                          | 204 kB 9.9 MB/s eta 0:00:01\r\u001b[K     |██████▎                         | 215 kB 9.9 MB/s eta 0:00:01\r\u001b[K     |██████▌                         | 225 kB 9.9 MB/s eta 0:00:01\r\u001b[K     |██████▉                         | 235 kB 9.9 MB/s eta 0:00:01\r\u001b[K     |███████▏                        | 245 kB 9.9 MB/s eta 0:00:01\r\u001b[K     |███████▍                        | 256 kB 9.9 MB/s eta 0:00:01\r\u001b[K     |███████▊                        | 266 kB 9.9 MB/s eta 0:00:01\r\u001b[K     |████████                        | 276 kB 9.9 MB/s eta 0:00:01\r\u001b[K     |████████▎                       | 286 kB 9.9 MB/s eta 0:00:01\r\u001b[K     |████████▋                       | 296 kB 9.9 MB/s eta 0:00:01\r\u001b[K     |█████████                       | 307 kB 9.9 MB/s eta 0:00:01\r\u001b[K     |█████████▏                      | 317 kB 9.9 MB/s eta 0:00:01\r\u001b[K     |█████████▌                      | 327 kB 9.9 MB/s eta 0:00:01\r\u001b[K     |█████████▉                      | 337 kB 9.9 MB/s eta 0:00:01\r\u001b[K     |██████████                      | 348 kB 9.9 MB/s eta 0:00:01\r\u001b[K     |██████████▍                     | 358 kB 9.9 MB/s eta 0:00:01\r\u001b[K     |██████████▊                     | 368 kB 9.9 MB/s eta 0:00:01\r\u001b[K     |███████████                     | 378 kB 9.9 MB/s eta 0:00:01\r\u001b[K     |███████████▎                    | 389 kB 9.9 MB/s eta 0:00:01\r\u001b[K     |███████████▋                    | 399 kB 9.9 MB/s eta 0:00:01\r\u001b[K     |███████████▉                    | 409 kB 9.9 MB/s eta 0:00:01\r\u001b[K     |████████████▏                   | 419 kB 9.9 MB/s eta 0:00:01\r\u001b[K     |████████████▌                   | 430 kB 9.9 MB/s eta 0:00:01\r\u001b[K     |████████████▊                   | 440 kB 9.9 MB/s eta 0:00:01\r\u001b[K     |█████████████                   | 450 kB 9.9 MB/s eta 0:00:01\r\u001b[K     |█████████████▍                  | 460 kB 9.9 MB/s eta 0:00:01\r\u001b[K     |█████████████▋                  | 471 kB 9.9 MB/s eta 0:00:01\r\u001b[K     |██████████████                  | 481 kB 9.9 MB/s eta 0:00:01\r\u001b[K     |██████████████▎                 | 491 kB 9.9 MB/s eta 0:00:01\r\u001b[K     |██████████████▌                 | 501 kB 9.9 MB/s eta 0:00:01\r\u001b[K     |██████████████▉                 | 512 kB 9.9 MB/s eta 0:00:01\r\u001b[K     |███████████████▏                | 522 kB 9.9 MB/s eta 0:00:01\r\u001b[K     |███████████████▍                | 532 kB 9.9 MB/s eta 0:00:01\r\u001b[K     |███████████████▊                | 542 kB 9.9 MB/s eta 0:00:01\r\u001b[K     |████████████████                | 552 kB 9.9 MB/s eta 0:00:01\r\u001b[K     |████████████████▎               | 563 kB 9.9 MB/s eta 0:00:01\r\u001b[K     |████████████████▋               | 573 kB 9.9 MB/s eta 0:00:01\r\u001b[K     |█████████████████               | 583 kB 9.9 MB/s eta 0:00:01\r\u001b[K     |█████████████████▏              | 593 kB 9.9 MB/s eta 0:00:01\r\u001b[K     |█████████████████▌              | 604 kB 9.9 MB/s eta 0:00:01\r\u001b[K     |█████████████████▉              | 614 kB 9.9 MB/s eta 0:00:01\r\u001b[K     |██████████████████              | 624 kB 9.9 MB/s eta 0:00:01\r\u001b[K     |██████████████████▍             | 634 kB 9.9 MB/s eta 0:00:01\r\u001b[K     |██████████████████▊             | 645 kB 9.9 MB/s eta 0:00:01\r\u001b[K     |███████████████████             | 655 kB 9.9 MB/s eta 0:00:01\r\u001b[K     |███████████████████▎            | 665 kB 9.9 MB/s eta 0:00:01\r\u001b[K     |███████████████████▋            | 675 kB 9.9 MB/s eta 0:00:01\r\u001b[K     |███████████████████▉            | 686 kB 9.9 MB/s eta 0:00:01\r\u001b[K     |████████████████████▏           | 696 kB 9.9 MB/s eta 0:00:01\r\u001b[K     |████████████████████▌           | 706 kB 9.9 MB/s eta 0:00:01\r\u001b[K     |████████████████████▊           | 716 kB 9.9 MB/s eta 0:00:01\r\u001b[K     |█████████████████████           | 727 kB 9.9 MB/s eta 0:00:01\r\u001b[K     |█████████████████████▍          | 737 kB 9.9 MB/s eta 0:00:01\r\u001b[K     |█████████████████████▋          | 747 kB 9.9 MB/s eta 0:00:01\r\u001b[K     |██████████████████████          | 757 kB 9.9 MB/s eta 0:00:01\r\u001b[K     |██████████████████████▎         | 768 kB 9.9 MB/s eta 0:00:01\r\u001b[K     |██████████████████████▌         | 778 kB 9.9 MB/s eta 0:00:01\r\u001b[K     |██████████████████████▉         | 788 kB 9.9 MB/s eta 0:00:01\r\u001b[K     |███████████████████████▏        | 798 kB 9.9 MB/s eta 0:00:01\r\u001b[K     |███████████████████████▍        | 808 kB 9.9 MB/s eta 0:00:01\r\u001b[K     |███████████████████████▊        | 819 kB 9.9 MB/s eta 0:00:01\r\u001b[K     |████████████████████████        | 829 kB 9.9 MB/s eta 0:00:01\r\u001b[K     |████████████████████████▎       | 839 kB 9.9 MB/s eta 0:00:01\r\u001b[K     |████████████████████████▋       | 849 kB 9.9 MB/s eta 0:00:01\r\u001b[K     |█████████████████████████       | 860 kB 9.9 MB/s eta 0:00:01\r\u001b[K     |█████████████████████████▏      | 870 kB 9.9 MB/s eta 0:00:01\r\u001b[K     |█████████████████████████▌      | 880 kB 9.9 MB/s eta 0:00:01\r\u001b[K     |█████████████████████████▉      | 890 kB 9.9 MB/s eta 0:00:01\r\u001b[K     |██████████████████████████      | 901 kB 9.9 MB/s eta 0:00:01\r\u001b[K     |██████████████████████████▍     | 911 kB 9.9 MB/s eta 0:00:01\r\u001b[K     |██████████████████████████▊     | 921 kB 9.9 MB/s eta 0:00:01\r\u001b[K     |███████████████████████████     | 931 kB 9.9 MB/s eta 0:00:01\r\u001b[K     |███████████████████████████▎    | 942 kB 9.9 MB/s eta 0:00:01\r\u001b[K     |███████████████████████████▋    | 952 kB 9.9 MB/s eta 0:00:01\r\u001b[K     |████████████████████████████    | 962 kB 9.9 MB/s eta 0:00:01\r\u001b[K     |████████████████████████████▏   | 972 kB 9.9 MB/s eta 0:00:01\r\u001b[K     |████████████████████████████▌   | 983 kB 9.9 MB/s eta 0:00:01\r\u001b[K     |████████████████████████████▉   | 993 kB 9.9 MB/s eta 0:00:01\r\u001b[K     |█████████████████████████████   | 1.0 MB 9.9 MB/s eta 0:00:01\r\u001b[K     |█████████████████████████████▍  | 1.0 MB 9.9 MB/s eta 0:00:01\r\u001b[K     |█████████████████████████████▊  | 1.0 MB 9.9 MB/s eta 0:00:01\r\u001b[K     |██████████████████████████████  | 1.0 MB 9.9 MB/s eta 0:00:01\r\u001b[K     |██████████████████████████████▎ | 1.0 MB 9.9 MB/s eta 0:00:01\r\u001b[K     |██████████████████████████████▋ | 1.1 MB 9.9 MB/s eta 0:00:01\r\u001b[K     |██████████████████████████████▉ | 1.1 MB 9.9 MB/s eta 0:00:01\r\u001b[K     |███████████████████████████████▏| 1.1 MB 9.9 MB/s eta 0:00:01\r\u001b[K     |███████████████████████████████▌| 1.1 MB 9.9 MB/s eta 0:00:01\r\u001b[K     |███████████████████████████████▊| 1.1 MB 9.9 MB/s eta 0:00:01\r\u001b[K     |████████████████████████████████| 1.1 MB 9.9 MB/s \n",
            "\u001b[?25hRequirement already satisfied: six in /usr/local/lib/python3.7/dist-packages (from adversarial-robustness-toolbox) (1.15.0)\n",
            "Requirement already satisfied: tqdm in /usr/local/lib/python3.7/dist-packages (from adversarial-robustness-toolbox) (4.62.3)\n",
            "Collecting numba>=0.53.1\n",
            "  Downloading numba-0.54.1-cp37-cp37m-manylinux2014_x86_64.manylinux_2_17_x86_64.whl (3.3 MB)\n",
            "\u001b[K     |████████████████████████████████| 3.3 MB 53.9 MB/s \n",
            "\u001b[?25hRequirement already satisfied: setuptools in /usr/local/lib/python3.7/dist-packages (from adversarial-robustness-toolbox) (57.4.0)\n",
            "Requirement already satisfied: scipy>=1.4.1 in /usr/local/lib/python3.7/dist-packages (from adversarial-robustness-toolbox) (1.4.1)\n",
            "Requirement already satisfied: scikit-learn<1.1.0,>=0.22.2 in /usr/local/lib/python3.7/dist-packages (from adversarial-robustness-toolbox) (1.0.1)\n",
            "Requirement already satisfied: numpy>=1.18.0 in /usr/local/lib/python3.7/dist-packages (from adversarial-robustness-toolbox) (1.19.5)\n",
            "Collecting llvmlite<0.38,>=0.37.0rc1\n",
            "  Downloading llvmlite-0.37.0-cp37-cp37m-manylinux2014_x86_64.whl (26.3 MB)\n",
            "\u001b[K     |████████████████████████████████| 26.3 MB 1.4 MB/s \n",
            "\u001b[?25hRequirement already satisfied: joblib>=0.11 in /usr/local/lib/python3.7/dist-packages (from scikit-learn<1.1.0,>=0.22.2->adversarial-robustness-toolbox) (1.1.0)\n",
            "Requirement already satisfied: threadpoolctl>=2.0.0 in /usr/local/lib/python3.7/dist-packages (from scikit-learn<1.1.0,>=0.22.2->adversarial-robustness-toolbox) (3.0.0)\n",
            "Installing collected packages: llvmlite, numba, adversarial-robustness-toolbox\n",
            "  Attempting uninstall: llvmlite\n",
            "    Found existing installation: llvmlite 0.34.0\n",
            "    Uninstalling llvmlite-0.34.0:\n",
            "      Successfully uninstalled llvmlite-0.34.0\n",
            "  Attempting uninstall: numba\n",
            "    Found existing installation: numba 0.51.2\n",
            "    Uninstalling numba-0.51.2:\n",
            "      Successfully uninstalled numba-0.51.2\n",
            "Successfully installed adversarial-robustness-toolbox-1.8.1 llvmlite-0.37.0 numba-0.54.1\n"
          ]
        }
      ]
    },
    {
      "cell_type": "code",
      "source": [
        "!pip install -U 'fsspec>=0.3.3'"
      ],
      "metadata": {
        "colab": {
          "base_uri": "https://localhost:8080/"
        },
        "id": "rcH-0KwLcF3a",
        "outputId": "5abe5283-2a7e-4d1f-ac48-4bcead1ad054"
      },
      "execution_count": null,
      "outputs": [
        {
          "output_type": "stream",
          "name": "stdout",
          "text": [
            "Collecting fsspec>=0.3.3\n",
            "  Downloading fsspec-2021.11.1-py3-none-any.whl (132 kB)\n",
            "\u001b[?25l\r\u001b[K     |██▌                             | 10 kB 33.2 MB/s eta 0:00:01\r\u001b[K     |█████                           | 20 kB 18.7 MB/s eta 0:00:01\r\u001b[K     |███████▍                        | 30 kB 16.4 MB/s eta 0:00:01\r\u001b[K     |█████████▉                      | 40 kB 14.1 MB/s eta 0:00:01\r\u001b[K     |████████████▎                   | 51 kB 7.0 MB/s eta 0:00:01\r\u001b[K     |██████████████▉                 | 61 kB 8.2 MB/s eta 0:00:01\r\u001b[K     |█████████████████▎              | 71 kB 7.9 MB/s eta 0:00:01\r\u001b[K     |███████████████████▊            | 81 kB 8.8 MB/s eta 0:00:01\r\u001b[K     |██████████████████████▏         | 92 kB 9.2 MB/s eta 0:00:01\r\u001b[K     |████████████████████████▋       | 102 kB 7.0 MB/s eta 0:00:01\r\u001b[K     |███████████████████████████     | 112 kB 7.0 MB/s eta 0:00:01\r\u001b[K     |█████████████████████████████▋  | 122 kB 7.0 MB/s eta 0:00:01\r\u001b[K     |████████████████████████████████| 132 kB 7.0 MB/s \n",
            "\u001b[?25hInstalling collected packages: fsspec\n",
            "Successfully installed fsspec-2021.11.1\n"
          ]
        }
      ]
    },
    {
      "cell_type": "code",
      "execution_count": null,
      "metadata": {
        "id": "S7OOHZm_JePe"
      },
      "outputs": [],
      "source": [
        "import art.utils\n",
        "import numpy as np\n",
        "from art.defences.preprocessor import FeatureSqueezing, JpegCompression, SpatialSmoothing\n",
        "\n",
        "import tracemalloc\n",
        "import pandas as pd\n",
        "import dask.dataframe as dd\n",
        "import time\n",
        "import matplotlib.pyplot as plt"
      ]
    },
    {
      "cell_type": "code",
      "source": [
        "import tensorflow as tf\n",
        "import tensorflow_hub as hub\n",
        "\n",
        "import numpy as np\n",
        "import matplotlib.pyplot as plt\n",
        "\n",
        "\n",
        "import os\n",
        "from art.estimators.classification import KerasClassifier\n",
        "import art.utils\n",
        "import  sklearn.metrics\n",
        "import sklearn\n",
        "from art.attacks.extraction import *\n",
        "from art.attacks.evasion import FastGradientMethod\n",
        "from art.attacks.evasion import FastGradientMethod, ProjectedGradientDescent, DeepFool, CarliniL2Method,BrendelBethgeAttack\n",
        "from art.attacks.evasion import BoundaryAttack\n",
        "tf.compat.v1.disable_eager_execution()\n",
        "%matplotlib inline \n"
      ],
      "metadata": {
        "id": "IgZ-7SibeGIQ"
      },
      "execution_count": null,
      "outputs": []
    },
    {
      "cell_type": "code",
      "source": [
        "def tracing_start():\n",
        "    tracemalloc.stop()\n",
        "    print(\"nTracing Status : \", tracemalloc.is_tracing())\n",
        "    tracemalloc.start()\n",
        "    print(\"Tracing Status : \", tracemalloc.is_tracing())\n",
        "def tracing_mem():\n",
        "    first_size, first_peak = tracemalloc.get_traced_memory()\n",
        "    peak = first_peak/(1024*1024)\n",
        "    print(\"Peak Size in MB - \", peak)"
      ],
      "metadata": {
        "id": "niHhyFVvbrjh"
      },
      "execution_count": null,
      "outputs": []
    },
    {
      "cell_type": "code",
      "source": [
        "(x_train, y_train), (x_test, y_test), min_, max_ = art.utils.load_dataset(str(\"cifar10\")) \n",
        "\n",
        "print(\"x_train shape: \" + str(x_train.shape) + \"\\n\" + \"x_train size: \" + str(x_train.size))\n",
        "\n",
        "print(\"y_train shape: \" + str(y_train.shape) + \"\\n\" + \"x_train size: \" + str(y_train.size))\n",
        "\n",
        "print(\"x_test shape: \" + str(x_test.shape) + \"\\n\" + \"x_train size: \" + str(x_test.size))\n",
        "\n",
        "print(\"y_test shape: \" + str(y_test.shape) + \"\\n\" + \"x_train size: \" + str(y_test.size))"
      ],
      "metadata": {
        "colab": {
          "base_uri": "https://localhost:8080/"
        },
        "id": "YxJsiRi4c9r_",
        "outputId": "f3896d5d-e093-44c0-9ea2-4d8a7098213c"
      },
      "execution_count": null,
      "outputs": [
        {
          "output_type": "stream",
          "name": "stdout",
          "text": [
            "x_train shape: (50000, 32, 32, 3)\n",
            "x_train size: 153600000\n",
            "y_train shape: (50000, 10)\n",
            "x_train size: 500000\n",
            "x_test shape: (10000, 32, 32, 3)\n",
            "x_train size: 30720000\n",
            "y_test shape: (10000, 10)\n",
            "x_train size: 100000\n"
          ]
        }
      ]
    },
    {
      "cell_type": "code",
      "source": [
        "# make a subset of test data\n",
        "idx = np.arange(len(x_test))\n",
        "subset_x_test = []\n",
        "subset_y_test = []\n",
        "y_label = np.where(y_test > 0)[1]\n",
        "for i in range(10):\n",
        "    mask = y_label == i\n",
        "    subset_y_test.append(y_test[mask][10:20])\n",
        "    subset_x_test.append(x_test[mask][10:20])\n",
        "\n",
        "subset_x_test = np.concatenate(subset_x_test,axis=0)\n",
        "subset_y_test = np.concatenate(subset_y_test,axis=0)"
      ],
      "metadata": {
        "id": "0I5RlgDwdErQ"
      },
      "execution_count": null,
      "outputs": []
    },
    {
      "cell_type": "code",
      "source": [
        "#from collections import Counter\n",
        "#print(Counter(list(subset_y_test)))\n",
        "type(subset_y_test)\n",
        "subset_y_test.shape"
      ],
      "metadata": {
        "colab": {
          "base_uri": "https://localhost:8080/"
        },
        "id": "4InO3Il2dHNu",
        "outputId": "f867c17e-47af-4dbc-983d-a365a95de909"
      },
      "execution_count": null,
      "outputs": [
        {
          "output_type": "execute_result",
          "data": {
            "text/plain": [
              "(100, 10)"
            ]
          },
          "metadata": {},
          "execution_count": 8
        }
      ]
    },
    {
      "cell_type": "code",
      "source": [
        "# visualize data by plotting images\n",
        "print(\"Subset of Original Test Images\")\n",
        "fig, ax = plt.subplots(10, 10, figsize=(12,8))\n",
        "k = 0\n",
        "for i in range(10):\n",
        "    for j in range(10):\n",
        "        ax[i][j].imshow(subset_x_test[k], aspect='auto')\n",
        "        k += 1\n",
        "plt.show()"
      ],
      "metadata": {
        "colab": {
          "base_uri": "https://localhost:8080/",
          "height": 503
        },
        "id": "6ovLcoPvdKJg",
        "outputId": "f736ef3b-debe-4eef-936b-0b4138b407b5"
      },
      "execution_count": null,
      "outputs": [
        {
          "output_type": "stream",
          "name": "stdout",
          "text": [
            "Subset of Original Test Images\n"
          ]
        },
        {
          "output_type": "display_data",
          "data": {
            "image/png": "[encoded data removed]",
            "text/plain": [
              "<Figure size 864x576 with 100 Axes>"
            ]
          },
          "metadata": {
            "needs_background": "light"
          }
        }
      ]
    },
    {
      "cell_type": "code",
      "source": [
        "model_url = \"https://tfhub.dev/deepmind/ganeval-cifar10-convnet/1\"\n",
        "model = hub.KerasLayer(model_url, input_shape=(32, 32, 3))\n",
        "victim_model = tf.keras.Sequential([\n",
        "        model,\n",
        "        tf.keras.layers.Activation('softmax')\n",
        "])\n",
        "\n",
        "victim_model.compile(loss=\"categorical_crossentropy\", optimizer=\"adam\", metrics=[\"accuracy\"])\n",
        "victim_model.summary()\n",
        "victim_classifier = KerasClassifier(model=victim_model, clip_values=(0., 1.))"
      ],
      "metadata": {
        "colab": {
          "base_uri": "https://localhost:8080/"
        },
        "id": "O6j1eXBId-oD",
        "outputId": "bd9df070-ac08-4a0c-bb24-9d79d504b12f"
      },
      "execution_count": null,
      "outputs": [
        {
          "output_type": "stream",
          "name": "stdout",
          "text": [
            "Model: \"sequential\"\n",
            "_________________________________________________________________\n",
            " Layer (type)                Output Shape              Param #   \n",
            "=================================================================\n",
            " keras_layer (KerasLayer)    (None, 10)                7796426   \n",
            "                                                                 \n",
            " activation (Activation)     (None, 10)                0         \n",
            "                                                                 \n",
            "=================================================================\n",
            "Total params: 7,796,426\n",
            "Trainable params: 0\n",
            "Non-trainable params: 7,796,426\n",
            "_________________________________________________________________\n"
          ]
        }
      ]
    },
    {
      "cell_type": "code",
      "source": [
        "predictions = victim_classifier.predict(x_test) \n",
        "dependent_maxvalue = np.argmax(y_test, axis=1)\n",
        "predict_maxvalue = np.argmax(predictions, axis=1)\n",
        "\n",
        "# calculates the accuracy of the predictions\n",
        "begin_example_accuracy = np.sum(predict_maxvalue == dependent_maxvalue) / len(y_test) \n",
        "acc_rate = begin_example_accuracy * 100\n",
        "\n",
        "print(\"Accuracy for classifier on original test set: {}%\\n\".format(acc_rate))"
      ],
      "metadata": {
        "colab": {
          "base_uri": "https://localhost:8080/"
        },
        "id": "G49m_o1Te4Js",
        "outputId": "2e44c922-e3d3-4867-e1ca-2719c0cf15e1"
      },
      "execution_count": null,
      "outputs": [
        {
          "output_type": "stream",
          "name": "stderr",
          "text": [
            "/usr/local/lib/python3.7/dist-packages/keras/engine/training_v1.py:2079: UserWarning: `Model.state_updates` will be removed in a future version. This property should not be used in TensorFlow 2.0, as `updates` are applied automatically.\n",
            "  updates=self.state_updates,\n"
          ]
        },
        {
          "output_type": "stream",
          "name": "stdout",
          "text": [
            "Accuracy for classifier on original test set: 94.52000000000001%\n",
            "\n"
          ]
        }
      ]
    },
    {
      "cell_type": "code",
      "source": [
        "# accuracy on original subset of test set\n",
        "\n",
        "predictions = victim_classifier.predict(subset_x_test) \n",
        "dependent_maxvalue = np.argmax(subset_y_test, axis=1)\n",
        "predict_maxvalue = np.argmax(predictions, axis=1)\n",
        "\n",
        "# calculates the accuracy of the predictions\n",
        "begin_example_accuracy = np.sum(predict_maxvalue == dependent_maxvalue) / len(subset_y_test) \n",
        "acc_rate = begin_example_accuracy * 100\n",
        "\n",
        "print(\"Accuracy for classifier on original subset of test set: {}%\\n\".format(acc_rate))"
      ],
      "metadata": {
        "colab": {
          "base_uri": "https://localhost:8080/"
        },
        "id": "wsCph-rmdiDD",
        "outputId": "11562346-3b58-4501-f835-9de7d6a4e294"
      },
      "execution_count": null,
      "outputs": [
        {
          "output_type": "stream",
          "name": "stdout",
          "text": [
            "Accuracy for classifier on original subset of test set: 97.0%\n",
            "\n"
          ]
        }
      ]
    },
    {
      "cell_type": "markdown",
      "source": [
        "# FeatureSqueezing"
      ],
      "metadata": {
        "id": "vujBDU52czyy"
      }
    },
    {
      "cell_type": "code",
      "source": [
        "preproc = FeatureSqueezing(clip_values=(0, 1), bit_depth=2)\n",
        "x_squeezed, _ = preproc(subset_x_test)\n",
        "\n",
        "# Evaluate the classifier on the adversarial examples\n",
        "preds = np.argmax(\n",
        "    victim_classifier.predict(x_squeezed), axis=1)\n",
        "acc = np.sum(preds == np.argmax(subset_y_test, axis=1)) / subset_y_test.shape[0]\n",
        "print(\"\\n Accuracy of classifier on Original Subset after FeatureSqueezing: %.2f%%\" % (acc * 100))"
      ],
      "metadata": {
        "colab": {
          "base_uri": "https://localhost:8080/"
        },
        "id": "72yOQc6wcuRC",
        "outputId": "6f63101e-ea75-4145-eb70-702da8e4f676"
      },
      "execution_count": null,
      "outputs": [
        {
          "output_type": "stream",
          "name": "stdout",
          "text": [
            "\n",
            " Accuracy of classifier on Original Subset after FeatureSqueezing: 50.00%\n"
          ]
        }
      ]
    },
    {
      "cell_type": "markdown",
      "source": [
        "FGSM ATTACK"
      ],
      "metadata": {
        "id": "mdzxM1jCffyb"
      }
    },
    {
      "cell_type": "code",
      "source": [
        "import time\n",
        "# FGSM attack on subset of test set\n",
        "# Craft adversarial samples with FGSM\n",
        "epsilon = 0.1  # Maximum perturbation\n",
        "adv_crafter_fgsm = FastGradientMethod(victim_classifier, eps=epsilon)\n",
        "\n",
        "start = time.time()\n",
        "x_sub_test_adv_fgsm = adv_crafter_fgsm.generate(x=subset_x_test)\n",
        "end = time.time()\n",
        "print (\"Time elapsed in seconds to generate FGSM adversarial inputs:\", end - start)\n",
        "\n",
        "# Evaluate the classifier on the adversarial examples\n",
        "preds = np.argmax(victim_classifier.predict(x_sub_test_adv_fgsm), axis=1)\n",
        "acc = np.sum(preds == np.argmax(subset_y_test, axis=1)) / subset_y_test.shape[0]\n",
        "print(\"\\n Accuracy of classifier on subset of test set for FGSM attack: %.2f%%\" % (acc * 100))"
      ],
      "metadata": {
        "colab": {
          "base_uri": "https://localhost:8080/"
        },
        "id": "UhKGZdXufExG",
        "outputId": "4ce2ef6b-cb93-481e-ecfd-11bb951f405c"
      },
      "execution_count": null,
      "outputs": [
        {
          "output_type": "stream",
          "name": "stdout",
          "text": [
            "Time elapsed in seconds to generate FGSM adversarial inputs: 1.5015537738800049\n",
            "\n",
            " Accuracy of classifier on subset of test set for FGSM attack: 14.00%\n"
          ]
        }
      ]
    },
    {
      "cell_type": "code",
      "source": [
        "tracing_start()\n",
        "start = time.time()\n",
        "\n",
        "preproc = FeatureSqueezing(clip_values=(0, 1), bit_depth=2)\n",
        "x_squeezed_fgsm, _ = preproc(x_sub_test_adv_fgsm)\n",
        "\n",
        "end = time.time()\n",
        "print(\"time elapsed {} milli seconds\".format((end-start)*1000))\n",
        "tracing_mem()\n",
        "\n",
        "# Evaluate the classifier on the adversarial examples\n",
        "preds = np.argmax(victim_classifier.predict(x_squeezed_fgsm), axis=1)\n",
        "acc = np.sum(preds == np.argmax(subset_y_test, axis=1)) / subset_y_test.shape[0]\n",
        "print(\"\\n Accuracy of classifier on FGSM Perturbed Subset after FeatureSqueezing: %.2f%%\" % (acc * 100))"
      ],
      "metadata": {
        "colab": {
          "base_uri": "https://localhost:8080/"
        },
        "id": "KDxkCP1Cc2Q5",
        "outputId": "0cdbf361-0a57-47e9-9396-98495d2675e2"
      },
      "execution_count": null,
      "outputs": [
        {
          "output_type": "stream",
          "name": "stdout",
          "text": [
            "nTracing Status :  False\n",
            "Tracing Status :  True\n",
            "time elapsed 4.778861999511719 milli seconds\n",
            "Peak Size in MB -  3.5491981506347656\n",
            "\n",
            " Accuracy of classifier on FGSM Perturbed Subset after FeatureSqueezing: 12.00%\n"
          ]
        }
      ]
    },
    {
      "cell_type": "code",
      "source": [
        "x_squeezed_fgsm.shape\n",
        "plt.figure(figsize = (2,2))\n",
        "plt.imshow(x_squeezed_fgsm[5])\n",
        "\n",
        "plt.figure(figsize = (2,2))\n",
        "plt.imshow(subset_x_test[5])"
      ],
      "metadata": {
        "colab": {
          "base_uri": "https://localhost:8080/",
          "height": 318
        },
        "id": "rIWf-h1xgjcQ",
        "outputId": "eb1af136-29c4-4c38-e8d4-cee3ea6f9459"
      },
      "execution_count": null,
      "outputs": [
        {
          "output_type": "execute_result",
          "data": {
            "text/plain": [
              "<matplotlib.image.AxesImage at 0x7f2940458210>"
            ]
          },
          "metadata": {},
          "execution_count": 16
        },
        {
          "output_type": "display_data",
          "data": {
            "image/png": "[encoded data removed]",
            "text/plain": [
              "<Figure size 144x144 with 1 Axes>"
            ]
          },
          "metadata": {
            "needs_background": "light"
          }
        },
        {
          "output_type": "display_data",
          "data": {
            "image/png": "[encoded data removed]",
            "text/plain": [
              "<Figure size 144x144 with 1 Axes>"
            ]
          },
          "metadata": {
            "needs_background": "light"
          }
        }
      ]
    },
    {
      "cell_type": "markdown",
      "source": [
        "DeepFool"
      ],
      "metadata": {
        "id": "7Rg-X81rfiTd"
      }
    },
    {
      "cell_type": "code",
      "source": [
        "adv_crafter_deepfool = DeepFool(victim_classifier, max_iter=100, verbose=False)\n",
        "\n",
        "start = time.time()\n",
        "x_sub_test_adv_deepfool = adv_crafter_deepfool.generate(x=subset_x_test)\n",
        "end = time.time()\n",
        "print (\"Time elapsed in seconds to generate deepfool adversarial inputs:\", end - start)\n",
        "\n",
        "# Evaluate the classifier on the adversarial examples\n",
        "preds = np.argmax(victim_classifier.predict(x_sub_test_adv_deepfool), axis=1)\n",
        "acc = np.sum(preds == np.argmax(subset_y_test, axis=1)) / subset_y_test.shape[0]\n",
        "print(\"\\n Accuracy of Classifier on Subset of Test Images for DeepFool Attack: %.2f%%\" % (acc * 100))"
      ],
      "metadata": {
        "colab": {
          "base_uri": "https://localhost:8080/"
        },
        "id": "m9SO7LW2fBFW",
        "outputId": "1db0b503-c188-4a0b-9fba-7213af608143"
      },
      "execution_count": null,
      "outputs": [
        {
          "output_type": "stream",
          "name": "stderr",
          "text": [
            "WARNING:art.attacks.evasion.deepfool:It seems that the attacked model is predicting probabilities. DeepFool expects logits as model output to achieve its full attack strength.\n"
          ]
        },
        {
          "output_type": "stream",
          "name": "stdout",
          "text": [
            "Time elapsed in seconds to generate deepfool adversarial inputs: 21.73545479774475\n",
            "\n",
            " Accuracy of Classifier on Subset of Test Images for DeepFool Attack: 6.00%\n"
          ]
        }
      ]
    },
    {
      "cell_type": "code",
      "source": [
        "tracing_start()\n",
        "start = time.time()\n",
        "\n",
        "preproc = FeatureSqueezing(clip_values=(0, 1), bit_depth=2)\n",
        "x_squeezed_deepfool, _ = preproc(x_sub_test_adv_deepfool)\n",
        "\n",
        "end = time.time()\n",
        "print(\"time elapsed {} milli seconds\".format((end-start)*1000))\n",
        "tracing_mem()\n",
        "\n",
        "# Evaluate the classifier on the adversarial examples\n",
        "preds = np.argmax(victim_classifier.predict(x_squeezed_deepfool), axis=1)\n",
        "acc = np.sum(preds == np.argmax(subset_y_test, axis=1)) / subset_y_test.shape[0]\n",
        "print(\"\\n Accuracy of classifier on DeepFool Perturbed Subset after FeatureSqueezing: %.2f%%\" % (acc * 100))"
      ],
      "metadata": {
        "colab": {
          "base_uri": "https://localhost:8080/"
        },
        "id": "YRHwPL9YfeCA",
        "outputId": "da1bd98f-8b18-4541-e41f-0627088cb2d6"
      },
      "execution_count": null,
      "outputs": [
        {
          "output_type": "stream",
          "name": "stdout",
          "text": [
            "nTracing Status :  False\n",
            "Tracing Status :  True\n",
            "time elapsed 6.305456161499023 milli seconds\n",
            "Peak Size in MB -  3.553478240966797\n",
            "\n",
            " Accuracy of classifier on DeepFool Perturbed Subset after FeatureSqueezing: 15.00%\n"
          ]
        }
      ]
    },
    {
      "cell_type": "code",
      "source": [
        "x_squeezed_deepfool.shape\n",
        "plt.figure(figsize = (2,2))\n",
        "plt.imshow(x_squeezed_deepfool[5])\n",
        "\n",
        "plt.figure(figsize = (2,2))\n",
        "plt.imshow(subset_x_test[5])"
      ],
      "metadata": {
        "colab": {
          "base_uri": "https://localhost:8080/",
          "height": 318
        },
        "id": "Gp-YLRERhCnc",
        "outputId": "de3c7603-bb6a-464d-94fa-d31bb5190585"
      },
      "execution_count": null,
      "outputs": [
        {
          "output_type": "execute_result",
          "data": {
            "text/plain": [
              "<matplotlib.image.AxesImage at 0x7f28d6640210>"
            ]
          },
          "metadata": {},
          "execution_count": 19
        },
        {
          "output_type": "display_data",
          "data": {
            "image/png": "[encoded data removed]",
            "text/plain": [
              "<Figure size 144x144 with 1 Axes>"
            ]
          },
          "metadata": {
            "needs_background": "light"
          }
        },
        {
          "output_type": "display_data",
          "data": {
            "image/png": "[encoded data removed]",
            "text/plain": [
              "<Figure size 144x144 with 1 Axes>"
            ]
          },
          "metadata": {
            "needs_background": "light"
          }
        }
      ]
    },
    {
      "cell_type": "markdown",
      "source": [
        "Carlini"
      ],
      "metadata": {
        "id": "4Pp5W5GWgQSC"
      }
    },
    {
      "cell_type": "code",
      "source": [
        "# Carlini attack on subset of test set\n",
        "\n",
        "adv_crafter_carlini = CarliniL2Method(victim_classifier, max_iter=1, verbose=False)\n",
        "start = time.time()\n",
        "x_sub_test_adv_carlini = adv_crafter_carlini.generate(x=subset_x_test)\n",
        "end = time.time()\n",
        "print (\"Time elapsed in seconds to generate carliniL2method adversarial inputs:\", end - start)\n",
        "\n",
        "\n",
        "# Evaluate the classifier on the adversarial examples\n",
        "preds = np.argmax(victim_classifier.predict(x_sub_test_adv_carlini), axis=1)\n",
        "acc = np.sum(preds == np.argmax(subset_y_test, axis=1)) / subset_y_test.shape[0]\n",
        "print(\"\\n Accuracy of Classifier on Subset of Test Images for CarliniL2Method Attack: %.2f%%\" % (acc * 100))"
      ],
      "metadata": {
        "colab": {
          "base_uri": "https://localhost:8080/"
        },
        "id": "xOq3ns-0gDdJ",
        "outputId": "2f4dccb8-42da-4f68-fa3f-70be50188e2c"
      },
      "execution_count": null,
      "outputs": [
        {
          "output_type": "stream",
          "name": "stdout",
          "text": [
            "Time elapsed in seconds to generate carliniL2method adversarial inputs: 65.66892886161804\n",
            "\n",
            " Accuracy of Classifier on Subset of Test Images for CarliniL2Method Attack: 79.00%\n"
          ]
        }
      ]
    },
    {
      "cell_type": "code",
      "source": [
        "tracing_start()\n",
        "start = time.time()\n",
        "\n",
        "preproc = FeatureSqueezing(clip_values=(0, 1), bit_depth=2)\n",
        "x_squeezed_carlini, _ = preproc(x_sub_test_adv_carlini)\n",
        "\n",
        "end = time.time()\n",
        "print(\"time elapsed {} milli seconds\".format((end-start)*1000))\n",
        "tracing_mem()\n",
        "\n",
        "# Evaluate the classifier on the adversarial examples\n",
        "preds = np.argmax(victim_classifier.predict(x_squeezed_carlini), axis=1)\n",
        "acc = np.sum(preds == np.argmax(subset_y_test, axis=1)) / subset_y_test.shape[0]\n",
        "print(\"\\n Accuracy of classifier on Carlini Perturbed Subset after FeatureSqueezing: %.2f%%\" % (acc * 100))"
      ],
      "metadata": {
        "colab": {
          "base_uri": "https://localhost:8080/"
        },
        "id": "X3vHSvzQgTen",
        "outputId": "dda87941-d892-4e96-fa83-5a99c603056e"
      },
      "execution_count": null,
      "outputs": [
        {
          "output_type": "stream",
          "name": "stdout",
          "text": [
            "nTracing Status :  False\n",
            "Tracing Status :  True\n",
            "time elapsed 5.348920822143555 milli seconds\n",
            "Peak Size in MB -  3.549663543701172\n",
            "\n",
            " Accuracy of classifier on Carlini Perturbed Subset after FeatureSqueezing: 50.00%\n"
          ]
        }
      ]
    },
    {
      "cell_type": "code",
      "source": [
        "x_squeezed_carlini.shape\n",
        "plt.figure(figsize = (2,2))\n",
        "plt.imshow(x_squeezed_carlini[5])\n",
        "\n",
        "plt.figure(figsize = (2,2))\n",
        "plt.imshow(subset_x_test[5])"
      ],
      "metadata": {
        "colab": {
          "base_uri": "https://localhost:8080/",
          "height": 318
        },
        "id": "_YoX8HrGhJ6P",
        "outputId": "4520c3fc-6a15-4859-81dd-d718ef4675b0"
      },
      "execution_count": null,
      "outputs": [
        {
          "output_type": "execute_result",
          "data": {
            "text/plain": [
              "<matplotlib.image.AxesImage at 0x7f28d6270550>"
            ]
          },
          "metadata": {},
          "execution_count": 22
        },
        {
          "output_type": "display_data",
          "data": {
            "image/png": "[encoded data removed]",
            "text/plain": [
              "<Figure size 144x144 with 1 Axes>"
            ]
          },
          "metadata": {
            "needs_background": "light"
          }
        },
        {
          "output_type": "display_data",
          "data": {
            "image/png": "[encoded data removed]",
            "text/plain": [
              "<Figure size 144x144 with 1 Axes>"
            ]
          },
          "metadata": {
            "needs_background": "light"
          }
        }
      ]
    },
    {
      "cell_type": "markdown",
      "source": [
        "# GaussianAugmentation\n"
      ],
      "metadata": {
        "id": "jBt5aau5g-sg"
      }
    },
    {
      "cell_type": "code",
      "source": [
        "from art.defences.preprocessor import GaussianAugmentation"
      ],
      "metadata": {
        "id": "wBkZGMSQgmey"
      },
      "execution_count": null,
      "outputs": []
    },
    {
      "cell_type": "code",
      "source": [
        "ga = GaussianAugmentation(augmentation=False, ratio=1, sigma=.02)\n",
        "x_ga, _ = ga(subset_x_test)\n",
        "\n",
        "# Evaluate the classifier on the adversarial examples\n",
        "preds = np.argmax(\n",
        "    victim_classifier.predict(x_ga), axis=1)\n",
        "acc = np.sum(preds == np.argmax(subset_y_test, axis=1)) / subset_y_test.shape[0]\n",
        "print(\"\\n Accuracy of classifier on Original Subset after GaussianAugmentation: %.2f%%\" % (acc * 100))"
      ],
      "metadata": {
        "colab": {
          "base_uri": "https://localhost:8080/"
        },
        "id": "Fa-uwlV3hV8s",
        "outputId": "59099365-fcf7-4b96-e46b-5cf2e244d7ec"
      },
      "execution_count": null,
      "outputs": [
        {
          "output_type": "stream",
          "name": "stdout",
          "text": [
            "\n",
            " Accuracy of classifier on Original Subset after GaussianAugmentation: 93.00%\n"
          ]
        }
      ]
    },
    {
      "cell_type": "code",
      "source": [
        "tracing_start()\n",
        "start = time.time()\n",
        "\n",
        "x_ga_fgsm, _ = ga(x_sub_test_adv_fgsm)\n",
        "\n",
        "end = time.time()\n",
        "print(\"time elapsed {} milli seconds\".format((end-start)*1000))\n",
        "tracing_mem()\n",
        "\n",
        "# Evaluate the classifier on the adversarial examples\n",
        "preds = np.argmax(victim_classifier.predict(x_ga_fgsm), axis=1)\n",
        "acc = np.sum(preds == np.argmax(subset_y_test, axis=1)) / subset_y_test.shape[0]\n",
        "print(\"\\n Accuracy of classifier on FGSM Perturbed Subset after FeatureSqueezing: %.2f%%\" % (acc * 100))"
      ],
      "metadata": {
        "colab": {
          "base_uri": "https://localhost:8080/"
        },
        "id": "33LcJh2bhcN8",
        "outputId": "d8a68452-665e-42a0-dc84-5c9d677efcf6"
      },
      "execution_count": null,
      "outputs": [
        {
          "output_type": "stream",
          "name": "stdout",
          "text": [
            "nTracing Status :  False\n",
            "Tracing Status :  True\n",
            "time elapsed 19.947052001953125 milli seconds\n",
            "Peak Size in MB -  4.702065467834473\n",
            "\n",
            " Accuracy of classifier on FGSM Perturbed Subset after FeatureSqueezing: 12.00%\n"
          ]
        }
      ]
    },
    {
      "cell_type": "markdown",
      "source": [
        "SaliencyMapMethod\n",
        "\n"
      ],
      "metadata": {
        "id": "MXA1vp-Ghl4u"
      }
    },
    {
      "cell_type": "code",
      "source": [
        "from art.attacks.evasion.saliency_map import SaliencyMapMethod\n",
        "df = SaliencyMapMethod(victim_classifier, theta=1, batch_size=100, verbose=False)\n",
        "start = time.time()\n",
        "x_test_adv_SaliencyMapMethod = df.generate(subset_x_test, subset_y_test)\n",
        "end = time.time()\n",
        "print (\"Time elapsed in seconds to generate x_test_adv_ThresholdAttack adversarial inputs:\", end - start)\n",
        "\n",
        "# Evaluate the classifier on the adversarial examples\n",
        "preds = np.argmax(victim_classifier.predict(x_test_adv_SaliencyMapMethod), axis=1)\n",
        "acc = np.sum(preds == np.argmax(subset_y_test, axis=1)) / subset_y_test.shape[0]\n",
        "print(\"\\n Accuracy of Classifier on Subset of Test Images for x_test_adv_ThresholdAttack Attack: %.2f%%\" % (acc * 100))"
      ],
      "metadata": {
        "colab": {
          "base_uri": "https://localhost:8080/"
        },
        "id": "_gxkyUGIhrNu",
        "outputId": "969e4ea8-183c-4332-8828-6a4615af0076"
      },
      "execution_count": null,
      "outputs": [
        {
          "output_type": "stream",
          "name": "stdout",
          "text": [
            "Time elapsed in seconds to generate x_test_adv_ThresholdAttack adversarial inputs: 0.8155512809753418\n",
            "\n",
            " Accuracy of Classifier on Subset of Test Images for x_test_adv_ThresholdAttack Attack: 100.00%\n"
          ]
        }
      ]
    },
    {
      "cell_type": "code",
      "source": [
        "tracing_start()\n",
        "start = time.time()\n",
        "\n",
        "x_ga_saliencymapmet, _ = ga(x_test_adv_SaliencyMapMethod)\n",
        "\n",
        "end = time.time()\n",
        "print(\"time elapsed {} milli seconds\".format((end-start)*1000))\n",
        "tracing_mem()\n",
        "\n",
        "# Evaluate the classifier on the adversarial examples\n",
        "preds = np.argmax(victim_classifier.predict(x_ga_saliencymapmet), axis=1)\n",
        "acc = np.sum(preds == np.argmax(subset_y_test, axis=1)) / subset_y_test.shape[0]\n",
        "print(\"\\n Accuracy of classifier on SaliencyMapMethod Perturbed Subset after FeatureSqueezing: %.2f%%\" % (acc * 100))"
      ],
      "metadata": {
        "colab": {
          "base_uri": "https://localhost:8080/"
        },
        "id": "7jQ6HxIOhgLZ",
        "outputId": "86013eee-7abf-49bf-9d87-a4dd274ca540"
      },
      "execution_count": null,
      "outputs": [
        {
          "output_type": "stream",
          "name": "stdout",
          "text": [
            "nTracing Status :  False\n",
            "Tracing Status :  True\n",
            "time elapsed 18.51797103881836 milli seconds\n",
            "Peak Size in MB -  4.704035758972168\n",
            "\n",
            " Accuracy of classifier on SaliencyMapMethod Perturbed Subset after FeatureSqueezing: 92.00%\n"
          ]
        }
      ]
    },
    {
      "cell_type": "markdown",
      "source": [
        "virtual Adversarial attack"
      ],
      "metadata": {
        "id": "KOwinI-Th87b"
      }
    },
    {
      "cell_type": "code",
      "source": [
        "from art.attacks.evasion.virtual_adversarial import VirtualAdversarialMethod\n",
        "df = VirtualAdversarialMethod(victim_classifier, batch_size=100, max_iter=2, verbose=False)\n",
        "start = time.time()\n",
        "x_test_adv_VirtualAdversarialMethod = df.generate(subset_x_test)\n",
        "\n",
        "end = time.time()\n",
        "print (\"Time elapsed in seconds to generate SimBA adversarial inputs:\", end - start)\n",
        "\n",
        "# Evaluate the classifier on the adversarial examples\n",
        "preds = np.argmax(victim_classifier.predict(x_test_adv_VirtualAdversarialMethod), axis=1)\n",
        "acc = np.sum(preds == np.argmax(subset_y_test, axis=1)) / subset_y_test.shape[0]\n",
        "print(\"\\n Accuracy of Classifier on Subset of Test Images for SimBA Attack: %.2f%%\" % (acc * 100))"
      ],
      "metadata": {
        "colab": {
          "base_uri": "https://localhost:8080/"
        },
        "id": "BLz2R4gDiBc0",
        "outputId": "99a34cb8-d45b-4180-9327-db76ced01432"
      },
      "execution_count": null,
      "outputs": [
        {
          "output_type": "stream",
          "name": "stdout",
          "text": [
            "Time elapsed in seconds to generate SimBA adversarial inputs: 79.15269207954407\n",
            "\n",
            " Accuracy of Classifier on Subset of Test Images for SimBA Attack: 96.00%\n"
          ]
        }
      ]
    },
    {
      "cell_type": "code",
      "source": [
        "tracing_start()\n",
        "start = time.time()\n",
        "\n",
        "x_ga_virtualadv, _ = ga(x_test_adv_VirtualAdversarialMethod)\n",
        "\n",
        "end = time.time()\n",
        "print(\"time elapsed {} milli seconds\".format((end-start)*1000))\n",
        "tracing_mem()\n",
        "\n",
        "# Evaluate the classifier on the adversarial examples\n",
        "preds = np.argmax(victim_classifier.predict(x_ga_virtualadv), axis=1)\n",
        "acc = np.sum(preds == np.argmax(subset_y_test, axis=1)) / subset_y_test.shape[0]\n",
        "print(\"\\n Accuracy of classifier on VirtualAdversarial Perturbed Subset after FeatureSqueezing: %.2f%%\" % (acc * 100))"
      ],
      "metadata": {
        "colab": {
          "base_uri": "https://localhost:8080/"
        },
        "id": "4MgyW441h3-A",
        "outputId": "14260df8-9b32-4d32-e766-c7525dc42c22"
      },
      "execution_count": null,
      "outputs": [
        {
          "output_type": "stream",
          "name": "stdout",
          "text": [
            "nTracing Status :  False\n",
            "Tracing Status :  True\n",
            "time elapsed 21.286964416503906 milli seconds\n",
            "Peak Size in MB -  4.774151802062988\n",
            "\n",
            " Accuracy of classifier on VirtualAdversarial Perturbed Subset after FeatureSqueezing: 90.00%\n"
          ]
        }
      ]
    },
    {
      "cell_type": "markdown",
      "source": [
        "#JpegCompression"
      ],
      "metadata": {
        "id": "rrbDVKa1jSFo"
      }
    },
    {
      "cell_type": "code",
      "source": [
        "from art.defences.preprocessor import JpegCompression\n",
        "jpeg_compression = JpegCompression(clip_values=(0, 255))\n",
        "\n",
        "x_jpegCom, _ = jpeg_compression(subset_x_test)\n",
        "\n",
        "# Evaluate the classifier on the adversarial examples\n",
        "preds = np.argmax(\n",
        "    victim_classifier.predict(x_ga), axis=1)\n",
        "acc = np.sum(preds == np.argmax(subset_y_test, axis=1)) / subset_y_test.shape[0]\n",
        "print(\"\\n Accuracy of classifier on Original Subset after JpegCompression: %.2f%%\" % (acc * 100))"
      ],
      "metadata": {
        "colab": {
          "base_uri": "https://localhost:8080/"
        },
        "id": "3l5Yfnf7jGtJ",
        "outputId": "59d8de3b-49ad-47ec-f1a4-e1f687c0d920"
      },
      "execution_count": null,
      "outputs": [
        {
          "output_type": "stream",
          "name": "stdout",
          "text": [
            "\n",
            " Accuracy of classifier on Original Subset after JpegCompression: 93.00%\n"
          ]
        }
      ]
    },
    {
      "cell_type": "code",
      "source": [
        "tracing_start()\n",
        "start = time.time()\n",
        "\n",
        "x_jpegCom_fgsm, _ = jpeg_compression(x_sub_test_adv_fgsm)\n",
        "\n",
        "end = time.time()\n",
        "print(\"time elapsed {} milli seconds\".format((end-start)*1000))\n",
        "tracing_mem()\n",
        "\n",
        "# Evaluate the classifier on the adversarial examples\n",
        "preds = np.argmax(victim_classifier.predict(x_jpegCom_fgsm), axis=1)\n",
        "acc = np.sum(preds == np.argmax(subset_y_test, axis=1)) / subset_y_test.shape[0]\n",
        "print(\"\\n Accuracy of classifier on FGSM Perturbed Subset after JpegCompression: %.2f%%\" % (acc * 100))"
      ],
      "metadata": {
        "colab": {
          "base_uri": "https://localhost:8080/"
        },
        "id": "trhykO7djdss",
        "outputId": "a56191de-0078-4469-9988-3f497f3cfefd"
      },
      "execution_count": null,
      "outputs": [
        {
          "output_type": "stream",
          "name": "stdout",
          "text": [
            "nTracing Status :  False\n",
            "Tracing Status :  True\n",
            "time elapsed 43.61367225646973 milli seconds\n",
            "Peak Size in MB -  1.7660160064697266\n",
            "\n",
            " Accuracy of classifier on FGSM Perturbed Subset after JpegCompression: 10.00%\n"
          ]
        }
      ]
    },
    {
      "cell_type": "markdown",
      "source": [
        "# LabelSmoothing"
      ],
      "metadata": {
        "id": "97pgQFCajlhX"
      }
    },
    {
      "cell_type": "code",
      "source": [
        "from art.defences.preprocessor import LabelSmoothing\n",
        "ls = LabelSmoothing(max_value=0.1)\n",
        "_, y_smooth = ls(None, subset_y_test)\n",
        "y_smooth = np.argmax(y_smooth, axis=1)\n",
        "\n",
        "acc = np.sum(y_smooth == np.argmax(subset_y_test, axis=1)) / subset_y_test.shape[0]\n",
        "print(\"\\n Accuracy of classifier on Original Subset after LabelSmoothing: %.2f%%\" % (acc * 100))"
      ],
      "metadata": {
        "colab": {
          "base_uri": "https://localhost:8080/"
        },
        "id": "CFBS2BArjhIr",
        "outputId": "3a942419-2c1b-44c3-8baa-0f9ca2999d73"
      },
      "execution_count": null,
      "outputs": [
        {
          "output_type": "stream",
          "name": "stdout",
          "text": [
            "\n",
            " Accuracy of classifier on Original Subset after LabelSmoothing: 10.00%\n"
          ]
        }
      ]
    },
    {
      "cell_type": "code",
      "source": [
        "preds = (victim_classifier.predict(x_sub_test_adv_fgsm))\n",
        "\n",
        "tracing_start()\n",
        "start = time.time()\n",
        "\n",
        "_, y_smooth_fgsm = ls(None, preds)\n",
        "y_smooth_fgsm = np.argmax(y_smooth_fgsm, axis=1)\n",
        "\n",
        "end = time.time()\n",
        "print(\"time elapsed {} milli seconds\".format((end-start)*1000))\n",
        "tracing_mem()\n",
        "\n",
        "acc = np.sum(y_smooth_fgsm == np.argmax(subset_y_test, axis=1)) / subset_y_test.shape[0]\n",
        "print(\"\\n Accuracy of classifier on Original Subset after LabelSmoothing: %.2f%%\" % (acc * 100))"
      ],
      "metadata": {
        "colab": {
          "base_uri": "https://localhost:8080/"
        },
        "id": "whel2Je2jsix",
        "outputId": "4eba41c1-c596-409a-be3f-4c6b553e6299"
      },
      "execution_count": null,
      "outputs": [
        {
          "output_type": "stream",
          "name": "stdout",
          "text": [
            "nTracing Status :  False\n",
            "Tracing Status :  True\n",
            "time elapsed 0.7452964782714844 milli seconds\n",
            "Peak Size in MB -  0.016599655151367188\n",
            "\n",
            " Accuracy of classifier on Original Subset after LabelSmoothing: 14.00%\n"
          ]
        }
      ]
    },
    {
      "cell_type": "code",
      "source": [
        "preds = (victim_classifier.predict(x_test_adv_SaliencyMapMethod))\n",
        "\n",
        "tracing_start()\n",
        "start = time.time()\n",
        "\n",
        "_, y_smooth_salincy = ls(None, preds)\n",
        "y_smooth_salincy = np.argmax(y_smooth_salincy, axis=1)\n",
        "\n",
        "end = time.time()\n",
        "print(\"time elapsed {} milli seconds\".format((end-start)*1000))\n",
        "tracing_mem()\n",
        "\n",
        "acc = np.sum(y_smooth_salincy == np.argmax(subset_y_test, axis=1)) / subset_y_test.shape[0]\n",
        "print(\"\\n Accuracy of classifier on Original Subset after LabelSmoothing: %.2f%%\" % (acc * 100))"
      ],
      "metadata": {
        "colab": {
          "base_uri": "https://localhost:8080/"
        },
        "id": "ddl9LOiljwBy",
        "outputId": "ad9b3e78-19be-481a-97cd-0f19e2312f0d"
      },
      "execution_count": null,
      "outputs": [
        {
          "output_type": "stream",
          "name": "stdout",
          "text": [
            "nTracing Status :  False\n",
            "Tracing Status :  True\n",
            "time elapsed 0.1881122589111328 milli seconds\n",
            "Peak Size in MB -  0.015006065368652344\n",
            "\n",
            " Accuracy of classifier on Original Subset after LabelSmoothing: 100.00%\n"
          ]
        }
      ]
    },
    {
      "cell_type": "code",
      "source": [
        "preds = (victim_classifier.predict(x_test_adv_VirtualAdversarialMethod))\n",
        "\n",
        "tracing_start()\n",
        "start = time.time()\n",
        "\n",
        "_, y_smooth_salincy = ls(None, preds)\n",
        "y_smooth_salincy = np.argmax(y_smooth_salincy, axis=1)\n",
        "\n",
        "end = time.time()\n",
        "print(\"time elapsed {} milli seconds\".format((end-start)*1000))\n",
        "tracing_mem()\n",
        "\n",
        "acc = np.sum(y_smooth_salincy == np.argmax(subset_y_test, axis=1)) / subset_y_test.shape[0]\n",
        "print(\"\\n Accuracy of classifier on Original Subset after LabelSmoothing: %.2f%%\" % (acc * 100))"
      ],
      "metadata": {
        "colab": {
          "base_uri": "https://localhost:8080/"
        },
        "id": "oJfDkX7ujzVa",
        "outputId": "1b70546b-bba6-4431-f5e2-62ff2f4364b5"
      },
      "execution_count": null,
      "outputs": [
        {
          "output_type": "stream",
          "name": "stdout",
          "text": [
            "nTracing Status :  False\n",
            "Tracing Status :  True\n",
            "time elapsed 0.21505355834960938 milli seconds\n",
            "Peak Size in MB -  0.015006065368652344\n",
            "\n",
            " Accuracy of classifier on Original Subset after LabelSmoothing: 96.00%\n"
          ]
        }
      ]
    },
    {
      "cell_type": "markdown",
      "source": [
        "# SpatialSmoothing"
      ],
      "metadata": {
        "id": "KfNcGILXkKZi"
      }
    },
    {
      "cell_type": "code",
      "source": [
        "from art.defences.preprocessor import SpatialSmoothing\n",
        "spatial_smoothing = SpatialSmoothing(channels_first=True, window_size=2)\n",
        "x_defended, _ = spatial_smoothing(subset_x_test)\n",
        "\n",
        "# Evaluate the classifier on the adversarial examples\n",
        "preds = np.argmax(\n",
        "    victim_classifier.predict(x_defended), axis=1)\n",
        "acc = np.sum(preds == np.argmax(subset_y_test, axis=1)) / subset_y_test.shape[0]\n",
        "print(\"\\n Accuracy of classifier on Original Subset after SpatialSmoothing: %.2f%%\" % (acc * 100))"
      ],
      "metadata": {
        "colab": {
          "base_uri": "https://localhost:8080/"
        },
        "id": "JyWNmWTVkGFO",
        "outputId": "fbd26d5f-0966-4f25-86e8-ad3604c40083"
      },
      "execution_count": null,
      "outputs": [
        {
          "output_type": "stream",
          "name": "stdout",
          "text": [
            "\n",
            " Accuracy of classifier on Original Subset after SpatialSmoothing: 87.00%\n"
          ]
        }
      ]
    },
    {
      "cell_type": "code",
      "source": [
        "tracing_start()\n",
        "start = time.time()\n",
        "\n",
        "x_spatial_smoothing_fgsm, _ = spatial_smoothing(x_sub_test_adv_fgsm)\n",
        "\n",
        "end = time.time()\n",
        "print(\"time elapsed {} milli seconds\".format((end-start)*1000))\n",
        "tracing_mem()\n",
        "\n",
        "# Evaluate the classifier on the adversarial examples\n",
        "preds = np.argmax(victim_classifier.predict(x_spatial_smoothing_fgsm), axis=1)\n",
        "acc = np.sum(preds == np.argmax(subset_y_test, axis=1)) / subset_y_test.shape[0]\n",
        "print(\"\\n Accuracy of classifier on FGSM Perturbed Subset after SpatialSmoothing: %.2f%%\" % (acc * 100))"
      ],
      "metadata": {
        "colab": {
          "base_uri": "https://localhost:8080/"
        },
        "id": "MEWtLeKkkU-m",
        "outputId": "f9d0b565-92f8-43f1-ad0c-fd22dd4e1eea"
      },
      "execution_count": null,
      "outputs": [
        {
          "output_type": "stream",
          "name": "stdout",
          "text": [
            "nTracing Status :  False\n",
            "Tracing Status :  True\n",
            "time elapsed 14.216899871826172 milli seconds\n",
            "Peak Size in MB -  1.1883840560913086\n",
            "\n",
            " Accuracy of classifier on FGSM Perturbed Subset after SpatialSmoothing: 11.00%\n"
          ]
        }
      ]
    },
    {
      "cell_type": "code",
      "source": [
        "tracing_start()\n",
        "start = time.time()\n",
        "\n",
        "x_spatial_smoothing_deepfool, _ = spatial_smoothing(x_sub_test_adv_deepfool)\n",
        "\n",
        "end = time.time()\n",
        "print(\"time elapsed {} milli seconds\".format((end-start)*1000))\n",
        "tracing_mem()\n",
        "\n",
        "# Evaluate the classifier on the adversarial examples\n",
        "preds = np.argmax(victim_classifier.predict(x_spatial_smoothing_deepfool), axis=1)\n",
        "acc = np.sum(preds == np.argmax(subset_y_test, axis=1)) / subset_y_test.shape[0]\n",
        "print(\"\\n Accuracy of classifier on DeepFool Perturbed Subset after SpatialSmoothing: %.2f%%\" % (acc * 100))"
      ],
      "metadata": {
        "colab": {
          "base_uri": "https://localhost:8080/"
        },
        "id": "H_I4-qeFkXoI",
        "outputId": "0d078f35-2a5e-44f4-c484-41affacfebb3"
      },
      "execution_count": null,
      "outputs": [
        {
          "output_type": "stream",
          "name": "stdout",
          "text": [
            "nTracing Status :  False\n",
            "Tracing Status :  True\n",
            "time elapsed 14.567136764526367 milli seconds\n",
            "Peak Size in MB -  1.1844425201416016\n",
            "\n",
            " Accuracy of classifier on DeepFool Perturbed Subset after SpatialSmoothing: 14.00%\n"
          ]
        }
      ]
    },
    {
      "cell_type": "code",
      "source": [
        "from art.attacks.evasion import BasicIterativeMethod\n",
        "attack_BasicIterativeMethod = BasicIterativeMethod(victim_classifier)\n",
        "start = time.time()\n",
        "x_train_adv_BasicIterativeMethod = attack_BasicIterativeMethod.generate(subset_x_test)\n",
        "end = time.time()\n",
        "print (\"Time elapsed in seconds to generate frameSaliency adversarial inputs:\", end - start)\n",
        "\n",
        "\n",
        "# Evaluate the classifier on the adversarial examples\n",
        "preds = np.argmax(victim_classifier.predict(x_train_adv_BasicIterativeMethod), axis=1)\n",
        "acc = np.sum(preds == np.argmax(subset_y_test, axis=1)) / subset_y_test.shape[0]\n",
        "print(\"\\n Accuracy of Classifier on Subset of Test Images for BasicIterativeMethod Attack: %.2f%%\" % (acc * 100))"
      ],
      "metadata": {
        "colab": {
          "base_uri": "https://localhost:8080/",
          "height": 197,
          "referenced_widgets": [
            "cde36b032a394c1ca04ff6be82723a9a",
            "8906efdcf9c040d3821cd5424cfc4387",
            "62aa1db989ae41bc86e6888f31303f6a",
            "6236be803b4149d8b72eb3a41dd14e5e",
            "2fd05c652d44417180e0b398d612d5ac",
            "470005115d4849f696ca1778fefd80f6",
            "76c9e9d7db36432682e49806c53c6307",
            "f9f8f27755554eec829d6d101462e324",
            "32f4f371164f4467bf3e5cc060892587",
            "b432167f81774e8aac37435ad6478409",
            "dc191ab9bf494e21b8efaf4c0d7b9129",
            "418834ae1076458381c84f4e2d58f7c7",
            "6981e7b8cb7a408095375fdc14fdfdbe",
            "d13444f5e1cc4dc583f3bfc41295b34c",
            "e797f8f6704f415cb1c923b4bc0d39f2",
            "10695551cf6943a2bb07598ed0f48f49",
            "44c1c602507244608727053fb2ca1f27",
            "9828d94303054eb39db0c776d3c9f37e",
            "3bb04f94979a4a0dbfbcc42ed604ac6a",
            "43b3c5a7387c4bdfaf6473dd1d169901",
            "4baecf8c72114ec1a6a97588c188f393",
            "7901dd87ec2d45ff81bc63062f0a51a8",
            "91d99785d910419c8d9933bc954e7375",
            "9e102b1e2fc8457898d9e7cff0493ade",
            "968ebf79bef04718b7038000ee2db2a9",
            "e342e78be5f6438cb8359967517d7582",
            "20efc00961034f57a256cdf28a48de2a",
            "55f91ca8aba54b459ba84f0845e6aff1",
            "a11a3af6fae54997a2f4d6e161a2ccb7",
            "55c0b5dde7754604a08a93c5bba00a24",
            "9a878ce01208406492984ef3d086558e",
            "ab8cce39fe824224a92bae857604c8f0",
            "bedfe8672ac747fcb30a17b0a228a000",
            "d1d0e5310ae84a228ec217dbfb914bb1",
            "2c473838628848419e7e49e5a5cc402e",
            "9d51ee007de341f6ae41899fc0c06e9f",
            "4905340a25b44259bf29c18669e50ede",
            "87b35d032b024b5789db849359918ec8",
            "4539d235959740349a14ea43c4eba831",
            "8e3152406572440084b59ce9c8ed539e",
            "6a42d75a56ae4d8cbd08238ec53beda5",
            "96c054210c8e4eb69b7dc6d0a6648e7e",
            "4253f61c6acf44c7803e88db8b07a447",
            "65480f1be99d4fc1aa938af0db9d68b9",
            "0199bb681c414dadacbafd4fcbce3308",
            "7eb5c34118924d49aa190e7ea7307853",
            "fd3c2101fe774b1fa29acb2a48ad228d",
            "36d3cfcb43334e51a32dd47c4a9993fe",
            "3481db5e23994c91a1df0ff50ef1d101",
            "72c3c7100e4142b89ba7f453dce08f78",
            "e45cdc58b4374c178601ee508546847c",
            "7cc3d17ad710460695415f5176b06eca",
            "0641344ade3e47668ff1b42295eff08a",
            "3720e3829f85489ab75d3132188099ab",
            "fee794e1108a4719bc4ad4cb2d68cc00",
            "5bd5b25fe74646db9b478efdb7f02e48",
            "4abc144f89ba4632ba3870c8aee41ad8",
            "5c37fd1fd678444db9e4653a54e2649e",
            "6ff57a3b88824a799d147d18edc5a5a4",
            "f8f200afb5344745b1512d209ba9af05",
            "1f1d35fa65bc44c1a4b753278ab9c420",
            "7a85a67a8add446d9cb305c4590a351a",
            "1726c4766324406989d48b8f15f5b021",
            "5d401348540c40818da41557d7502190",
            "28a04b40a0f84eba945d17fc2f5810c7",
            "1a7a8d9875e541ff9f6030a61cf2d21e",
            "336ac692f9704d5fbd7f14492732cc92",
            "5e178267d63043398eb94f1f0987aa1c",
            "37fec6abf95c43d686471785b9d815eb",
            "64b27fe4e49f4f2097863e9e3e6a0030",
            "df76d359dd154795a03a40c5282f5aa5",
            "ad6f6fd0de824d7ba5d41bd9b38f4ffe",
            "7f47df09bd3c45369726dd453854c8bd",
            "340ca97b426244ce88632471888b23fc",
            "85bbd6b2b0a043ea8e386027ef7ba0a7",
            "1c4a75d0254f4c5899306b8cbb2d3b98",
            "81320ce726964ba9af3cd69400fd9136",
            "e5401f9d018d42e7952220fb1064665a",
            "50052182adf44a80a92e453311bae3d4",
            "e43544f3da454eb8acdff69e6b7bc491",
            "835433dc3769486aaac131e7ee39df30",
            "fa8886b5f93f46a8bd0d7495ab7d5d9a",
            "2309821bf43b4e0185b39fb6bd96a65a",
            "8e35d1188ff54de8b138e10f1ef8e6dd",
            "243f197c7bc24bdcab0c56a7f2c349f2",
            "94a9f0f053fe4f0696d71a9ed20e91a7",
            "22101487dce94abb8879145f6908ed90",
            "c6e0ad0518af44609fe62dc750b17601"
          ]
        },
        "id": "8lOEFVa5kpQQ",
        "outputId": "a6afc70c-f626-4487-e15e-2d0396c01690"
      },
      "execution_count": null,
      "outputs": [
        {
          "output_type": "display_data",
          "data": {
            "application/vnd.jupyter.widget-view+json": {
              "model_id": "cde36b032a394c1ca04ff6be82723a9a",
              "version_minor": 0,
              "version_major": 2
            },
            "text/plain": [
              "PGD - Random Initializations:   0%|          | 0/1 [00:00<?, ?it/s]"
            ]
          },
          "metadata": {}
        },
        {
          "output_type": "display_data",
          "data": {
            "application/vnd.jupyter.widget-view+json": {
              "model_id": "418834ae1076458381c84f4e2d58f7c7",
              "version_minor": 0,
              "version_major": 2
            },
            "text/plain": [
              "PGD - Iterations:   0%|          | 0/100 [00:00<?, ?it/s]"
            ]
          },
          "metadata": {}
        },
        {
          "output_type": "display_data",
          "data": {
            "application/vnd.jupyter.widget-view+json": {
              "model_id": "91d99785d910419c8d9933bc954e7375",
              "version_minor": 0,
              "version_major": 2
            },
            "text/plain": [
              "PGD - Random Initializations:   0%|          | 0/1 [00:00<?, ?it/s]"
            ]
          },
          "metadata": {}
        },
        {
          "output_type": "display_data",
          "data": {
            "application/vnd.jupyter.widget-view+json": {
              "model_id": "d1d0e5310ae84a228ec217dbfb914bb1",
              "version_minor": 0,
              "version_major": 2
            },
            "text/plain": [
              "PGD - Iterations:   0%|          | 0/100 [00:00<?, ?it/s]"
            ]
          },
          "metadata": {}
        },
        {
          "output_type": "display_data",
          "data": {
            "application/vnd.jupyter.widget-view+json": {
              "model_id": "0199bb681c414dadacbafd4fcbce3308",
              "version_minor": 0,
              "version_major": 2
            },
            "text/plain": [
              "PGD - Random Initializations:   0%|          | 0/1 [00:00<?, ?it/s]"
            ]
          },
          "metadata": {}
        },
        {
          "output_type": "display_data",
          "data": {
            "application/vnd.jupyter.widget-view+json": {
              "model_id": "5bd5b25fe74646db9b478efdb7f02e48",
              "version_minor": 0,
              "version_major": 2
            },
            "text/plain": [
              "PGD - Iterations:   0%|          | 0/100 [00:00<?, ?it/s]"
            ]
          },
          "metadata": {}
        },
        {
          "output_type": "display_data",
          "data": {
            "application/vnd.jupyter.widget-view+json": {
              "model_id": "336ac692f9704d5fbd7f14492732cc92",
              "version_minor": 0,
              "version_major": 2
            },
            "text/plain": [
              "PGD - Random Initializations:   0%|          | 0/1 [00:00<?, ?it/s]"
            ]
          },
          "metadata": {}
        },
        {
          "output_type": "display_data",
          "data": {
            "application/vnd.jupyter.widget-view+json": {
              "model_id": "e5401f9d018d42e7952220fb1064665a",
              "version_minor": 0,
              "version_major": 2
            },
            "text/plain": [
              "PGD - Iterations:   0%|          | 0/100 [00:00<?, ?it/s]"
            ]
          },
          "metadata": {}
        },
        {
          "output_type": "stream",
          "name": "stdout",
          "text": [
            "Time elapsed in seconds to generate frameSaliency adversarial inputs: 7.894814729690552\n",
            "\n",
            " Accuracy of Classifier on Subset of Test Images for BasicIterativeMethod Attack: 1.00%\n"
          ]
        }
      ]
    },
    {
      "cell_type": "code",
      "source": [
        "tracing_start()\n",
        "start = time.time()\n",
        "\n",
        "x_spatial_smoothing_bim, _ = spatial_smoothing(x_train_adv_BasicIterativeMethod)\n",
        "\n",
        "end = time.time()\n",
        "print(\"time elapsed {} milli seconds\".format((end-start)*1000))\n",
        "tracing_mem()\n",
        "\n",
        "# Evaluate the classifier on the adversarial examples\n",
        "preds = np.argmax(victim_classifier.predict(x_spatial_smoothing_bim), axis=1)\n",
        "acc = np.sum(preds == np.argmax(subset_y_test, axis=1)) / subset_y_test.shape[0]\n",
        "print(\"\\n Accuracy of classifier on BasicIterativeMethod Perturbed Subset after SpatialSmoothing: %.2f%%\" % (acc * 100))"
      ],
      "metadata": {
        "colab": {
          "base_uri": "https://localhost:8080/"
        },
        "id": "rOhLJmOCkabU",
        "outputId": "55b9e839-2535-4331-b6f1-f22ee230151e"
      },
      "execution_count": null,
      "outputs": [
        {
          "output_type": "stream",
          "name": "stdout",
          "text": [
            "nTracing Status :  False\n",
            "Tracing Status :  True\n",
            "time elapsed 15.386104583740234 milli seconds\n",
            "Peak Size in MB -  1.1835613250732422\n",
            "\n",
            " Accuracy of classifier on BasicIterativeMethod Perturbed Subset after SpatialSmoothing: 4.00%\n"
          ]
        }
      ]
    },
    {
      "cell_type": "markdown",
      "source": [
        "# TotalVarMin"
      ],
      "metadata": {
        "id": "JFPzu5HCkz0j"
      }
    },
    {
      "cell_type": "code",
      "source": [
        "from art.defences.preprocessor import TotalVarMin\n",
        "preprocess = TotalVarMin(clip_values=(0, 1))\n",
        "x_preprocessed, _ = preprocess(subset_x_test)\n",
        "\n",
        "# Evaluate the classifier on the adversarial examples\n",
        "preds = np.argmax(\n",
        "    victim_classifier.predict(x_preprocessed), axis=1)\n",
        "acc = np.sum(preds == np.argmax(subset_y_test, axis=1)) / subset_y_test.shape[0]\n",
        "print(\"\\n Accuracy of classifier on Original Subset after TotalVarMin: %.2f%%\" % (acc * 100))"
      ],
      "metadata": {
        "colab": {
          "base_uri": "https://localhost:8080/"
        },
        "id": "jDj8AM-nkcv2",
        "outputId": "a553df20-3705-48d5-d5c8-6a74443bee60"
      },
      "execution_count": null,
      "outputs": [
        {
          "output_type": "stream",
          "name": "stdout",
          "text": [
            "\n",
            " Accuracy of classifier on Original Subset after TotalVarMin: 25.00%\n"
          ]
        }
      ]
    },
    {
      "cell_type": "code",
      "source": [
        "from art.attacks.evasion.zoo import ZooAttack\n",
        "zoo = ZooAttack(classifier=victim_classifier, max_iter=1, binary_search_steps=1, learning_rate=0.1, verbose=False)\n",
        "start = time.time()\n",
        "x_test_mnist_adv_ZooAttack = zoo.generate(subset_x_test)\n",
        "\n",
        "end = time.time()\n",
        "print (\"Time elapsed in seconds to generate SimBA adversarial inputs:\", end - start)\n",
        "\n",
        "# Evaluate the classifier on the adversarial examples\n",
        "preds = np.argmax(victim_classifier.predict(x_test_mnist_adv_ZooAttack), axis=1)\n",
        "acc = np.sum(preds == np.argmax(subset_y_test, axis=1)) / subset_y_test.shape[0]\n",
        "print(\"\\n Accuracy of Classifier on Subset of Test Images for SimBA Attack: %.2f%%\" % (acc * 100))\n"
      ],
      "metadata": {
        "colab": {
          "base_uri": "https://localhost:8080/"
        },
        "id": "TXvElZLelAXd",
        "outputId": "daa38a85-2f28-4704-e70c-c5d3e4e71896"
      },
      "execution_count": null,
      "outputs": [
        {
          "output_type": "stream",
          "name": "stdout",
          "text": [
            "Time elapsed in seconds to generate SimBA adversarial inputs: 327.95277070999146\n",
            "\n",
            " Accuracy of Classifier on Subset of Test Images for SimBA Attack: 86.00%\n"
          ]
        }
      ]
    },
    {
      "cell_type": "code",
      "source": [
        "tracing_start()\n",
        "start = time.time()\n",
        "\n",
        "x_spatial_smoothing_zooattack, _ = preprocess(x_test_mnist_adv_ZooAttack)\n",
        "\n",
        "end = time.time()\n",
        "print(\"time elapsed {} milli seconds\".format((end-start)*1000))\n",
        "tracing_mem()\n",
        "\n",
        "# Evaluate the classifier on the adversarial examples\n",
        "preds = np.argmax(victim_classifier.predict(x_spatial_smoothing_zooattack), axis=1)\n",
        "acc = np.sum(preds == np.argmax(subset_y_test, axis=1)) / subset_y_test.shape[0]\n",
        "print(\"\\n Accuracy of classifier on Zoo Attack Perturbed Subset after TotalVarMin: %.2f%%\" % (acc * 100))"
      ],
      "metadata": {
        "colab": {
          "base_uri": "https://localhost:8080/"
        },
        "id": "0dqrB46olAeB",
        "outputId": "c0dd943e-30ab-4e79-8af8-bb6cd93f9c78"
      },
      "execution_count": null,
      "outputs": [
        {
          "output_type": "stream",
          "name": "stdout",
          "text": [
            "nTracing Status :  False\n",
            "Tracing Status :  True\n",
            "time elapsed 2109.018087387085 milli seconds\n",
            "Peak Size in MB -  3.610226631164551\n",
            "\n",
            " Accuracy of classifier on Zoo Attack Perturbed Subset after TotalVarMin: 27.00%\n"
          ]
        }
      ]
    },
    {
      "cell_type": "code",
      "source": [
        "from art.attacks.evasion import SquareAttack\n",
        "attack = SquareAttack(\n",
        "            estimator=victim_classifier, norm=2, max_iter=5, eps=0.3, p_init=0.8, nb_restarts=1, verbose=False\n",
        "        )\n",
        "start = time.time()\n",
        "x_train_mnist_adv_SquareAttack = attack.generate(x=subset_x_test, y=subset_y_test)\n",
        "end = time.time()\n",
        "print (\"Time elapsed in seconds to generate SimBA adversarial inputs:\", end - start)\n",
        "\n",
        "# Evaluate the classifier on the adversarial examples\n",
        "preds = np.argmax(victim_classifier.predict(x_train_mnist_adv_SquareAttack), axis=1)\n",
        "acc = np.sum(preds == np.argmax(subset_y_test, axis=1)) / subset_y_test.shape[0]\n",
        "print(\"\\n Accuracy of Classifier on Subset of Test Images for SimBA Attack: %.2f%%\" % (acc * 100))"
      ],
      "metadata": {
        "colab": {
          "base_uri": "https://localhost:8080/"
        },
        "id": "jRKd4ld5nd_s",
        "outputId": "7cc2caa4-e42d-42af-a988-b63b6f665c0d"
      },
      "execution_count": null,
      "outputs": [
        {
          "output_type": "stream",
          "name": "stdout",
          "text": [
            "Time elapsed in seconds to generate SimBA adversarial inputs: 0.5310506820678711\n",
            "\n",
            " Accuracy of Classifier on Subset of Test Images for SimBA Attack: 96.00%\n"
          ]
        }
      ]
    },
    {
      "cell_type": "code",
      "source": [
        "tracing_start()\n",
        "start = time.time()\n",
        "\n",
        "x_spatial_smoothing_squareattack, _ = preprocess(x_train_mnist_adv_SquareAttack)\n",
        "\n",
        "end = time.time()\n",
        "print(\"time elapsed {} milli seconds\".format((end-start)*1000))\n",
        "tracing_mem()\n",
        "\n",
        "# Evaluate the classifier on the adversarial examples\n",
        "preds = np.argmax(victim_classifier.predict(x_spatial_smoothing_squareattack), axis=1)\n",
        "acc = np.sum(preds == np.argmax(subset_y_test, axis=1)) / subset_y_test.shape[0]\n",
        "print(\"\\n Accuracy of classifier on square Attack Perturbed Subset after TotalVarMin: %.2f%%\" % (acc * 100))"
      ],
      "metadata": {
        "colab": {
          "base_uri": "https://localhost:8080/"
        },
        "id": "GstQ28paneRx",
        "outputId": "fc1df02c-0637-4287-a521-0b64bd180f29"
      },
      "execution_count": null,
      "outputs": [
        {
          "output_type": "stream",
          "name": "stdout",
          "text": [
            "nTracing Status :  False\n",
            "Tracing Status :  True\n",
            "time elapsed 2075.5624771118164 milli seconds\n",
            "Peak Size in MB -  2.4634599685668945\n",
            "\n",
            " Accuracy of classifier on square Attack Perturbed Subset after TotalVarMin: 25.00%\n"
          ]
        }
      ]
    },
    {
      "cell_type": "code",
      "source": [
        "from art.attacks.evasion.spatial_transformation import SpatialTransformation\n",
        "attack_st = SpatialTransformation(\n",
        "            victim_classifier, max_translation=10.0, num_translations=3, max_rotation=30.0, \n",
        "            num_rotations=3, verbose=False\n",
        "        )\n",
        "start = time.time()\n",
        "x_train_adv_SpatialTransformation = attack_st.generate(subset_x_test)\n",
        "\n",
        "end = time.time()\n",
        "print (\"Time elapsed in seconds to generate SimBA adversarial inputs:\", end - start)\n",
        "\n",
        "# Evaluate the classifier on the adversarial examples\n",
        "preds = np.argmax(victim_classifier.predict(x_train_adv_SpatialTransformation), axis=1)\n",
        "acc = np.sum(preds == np.argmax(subset_y_test, axis=1)) / subset_y_test.shape[0]\n",
        "print(\"\\n Accuracy of Classifier on Subset of Test Images for SimBA Attack: %.2f%%\" % (acc * 100))"
      ],
      "metadata": {
        "colab": {
          "base_uri": "https://localhost:8080/"
        },
        "id": "JWaVfwICorig",
        "outputId": "3a66181e-c469-4c9c-90f4-57e4de4316fe"
      },
      "execution_count": null,
      "outputs": [
        {
          "output_type": "stream",
          "name": "stdout",
          "text": [
            "Time elapsed in seconds to generate SimBA adversarial inputs: 33.918872594833374\n",
            "\n",
            " Accuracy of Classifier on Subset of Test Images for SimBA Attack: 48.00%\n"
          ]
        }
      ]
    },
    {
      "cell_type": "code",
      "source": [
        "tracing_start()\n",
        "start = time.time()\n",
        "\n",
        "x_spatial_smoothing_SpatialTransformation, _ = preprocess(x_train_adv_SpatialTransformation)\n",
        "\n",
        "end = time.time()\n",
        "print(\"time elapsed {} milli seconds\".format((end-start)*1000))\n",
        "tracing_mem()\n",
        "\n",
        "# Evaluate the classifier on the adversarial examples\n",
        "preds = np.argmax(victim_classifier.predict(x_spatial_smoothing_SpatialTransformation), axis=1)\n",
        "acc = np.sum(preds == np.argmax(subset_y_test, axis=1)) / subset_y_test.shape[0]\n",
        "print(\"\\n Accuracy of classifier on spatial transformation Attack Perturbed Subset after TotalVarMin: %.2f%%\" % (acc * 100))"
      ],
      "metadata": {
        "colab": {
          "base_uri": "https://localhost:8080/"
        },
        "id": "BavA57k-nokk",
        "outputId": "4b6c2301-5004-4b20-93c6-9a914a9818dc"
      },
      "execution_count": null,
      "outputs": [
        {
          "output_type": "stream",
          "name": "stdout",
          "text": [
            "nTracing Status :  False\n",
            "Tracing Status :  True\n",
            "time elapsed 2194.0019130706787 milli seconds\n",
            "Peak Size in MB -  3.570631980895996\n",
            "\n",
            " Accuracy of classifier on spatial transformation Attack Perturbed Subset after TotalVarMin: 15.00%\n"
          ]
        }
      ]
    },
    {
      "cell_type": "markdown",
      "source": [
        "# Postprocessor"
      ],
      "metadata": {
        "id": "Sbev2fpGnryl"
      }
    },
    {
      "cell_type": "markdown",
      "source": [
        "#ClassLabels"
      ],
      "metadata": {
        "id": "TOIzj5n7n8Zo"
      }
    },
    {
      "cell_type": "code",
      "source": [
        "from art.defences.postprocessor import ClassLabels"
      ],
      "metadata": {
        "id": "m5BzZCkrn7bi"
      },
      "execution_count": null,
      "outputs": []
    },
    {
      "cell_type": "code",
      "source": [
        "postprocessor = ClassLabels()\n",
        "post_preds = postprocessor(preds=subset_y_test)\n",
        "post_preds = np.argmax(post_preds, axis=1)\n",
        "\n",
        "acc = np.sum(post_preds == np.argmax(subset_y_test, axis=1)) / subset_y_test.shape[0]\n",
        "print(\"\\n Accuracy of classifier on Original Subset after classlabel: %.2f%%\" % (acc * 100))"
      ],
      "metadata": {
        "colab": {
          "base_uri": "https://localhost:8080/"
        },
        "id": "b9Iai2HemXtP",
        "outputId": "2005f9d1-7a37-448a-df65-933da210dbd5"
      },
      "execution_count": null,
      "outputs": [
        {
          "output_type": "stream",
          "name": "stdout",
          "text": [
            "\n",
            " Accuracy of classifier on Original Subset after classlabel: 10.00%\n"
          ]
        }
      ]
    },
    {
      "cell_type": "code",
      "source": [
        "from art.attacks.evasion import ElasticNet\n",
        "ead = ElasticNet(classifier=victim_classifier, targeted=True, max_iter=1)\n",
        "\n",
        "start = time.time()\n",
        "x_test_adv_ead = ead.generate(x=subset_x_test,  y=subset_y_test)\n",
        "end = time.time()\n",
        "print (\"Time elapsed in seconds to generate elasticNet adversarial inputs:\", end - start)\n",
        "# Evaluate the classifier on the adversarial examples\n",
        "preds = np.argmax(victim_classifier.predict(x_test_adv_ead), axis=1)\n",
        "acc = np.sum(preds == np.argmax(subset_y_test, axis=1)) / subset_y_test.shape[0]\n",
        "print(\"\\n Accuracy of Classifier on Subset of Test Images for ElasticNet Attack: %.2f%%\" % (acc * 100))"
      ],
      "metadata": {
        "colab": {
          "base_uri": "https://localhost:8080/",
          "height": 101,
          "referenced_widgets": [
            "7b8bedfed9304189ab7f48bab737210c",
            "946f658919ca4d45baaed4a863de0cf6",
            "151e1a0fae1f47849c9bb9d3b1e23f4f",
            "95da519af1004df3bc56b5329115252c",
            "8bb91aef45a14ecdaa480ca86dfa2198",
            "b4890ace70ae46918f023a9d124ea61b",
            "3bb27a29c142488f93d7dd1a276dc7a7",
            "d6c613738dbc4f119a552fe012a9929b",
            "f4f509bd76094c2dafda26ac80e4d3a4",
            "e006b95267214f1ba6a5e505af3a6a80",
            "1a827fb84f1e4e73aa3bfbeb7dfa46f1"
          ]
        },
        "id": "aBOHEk_2mXzB",
        "outputId": "91bfbed0-2370-4274-99a2-527afa8a0318"
      },
      "execution_count": null,
      "outputs": [
        {
          "output_type": "display_data",
          "data": {
            "application/vnd.jupyter.widget-view+json": {
              "model_id": "7b8bedfed9304189ab7f48bab737210c",
              "version_minor": 0,
              "version_major": 2
            },
            "text/plain": [
              "EAD:   0%|          | 0/100 [00:00<?, ?it/s]"
            ]
          },
          "metadata": {}
        },
        {
          "output_type": "stream",
          "name": "stdout",
          "text": [
            "Time elapsed in seconds to generate elasticNet adversarial inputs: 27.652907848358154\n",
            "\n",
            " Accuracy of Classifier on Subset of Test Images for ElasticNet Attack: 99.00%\n"
          ]
        }
      ]
    },
    {
      "cell_type": "code",
      "source": [
        "#ElasticNet\n",
        "preds = (victim_classifier.predict(x_test_adv_ead))\n",
        "\n",
        "tracing_start()\n",
        "start = time.time()\n",
        "\n",
        "post_preds = postprocessor(preds=preds)\n",
        "post_preds = np.argmax(post_preds, axis=1)\n",
        "\n",
        "end = time.time()\n",
        "print(\"time elapsed {} milli seconds\".format((end-start)*1000))\n",
        "tracing_mem()\n",
        "\n",
        "acc = np.sum(post_preds == np.argmax(subset_y_test, axis=1)) / subset_y_test.shape[0]\n",
        "print(\"\\n Accuracy of classifier on Elastic Net after classlabel: %.2f%%\" % (acc * 100))\n"
      ],
      "metadata": {
        "colab": {
          "base_uri": "https://localhost:8080/"
        },
        "id": "ZNLRBBT3lAqY",
        "outputId": "aa6e83c8-8327-4587-9276-13b94c0e8064"
      },
      "execution_count": null,
      "outputs": [
        {
          "output_type": "stream",
          "name": "stdout",
          "text": [
            "nTracing Status :  False\n",
            "Tracing Status :  True\n",
            "time elapsed 1.9850730895996094 milli seconds\n",
            "Peak Size in MB -  0.014669418334960938\n",
            "\n",
            " Accuracy of classifier on Elastic Net after classlabel: 10.00%\n"
          ]
        }
      ]
    },
    {
      "cell_type": "code",
      "source": [
        "preds_fgsm = (victim_classifier.predict(x_sub_test_adv_fgsm))\n",
        "\n",
        "tracing_start()\n",
        "start = time.time()\n",
        "\n",
        "post_preds_fgsm = postprocessor(preds=preds_fgsm)\n",
        "post_preds_fgsm = np.argmax(post_preds_fgsm, axis=1)\n",
        "\n",
        "end = time.time()\n",
        "print(\"time elapsed {} milli seconds\".format((end-start)*1000))\n",
        "tracing_mem()\n",
        "\n",
        "acc = np.sum(post_preds_fgsm == np.argmax(subset_y_test, axis=1)) / subset_y_test.shape[0]\n",
        "print(\"\\n Accuracy of classifier on FGSM after classlabel: %.2f%%\" % (acc * 100))"
      ],
      "metadata": {
        "colab": {
          "base_uri": "https://localhost:8080/"
        },
        "id": "i_UHQhK9oS-k",
        "outputId": "71d7f7dd-b655-4170-9d03-a8012e7b0a80"
      },
      "execution_count": null,
      "outputs": [
        {
          "output_type": "stream",
          "name": "stdout",
          "text": [
            "nTracing Status :  False\n",
            "Tracing Status :  True\n",
            "time elapsed 2.03704833984375 milli seconds\n",
            "Peak Size in MB -  0.014768600463867188\n",
            "\n",
            " Accuracy of classifier on FGSM after classlabel: 10.00%\n"
          ]
        }
      ]
    },
    {
      "cell_type": "code",
      "source": [
        "preds_spatialtrnsf = (victim_classifier.predict(x_train_adv_SpatialTransformation))\n",
        "\n",
        "tracing_start()\n",
        "start = time.time()\n",
        "\n",
        "post_preds_spatialtrnsf = postprocessor(preds=preds_spatialtrnsf)\n",
        "post_preds_spatialtrnsf = np.argmax(post_preds_spatialtrnsf, axis=1)\n",
        "\n",
        "end = time.time()\n",
        "print(\"time elapsed {} milli seconds\".format((end-start)*1000))\n",
        "tracing_mem()\n",
        "\n",
        "acc = np.sum(post_preds_spatialtrnsf == np.argmax(subset_y_test, axis=1)) / subset_y_test.shape[0]\n",
        "print(\"\\n Accuracy of classifier on spatial transformation  after classlabel: %.2f%%\" % (acc * 100))"
      ],
      "metadata": {
        "colab": {
          "base_uri": "https://localhost:8080/"
        },
        "id": "uVrdG8YDoVlZ",
        "outputId": "3a074b48-a41b-4399-cdd4-2ff3895e2bc4"
      },
      "execution_count": null,
      "outputs": [
        {
          "output_type": "stream",
          "name": "stdout",
          "text": [
            "nTracing Status :  False\n",
            "Tracing Status :  True\n",
            "time elapsed 2.424001693725586 milli seconds\n",
            "Peak Size in MB -  0.01986980438232422\n",
            "\n",
            " Accuracy of classifier on spatial transformation  after classlabel: 10.00%\n"
          ]
        }
      ]
    },
    {
      "cell_type": "markdown",
      "source": [
        "#HighConfidence"
      ],
      "metadata": {
        "id": "jykQjXvipKK0"
      }
    },
    {
      "cell_type": "code",
      "source": [
        "from art.defences.postprocessor import HighConfidence"
      ],
      "metadata": {
        "id": "otz3uTAFpClM"
      },
      "execution_count": null,
      "outputs": []
    },
    {
      "cell_type": "code",
      "source": [
        "postprocessor = HighConfidence(cutoff=0.1)\n",
        "post_preds = postprocessor(preds=subset_y_test)\n",
        "\n",
        "post_preds = np.argmax(post_preds, axis=1)\n",
        "\n",
        "acc = np.sum(post_preds == np.argmax(subset_y_test, axis=1)) / subset_y_test.shape[0]\n",
        "print(\"\\n Accuracy of classifier on Original Subset after highconfidence: %.2f%%\" % (acc * 100))"
      ],
      "metadata": {
        "colab": {
          "base_uri": "https://localhost:8080/"
        },
        "id": "xIa6sFP5pMTF",
        "outputId": "614f41f5-f1be-4653-d547-37ff3ab43781"
      },
      "execution_count": null,
      "outputs": [
        {
          "output_type": "stream",
          "name": "stdout",
          "text": [
            "\n",
            " Accuracy of classifier on Original Subset after highconfidence: 100.00%\n"
          ]
        }
      ]
    },
    {
      "cell_type": "code",
      "source": [
        "preds_fgsm = (victim_classifier.predict(x_sub_test_adv_fgsm))\n",
        "\n",
        "tracing_start()\n",
        "start = time.time()\n",
        "\n",
        "post_preds_fgsm = postprocessor(preds=preds_fgsm)\n",
        "post_preds_fgsm = np.argmax(post_preds_fgsm, axis=1)\n",
        "\n",
        "end = time.time()\n",
        "print(\"time elapsed {} milli seconds\".format((end-start)*1000))\n",
        "tracing_mem()\n",
        "\n",
        "acc = np.sum(post_preds_fgsm == np.argmax(subset_y_test, axis=1)) / subset_y_test.shape[0]\n",
        "print(\"\\n Accuracy of classifier on FGSM after highconfidence: %.2f%%\" % (acc * 100))"
      ],
      "metadata": {
        "colab": {
          "base_uri": "https://localhost:8080/"
        },
        "id": "7zjGl9H6pOLo",
        "outputId": "ed36a954-a9d2-48e9-da2a-2270ab92dcc8"
      },
      "execution_count": null,
      "outputs": [
        {
          "output_type": "stream",
          "name": "stdout",
          "text": [
            "nTracing Status :  False\n",
            "Tracing Status :  True\n",
            "time elapsed 0.9720325469970703 milli seconds\n",
            "Peak Size in MB -  0.01951885223388672\n",
            "\n",
            " Accuracy of classifier on FGSM after highconfidence: 14.00%\n"
          ]
        }
      ]
    },
    {
      "cell_type": "code",
      "source": [
        "preds_deepfool = (victim_classifier.predict(x_sub_test_adv_deepfool))\n",
        "\n",
        "tracing_start()\n",
        "start = time.time()\n",
        "\n",
        "post_preds_deepfool = postprocessor(preds=preds_deepfool)\n",
        "post_preds_deepfool = np.argmax(post_preds_deepfool, axis=1)\n",
        "\n",
        "end = time.time()\n",
        "print(\"time elapsed {} milli seconds\".format((end-start)*1000))\n",
        "tracing_mem()\n",
        "\n",
        "acc = np.sum(post_preds_deepfool == np.argmax(subset_y_test, axis=1)) / subset_y_test.shape[0]\n",
        "print(\"\\n Accuracy of classifier on deepfool after highconfidence: %.2f%%\" % (acc * 100))\n"
      ],
      "metadata": {
        "colab": {
          "base_uri": "https://localhost:8080/"
        },
        "id": "T5lKt1_vpREu",
        "outputId": "fe7a3bb7-db92-4136-da2a-8b99f1d7c53a"
      },
      "execution_count": null,
      "outputs": [
        {
          "output_type": "stream",
          "name": "stdout",
          "text": [
            "nTracing Status :  False\n",
            "Tracing Status :  True\n",
            "time elapsed 2.322673797607422 milli seconds\n",
            "Peak Size in MB -  0.014173507690429688\n",
            "\n",
            " Accuracy of classifier on deepfool after highconfidence: 6.00%\n"
          ]
        }
      ]
    },
    {
      "cell_type": "code",
      "source": [
        "preds_bim = (victim_classifier.predict(x_train_adv_BasicIterativeMethod))\n",
        "\n",
        "tracing_start()\n",
        "start = time.time()\n",
        "\n",
        "post_preds_bim = postprocessor(preds=preds_bim)\n",
        "post_preds_bim = np.argmax(post_preds_bim, axis=1)\n",
        "\n",
        "end = time.time()\n",
        "print(\"time elapsed {} milli seconds\".format((end-start)*1000))\n",
        "tracing_mem()\n",
        "\n",
        "acc = np.sum(post_preds_bim == np.argmax(subset_y_test, axis=1)) / subset_y_test.shape[0]\n",
        "print(\"\\n Accuracy of classifier on bim after highconfidence: %.2f%%\" % (acc * 100))\n"
      ],
      "metadata": {
        "colab": {
          "base_uri": "https://localhost:8080/"
        },
        "id": "mEE7Gr16pWa3",
        "outputId": "a290cb36-e741-4d89-b937-55d1d114ca3d"
      },
      "execution_count": null,
      "outputs": [
        {
          "output_type": "stream",
          "name": "stdout",
          "text": [
            "nTracing Status :  False\n",
            "Tracing Status :  True\n",
            "time elapsed 0.7872581481933594 milli seconds\n",
            "Peak Size in MB -  0.016037940979003906\n",
            "\n",
            " Accuracy of classifier on bim after highconfidence: 1.00%\n"
          ]
        }
      ]
    },
    {
      "cell_type": "code",
      "source": [
        "from art.attacks.evasion import HopSkipJump\n",
        "hsj = HopSkipJump(classifier=victim_classifier, targeted=True, max_iter=20, max_eval=100, init_eval=10, verbose=False)       \n",
        "\n",
        "start = time.time()\n",
        "x_test_adv_HopSkipJump = hsj.generate(x=subset_x_test, y=subset_y_test)\n",
        "end = time.time()\n",
        "print (\"Time elapsed in seconds to generate frameSaliency adversarial inputs:\", end - start)\n",
        "\n",
        "\n",
        "# Evaluate the classifier on the adversarial examples\n",
        "preds = np.argmax(victim_classifier.predict(x_test_adv_HopSkipJump), axis=1)\n",
        "acc = np.sum(preds == np.argmax(subset_y_test, axis=1)) / subset_y_test.shape[0]\n",
        "print(\"\\n Accuracy of Classifier on Subset of Test Images for HopSkipJump Attack: %.2f%%\" % (acc * 100))"
      ],
      "metadata": {
        "colab": {
          "base_uri": "https://localhost:8080/"
        },
        "id": "rIJxsVeNpj6p",
        "outputId": "8743b05c-058e-4312-83cd-95dde0af230d"
      },
      "execution_count": null,
      "outputs": [
        {
          "output_type": "stream",
          "name": "stderr",
          "text": [
            "WARNING:art.attacks.evasion.hop_skip_jump:Failed to draw a random image that is adversarial, attack failed.\n",
            "WARNING:art.attacks.evasion.hop_skip_jump:Failed to draw a random image that is adversarial, attack failed.\n"
          ]
        },
        {
          "output_type": "stream",
          "name": "stdout",
          "text": [
            "Time elapsed in seconds to generate frameSaliency adversarial inputs: 4.483292818069458\n",
            "\n",
            " Accuracy of Classifier on Subset of Test Images for HopSkipJump Attack: 98.00%\n"
          ]
        }
      ]
    },
    {
      "cell_type": "code",
      "source": [
        "preds_bim = (victim_classifier.predict(x_test_adv_HopSkipJump))\n",
        "\n",
        "tracing_start()\n",
        "start = time.time()\n",
        "\n",
        "post_preds_bim = postprocessor(preds=preds_bim)\n",
        "post_preds_bim = np.argmax(post_preds_bim, axis=1)\n",
        "\n",
        "end = time.time()\n",
        "print(\"time elapsed {} milli seconds\".format((end-start)*1000))\n",
        "tracing_mem()\n",
        "\n",
        "acc = np.sum(post_preds_bim == np.argmax(subset_y_test, axis=1)) / subset_y_test.shape[0]\n",
        "print(\"\\n Accuracy of classifier on hopskipjump after highconfidence: %.2f%%\" % (acc * 100))"
      ],
      "metadata": {
        "colab": {
          "base_uri": "https://localhost:8080/"
        },
        "id": "yrq8P4gipaX2",
        "outputId": "718747a8-9976-4111-a5c0-3d78e7d6f96c"
      },
      "execution_count": null,
      "outputs": [
        {
          "output_type": "stream",
          "name": "stdout",
          "text": [
            "nTracing Status :  False\n",
            "Tracing Status :  True\n",
            "time elapsed 0.278472900390625 milli seconds\n",
            "Peak Size in MB -  0.015002250671386719\n",
            "\n",
            " Accuracy of classifier on hopskipjump after highconfidence: 98.00%\n"
          ]
        }
      ]
    },
    {
      "cell_type": "markdown",
      "source": [
        "# ReverseSigmoid"
      ],
      "metadata": {
        "id": "sJwkVs6Kpvgw"
      }
    },
    {
      "cell_type": "code",
      "source": [
        "from art.defences.postprocessor import ReverseSigmoid"
      ],
      "metadata": {
        "id": "ILWt5YQUpd6M"
      },
      "execution_count": null,
      "outputs": []
    },
    {
      "cell_type": "code",
      "source": [
        "postprocessor = ReverseSigmoid(beta=1.0, gamma=0.1)\n",
        "post_preds = postprocessor(preds=subset_y_test)\n",
        "\n",
        "post_preds = np.argmax(post_preds, axis=1)\n",
        "\n",
        "acc = np.sum(post_preds == np.argmax(subset_y_test, axis=1)) / subset_y_test.shape[0]\n",
        "print(\"\\n Accuracy of classifier on Original Subset after reversesigmoid: %.2f%%\" % (acc * 100))"
      ],
      "metadata": {
        "colab": {
          "base_uri": "https://localhost:8080/"
        },
        "id": "bgtxf5BWpz9x",
        "outputId": "ed02d765-ce42-4602-de14-1fe12a1db0ac"
      },
      "execution_count": null,
      "outputs": [
        {
          "output_type": "stream",
          "name": "stdout",
          "text": [
            "\n",
            " Accuracy of classifier on Original Subset after reversesigmoid: 100.00%\n"
          ]
        },
        {
          "output_type": "stream",
          "name": "stderr",
          "text": [
            "/usr/local/lib/python3.7/dist-packages/art/defences/postprocessor/reverse_sigmoid.py:75: RuntimeWarning: divide by zero encountered in log\n",
            "  perturbation_r = self.beta * (sigmoid(-self.gamma * np.log((1.0 - preds_clipped) / preds_clipped)) - 0.5)\n"
          ]
        }
      ]
    },
    {
      "cell_type": "code",
      "source": [
        "preds_bim = (victim_classifier.predict(x_test_adv_HopSkipJump))\n",
        "\n",
        "tracing_start()\n",
        "start = time.time()\n",
        "\n",
        "post_preds_bim = postprocessor(preds=preds_bim)\n",
        "post_preds_bim = np.argmax(post_preds_bim, axis=1)\n",
        "\n",
        "end = time.time()\n",
        "print(\"time elapsed {} milli seconds\".format((end-start)*1000))\n",
        "tracing_mem()\n",
        "\n",
        "acc = np.sum(post_preds_bim == np.argmax(subset_y_test, axis=1)) / subset_y_test.shape[0]\n",
        "print(\"\\n Accuracy of classifier on hopskipjump after reversesigmoid: %.2f%%\" % (acc * 100))"
      ],
      "metadata": {
        "colab": {
          "base_uri": "https://localhost:8080/"
        },
        "id": "HOBIwTkSp1ml",
        "outputId": "2320e238-983d-4bc8-b2df-8e818a1b11bf"
      },
      "execution_count": null,
      "outputs": [
        {
          "output_type": "stream",
          "name": "stdout",
          "text": [
            "nTracing Status :  False\n",
            "Tracing Status :  True\n",
            "time elapsed 1.6486644744873047 milli seconds\n",
            "Peak Size in MB -  0.027540206909179688\n",
            "\n",
            " Accuracy of classifier on hopskipjump after reversesigmoid: 98.00%\n"
          ]
        }
      ]
    },
    {
      "cell_type": "code",
      "source": [
        "from art.attacks.evasion.simba import SimBA\n",
        "df = SimBA(victim_classifier, attack=\"dct\", targeted=False)\n",
        "start = time.time()\n",
        "x_test_adv_SimBA = df.generate(subset_x_test)\n",
        "end = time.time()\n",
        "print (\"Time elapsed in seconds to generate SimBA adversarial inputs:\", end - start)\n",
        "\n",
        "# Evaluate the classifier on the adversarial examples\n",
        "preds = np.argmax(victim_classifier.predict(x_test_adv_SimBA), axis=1)\n",
        "acc = np.sum(preds == np.argmax(subset_y_test, axis=1)) / subset_y_test.shape[0]\n",
        "print(\"\\n Accuracy of Classifier on Subset of Test Images for SimBA Attack: %.2f%%\" % (acc * 100))"
      ],
      "metadata": {
        "colab": {
          "base_uri": "https://localhost:8080/"
        },
        "id": "SQaKYnOAqKza",
        "outputId": "3c54b1d1-0a47-4185-973f-b4162362acd5"
      },
      "execution_count": null,
      "outputs": [
        {
          "output_type": "stream",
          "name": "stdout",
          "text": [
            "Time elapsed in seconds to generate SimBA adversarial inputs: 125.83144450187683\n",
            "\n",
            " Accuracy of Classifier on Subset of Test Images for SimBA Attack: 96.00%\n"
          ]
        }
      ]
    },
    {
      "cell_type": "code",
      "source": [
        "preds_bim = (victim_classifier.predict(x_test_adv_SimBA))\n",
        "\n",
        "tracing_start()\n",
        "start = time.time()\n",
        "\n",
        "post_preds_bim = postprocessor(preds=preds_bim)\n",
        "post_preds_bim = np.argmax(post_preds_bim, axis=1)\n",
        "\n",
        "end = time.time()\n",
        "print(\"time elapsed {} milli seconds\".format((end-start)*1000))\n",
        "tracing_mem()\n",
        "\n",
        "acc = np.sum(post_preds_bim == np.argmax(subset_y_test, axis=1)) / subset_y_test.shape[0]\n",
        "print(\"\\n Accuracy of classifier on simba after reversesigmoid: %.2f%%\" % (acc * 100))"
      ],
      "metadata": {
        "colab": {
          "base_uri": "https://localhost:8080/"
        },
        "id": "lLMWOPsQqEIc",
        "outputId": "096a1067-c84d-4f97-c801-650700d2dc81"
      },
      "execution_count": null,
      "outputs": [
        {
          "output_type": "stream",
          "name": "stdout",
          "text": [
            "nTracing Status :  False\n",
            "Tracing Status :  True\n",
            "time elapsed 1.4190673828125 milli seconds\n",
            "Peak Size in MB -  0.029265403747558594\n",
            "\n",
            " Accuracy of classifier on simba after reversesigmoid: 96.00%\n"
          ]
        }
      ]
    },
    {
      "cell_type": "code",
      "source": [
        "adv_crafter_decision = BoundaryAttack(victim_classifier, max_iter=1, verbose=False, targeted=False)\n",
        "start = time.time()\n",
        "x_sub_test_adv_decision = adv_crafter_decision.generate(x=subset_x_test)\n",
        "end = time.time()\n",
        "print (\"Time elapsed in seconds to generate carliniL2method adversarial inputs:\", end - start)\n",
        "\n",
        "\n",
        "# Evaluate the classifier on the adversarial examples\n",
        "preds = np.argmax(victim_classifier.predict(x_sub_test_adv_decision), axis=1)\n",
        "acc = np.sum(preds == np.argmax(subset_y_test, axis=1)) / subset_y_test.shape[0]\n",
        "print(\"\\n Accuracy of Classifier on Subset of Test Images for Decision/Boundary Attack: %.2f%%\" % (acc * 100))"
      ],
      "metadata": {
        "colab": {
          "base_uri": "https://localhost:8080/"
        },
        "id": "fG14DvcSrBOK",
        "outputId": "19c88475-09fe-4b3a-dc91-1f330fffc69a"
      },
      "execution_count": null,
      "outputs": [
        {
          "output_type": "stream",
          "name": "stderr",
          "text": [
            "WARNING:art.attacks.evasion.boundary:Failed to draw a random image that is adversarial, attack failed.\n"
          ]
        },
        {
          "output_type": "stream",
          "name": "stdout",
          "text": [
            "Time elapsed in seconds to generate carliniL2method adversarial inputs: 4.631690502166748\n",
            "\n",
            " Accuracy of Classifier on Subset of Test Images for Decision/Boundary Attack: 1.00%\n"
          ]
        }
      ]
    },
    {
      "cell_type": "code",
      "source": [
        "preds_bim = (victim_classifier.predict(x_sub_test_adv_decision))\n",
        "\n",
        "tracing_start()\n",
        "start = time.time()\n",
        "\n",
        "post_preds_bim = postprocessor(preds=preds_bim)\n",
        "post_preds_bim = np.argmax(post_preds_bim, axis=1)\n",
        "\n",
        "end = time.time()\n",
        "print(\"time elapsed {} milli seconds\".format((end-start)*1000))\n",
        "tracing_mem()\n",
        "\n",
        "acc = np.sum(post_preds_bim == np.argmax(subset_y_test, axis=1)) / subset_y_test.shape[0]\n",
        "print(\"\\n Accuracy of classifier on boundary after reversesigmoid: %.2f%%\" % (acc * 100))"
      ],
      "metadata": {
        "colab": {
          "base_uri": "https://localhost:8080/"
        },
        "id": "YhIOxM4ZqGq6",
        "outputId": "ae3b965e-6f83-4afe-b68f-e683bbc984d0"
      },
      "execution_count": null,
      "outputs": [
        {
          "output_type": "stream",
          "name": "stdout",
          "text": [
            "nTracing Status :  False\n",
            "Tracing Status :  True\n",
            "time elapsed 1.9602775573730469 milli seconds\n",
            "Peak Size in MB -  0.025854110717773438\n",
            "\n",
            " Accuracy of classifier on boundary after reversesigmoid: 1.00%\n"
          ]
        }
      ]
    },
    {
      "cell_type": "code",
      "source": [
        "preds_fgsm = (victim_classifier.predict(x_sub_test_adv_fgsm))\n",
        "\n",
        "tracing_start()\n",
        "start = time.time()\n",
        "\n",
        "post_preds_fgsm = postprocessor(preds=preds_fgsm)\n",
        "post_preds_fgsm = np.argmax(post_preds_fgsm, axis=1)\n",
        "\n",
        "end = time.time()\n",
        "print(\"time elapsed {} milli seconds\".format((end-start)*1000))\n",
        "tracing_mem()\n",
        "\n",
        "acc = np.sum(post_preds_fgsm == np.argmax(subset_y_test, axis=1)) / subset_y_test.shape[0]\n",
        "print(\"\\n Accuracy of classifier on FGSM after reversesigmoid: %.2f%%\" % (acc * 100))"
      ],
      "metadata": {
        "colab": {
          "base_uri": "https://localhost:8080/"
        },
        "id": "pqUinkCxqn5R",
        "outputId": "8c7db30a-aebf-4307-da58-9e7407c6383d"
      },
      "execution_count": null,
      "outputs": [
        {
          "output_type": "stream",
          "name": "stdout",
          "text": [
            "nTracing Status :  False\n",
            "Tracing Status :  True\n",
            "time elapsed 1.3096332550048828 milli seconds\n",
            "Peak Size in MB -  0.025781631469726562\n",
            "\n",
            " Accuracy of classifier on FGSM after reversesigmoid: 14.00%\n"
          ]
        }
      ]
    },
    {
      "cell_type": "markdown",
      "source": [
        "#Rounded"
      ],
      "metadata": {
        "id": "J4hPfluvrKz0"
      }
    },
    {
      "cell_type": "code",
      "source": [
        "from art.defences.postprocessor import Rounded"
      ],
      "metadata": {
        "id": "QCl0rIelrDiV"
      },
      "execution_count": null,
      "outputs": []
    },
    {
      "cell_type": "code",
      "source": [
        "postprocessor = Rounded(decimals=2)\n",
        "post_preds = postprocessor(preds=subset_y_test)\n",
        "\n",
        "post_preds = np.argmax(post_preds, axis=1)\n",
        "\n",
        "acc = np.sum(post_preds == np.argmax(subset_y_test, axis=1)) / subset_y_test.shape[0]\n",
        "print(\"\\n Accuracy of classifier on Original Subset after rounded: %.2f%%\" % (acc * 100))"
      ],
      "metadata": {
        "colab": {
          "base_uri": "https://localhost:8080/"
        },
        "id": "Bah_ipbWrMr0",
        "outputId": "dcea386f-1d5c-4e49-b02e-6e6ef827f098"
      },
      "execution_count": null,
      "outputs": [
        {
          "output_type": "stream",
          "name": "stdout",
          "text": [
            "\n",
            " Accuracy of classifier on Original Subset after rounded: 100.00%\n"
          ]
        }
      ]
    },
    {
      "cell_type": "code",
      "source": [
        "preds_bim = (victim_classifier.predict(x_sub_test_adv_decision))\n",
        "\n",
        "tracing_start()\n",
        "start = time.time()\n",
        "\n",
        "post_preds_bim = postprocessor(preds=preds_bim)\n",
        "post_preds_bim = np.argmax(post_preds_bim, axis=1)\n",
        "\n",
        "end = time.time()\n",
        "print(\"time elapsed {} milli seconds\".format((end-start)*1000))\n",
        "tracing_mem()\n",
        "\n",
        "acc = np.sum(post_preds_bim == np.argmax(subset_y_test, axis=1)) / subset_y_test.shape[0]\n",
        "print(\"\\n Accuracy of classifier on boundary after rounded: %.2f%%\" % (acc * 100))"
      ],
      "metadata": {
        "colab": {
          "base_uri": "https://localhost:8080/"
        },
        "id": "wBj4eM0TrOjV",
        "outputId": "5edda921-1b4c-4293-95c2-4799e852617c"
      },
      "execution_count": null,
      "outputs": [
        {
          "output_type": "stream",
          "name": "stdout",
          "text": [
            "nTracing Status :  False\n",
            "Tracing Status :  True\n",
            "time elapsed 0.8141994476318359 milli seconds\n",
            "Peak Size in MB -  0.019166946411132812\n",
            "\n",
            " Accuracy of classifier on boundary after rounded: 1.00%\n"
          ]
        }
      ]
    },
    {
      "cell_type": "code",
      "source": [
        "preds_bim = (victim_classifier.predict(x_sub_test_adv_carlini))\n",
        "\n",
        "tracing_start()\n",
        "start = time.time()\n",
        "\n",
        "post_preds_bim = postprocessor(preds=preds_bim)\n",
        "post_preds_bim = np.argmax(post_preds_bim, axis=1)\n",
        "\n",
        "end = time.time()\n",
        "print(\"time elapsed {} milli seconds\".format((end-start)*1000))\n",
        "tracing_mem()\n",
        "\n",
        "acc = np.sum(post_preds_bim == np.argmax(subset_y_test, axis=1)) / subset_y_test.shape[0]\n",
        "print(\"\\n Accuracy of classifier on carlini after rounded: %.2f%%\" % (acc * 100))\n"
      ],
      "metadata": {
        "colab": {
          "base_uri": "https://localhost:8080/"
        },
        "id": "Pp9fyxvvrRDj",
        "outputId": "eefc09bb-f849-4371-8612-fcdbf36997d7"
      },
      "execution_count": null,
      "outputs": [
        {
          "output_type": "stream",
          "name": "stdout",
          "text": [
            "nTracing Status :  False\n",
            "Tracing Status :  True\n",
            "time elapsed 0.41103363037109375 milli seconds\n",
            "Peak Size in MB -  0.01977825164794922\n",
            "\n",
            " Accuracy of classifier on carlini after rounded: 79.00%\n"
          ]
        }
      ]
    },
    {
      "cell_type": "code",
      "source": [
        "preds_bim = (victim_classifier.predict(x_test_adv_SimBA))\n",
        "\n",
        "tracing_start()\n",
        "start = time.time()\n",
        "\n",
        "post_preds_bim = postprocessor(preds=preds_bim)\n",
        "post_preds_bim = np.argmax(post_preds_bim, axis=1)\n",
        "\n",
        "end = time.time()\n",
        "print(\"time elapsed {} milli seconds\".format((end-start)*1000))\n",
        "tracing_mem()\n",
        "\n",
        "acc = np.sum(post_preds_bim == np.argmax(subset_y_test, axis=1)) / subset_y_test.shape[0]\n",
        "print(\"\\n Accuracy of classifier on bim after rounded: %.2f%%\" % (acc * 100))\n"
      ],
      "metadata": {
        "colab": {
          "base_uri": "https://localhost:8080/"
        },
        "id": "WOfNmggBrToO",
        "outputId": "a3594ea1-a832-43dc-ea6b-2c44b6941fa2"
      },
      "execution_count": null,
      "outputs": [
        {
          "output_type": "stream",
          "name": "stdout",
          "text": [
            "nTracing Status :  False\n",
            "Tracing Status :  True\n",
            "time elapsed 0.2779960632324219 milli seconds\n",
            "Peak Size in MB -  0.015002250671386719\n",
            "\n",
            " Accuracy of classifier on bim after rounded: 97.00%\n"
          ]
        }
      ]
    },
    {
      "cell_type": "markdown",
      "source": [
        "#Trainer Defences"
      ],
      "metadata": {
        "id": "FL5pSEMCra3W"
      }
    },
    {
      "cell_type": "code",
      "source": [
        "from art.defences.trainer.adversarial_trainer import AdversarialTrainer"
      ],
      "metadata": {
        "id": "eVQqDRYZrWIS"
      },
      "execution_count": null,
      "outputs": []
    },
    {
      "cell_type": "code",
      "source": [
        "adv_trainer = AdversarialTrainer(victim_classifier, adv_crafter_fgsm)\n",
        "adv_trainer.fit(x_train, y_train, nb_epochs=5, batch_size=128)\n",
        "\n",
        "# Evaluate the classifier on the adversarial examples\n",
        "preds = np.argmax(adv_trainer.predict(subset_x_test), axis=1)\n",
        "acc = np.sum(preds == np.argmax(subset_y_test, axis=1)) / subset_y_test.shape[0]\n",
        "print(\"\\n Accuracy of classifier on original Subset after adversarial training: %.2f%%\" % (acc * 100))"
      ],
      "metadata": {
        "colab": {
          "base_uri": "https://localhost:8080/",
          "height": 116,
          "referenced_widgets": [
            "beeb7c95e75b405c88ab9094bd29580c",
            "3eaaaaac5eea41e3a7b69d983f107022",
            "b5685fd505d944aa9b1913b3203b5e74",
            "01364aa4aab74ea581817222314cc5e5",
            "a3ad8908704b4bcebce18ee2a937be42",
            "284e0e44833b4855b80532b2cc64beef",
            "248db5088c92466eaffd8bb778fb635f",
            "495abee97f85469bb23b24222f583aad",
            "395aa5ad04804801abbe87d98f7d3540",
            "7e94bffd759742e5849cb5edfd39bc3d",
            "4b19522f7df440b8bcf37c4f16d14cb3",
            "db36c20ed7a3451da9b8a5cc69f21a5b",
            "b464f66b09fc4c44951a822b7851e7c0",
            "1389af072fd745c8994d72933b6dd88c",
            "f88e22b1e49d4892814c8aed3471168e",
            "a523b0f5821f4262bc61966e96139f64",
            "6fb4e3a7f72340718ade1b03274b0366",
            "5db8f8b5c54848c0b72489770766c65e",
            "9315c14606934a0790d93e028d3a8bc6",
            "ff1ccdcbb0e8416c838eb4ed249002c8",
            "fd8c7670833d46a483bee977dd855955",
            "6905b8e1eefa43c6b9ff3a180edbe81f"
          ]
        },
        "id": "qLYidhT-rdUQ",
        "outputId": "e344bcf5-ea06-432f-dc0e-9073c336008a"
      },
      "execution_count": null,
      "outputs": [
        {
          "output_type": "display_data",
          "data": {
            "application/vnd.jupyter.widget-view+json": {
              "model_id": "beeb7c95e75b405c88ab9094bd29580c",
              "version_minor": 0,
              "version_major": 2
            },
            "text/plain": [
              "Precompute adv samples:   0%|          | 0/1 [00:00<?, ?it/s]"
            ]
          },
          "metadata": {}
        },
        {
          "output_type": "display_data",
          "data": {
            "application/vnd.jupyter.widget-view+json": {
              "model_id": "db36c20ed7a3451da9b8a5cc69f21a5b",
              "version_minor": 0,
              "version_major": 2
            },
            "text/plain": [
              "Adversarial training epochs:   0%|          | 0/5 [00:00<?, ?it/s]"
            ]
          },
          "metadata": {}
        },
        {
          "output_type": "stream",
          "name": "stdout",
          "text": [
            "\n",
            " Accuracy of classifier on original Subset after adversarial training: 97.00%\n"
          ]
        }
      ]
    },
    {
      "cell_type": "code",
      "source": [
        "# Evaluate the classifier on the adversarial examples\n",
        "preds = np.argmax(adv_trainer.predict(x_sub_test_adv_fgsm), axis=1)\n",
        "acc = np.sum(preds == np.argmax(subset_y_test, axis=1)) / subset_y_test.shape[0]\n",
        "print(\"\\n Accuracy of classifier on fgsm Subset after adversarial training: %.2f%%\" % (acc * 100))"
      ],
      "metadata": {
        "colab": {
          "base_uri": "https://localhost:8080/"
        },
        "id": "CQkLz8kKrfaF",
        "outputId": "e5e72ccb-476c-4bf9-8607-c50e98cc77d8"
      },
      "execution_count": null,
      "outputs": [
        {
          "output_type": "stream",
          "name": "stdout",
          "text": [
            "\n",
            " Accuracy of classifier on fgsm Subset after adversarial training: 14.00%\n"
          ]
        }
      ]
    },
    {
      "cell_type": "markdown",
      "source": [
        "#Transformer - DefensiveDistillation"
      ],
      "metadata": {
        "id": "PzHHoczKrnFY"
      }
    },
    {
      "cell_type": "code",
      "source": [
        "from art.defences.transformer.evasion import DefensiveDistillation"
      ],
      "metadata": {
        "id": "WKvsxTVmry5S"
      },
      "execution_count": null,
      "outputs": []
    },
    {
      "cell_type": "code",
      "source": [
        "tracing_start()\n",
        "start = time.time()\n",
        "\n",
        "transformer = DefensiveDistillation(classifier=victim_classifier, nb_epochs=1)\n",
        "transformed_classifier = transformer(x=x_train, transformed_classifier=victim_classifier)\n",
        "preds2 = transformed_classifier.predict(subset_x_test)\n",
        "end = time.time()\n",
        "print(\"time elapsed {} milli seconds\".format((end-start)*1000))\n",
        "tracing_mem()"
      ],
      "metadata": {
        "colab": {
          "base_uri": "https://localhost:8080/"
        },
        "id": "CUwqm9sxrh5Q",
        "outputId": "05709ab1-b2f1-473c-df70-a4bdba60caa2"
      },
      "execution_count": null,
      "outputs": [
        {
          "output_type": "stream",
          "name": "stdout",
          "text": [
            "nTracing Status :  False\n",
            "Tracing Status :  True\n",
            "Train on 50000 samples\n",
            "50000/50000 [==============================] - 6s 127us/sample - loss: 0.0104 - accuracy: 1.0000\n",
            "time elapsed 24809.9627494812 milli seconds\n",
            "Peak Size in MB -  2348.1017837524414\n"
          ]
        }
      ]
    },
    {
      "cell_type": "code",
      "source": [
        "# Evaluate the classifier on the adversarial examples\n",
        "acc = np.sum(preds2 == np.argmax(subset_y_test, axis=1)) / subset_y_test.shape[0]\n",
        "print(\"\\n Accuracy of classifier on original Subset after DefensiveDistillation: %.2f%%\" % (acc * 100))"
      ],
      "metadata": {
        "colab": {
          "base_uri": "https://localhost:8080/"
        },
        "id": "FzZ831FSr7r5",
        "outputId": "be8ad5d5-e203-4ccb-b5be-87b02f8d266c"
      },
      "execution_count": null,
      "outputs": [
        {
          "output_type": "stream",
          "name": "stdout",
          "text": [
            "\n",
            " Accuracy of classifier on original Subset after DefensiveDistillation: 0.00%\n"
          ]
        },
        {
          "output_type": "stream",
          "name": "stderr",
          "text": [
            "/usr/local/lib/python3.7/dist-packages/ipykernel_launcher.py:2: DeprecationWarning: elementwise comparison failed; this will raise an error in the future.\n",
            "  \n"
          ]
        }
      ]
    },
    {
      "cell_type": "code",
      "source": [
        "from art.defences.detector.evasion import BinaryInputDetector"
      ],
      "metadata": {
        "id": "ZntYefzXr-Ot"
      },
      "execution_count": null,
      "outputs": []
    },
    {
      "cell_type": "code",
      "source": [
        "# Create detector and train it:\n",
        "tracing_start()\n",
        "start = time.time()\n",
        "\n",
        "detector = BinaryInputDetector(KerasClassifier(model=victim_model, clip_values=(0, 1), use_logits=False))\n",
        "detector.fit(x_train, y_train, nb_epochs=2, batch_size=128)\n",
        "\n",
        "end = time.time()\n",
        "print(\"time elapsed {} milli seconds\".format((end-start)*1000))\n",
        "tracing_mem()"
      ],
      "metadata": {
        "colab": {
          "base_uri": "https://localhost:8080/"
        },
        "id": "w5ximHdqsBEl",
        "outputId": "b53e24fd-4c6e-42f1-cf12-f6c16d3c2a33"
      },
      "execution_count": null,
      "outputs": [
        {
          "output_type": "stream",
          "name": "stdout",
          "text": [
            "nTracing Status :  False\n",
            "Tracing Status :  True\n",
            "Train on 50000 samples\n",
            "Epoch 1/2\n",
            "50000/50000 [==============================] - 6s 127us/sample - loss: 0.0018 - accuracy: 1.0000\n",
            "Epoch 2/2\n",
            "50000/50000 [==============================] - 6s 127us/sample - loss: 0.0018 - accuracy: 1.0000\n",
            "time elapsed 13746.979713439941 milli seconds\n",
            "Peak Size in MB -  2344.3464784622192\n"
          ]
        }
      ]
    },
    {
      "cell_type": "code",
      "source": [
        "test_detection = np.argmax(detector.predict(subset_x_test), axis=1)\n",
        "test_detection_deepfool = np.argmax(detector.predict(x_sub_test_adv_deepfool), axis=1)"
      ],
      "metadata": {
        "id": "wW3-MbYPsD-D"
      },
      "execution_count": null,
      "outputs": []
    },
    {
      "cell_type": "code",
      "source": [
        "# Evaluate the classifier on the adversarial examples\n",
        "acc = np.sum(test_detection_deepfool == test_detection) / subset_y_test.shape[0]\n",
        "print(\"\\n Accuracy of classifier on original Subset after DefensiveDistillation: %.2f%%\" % (acc * 100))"
      ],
      "metadata": {
        "colab": {
          "base_uri": "https://localhost:8080/"
        },
        "id": "lYMFoa6wsGcS",
        "outputId": "d1cb8c97-90b9-4d63-80d6-c3e6ac034272"
      },
      "execution_count": null,
      "outputs": [
        {
          "output_type": "stream",
          "name": "stdout",
          "text": [
            "\n",
            " Accuracy of classifier on original Subset after DefensiveDistillation: 5.00%\n"
          ]
        }
      ]
    },
    {
      "cell_type": "code",
      "source": [
        ""
      ],
      "metadata": {
        "id": "BlEKuhWwst4U"
      },
      "execution_count": null,
      "outputs": []
    }
  ]
}