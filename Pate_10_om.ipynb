{
  "nbformat": 4,
  "nbformat_minor": 0,
  "metadata": {
    "colab": {
      "name": "Pate_10_om.ipynb",
      "provenance": [],
      "collapsed_sections": [],
      "machine_shape": "hm"
    },
    "kernelspec": {
      "name": "python3",
      "display_name": "Python 3"
    },
    "language_info": {
      "name": "python"
    },
    "accelerator": "GPU",
    "widgets": {
      "application/vnd.jupyter.widget-state+json": {
        "45799e0346da483080ec1d313e3ac1fa": {
          "model_module": "@jupyter-widgets/controls",
          "model_name": "HBoxModel",
          "model_module_version": "1.5.0",
          "state": {
            "_view_name": "HBoxView",
            "_dom_classes": [],
            "_model_name": "HBoxModel",
            "_view_module": "@jupyter-widgets/controls",
            "_model_module_version": "1.5.0",
            "_view_count": null,
            "_view_module_version": "1.5.0",
            "box_style": "",
            "layout": "IPY_MODEL_71aea5e400034530805d496d236e2d54",
            "_model_module": "@jupyter-widgets/controls",
            "children": [
              "IPY_MODEL_18aecf06441c49afb4255417158ede6c",
              "IPY_MODEL_47e1b52390e2404d9aa19acc457fe74a",
              "IPY_MODEL_dc2c5577a17749f2b6be33fd70c5b32e"
            ]
          }
        },
        "71aea5e400034530805d496d236e2d54": {
          "model_module": "@jupyter-widgets/base",
          "model_name": "LayoutModel",
          "model_module_version": "1.2.0",
          "state": {
            "_view_name": "LayoutView",
            "grid_template_rows": null,
            "right": null,
            "justify_content": null,
            "_view_module": "@jupyter-widgets/base",
            "overflow": null,
            "_model_module_version": "1.2.0",
            "_view_count": null,
            "flex_flow": null,
            "width": null,
            "min_width": null,
            "border": null,
            "align_items": null,
            "bottom": null,
            "_model_module": "@jupyter-widgets/base",
            "top": null,
            "grid_column": null,
            "overflow_y": null,
            "overflow_x": null,
            "grid_auto_flow": null,
            "grid_area": null,
            "grid_template_columns": null,
            "flex": null,
            "_model_name": "LayoutModel",
            "justify_items": null,
            "grid_row": null,
            "max_height": null,
            "align_content": null,
            "visibility": null,
            "align_self": null,
            "height": null,
            "min_height": null,
            "padding": null,
            "grid_auto_rows": null,
            "grid_gap": null,
            "max_width": null,
            "order": null,
            "_view_module_version": "1.2.0",
            "grid_template_areas": null,
            "object_position": null,
            "object_fit": null,
            "grid_auto_columns": null,
            "margin": null,
            "display": null,
            "left": null
          }
        },
        "18aecf06441c49afb4255417158ede6c": {
          "model_module": "@jupyter-widgets/controls",
          "model_name": "HTMLModel",
          "model_module_version": "1.5.0",
          "state": {
            "_view_name": "HTMLView",
            "style": "IPY_MODEL_83ec0af50ef74ba2a98d7a0a08111dbb",
            "_dom_classes": [],
            "description": "",
            "_model_name": "HTMLModel",
            "placeholder": "​",
            "_view_module": "@jupyter-widgets/controls",
            "_model_module_version": "1.5.0",
            "value": "",
            "_view_count": null,
            "_view_module_version": "1.5.0",
            "description_tooltip": null,
            "_model_module": "@jupyter-widgets/controls",
            "layout": "IPY_MODEL_c5880607d6d54e968019c2547eed7ada"
          }
        },
        "47e1b52390e2404d9aa19acc457fe74a": {
          "model_module": "@jupyter-widgets/controls",
          "model_name": "FloatProgressModel",
          "model_module_version": "1.5.0",
          "state": {
            "_view_name": "ProgressView",
            "style": "IPY_MODEL_fc5bedf9214444d2876a3302cf438f6d",
            "_dom_classes": [],
            "description": "",
            "_model_name": "FloatProgressModel",
            "bar_style": "success",
            "max": 1,
            "_view_module": "@jupyter-widgets/controls",
            "_model_module_version": "1.5.0",
            "value": 1,
            "_view_count": null,
            "_view_module_version": "1.5.0",
            "orientation": "horizontal",
            "min": 0,
            "description_tooltip": null,
            "_model_module": "@jupyter-widgets/controls",
            "layout": "IPY_MODEL_847bbda373024c478e541e7d4cf3ce4d"
          }
        },
        "dc2c5577a17749f2b6be33fd70c5b32e": {
          "model_module": "@jupyter-widgets/controls",
          "model_name": "HTMLModel",
          "model_module_version": "1.5.0",
          "state": {
            "_view_name": "HTMLView",
            "style": "IPY_MODEL_39fefa90f98e4c94bc801d460998e2a7",
            "_dom_classes": [],
            "description": "",
            "_model_name": "HTMLModel",
            "placeholder": "​",
            "_view_module": "@jupyter-widgets/controls",
            "_model_module_version": "1.5.0",
            "value": " 169009152/? [00:09&lt;00:00, 54055144.70it/s]",
            "_view_count": null,
            "_view_module_version": "1.5.0",
            "description_tooltip": null,
            "_model_module": "@jupyter-widgets/controls",
            "layout": "IPY_MODEL_654bee37b3dc44098fd4c7df5c862d06"
          }
        },
        "83ec0af50ef74ba2a98d7a0a08111dbb": {
          "model_module": "@jupyter-widgets/controls",
          "model_name": "DescriptionStyleModel",
          "model_module_version": "1.5.0",
          "state": {
            "_view_name": "StyleView",
            "_model_name": "DescriptionStyleModel",
            "description_width": "",
            "_view_module": "@jupyter-widgets/base",
            "_model_module_version": "1.5.0",
            "_view_count": null,
            "_view_module_version": "1.2.0",
            "_model_module": "@jupyter-widgets/controls"
          }
        },
        "c5880607d6d54e968019c2547eed7ada": {
          "model_module": "@jupyter-widgets/base",
          "model_name": "LayoutModel",
          "model_module_version": "1.2.0",
          "state": {
            "_view_name": "LayoutView",
            "grid_template_rows": null,
            "right": null,
            "justify_content": null,
            "_view_module": "@jupyter-widgets/base",
            "overflow": null,
            "_model_module_version": "1.2.0",
            "_view_count": null,
            "flex_flow": null,
            "width": null,
            "min_width": null,
            "border": null,
            "align_items": null,
            "bottom": null,
            "_model_module": "@jupyter-widgets/base",
            "top": null,
            "grid_column": null,
            "overflow_y": null,
            "overflow_x": null,
            "grid_auto_flow": null,
            "grid_area": null,
            "grid_template_columns": null,
            "flex": null,
            "_model_name": "LayoutModel",
            "justify_items": null,
            "grid_row": null,
            "max_height": null,
            "align_content": null,
            "visibility": null,
            "align_self": null,
            "height": null,
            "min_height": null,
            "padding": null,
            "grid_auto_rows": null,
            "grid_gap": null,
            "max_width": null,
            "order": null,
            "_view_module_version": "1.2.0",
            "grid_template_areas": null,
            "object_position": null,
            "object_fit": null,
            "grid_auto_columns": null,
            "margin": null,
            "display": null,
            "left": null
          }
        },
        "fc5bedf9214444d2876a3302cf438f6d": {
          "model_module": "@jupyter-widgets/controls",
          "model_name": "ProgressStyleModel",
          "model_module_version": "1.5.0",
          "state": {
            "_view_name": "StyleView",
            "_model_name": "ProgressStyleModel",
            "description_width": "",
            "_view_module": "@jupyter-widgets/base",
            "_model_module_version": "1.5.0",
            "_view_count": null,
            "_view_module_version": "1.2.0",
            "bar_color": null,
            "_model_module": "@jupyter-widgets/controls"
          }
        },
        "847bbda373024c478e541e7d4cf3ce4d": {
          "model_module": "@jupyter-widgets/base",
          "model_name": "LayoutModel",
          "model_module_version": "1.2.0",
          "state": {
            "_view_name": "LayoutView",
            "grid_template_rows": null,
            "right": null,
            "justify_content": null,
            "_view_module": "@jupyter-widgets/base",
            "overflow": null,
            "_model_module_version": "1.2.0",
            "_view_count": null,
            "flex_flow": null,
            "width": "20px",
            "min_width": null,
            "border": null,
            "align_items": null,
            "bottom": null,
            "_model_module": "@jupyter-widgets/base",
            "top": null,
            "grid_column": null,
            "overflow_y": null,
            "overflow_x": null,
            "grid_auto_flow": null,
            "grid_area": null,
            "grid_template_columns": null,
            "flex": null,
            "_model_name": "LayoutModel",
            "justify_items": null,
            "grid_row": null,
            "max_height": null,
            "align_content": null,
            "visibility": null,
            "align_self": null,
            "height": null,
            "min_height": null,
            "padding": null,
            "grid_auto_rows": null,
            "grid_gap": null,
            "max_width": null,
            "order": null,
            "_view_module_version": "1.2.0",
            "grid_template_areas": null,
            "object_position": null,
            "object_fit": null,
            "grid_auto_columns": null,
            "margin": null,
            "display": null,
            "left": null
          }
        },
        "39fefa90f98e4c94bc801d460998e2a7": {
          "model_module": "@jupyter-widgets/controls",
          "model_name": "DescriptionStyleModel",
          "model_module_version": "1.5.0",
          "state": {
            "_view_name": "StyleView",
            "_model_name": "DescriptionStyleModel",
            "description_width": "",
            "_view_module": "@jupyter-widgets/base",
            "_model_module_version": "1.5.0",
            "_view_count": null,
            "_view_module_version": "1.2.0",
            "_model_module": "@jupyter-widgets/controls"
          }
        },
        "654bee37b3dc44098fd4c7df5c862d06": {
          "model_module": "@jupyter-widgets/base",
          "model_name": "LayoutModel",
          "model_module_version": "1.2.0",
          "state": {
            "_view_name": "LayoutView",
            "grid_template_rows": null,
            "right": null,
            "justify_content": null,
            "_view_module": "@jupyter-widgets/base",
            "overflow": null,
            "_model_module_version": "1.2.0",
            "_view_count": null,
            "flex_flow": null,
            "width": null,
            "min_width": null,
            "border": null,
            "align_items": null,
            "bottom": null,
            "_model_module": "@jupyter-widgets/base",
            "top": null,
            "grid_column": null,
            "overflow_y": null,
            "overflow_x": null,
            "grid_auto_flow": null,
            "grid_area": null,
            "grid_template_columns": null,
            "flex": null,
            "_model_name": "LayoutModel",
            "justify_items": null,
            "grid_row": null,
            "max_height": null,
            "align_content": null,
            "visibility": null,
            "align_self": null,
            "height": null,
            "min_height": null,
            "padding": null,
            "grid_auto_rows": null,
            "grid_gap": null,
            "max_width": null,
            "order": null,
            "_view_module_version": "1.2.0",
            "grid_template_areas": null,
            "object_position": null,
            "object_fit": null,
            "grid_auto_columns": null,
            "margin": null,
            "display": null,
            "left": null
          }
        }
      }
    }
  },
  "cells": [
    {
      "cell_type": "code",
      "metadata": {
        "colab": {
          "base_uri": "https://localhost:8080/"
        },
        "id": "uR8QX43mtV3r",
        "outputId": "ab01c310-7b61-498f-fa58-826ded301a2a"
      },
      "source": [
        "!pip install syft==0.2.9 keras==2.2.3 tensorflow_privacy==0.2.2"
      ],
      "execution_count": null,
      "outputs": [
        {
          "output_type": "stream",
          "name": "stdout",
          "text": [
            "Requirement already satisfied: syft==0.2.9 in /usr/local/lib/python3.7/dist-packages (0.2.9)\n",
            "Requirement already satisfied: keras==2.2.3 in /usr/local/lib/python3.7/dist-packages (2.2.3)\n",
            "Requirement already satisfied: tensorflow_privacy==0.2.2 in /usr/local/lib/python3.7/dist-packages (0.2.2)\n",
            "Requirement already satisfied: scipy~=1.4.1 in /usr/local/lib/python3.7/dist-packages (from syft==0.2.9) (1.4.1)\n",
            "Requirement already satisfied: torch~=1.4.0 in /usr/local/lib/python3.7/dist-packages (from syft==0.2.9) (1.4.0)\n",
            "Requirement already satisfied: tblib~=1.6.0 in /usr/local/lib/python3.7/dist-packages (from syft==0.2.9) (1.6.0)\n",
            "Requirement already satisfied: openmined.threepio==0.2.0 in /usr/local/lib/python3.7/dist-packages (from syft==0.2.9) (0.2.0)\n",
            "Requirement already satisfied: flask-socketio~=4.2.1 in /usr/local/lib/python3.7/dist-packages (from syft==0.2.9) (4.2.1)\n",
            "Requirement already satisfied: importlib-resources~=1.5.0 in /usr/local/lib/python3.7/dist-packages (from syft==0.2.9) (1.5.0)\n",
            "Requirement already satisfied: psutil==5.7.0 in /usr/local/lib/python3.7/dist-packages (from syft==0.2.9) (5.7.0)\n",
            "Requirement already satisfied: RestrictedPython~=5.0 in /usr/local/lib/python3.7/dist-packages (from syft==0.2.9) (5.2)\n",
            "Requirement already satisfied: Pillow>=7.1.0 in /usr/local/lib/python3.7/dist-packages (from syft==0.2.9) (7.1.2)\n",
            "Requirement already satisfied: notebook==5.7.8 in /usr/local/lib/python3.7/dist-packages (from syft==0.2.9) (5.7.8)\n",
            "Requirement already satisfied: aiortc==0.9.28 in /usr/local/lib/python3.7/dist-packages (from syft==0.2.9) (0.9.28)\n",
            "Requirement already satisfied: requests~=2.22.0 in /usr/local/lib/python3.7/dist-packages (from syft==0.2.9) (2.22.0)\n",
            "Requirement already satisfied: numpy~=1.18.1 in /usr/local/lib/python3.7/dist-packages (from syft==0.2.9) (1.18.5)\n",
            "Requirement already satisfied: requests-toolbelt==0.9.1 in /usr/local/lib/python3.7/dist-packages (from syft==0.2.9) (0.9.1)\n",
            "Requirement already satisfied: torchvision~=0.5.0 in /usr/local/lib/python3.7/dist-packages (from syft==0.2.9) (0.5.0)\n",
            "Requirement already satisfied: websockets~=8.1.0 in /usr/local/lib/python3.7/dist-packages (from syft==0.2.9) (8.1)\n",
            "Requirement already satisfied: dill~=0.3.1 in /usr/local/lib/python3.7/dist-packages (from syft==0.2.9) (0.3.4)\n",
            "Requirement already satisfied: tornado==4.5.3 in /usr/local/lib/python3.7/dist-packages (from syft==0.2.9) (4.5.3)\n",
            "Requirement already satisfied: shaloop==0.2.1-alpha.11 in /usr/local/lib/python3.7/dist-packages (from syft==0.2.9) (0.2.1a11)\n",
            "Requirement already satisfied: syft-proto~=0.5.2 in /usr/local/lib/python3.7/dist-packages (from syft==0.2.9) (0.5.3)\n",
            "Requirement already satisfied: websocket-client~=0.57.0 in /usr/local/lib/python3.7/dist-packages (from syft==0.2.9) (0.57.0)\n",
            "Requirement already satisfied: msgpack~=1.0.0 in /usr/local/lib/python3.7/dist-packages (from syft==0.2.9) (1.0.3)\n",
            "Requirement already satisfied: lz4~=3.0.2 in /usr/local/lib/python3.7/dist-packages (from syft==0.2.9) (3.0.2)\n",
            "Requirement already satisfied: phe~=1.4.0 in /usr/local/lib/python3.7/dist-packages (from syft==0.2.9) (1.4.0)\n",
            "Requirement already satisfied: Flask~=1.1.1 in /usr/local/lib/python3.7/dist-packages (from syft==0.2.9) (1.1.4)\n",
            "Requirement already satisfied: keras-applications>=1.0.6 in /usr/local/lib/python3.7/dist-packages (from keras==2.2.3) (1.0.8)\n",
            "Requirement already satisfied: keras-preprocessing>=1.0.5 in /usr/local/lib/python3.7/dist-packages (from keras==2.2.3) (1.1.2)\n",
            "Requirement already satisfied: six>=1.9.0 in /usr/local/lib/python3.7/dist-packages (from keras==2.2.3) (1.15.0)\n",
            "Requirement already satisfied: pyyaml in /usr/local/lib/python3.7/dist-packages (from keras==2.2.3) (3.13)\n",
            "Requirement already satisfied: h5py in /usr/local/lib/python3.7/dist-packages (from keras==2.2.3) (3.1.0)\n",
            "Requirement already satisfied: mpmath in /usr/local/lib/python3.7/dist-packages (from tensorflow_privacy==0.2.2) (1.2.1)\n",
            "Requirement already satisfied: cffi>=1.0.0 in /usr/local/lib/python3.7/dist-packages (from aiortc==0.9.28->syft==0.2.9) (1.15.0)\n",
            "Requirement already satisfied: av<9.0.0,>=8.0.0 in /usr/local/lib/python3.7/dist-packages (from aiortc==0.9.28->syft==0.2.9) (8.0.3)\n",
            "Requirement already satisfied: aioice<0.7.0,>=0.6.17 in /usr/local/lib/python3.7/dist-packages (from aiortc==0.9.28->syft==0.2.9) (0.6.18)\n",
            "Requirement already satisfied: cryptography>=2.2 in /usr/local/lib/python3.7/dist-packages (from aiortc==0.9.28->syft==0.2.9) (36.0.0)\n",
            "Requirement already satisfied: pylibsrtp>=0.5.6 in /usr/local/lib/python3.7/dist-packages (from aiortc==0.9.28->syft==0.2.9) (0.6.8)\n",
            "Requirement already satisfied: crc32c in /usr/local/lib/python3.7/dist-packages (from aiortc==0.9.28->syft==0.2.9) (2.2.post0)\n",
            "Requirement already satisfied: pyee>=6.0.0 in /usr/local/lib/python3.7/dist-packages (from aiortc==0.9.28->syft==0.2.9) (8.2.2)\n",
            "Requirement already satisfied: traitlets>=4.2.1 in /usr/local/lib/python3.7/dist-packages (from notebook==5.7.8->syft==0.2.9) (5.1.1)\n",
            "Requirement already satisfied: pyzmq>=17 in /usr/local/lib/python3.7/dist-packages (from notebook==5.7.8->syft==0.2.9) (22.3.0)\n",
            "Requirement already satisfied: nbformat in /usr/local/lib/python3.7/dist-packages (from notebook==5.7.8->syft==0.2.9) (5.1.3)\n",
            "Requirement already satisfied: jupyter-core>=4.4.0 in /usr/local/lib/python3.7/dist-packages (from notebook==5.7.8->syft==0.2.9) (4.9.1)\n",
            "Requirement already satisfied: jinja2 in /usr/local/lib/python3.7/dist-packages (from notebook==5.7.8->syft==0.2.9) (2.11.3)\n",
            "Requirement already satisfied: ipykernel in /usr/local/lib/python3.7/dist-packages (from notebook==5.7.8->syft==0.2.9) (4.10.1)\n",
            "Requirement already satisfied: Send2Trash in /usr/local/lib/python3.7/dist-packages (from notebook==5.7.8->syft==0.2.9) (1.8.0)\n",
            "Requirement already satisfied: terminado>=0.8.1 in /usr/local/lib/python3.7/dist-packages (from notebook==5.7.8->syft==0.2.9) (0.12.1)\n",
            "Requirement already satisfied: ipython-genutils in /usr/local/lib/python3.7/dist-packages (from notebook==5.7.8->syft==0.2.9) (0.2.0)\n",
            "Requirement already satisfied: jupyter-client>=5.2.0 in /usr/local/lib/python3.7/dist-packages (from notebook==5.7.8->syft==0.2.9) (5.3.5)\n",
            "Requirement already satisfied: prometheus-client in /usr/local/lib/python3.7/dist-packages (from notebook==5.7.8->syft==0.2.9) (0.12.0)\n",
            "Requirement already satisfied: nbconvert in /usr/local/lib/python3.7/dist-packages (from notebook==5.7.8->syft==0.2.9) (5.6.1)\n",
            "Requirement already satisfied: pycparser>=2 in /usr/local/lib/python3.7/dist-packages (from shaloop==0.2.1-alpha.11->syft==0.2.9) (2.21)\n",
            "Requirement already satisfied: netifaces in /usr/local/lib/python3.7/dist-packages (from aioice<0.7.0,>=0.6.17->aiortc==0.9.28->syft==0.2.9) (0.11.0)\n",
            "Requirement already satisfied: itsdangerous<2.0,>=0.24 in /usr/local/lib/python3.7/dist-packages (from Flask~=1.1.1->syft==0.2.9) (1.1.0)\n",
            "Requirement already satisfied: Werkzeug<2.0,>=0.15 in /usr/local/lib/python3.7/dist-packages (from Flask~=1.1.1->syft==0.2.9) (1.0.1)\n",
            "Requirement already satisfied: click<8.0,>=5.1 in /usr/local/lib/python3.7/dist-packages (from Flask~=1.1.1->syft==0.2.9) (7.1.2)\n",
            "Requirement already satisfied: python-socketio>=4.3.0 in /usr/local/lib/python3.7/dist-packages (from flask-socketio~=4.2.1->syft==0.2.9) (5.5.0)\n",
            "Requirement already satisfied: zipp>=0.4 in /usr/local/lib/python3.7/dist-packages (from importlib-resources~=1.5.0->syft==0.2.9) (3.6.0)\n",
            "Requirement already satisfied: importlib-metadata in /usr/local/lib/python3.7/dist-packages (from importlib-resources~=1.5.0->syft==0.2.9) (4.8.2)\n",
            "Requirement already satisfied: MarkupSafe>=0.23 in /usr/local/lib/python3.7/dist-packages (from jinja2->notebook==5.7.8->syft==0.2.9) (2.0.1)\n",
            "Requirement already satisfied: python-dateutil>=2.1 in /usr/local/lib/python3.7/dist-packages (from jupyter-client>=5.2.0->notebook==5.7.8->syft==0.2.9) (2.8.2)\n",
            "Requirement already satisfied: python-engineio>=4.3.0 in /usr/local/lib/python3.7/dist-packages (from python-socketio>=4.3.0->flask-socketio~=4.2.1->syft==0.2.9) (4.3.0)\n",
            "Requirement already satisfied: bidict>=0.21.0 in /usr/local/lib/python3.7/dist-packages (from python-socketio>=4.3.0->flask-socketio~=4.2.1->syft==0.2.9) (0.21.4)\n",
            "Requirement already satisfied: certifi>=2017.4.17 in /usr/local/lib/python3.7/dist-packages (from requests~=2.22.0->syft==0.2.9) (2021.10.8)\n",
            "Requirement already satisfied: idna<2.9,>=2.5 in /usr/local/lib/python3.7/dist-packages (from requests~=2.22.0->syft==0.2.9) (2.8)\n",
            "Requirement already satisfied: urllib3!=1.25.0,!=1.25.1,<1.26,>=1.21.1 in /usr/local/lib/python3.7/dist-packages (from requests~=2.22.0->syft==0.2.9) (1.24.3)\n",
            "Requirement already satisfied: chardet<3.1.0,>=3.0.2 in /usr/local/lib/python3.7/dist-packages (from requests~=2.22.0->syft==0.2.9) (3.0.4)\n",
            "Requirement already satisfied: protobuf>=3.12.2 in /usr/local/lib/python3.7/dist-packages (from syft-proto~=0.5.2->syft==0.2.9) (3.17.3)\n",
            "Requirement already satisfied: ptyprocess in /usr/local/lib/python3.7/dist-packages (from terminado>=0.8.1->notebook==5.7.8->syft==0.2.9) (0.7.0)\n",
            "Requirement already satisfied: cached-property in /usr/local/lib/python3.7/dist-packages (from h5py->keras==2.2.3) (1.5.2)\n",
            "Requirement already satisfied: typing-extensions>=3.6.4 in /usr/local/lib/python3.7/dist-packages (from importlib-metadata->importlib-resources~=1.5.0->syft==0.2.9) (3.10.0.2)\n",
            "Requirement already satisfied: ipython>=4.0.0 in /usr/local/lib/python3.7/dist-packages (from ipykernel->notebook==5.7.8->syft==0.2.9) (5.5.0)\n",
            "Requirement already satisfied: decorator in /usr/local/lib/python3.7/dist-packages (from ipython>=4.0.0->ipykernel->notebook==5.7.8->syft==0.2.9) (4.4.2)\n",
            "Requirement already satisfied: prompt-toolkit<2.0.0,>=1.0.4 in /usr/local/lib/python3.7/dist-packages (from ipython>=4.0.0->ipykernel->notebook==5.7.8->syft==0.2.9) (1.0.18)\n",
            "Requirement already satisfied: pickleshare in /usr/local/lib/python3.7/dist-packages (from ipython>=4.0.0->ipykernel->notebook==5.7.8->syft==0.2.9) (0.7.5)\n",
            "Requirement already satisfied: pygments in /usr/local/lib/python3.7/dist-packages (from ipython>=4.0.0->ipykernel->notebook==5.7.8->syft==0.2.9) (2.6.1)\n",
            "Requirement already satisfied: pexpect in /usr/local/lib/python3.7/dist-packages (from ipython>=4.0.0->ipykernel->notebook==5.7.8->syft==0.2.9) (4.8.0)\n",
            "Requirement already satisfied: setuptools>=18.5 in /usr/local/lib/python3.7/dist-packages (from ipython>=4.0.0->ipykernel->notebook==5.7.8->syft==0.2.9) (57.4.0)\n",
            "Requirement already satisfied: simplegeneric>0.8 in /usr/local/lib/python3.7/dist-packages (from ipython>=4.0.0->ipykernel->notebook==5.7.8->syft==0.2.9) (0.8.1)\n",
            "Requirement already satisfied: wcwidth in /usr/local/lib/python3.7/dist-packages (from prompt-toolkit<2.0.0,>=1.0.4->ipython>=4.0.0->ipykernel->notebook==5.7.8->syft==0.2.9) (0.2.5)\n",
            "Requirement already satisfied: bleach in /usr/local/lib/python3.7/dist-packages (from nbconvert->notebook==5.7.8->syft==0.2.9) (4.1.0)\n",
            "Requirement already satisfied: entrypoints>=0.2.2 in /usr/local/lib/python3.7/dist-packages (from nbconvert->notebook==5.7.8->syft==0.2.9) (0.3)\n",
            "Requirement already satisfied: pandocfilters>=1.4.1 in /usr/local/lib/python3.7/dist-packages (from nbconvert->notebook==5.7.8->syft==0.2.9) (1.5.0)\n",
            "Requirement already satisfied: mistune<2,>=0.8.1 in /usr/local/lib/python3.7/dist-packages (from nbconvert->notebook==5.7.8->syft==0.2.9) (0.8.4)\n",
            "Requirement already satisfied: testpath in /usr/local/lib/python3.7/dist-packages (from nbconvert->notebook==5.7.8->syft==0.2.9) (0.5.0)\n",
            "Requirement already satisfied: defusedxml in /usr/local/lib/python3.7/dist-packages (from nbconvert->notebook==5.7.8->syft==0.2.9) (0.7.1)\n",
            "Requirement already satisfied: jsonschema!=2.5.0,>=2.4 in /usr/local/lib/python3.7/dist-packages (from nbformat->notebook==5.7.8->syft==0.2.9) (2.6.0)\n",
            "Requirement already satisfied: webencodings in /usr/local/lib/python3.7/dist-packages (from bleach->nbconvert->notebook==5.7.8->syft==0.2.9) (0.5.1)\n",
            "Requirement already satisfied: packaging in /usr/local/lib/python3.7/dist-packages (from bleach->nbconvert->notebook==5.7.8->syft==0.2.9) (21.3)\n",
            "Requirement already satisfied: pyparsing!=3.0.5,>=2.0.2 in /usr/local/lib/python3.7/dist-packages (from packaging->bleach->nbconvert->notebook==5.7.8->syft==0.2.9) (3.0.6)\n"
          ]
        }
      ]
    },
    {
      "cell_type": "code",
      "metadata": {
        "colab": {
          "base_uri": "https://localhost:8080/",
          "height": 84,
          "referenced_widgets": [
            "45799e0346da483080ec1d313e3ac1fa",
            "71aea5e400034530805d496d236e2d54",
            "18aecf06441c49afb4255417158ede6c",
            "47e1b52390e2404d9aa19acc457fe74a",
            "dc2c5577a17749f2b6be33fd70c5b32e",
            "83ec0af50ef74ba2a98d7a0a08111dbb",
            "c5880607d6d54e968019c2547eed7ada",
            "fc5bedf9214444d2876a3302cf438f6d",
            "847bbda373024c478e541e7d4cf3ce4d",
            "39fefa90f98e4c94bc801d460998e2a7",
            "654bee37b3dc44098fd4c7df5c862d06"
          ]
        },
        "id": "eXKPU2LvtxO8",
        "outputId": "c773c6b1-723c-4c4f-e568-de6f82030caf"
      },
      "source": [
        "import torch\n",
        "from torchvision.datasets import CIFAR100\n",
        "from torchvision import datasets, transforms\n",
        "from torch.utils.data import Subset\n",
        "\n",
        "transform = transforms.Compose([transforms.ToTensor(),\n",
        "                                transforms.Normalize((0.5,), (0.5,))])\n",
        "\n",
        "train_data = CIFAR100(download=True,root=\"./data\",transform=transform)\n",
        "test_data = CIFAR100(root=\"./data\",train=False,transform=transform)"
      ],
      "execution_count": null,
      "outputs": [
        {
          "output_type": "stream",
          "name": "stdout",
          "text": [
            "Downloading https://www.cs.toronto.edu/~kriz/cifar-100-python.tar.gz to ./data/cifar-100-python.tar.gz\n"
          ]
        },
        {
          "output_type": "display_data",
          "data": {
            "application/vnd.jupyter.widget-view+json": {
              "model_id": "45799e0346da483080ec1d313e3ac1fa",
              "version_minor": 0,
              "version_major": 2
            },
            "text/plain": [
              "0it [00:00, ?it/s]"
            ]
          },
          "metadata": {}
        },
        {
          "output_type": "stream",
          "name": "stdout",
          "text": [
            "Extracting ./data/cifar-100-python.tar.gz to ./data\n"
          ]
        }
      ]
    },
    {
      "cell_type": "code",
      "source": [
        "num_teachers = 10\n",
        "batch_size = 64"
      ],
      "metadata": {
        "id": "XmswRoFTChZ3"
      },
      "execution_count": null,
      "outputs": []
    },
    {
      "cell_type": "code",
      "metadata": {
        "id": "G3M-rEezuRWN"
      },
      "source": [
        "def get_data_loaders(train_data, num_teachers):\n",
        "    \"\"\" Function to create data loaders for the Teacher classifier \"\"\"\n",
        "    teacher_loaders = []\n",
        "    data_size = len(train_data) // num_teachers\n",
        "    \n",
        "    for i in range(data_size):\n",
        "        indices = list(range(i*data_size, (i+1)*data_size))\n",
        "        subset_data = Subset(train_data, indices)\n",
        "        loader = torch.utils.data.DataLoader(subset_data, batch_size=batch_size)\n",
        "        teacher_loaders.append(loader)\n",
        "        \n",
        "    return teacher_loaders\n",
        "\n",
        "teacher_loaders = get_data_loaders(train_data, num_teachers)"
      ],
      "execution_count": null,
      "outputs": []
    },
    {
      "cell_type": "code",
      "metadata": {
        "id": "XErqqakBxIDn"
      },
      "source": [
        "student_train_data = Subset(test_data, list(range(9000)))\n",
        "student_test_data = Subset(test_data, list(range(9000, 10000)))\n",
        "\n",
        "student_train_loader = torch.utils.data.DataLoader(student_train_data, batch_size=batch_size)\n",
        "student_test_loader = torch.utils.data.DataLoader(student_test_data, batch_size=batch_size)"
      ],
      "execution_count": null,
      "outputs": []
    },
    {
      "cell_type": "code",
      "metadata": {
        "id": "Z85pyOPkuiCi"
      },
      "source": [
        "import torch.nn as nn\n",
        "import torch.nn.functional as F\n",
        "import torch.optim as optim\n",
        "\n",
        "class Classifier(nn.Module):\n",
        "\n",
        "    def __init__(self):\n",
        "        super().__init__()\n",
        "    \n",
        "        self.conv1 = nn.Conv2d(3, 10, kernel_size=5)\n",
        "        self.conv2 = nn.Conv2d(10, 20, kernel_size=5)\n",
        "        self.conv2_drop = nn.Dropout2d()\n",
        "        self.fc1 = nn.Linear(5*10*10, 50)\n",
        "        self.fc2 = nn.Linear(50, 100)\n",
        "    \n",
        "    def forward(self, x):\n",
        "        x = F.relu(F.max_pool2d(self.conv1(x), 2))\n",
        "        x = F.relu(F.max_pool2d(self.conv2_drop(self.conv2(x)), 2))\n",
        "        x = x.view(x.size(0), 5*10*10)\n",
        "        x = F.relu(self.fc1(x))\n",
        "        x = F.dropout(x, training=self.training)\n",
        "        x = self.fc2(x)\n",
        "        return F.log_softmax(x)\n"
      ],
      "execution_count": null,
      "outputs": []
    },
    {
      "cell_type": "code",
      "metadata": {
        "colab": {
          "base_uri": "https://localhost:8080/"
        },
        "id": "El7LnOAQurMS",
        "outputId": "a73f82f7-b492-48fa-cd02-b2344ee12ce5"
      },
      "source": [
        "def train(model, trainloader, criterion, optimizer, epochs=10):\n",
        "    running_loss = 0\n",
        "    for e in range(epochs):\n",
        "        model.train()\n",
        "              \n",
        "        for images, labels in trainloader:\n",
        "            optimizer.zero_grad()\n",
        "            output = model.forward(images)\n",
        "            loss = criterion(output, labels)\n",
        "            loss.backward()\n",
        "            optimizer.step()\n",
        "            running_loss += loss.item()\n",
        "def predict(model, dataloader):\n",
        "    outputs = torch.zeros(0, dtype=torch.long)\n",
        "    model.eval()\n",
        "    \n",
        "    for images, labels in dataloader:\n",
        "        output = model.forward(images)\n",
        "        ps = torch.argmax(torch.exp(output), dim=1)\n",
        "        outputs = torch.cat((outputs, ps))\n",
        "        \n",
        "    return outputs\n",
        "def train_models(num_teachers):\n",
        "    models = []\n",
        "    for i in range(num_teachers):\n",
        "        model = Classifier()\n",
        "        criterion = nn.NLLLoss()\n",
        "        optimizer = optim.Adam(model.parameters(), lr=0.003)\n",
        "        train(model, teacher_loaders[i], criterion, optimizer)\n",
        "        models.append(model)\n",
        "    return models\n",
        "models = train_models(num_teachers)\n"
      ],
      "execution_count": null,
      "outputs": [
        {
          "output_type": "stream",
          "name": "stderr",
          "text": [
            "/usr/local/lib/python3.7/dist-packages/ipykernel_launcher.py:23: UserWarning: Implicit dimension choice for log_softmax has been deprecated. Change the call to include dim=X as an argument.\n"
          ]
        }
      ]
    },
    {
      "cell_type": "code",
      "metadata": {
        "colab": {
          "base_uri": "https://localhost:8080/"
        },
        "id": "EZPQH7Bsu72n",
        "outputId": "914437bb-2f21-4517-8635-bb393bddd1a2"
      },
      "source": [
        "import numpy as np\n",
        "\n",
        "epsilon = 0.2\n",
        "def aggregated_teacher(models, dataloader, epsilon):\n",
        "\n",
        "    preds = torch.torch.zeros((len(models), 9000), dtype=torch.long)\n",
        "    for i, model in enumerate(models):\n",
        "        results = predict(model, dataloader)\n",
        "        preds[i] = results\n",
        "    \n",
        "    labels = np.array([]).astype(int)\n",
        "    for image_preds in np.transpose(preds):\n",
        "        label_counts = np.bincount(image_preds, minlength=10)\n",
        "        beta = 1 / epsilon\n",
        "\n",
        "        for i in range(len(label_counts)):\n",
        "            label_counts[i] += np.random.laplace(0, beta, 1)\n",
        "\n",
        "        new_label = np.argmax(label_counts)\n",
        "        labels = np.append(labels, new_label)\n",
        "    \n",
        "    return preds.numpy(), labels\n",
        "teacher_models = models\n",
        "preds, student_labels = aggregated_teacher(teacher_models, student_train_loader, epsilon)"
      ],
      "execution_count": null,
      "outputs": [
        {
          "output_type": "stream",
          "name": "stderr",
          "text": [
            "/usr/local/lib/python3.7/dist-packages/ipykernel_launcher.py:23: UserWarning: Implicit dimension choice for log_softmax has been deprecated. Change the call to include dim=X as an argument.\n"
          ]
        }
      ]
    },
    {
      "cell_type": "code",
      "metadata": {
        "colab": {
          "base_uri": "https://localhost:8080/"
        },
        "id": "ufYw4_wwuxG-",
        "outputId": "1ecfc426-a2d8-4d9e-e5eb-83b86b71e8c4"
      },
      "source": [
        "def student_loader(student_train_loader, labels):\n",
        "    for i, (data, _) in enumerate(iter(student_train_loader)):\n",
        "        yield data, torch.from_numpy(labels[i*len(data): (i+1)*len(data)])\n",
        "student_model = Classifier()\n",
        "criterion = nn.NLLLoss()\n",
        "optimizer = optim.Adam(student_model.parameters(), lr=0.003)\n",
        "epochs = 50\n",
        "steps = 0\n",
        "running_loss = 0\n",
        "for e in range(epochs):\n",
        "    student_model.train()\n",
        "    train_loader = student_loader(student_train_loader, student_labels)\n",
        "    for images, labels in train_loader:\n",
        "        steps += 1\n",
        "        \n",
        "        optimizer.zero_grad()\n",
        "        output = student_model.forward(images)\n",
        "        loss = criterion(output, labels)\n",
        "        loss.backward()\n",
        "        optimizer.step()\n",
        "\n",
        "        running_loss += loss.item()\n",
        "        \n",
        "        if steps % 50 == 0:\n",
        "            test_loss = 0\n",
        "            accuracy = 0\n",
        "            student_model.eval()\n",
        "            with torch.no_grad():\n",
        "                for images, labels in student_test_loader:\n",
        "                    log_ps = student_model(images)\n",
        "                    test_loss += criterion(log_ps, labels).item()\n",
        "                    \n",
        "                    ps = torch.exp(log_ps)\n",
        "                    top_p, top_class = ps.topk(1, dim=1)\n",
        "                    equals = top_class == labels.view(*top_class.shape)\n",
        "                    accuracy += torch.mean(equals.type(torch.FloatTensor))\n",
        "            student_model.train()\n",
        "            print(\"Epoch: {}/{}.. \".format(e+1, epochs),\n",
        "                  \"Train Loss: {:.3f}.. \".format(running_loss/len(student_train_loader)),\n",
        "                  \"Test Loss: {:.3f}.. \".format(test_loss/len(student_test_loader)),\n",
        "                  \"Accuracy: {:.3f}\".format(accuracy/len(student_test_loader)))\n",
        "            running_loss = 0\n"
      ],
      "execution_count": null,
      "outputs": [
        {
          "output_type": "stream",
          "name": "stderr",
          "text": [
            "/usr/local/lib/python3.7/dist-packages/ipykernel_launcher.py:23: UserWarning: Implicit dimension choice for log_softmax has been deprecated. Change the call to include dim=X as an argument.\n"
          ]
        },
        {
          "output_type": "stream",
          "name": "stdout",
          "text": [
            "Epoch: 1/50..  Train Loss: 1.632..  Test Loss: 4.622..  Accuracy: 0.013\n",
            "Epoch: 1/50..  Train Loss: 1.626..  Test Loss: 4.626..  Accuracy: 0.013\n",
            "Epoch: 2/50..  Train Loss: 1.622..  Test Loss: 4.638..  Accuracy: 0.013\n",
            "Epoch: 2/50..  Train Loss: 1.618..  Test Loss: 4.650..  Accuracy: 0.006\n",
            "Epoch: 2/50..  Train Loss: 1.619..  Test Loss: 4.653..  Accuracy: 0.010\n",
            "Epoch: 3/50..  Train Loss: 1.615..  Test Loss: 4.672..  Accuracy: 0.008\n",
            "Epoch: 3/50..  Train Loss: 1.615..  Test Loss: 4.681..  Accuracy: 0.010\n",
            "Epoch: 3/50..  Train Loss: 1.616..  Test Loss: 4.684..  Accuracy: 0.010\n",
            "Epoch: 4/50..  Train Loss: 1.612..  Test Loss: 4.697..  Accuracy: 0.008\n",
            "Epoch: 4/50..  Train Loss: 1.617..  Test Loss: 4.692..  Accuracy: 0.012\n",
            "Epoch: 4/50..  Train Loss: 1.616..  Test Loss: 4.687..  Accuracy: 0.010\n",
            "Epoch: 5/50..  Train Loss: 1.613..  Test Loss: 4.702..  Accuracy: 0.008\n",
            "Epoch: 5/50..  Train Loss: 1.616..  Test Loss: 4.689..  Accuracy: 0.012\n",
            "Epoch: 5/50..  Train Loss: 1.614..  Test Loss: 4.696..  Accuracy: 0.010\n",
            "Epoch: 6/50..  Train Loss: 1.612..  Test Loss: 4.707..  Accuracy: 0.012\n",
            "Epoch: 6/50..  Train Loss: 1.616..  Test Loss: 4.690..  Accuracy: 0.012\n",
            "Epoch: 7/50..  Train Loss: 1.613..  Test Loss: 4.698..  Accuracy: 0.010\n",
            "Epoch: 7/50..  Train Loss: 1.613..  Test Loss: 4.705..  Accuracy: 0.012\n",
            "Epoch: 7/50..  Train Loss: 1.616..  Test Loss: 4.689..  Accuracy: 0.012\n",
            "Epoch: 8/50..  Train Loss: 1.612..  Test Loss: 4.700..  Accuracy: 0.010\n",
            "Epoch: 8/50..  Train Loss: 1.612..  Test Loss: 4.706..  Accuracy: 0.008\n",
            "Epoch: 8/50..  Train Loss: 1.616..  Test Loss: 4.691..  Accuracy: 0.010\n",
            "Epoch: 9/50..  Train Loss: 1.611..  Test Loss: 4.706..  Accuracy: 0.010\n",
            "Epoch: 9/50..  Train Loss: 1.614..  Test Loss: 4.702..  Accuracy: 0.012\n",
            "Epoch: 9/50..  Train Loss: 1.615..  Test Loss: 4.697..  Accuracy: 0.010\n",
            "Epoch: 10/50..  Train Loss: 1.611..  Test Loss: 4.715..  Accuracy: 0.007\n",
            "Epoch: 10/50..  Train Loss: 1.616..  Test Loss: 4.700..  Accuracy: 0.012\n",
            "Epoch: 10/50..  Train Loss: 1.614..  Test Loss: 4.697..  Accuracy: 0.010\n",
            "Epoch: 11/50..  Train Loss: 1.611..  Test Loss: 4.716..  Accuracy: 0.010\n",
            "Epoch: 11/50..  Train Loss: 1.617..  Test Loss: 4.696..  Accuracy: 0.012\n",
            "Epoch: 11/50..  Train Loss: 1.613..  Test Loss: 4.698..  Accuracy: 0.012\n",
            "Epoch: 12/50..  Train Loss: 1.611..  Test Loss: 4.715..  Accuracy: 0.012\n",
            "Epoch: 12/50..  Train Loss: 1.616..  Test Loss: 4.693..  Accuracy: 0.012\n",
            "Epoch: 13/50..  Train Loss: 1.612..  Test Loss: 4.703..  Accuracy: 0.011\n",
            "Epoch: 13/50..  Train Loss: 1.613..  Test Loss: 4.712..  Accuracy: 0.012\n",
            "Epoch: 13/50..  Train Loss: 1.615..  Test Loss: 4.692..  Accuracy: 0.010\n",
            "Epoch: 14/50..  Train Loss: 1.611..  Test Loss: 4.706..  Accuracy: 0.010\n",
            "Epoch: 14/50..  Train Loss: 1.613..  Test Loss: 4.709..  Accuracy: 0.012\n",
            "Epoch: 14/50..  Train Loss: 1.614..  Test Loss: 4.697..  Accuracy: 0.012\n",
            "Epoch: 15/50..  Train Loss: 1.611..  Test Loss: 4.709..  Accuracy: 0.010\n",
            "Epoch: 15/50..  Train Loss: 1.614..  Test Loss: 4.713..  Accuracy: 0.012\n",
            "Epoch: 15/50..  Train Loss: 1.614..  Test Loss: 4.701..  Accuracy: 0.010\n",
            "Epoch: 16/50..  Train Loss: 1.610..  Test Loss: 4.719..  Accuracy: 0.010\n",
            "Epoch: 16/50..  Train Loss: 1.616..  Test Loss: 4.705..  Accuracy: 0.012\n",
            "Epoch: 16/50..  Train Loss: 1.612..  Test Loss: 4.703..  Accuracy: 0.010\n",
            "Epoch: 17/50..  Train Loss: 1.611..  Test Loss: 4.718..  Accuracy: 0.010\n",
            "Epoch: 17/50..  Train Loss: 1.616..  Test Loss: 4.695..  Accuracy: 0.012\n",
            "Epoch: 18/50..  Train Loss: 1.612..  Test Loss: 4.697..  Accuracy: 0.010\n",
            "Epoch: 18/50..  Train Loss: 1.612..  Test Loss: 4.720..  Accuracy: 0.007\n",
            "Epoch: 18/50..  Train Loss: 1.615..  Test Loss: 4.694..  Accuracy: 0.012\n",
            "Epoch: 19/50..  Train Loss: 1.611..  Test Loss: 4.702..  Accuracy: 0.010\n",
            "Epoch: 19/50..  Train Loss: 1.612..  Test Loss: 4.713..  Accuracy: 0.012\n",
            "Epoch: 19/50..  Train Loss: 1.614..  Test Loss: 4.699..  Accuracy: 0.012\n",
            "Epoch: 20/50..  Train Loss: 1.611..  Test Loss: 4.706..  Accuracy: 0.012\n",
            "Epoch: 20/50..  Train Loss: 1.613..  Test Loss: 4.715..  Accuracy: 0.012\n",
            "Epoch: 20/50..  Train Loss: 1.614..  Test Loss: 4.699..  Accuracy: 0.010\n",
            "Epoch: 21/50..  Train Loss: 1.611..  Test Loss: 4.715..  Accuracy: 0.010\n",
            "Epoch: 21/50..  Train Loss: 1.615..  Test Loss: 4.711..  Accuracy: 0.012\n",
            "Epoch: 21/50..  Train Loss: 1.613..  Test Loss: 4.702..  Accuracy: 0.010\n",
            "Epoch: 22/50..  Train Loss: 1.611..  Test Loss: 4.717..  Accuracy: 0.010\n",
            "Epoch: 22/50..  Train Loss: 1.615..  Test Loss: 4.704..  Accuracy: 0.012\n",
            "Epoch: 22/50..  Train Loss: 1.612..  Test Loss: 4.702..  Accuracy: 0.010\n",
            "Epoch: 23/50..  Train Loss: 1.610..  Test Loss: 4.724..  Accuracy: 0.008\n",
            "Epoch: 23/50..  Train Loss: 1.616..  Test Loss: 4.708..  Accuracy: 0.012\n",
            "Epoch: 24/50..  Train Loss: 1.611..  Test Loss: 4.703..  Accuracy: 0.010\n",
            "Epoch: 24/50..  Train Loss: 1.613..  Test Loss: 4.717..  Accuracy: 0.008\n",
            "Epoch: 24/50..  Train Loss: 1.614..  Test Loss: 4.702..  Accuracy: 0.010\n",
            "Epoch: 25/50..  Train Loss: 1.611..  Test Loss: 4.708..  Accuracy: 0.010\n",
            "Epoch: 25/50..  Train Loss: 1.612..  Test Loss: 4.720..  Accuracy: 0.012\n",
            "Epoch: 25/50..  Train Loss: 1.614..  Test Loss: 4.700..  Accuracy: 0.010\n",
            "Epoch: 26/50..  Train Loss: 1.610..  Test Loss: 4.709..  Accuracy: 0.010\n",
            "Epoch: 26/50..  Train Loss: 1.614..  Test Loss: 4.716..  Accuracy: 0.012\n",
            "Epoch: 26/50..  Train Loss: 1.613..  Test Loss: 4.704..  Accuracy: 0.010\n",
            "Epoch: 27/50..  Train Loss: 1.610..  Test Loss: 4.718..  Accuracy: 0.012\n",
            "Epoch: 27/50..  Train Loss: 1.616..  Test Loss: 4.716..  Accuracy: 0.012\n",
            "Epoch: 27/50..  Train Loss: 1.611..  Test Loss: 4.711..  Accuracy: 0.010\n",
            "Epoch: 28/50..  Train Loss: 1.610..  Test Loss: 4.722..  Accuracy: 0.010\n",
            "Epoch: 28/50..  Train Loss: 1.616..  Test Loss: 4.715..  Accuracy: 0.012\n",
            "Epoch: 29/50..  Train Loss: 1.611..  Test Loss: 4.704..  Accuracy: 0.010\n",
            "Epoch: 29/50..  Train Loss: 1.612..  Test Loss: 4.717..  Accuracy: 0.012\n",
            "Epoch: 29/50..  Train Loss: 1.615..  Test Loss: 4.706..  Accuracy: 0.012\n",
            "Epoch: 30/50..  Train Loss: 1.611..  Test Loss: 4.702..  Accuracy: 0.010\n",
            "Epoch: 30/50..  Train Loss: 1.612..  Test Loss: 4.716..  Accuracy: 0.012\n",
            "Epoch: 30/50..  Train Loss: 1.615..  Test Loss: 4.701..  Accuracy: 0.010\n",
            "Epoch: 31/50..  Train Loss: 1.611..  Test Loss: 4.700..  Accuracy: 0.010\n",
            "Epoch: 31/50..  Train Loss: 1.612..  Test Loss: 4.720..  Accuracy: 0.012\n",
            "Epoch: 31/50..  Train Loss: 1.613..  Test Loss: 4.709..  Accuracy: 0.010\n",
            "Epoch: 32/50..  Train Loss: 1.610..  Test Loss: 4.709..  Accuracy: 0.010\n",
            "Epoch: 32/50..  Train Loss: 1.615..  Test Loss: 4.715..  Accuracy: 0.012\n",
            "Epoch: 32/50..  Train Loss: 1.613..  Test Loss: 4.705..  Accuracy: 0.010\n",
            "Epoch: 33/50..  Train Loss: 1.611..  Test Loss: 4.712..  Accuracy: 0.010\n",
            "Epoch: 33/50..  Train Loss: 1.614..  Test Loss: 4.719..  Accuracy: 0.012\n",
            "Epoch: 33/50..  Train Loss: 1.612..  Test Loss: 4.706..  Accuracy: 0.010\n",
            "Epoch: 34/50..  Train Loss: 1.610..  Test Loss: 4.716..  Accuracy: 0.010\n",
            "Epoch: 34/50..  Train Loss: 1.615..  Test Loss: 4.711..  Accuracy: 0.012\n",
            "Epoch: 35/50..  Train Loss: 1.611..  Test Loss: 4.706..  Accuracy: 0.010\n",
            "Epoch: 35/50..  Train Loss: 1.612..  Test Loss: 4.718..  Accuracy: 0.012\n",
            "Epoch: 35/50..  Train Loss: 1.615..  Test Loss: 4.709..  Accuracy: 0.012\n",
            "Epoch: 36/50..  Train Loss: 1.611..  Test Loss: 4.702..  Accuracy: 0.010\n",
            "Epoch: 36/50..  Train Loss: 1.611..  Test Loss: 4.716..  Accuracy: 0.012\n",
            "Epoch: 36/50..  Train Loss: 1.614..  Test Loss: 4.708..  Accuracy: 0.012\n",
            "Epoch: 37/50..  Train Loss: 1.610..  Test Loss: 4.709..  Accuracy: 0.012\n",
            "Epoch: 37/50..  Train Loss: 1.614..  Test Loss: 4.723..  Accuracy: 0.012\n",
            "Epoch: 37/50..  Train Loss: 1.614..  Test Loss: 4.707..  Accuracy: 0.010\n",
            "Epoch: 38/50..  Train Loss: 1.609..  Test Loss: 4.712..  Accuracy: 0.012\n",
            "Epoch: 38/50..  Train Loss: 1.616..  Test Loss: 4.714..  Accuracy: 0.012\n",
            "Epoch: 38/50..  Train Loss: 1.612..  Test Loss: 4.703..  Accuracy: 0.012\n",
            "Epoch: 39/50..  Train Loss: 1.610..  Test Loss: 4.708..  Accuracy: 0.012\n",
            "Epoch: 39/50..  Train Loss: 1.616..  Test Loss: 4.709..  Accuracy: 0.012\n",
            "Epoch: 40/50..  Train Loss: 1.611..  Test Loss: 4.706..  Accuracy: 0.010\n",
            "Epoch: 40/50..  Train Loss: 1.611..  Test Loss: 4.710..  Accuracy: 0.010\n",
            "Epoch: 40/50..  Train Loss: 1.615..  Test Loss: 4.709..  Accuracy: 0.012\n",
            "Epoch: 41/50..  Train Loss: 1.610..  Test Loss: 4.706..  Accuracy: 0.010\n",
            "Epoch: 41/50..  Train Loss: 1.612..  Test Loss: 4.712..  Accuracy: 0.012\n",
            "Epoch: 41/50..  Train Loss: 1.614..  Test Loss: 4.711..  Accuracy: 0.012\n",
            "Epoch: 42/50..  Train Loss: 1.610..  Test Loss: 4.706..  Accuracy: 0.010\n",
            "Epoch: 42/50..  Train Loss: 1.613..  Test Loss: 4.709..  Accuracy: 0.012\n",
            "Epoch: 42/50..  Train Loss: 1.613..  Test Loss: 4.709..  Accuracy: 0.010\n",
            "Epoch: 43/50..  Train Loss: 1.610..  Test Loss: 4.708..  Accuracy: 0.010\n",
            "Epoch: 43/50..  Train Loss: 1.615..  Test Loss: 4.713..  Accuracy: 0.012\n",
            "Epoch: 43/50..  Train Loss: 1.612..  Test Loss: 4.710..  Accuracy: 0.010\n",
            "Epoch: 44/50..  Train Loss: 1.610..  Test Loss: 4.710..  Accuracy: 0.010\n",
            "Epoch: 44/50..  Train Loss: 1.615..  Test Loss: 4.714..  Accuracy: 0.012\n",
            "Epoch: 44/50..  Train Loss: 1.611..  Test Loss: 4.711..  Accuracy: 0.010\n",
            "Epoch: 45/50..  Train Loss: 1.610..  Test Loss: 4.711..  Accuracy: 0.010\n",
            "Epoch: 45/50..  Train Loss: 1.615..  Test Loss: 4.712..  Accuracy: 0.012\n",
            "Epoch: 46/50..  Train Loss: 1.611..  Test Loss: 4.710..  Accuracy: 0.010\n",
            "Epoch: 46/50..  Train Loss: 1.611..  Test Loss: 4.710..  Accuracy: 0.012\n",
            "Epoch: 46/50..  Train Loss: 1.614..  Test Loss: 4.711..  Accuracy: 0.012\n",
            "Epoch: 47/50..  Train Loss: 1.610..  Test Loss: 4.709..  Accuracy: 0.010\n",
            "Epoch: 47/50..  Train Loss: 1.611..  Test Loss: 4.712..  Accuracy: 0.012\n",
            "Epoch: 47/50..  Train Loss: 1.614..  Test Loss: 4.709..  Accuracy: 0.012\n",
            "Epoch: 48/50..  Train Loss: 1.609..  Test Loss: 4.710..  Accuracy: 0.012\n",
            "Epoch: 48/50..  Train Loss: 1.613..  Test Loss: 4.713..  Accuracy: 0.012\n",
            "Epoch: 48/50..  Train Loss: 1.613..  Test Loss: 4.711..  Accuracy: 0.010\n",
            "Epoch: 49/50..  Train Loss: 1.611..  Test Loss: 4.714..  Accuracy: 0.012\n",
            "Epoch: 49/50..  Train Loss: 1.615..  Test Loss: 4.715..  Accuracy: 0.012\n",
            "Epoch: 49/50..  Train Loss: 1.612..  Test Loss: 4.714..  Accuracy: 0.010\n",
            "Epoch: 50/50..  Train Loss: 1.610..  Test Loss: 4.714..  Accuracy: 0.012\n",
            "Epoch: 50/50..  Train Loss: 1.615..  Test Loss: 4.716..  Accuracy: 0.012\n",
            "Epoch: 50/50..  Train Loss: 1.610..  Test Loss: 4.715..  Accuracy: 0.010\n"
          ]
        }
      ]
    },
    {
      "cell_type": "code",
      "metadata": {
        "colab": {
          "base_uri": "https://localhost:8080/"
        },
        "id": "qEDGwnaRvFih",
        "outputId": "195963db-8c99-4234-ada3-995b37681b0b"
      },
      "source": [
        "from syft.frameworks.torch.dp import pate\n",
        "\n",
        "data_dep_eps, data_ind_eps = pate.perform_analysis(teacher_preds=preds, indices=student_labels, noise_eps=epsilon, delta=1e-5)\n",
        "print(\"Data Independent Epsilon:\", data_ind_eps)\n",
        "print(\"Data Dependent Epsilon:\", data_dep_eps)"
      ],
      "execution_count": null,
      "outputs": [
        {
          "output_type": "stream",
          "name": "stderr",
          "text": [
            "Using TensorFlow backend.\n"
          ]
        },
        {
          "output_type": "stream",
          "name": "stdout",
          "text": [
            "Data Independent Epsilon: 1451.5129254649705\n",
            "Data Dependent Epsilon: 1451.5129254651165\n"
          ]
        }
      ]
    },
    {
      "cell_type": "code",
      "metadata": {
        "id": "L1qiMY22yd_b"
      },
      "source": [
        ""
      ],
      "execution_count": null,
      "outputs": []
    }
  ]
}