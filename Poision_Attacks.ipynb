{
  "nbformat": 4,
  "nbformat_minor": 0,
  "metadata": {
    "colab": {
      "name": "Poision_Attacks.ipynb",
      "provenance": [],
      "machine_shape": "hm",
      "toc_visible": true,
      "collapsed_sections": []
    },
    "kernelspec": {
      "name": "python3",
      "display_name": "Python 3"
    },
    "language_info": {
      "name": "python"
    },
    "accelerator": "GPU",
    "widgets": {
      "application/vnd.jupyter.widget-state+json": {
        "ca7576bce5aa40729d621932de1e744c": {
          "model_module": "@jupyter-widgets/controls",
          "model_name": "HBoxModel",
          "model_module_version": "1.5.0",
          "state": {
            "_view_name": "HBoxView",
            "_dom_classes": [],
            "_model_name": "HBoxModel",
            "_view_module": "@jupyter-widgets/controls",
            "_model_module_version": "1.5.0",
            "_view_count": null,
            "_view_module_version": "1.5.0",
            "box_style": "",
            "layout": "IPY_MODEL_52ab3c68bb304d98ba37da7ef446cfcd",
            "_model_module": "@jupyter-widgets/controls",
            "children": [
              "IPY_MODEL_907073f08b21471da59fe03d7fa45f29",
              "IPY_MODEL_cb3b9e5f45eb4aa8998cc9e7c68441ec",
              "IPY_MODEL_ec7281f555774e1d872fd4f4589b52cb"
            ]
          }
        },
        "52ab3c68bb304d98ba37da7ef446cfcd": {
          "model_module": "@jupyter-widgets/base",
          "model_name": "LayoutModel",
          "model_module_version": "1.2.0",
          "state": {
            "_view_name": "LayoutView",
            "grid_template_rows": null,
            "right": null,
            "justify_content": null,
            "_view_module": "@jupyter-widgets/base",
            "overflow": null,
            "_model_module_version": "1.2.0",
            "_view_count": null,
            "flex_flow": null,
            "width": null,
            "min_width": null,
            "border": null,
            "align_items": null,
            "bottom": null,
            "_model_module": "@jupyter-widgets/base",
            "top": null,
            "grid_column": null,
            "overflow_y": null,
            "overflow_x": null,
            "grid_auto_flow": null,
            "grid_area": null,
            "grid_template_columns": null,
            "flex": null,
            "_model_name": "LayoutModel",
            "justify_items": null,
            "grid_row": null,
            "max_height": null,
            "align_content": null,
            "visibility": null,
            "align_self": null,
            "height": null,
            "min_height": null,
            "padding": null,
            "grid_auto_rows": null,
            "grid_gap": null,
            "max_width": null,
            "order": null,
            "_view_module_version": "1.2.0",
            "grid_template_areas": null,
            "object_position": null,
            "object_fit": null,
            "grid_auto_columns": null,
            "margin": null,
            "display": null,
            "left": null
          }
        },
        "907073f08b21471da59fe03d7fa45f29": {
          "model_module": "@jupyter-widgets/controls",
          "model_name": "HTMLModel",
          "model_module_version": "1.5.0",
          "state": {
            "_view_name": "HTMLView",
            "style": "IPY_MODEL_f463bbc42107427583e858243d57b838",
            "_dom_classes": [],
            "description": "",
            "_model_name": "HTMLModel",
            "placeholder": "​",
            "_view_module": "@jupyter-widgets/controls",
            "_model_module_version": "1.5.0",
            "value": "Feature collision: 100%",
            "_view_count": null,
            "_view_module_version": "1.5.0",
            "description_tooltip": null,
            "_model_module": "@jupyter-widgets/controls",
            "layout": "IPY_MODEL_485bf0589bd34467a39a262861d7bb3a"
          }
        },
        "cb3b9e5f45eb4aa8998cc9e7c68441ec": {
          "model_module": "@jupyter-widgets/controls",
          "model_name": "FloatProgressModel",
          "model_module_version": "1.5.0",
          "state": {
            "_view_name": "ProgressView",
            "style": "IPY_MODEL_763f8f26759c4bd8a8305bebcc919faf",
            "_dom_classes": [],
            "description": "",
            "_model_name": "FloatProgressModel",
            "bar_style": "success",
            "max": 1,
            "_view_module": "@jupyter-widgets/controls",
            "_model_module_version": "1.5.0",
            "value": 1,
            "_view_count": null,
            "_view_module_version": "1.5.0",
            "orientation": "horizontal",
            "min": 0,
            "description_tooltip": null,
            "_model_module": "@jupyter-widgets/controls",
            "layout": "IPY_MODEL_6045fe952523464dbc0ce34e0a609ef7"
          }
        },
        "ec7281f555774e1d872fd4f4589b52cb": {
          "model_module": "@jupyter-widgets/controls",
          "model_name": "HTMLModel",
          "model_module_version": "1.5.0",
          "state": {
            "_view_name": "HTMLView",
            "style": "IPY_MODEL_47d7b7b30dfb486d94d8c5610b99a6e2",
            "_dom_classes": [],
            "description": "",
            "_model_name": "HTMLModel",
            "placeholder": "​",
            "_view_module": "@jupyter-widgets/controls",
            "_model_module_version": "1.5.0",
            "value": " 1/1 [00:01&lt;00:00,  1.41s/it]",
            "_view_count": null,
            "_view_module_version": "1.5.0",
            "description_tooltip": null,
            "_model_module": "@jupyter-widgets/controls",
            "layout": "IPY_MODEL_e0ac0c1294f14f5bbc11b4c1a4a79e7c"
          }
        },
        "f463bbc42107427583e858243d57b838": {
          "model_module": "@jupyter-widgets/controls",
          "model_name": "DescriptionStyleModel",
          "model_module_version": "1.5.0",
          "state": {
            "_view_name": "StyleView",
            "_model_name": "DescriptionStyleModel",
            "description_width": "",
            "_view_module": "@jupyter-widgets/base",
            "_model_module_version": "1.5.0",
            "_view_count": null,
            "_view_module_version": "1.2.0",
            "_model_module": "@jupyter-widgets/controls"
          }
        },
        "485bf0589bd34467a39a262861d7bb3a": {
          "model_module": "@jupyter-widgets/base",
          "model_name": "LayoutModel",
          "model_module_version": "1.2.0",
          "state": {
            "_view_name": "LayoutView",
            "grid_template_rows": null,
            "right": null,
            "justify_content": null,
            "_view_module": "@jupyter-widgets/base",
            "overflow": null,
            "_model_module_version": "1.2.0",
            "_view_count": null,
            "flex_flow": null,
            "width": null,
            "min_width": null,
            "border": null,
            "align_items": null,
            "bottom": null,
            "_model_module": "@jupyter-widgets/base",
            "top": null,
            "grid_column": null,
            "overflow_y": null,
            "overflow_x": null,
            "grid_auto_flow": null,
            "grid_area": null,
            "grid_template_columns": null,
            "flex": null,
            "_model_name": "LayoutModel",
            "justify_items": null,
            "grid_row": null,
            "max_height": null,
            "align_content": null,
            "visibility": null,
            "align_self": null,
            "height": null,
            "min_height": null,
            "padding": null,
            "grid_auto_rows": null,
            "grid_gap": null,
            "max_width": null,
            "order": null,
            "_view_module_version": "1.2.0",
            "grid_template_areas": null,
            "object_position": null,
            "object_fit": null,
            "grid_auto_columns": null,
            "margin": null,
            "display": null,
            "left": null
          }
        },
        "763f8f26759c4bd8a8305bebcc919faf": {
          "model_module": "@jupyter-widgets/controls",
          "model_name": "ProgressStyleModel",
          "model_module_version": "1.5.0",
          "state": {
            "_view_name": "StyleView",
            "_model_name": "ProgressStyleModel",
            "description_width": "",
            "_view_module": "@jupyter-widgets/base",
            "_model_module_version": "1.5.0",
            "_view_count": null,
            "_view_module_version": "1.2.0",
            "bar_color": null,
            "_model_module": "@jupyter-widgets/controls"
          }
        },
        "6045fe952523464dbc0ce34e0a609ef7": {
          "model_module": "@jupyter-widgets/base",
          "model_name": "LayoutModel",
          "model_module_version": "1.2.0",
          "state": {
            "_view_name": "LayoutView",
            "grid_template_rows": null,
            "right": null,
            "justify_content": null,
            "_view_module": "@jupyter-widgets/base",
            "overflow": null,
            "_model_module_version": "1.2.0",
            "_view_count": null,
            "flex_flow": null,
            "width": null,
            "min_width": null,
            "border": null,
            "align_items": null,
            "bottom": null,
            "_model_module": "@jupyter-widgets/base",
            "top": null,
            "grid_column": null,
            "overflow_y": null,
            "overflow_x": null,
            "grid_auto_flow": null,
            "grid_area": null,
            "grid_template_columns": null,
            "flex": null,
            "_model_name": "LayoutModel",
            "justify_items": null,
            "grid_row": null,
            "max_height": null,
            "align_content": null,
            "visibility": null,
            "align_self": null,
            "height": null,
            "min_height": null,
            "padding": null,
            "grid_auto_rows": null,
            "grid_gap": null,
            "max_width": null,
            "order": null,
            "_view_module_version": "1.2.0",
            "grid_template_areas": null,
            "object_position": null,
            "object_fit": null,
            "grid_auto_columns": null,
            "margin": null,
            "display": null,
            "left": null
          }
        },
        "47d7b7b30dfb486d94d8c5610b99a6e2": {
          "model_module": "@jupyter-widgets/controls",
          "model_name": "DescriptionStyleModel",
          "model_module_version": "1.5.0",
          "state": {
            "_view_name": "StyleView",
            "_model_name": "DescriptionStyleModel",
            "description_width": "",
            "_view_module": "@jupyter-widgets/base",
            "_model_module_version": "1.5.0",
            "_view_count": null,
            "_view_module_version": "1.2.0",
            "_model_module": "@jupyter-widgets/controls"
          }
        },
        "e0ac0c1294f14f5bbc11b4c1a4a79e7c": {
          "model_module": "@jupyter-widgets/base",
          "model_name": "LayoutModel",
          "model_module_version": "1.2.0",
          "state": {
            "_view_name": "LayoutView",
            "grid_template_rows": null,
            "right": null,
            "justify_content": null,
            "_view_module": "@jupyter-widgets/base",
            "overflow": null,
            "_model_module_version": "1.2.0",
            "_view_count": null,
            "flex_flow": null,
            "width": null,
            "min_width": null,
            "border": null,
            "align_items": null,
            "bottom": null,
            "_model_module": "@jupyter-widgets/base",
            "top": null,
            "grid_column": null,
            "overflow_y": null,
            "overflow_x": null,
            "grid_auto_flow": null,
            "grid_area": null,
            "grid_template_columns": null,
            "flex": null,
            "_model_name": "LayoutModel",
            "justify_items": null,
            "grid_row": null,
            "max_height": null,
            "align_content": null,
            "visibility": null,
            "align_self": null,
            "height": null,
            "min_height": null,
            "padding": null,
            "grid_auto_rows": null,
            "grid_gap": null,
            "max_width": null,
            "order": null,
            "_view_module_version": "1.2.0",
            "grid_template_areas": null,
            "object_position": null,
            "object_fit": null,
            "grid_auto_columns": null,
            "margin": null,
            "display": null,
            "left": null
          }
        },
        "9ee9f46141b940e09a2db3492fc75c3b": {
          "model_module": "@jupyter-widgets/controls",
          "model_name": "HBoxModel",
          "model_module_version": "1.5.0",
          "state": {
            "_view_name": "HBoxView",
            "_dom_classes": [],
            "_model_name": "HBoxModel",
            "_view_module": "@jupyter-widgets/controls",
            "_model_module_version": "1.5.0",
            "_view_count": null,
            "_view_module_version": "1.5.0",
            "box_style": "",
            "layout": "IPY_MODEL_89df74e676dd4563b67a1bcd5151cc70",
            "_model_module": "@jupyter-widgets/controls",
            "children": [
              "IPY_MODEL_0283a4e93aeb441986119469302f4207",
              "IPY_MODEL_5a44ee1f805440abb1288455344f9513",
              "IPY_MODEL_c3b29fc890a4470fb63239d45d351e13"
            ]
          }
        },
        "89df74e676dd4563b67a1bcd5151cc70": {
          "model_module": "@jupyter-widgets/base",
          "model_name": "LayoutModel",
          "model_module_version": "1.2.0",
          "state": {
            "_view_name": "LayoutView",
            "grid_template_rows": null,
            "right": null,
            "justify_content": null,
            "_view_module": "@jupyter-widgets/base",
            "overflow": null,
            "_model_module_version": "1.2.0",
            "_view_count": null,
            "flex_flow": null,
            "width": null,
            "min_width": null,
            "border": null,
            "align_items": null,
            "bottom": null,
            "_model_module": "@jupyter-widgets/base",
            "top": null,
            "grid_column": null,
            "overflow_y": null,
            "overflow_x": null,
            "grid_auto_flow": null,
            "grid_area": null,
            "grid_template_columns": null,
            "flex": null,
            "_model_name": "LayoutModel",
            "justify_items": null,
            "grid_row": null,
            "max_height": null,
            "align_content": null,
            "visibility": null,
            "align_self": null,
            "height": null,
            "min_height": null,
            "padding": null,
            "grid_auto_rows": null,
            "grid_gap": null,
            "max_width": null,
            "order": null,
            "_view_module_version": "1.2.0",
            "grid_template_areas": null,
            "object_position": null,
            "object_fit": null,
            "grid_auto_columns": null,
            "margin": null,
            "display": null,
            "left": null
          }
        },
        "0283a4e93aeb441986119469302f4207": {
          "model_module": "@jupyter-widgets/controls",
          "model_name": "HTMLModel",
          "model_module_version": "1.5.0",
          "state": {
            "_view_name": "HTMLView",
            "style": "IPY_MODEL_067494883af34828a64f83a359a51cb7",
            "_dom_classes": [],
            "description": "",
            "_model_name": "HTMLModel",
            "placeholder": "​",
            "_view_module": "@jupyter-widgets/controls",
            "_model_module_version": "1.5.0",
            "value": "Feature collision: 100%",
            "_view_count": null,
            "_view_module_version": "1.5.0",
            "description_tooltip": null,
            "_model_module": "@jupyter-widgets/controls",
            "layout": "IPY_MODEL_37d019641340422c8bec13bb1b2487cf"
          }
        },
        "5a44ee1f805440abb1288455344f9513": {
          "model_module": "@jupyter-widgets/controls",
          "model_name": "FloatProgressModel",
          "model_module_version": "1.5.0",
          "state": {
            "_view_name": "ProgressView",
            "style": "IPY_MODEL_8aecb2c4fa98431c8f3d319fb64e3b95",
            "_dom_classes": [],
            "description": "",
            "_model_name": "FloatProgressModel",
            "bar_style": "success",
            "max": 1,
            "_view_module": "@jupyter-widgets/controls",
            "_model_module_version": "1.5.0",
            "value": 1,
            "_view_count": null,
            "_view_module_version": "1.5.0",
            "orientation": "horizontal",
            "min": 0,
            "description_tooltip": null,
            "_model_module": "@jupyter-widgets/controls",
            "layout": "IPY_MODEL_80c092ecc09845e4be8e30d2f893410d"
          }
        },
        "c3b29fc890a4470fb63239d45d351e13": {
          "model_module": "@jupyter-widgets/controls",
          "model_name": "HTMLModel",
          "model_module_version": "1.5.0",
          "state": {
            "_view_name": "HTMLView",
            "style": "IPY_MODEL_fea08812cdfb41278048a02890d06e76",
            "_dom_classes": [],
            "description": "",
            "_model_name": "HTMLModel",
            "placeholder": "​",
            "_view_module": "@jupyter-widgets/controls",
            "_model_module_version": "1.5.0",
            "value": " 1/1 [00:00&lt;00:00, 13.50it/s]",
            "_view_count": null,
            "_view_module_version": "1.5.0",
            "description_tooltip": null,
            "_model_module": "@jupyter-widgets/controls",
            "layout": "IPY_MODEL_2e1e256f337c43dd9b31ca9299aea91c"
          }
        },
        "067494883af34828a64f83a359a51cb7": {
          "model_module": "@jupyter-widgets/controls",
          "model_name": "DescriptionStyleModel",
          "model_module_version": "1.5.0",
          "state": {
            "_view_name": "StyleView",
            "_model_name": "DescriptionStyleModel",
            "description_width": "",
            "_view_module": "@jupyter-widgets/base",
            "_model_module_version": "1.5.0",
            "_view_count": null,
            "_view_module_version": "1.2.0",
            "_model_module": "@jupyter-widgets/controls"
          }
        },
        "37d019641340422c8bec13bb1b2487cf": {
          "model_module": "@jupyter-widgets/base",
          "model_name": "LayoutModel",
          "model_module_version": "1.2.0",
          "state": {
            "_view_name": "LayoutView",
            "grid_template_rows": null,
            "right": null,
            "justify_content": null,
            "_view_module": "@jupyter-widgets/base",
            "overflow": null,
            "_model_module_version": "1.2.0",
            "_view_count": null,
            "flex_flow": null,
            "width": null,
            "min_width": null,
            "border": null,
            "align_items": null,
            "bottom": null,
            "_model_module": "@jupyter-widgets/base",
            "top": null,
            "grid_column": null,
            "overflow_y": null,
            "overflow_x": null,
            "grid_auto_flow": null,
            "grid_area": null,
            "grid_template_columns": null,
            "flex": null,
            "_model_name": "LayoutModel",
            "justify_items": null,
            "grid_row": null,
            "max_height": null,
            "align_content": null,
            "visibility": null,
            "align_self": null,
            "height": null,
            "min_height": null,
            "padding": null,
            "grid_auto_rows": null,
            "grid_gap": null,
            "max_width": null,
            "order": null,
            "_view_module_version": "1.2.0",
            "grid_template_areas": null,
            "object_position": null,
            "object_fit": null,
            "grid_auto_columns": null,
            "margin": null,
            "display": null,
            "left": null
          }
        },
        "8aecb2c4fa98431c8f3d319fb64e3b95": {
          "model_module": "@jupyter-widgets/controls",
          "model_name": "ProgressStyleModel",
          "model_module_version": "1.5.0",
          "state": {
            "_view_name": "StyleView",
            "_model_name": "ProgressStyleModel",
            "description_width": "",
            "_view_module": "@jupyter-widgets/base",
            "_model_module_version": "1.5.0",
            "_view_count": null,
            "_view_module_version": "1.2.0",
            "bar_color": null,
            "_model_module": "@jupyter-widgets/controls"
          }
        },
        "80c092ecc09845e4be8e30d2f893410d": {
          "model_module": "@jupyter-widgets/base",
          "model_name": "LayoutModel",
          "model_module_version": "1.2.0",
          "state": {
            "_view_name": "LayoutView",
            "grid_template_rows": null,
            "right": null,
            "justify_content": null,
            "_view_module": "@jupyter-widgets/base",
            "overflow": null,
            "_model_module_version": "1.2.0",
            "_view_count": null,
            "flex_flow": null,
            "width": null,
            "min_width": null,
            "border": null,
            "align_items": null,
            "bottom": null,
            "_model_module": "@jupyter-widgets/base",
            "top": null,
            "grid_column": null,
            "overflow_y": null,
            "overflow_x": null,
            "grid_auto_flow": null,
            "grid_area": null,
            "grid_template_columns": null,
            "flex": null,
            "_model_name": "LayoutModel",
            "justify_items": null,
            "grid_row": null,
            "max_height": null,
            "align_content": null,
            "visibility": null,
            "align_self": null,
            "height": null,
            "min_height": null,
            "padding": null,
            "grid_auto_rows": null,
            "grid_gap": null,
            "max_width": null,
            "order": null,
            "_view_module_version": "1.2.0",
            "grid_template_areas": null,
            "object_position": null,
            "object_fit": null,
            "grid_auto_columns": null,
            "margin": null,
            "display": null,
            "left": null
          }
        },
        "fea08812cdfb41278048a02890d06e76": {
          "model_module": "@jupyter-widgets/controls",
          "model_name": "DescriptionStyleModel",
          "model_module_version": "1.5.0",
          "state": {
            "_view_name": "StyleView",
            "_model_name": "DescriptionStyleModel",
            "description_width": "",
            "_view_module": "@jupyter-widgets/base",
            "_model_module_version": "1.5.0",
            "_view_count": null,
            "_view_module_version": "1.2.0",
            "_model_module": "@jupyter-widgets/controls"
          }
        },
        "2e1e256f337c43dd9b31ca9299aea91c": {
          "model_module": "@jupyter-widgets/base",
          "model_name": "LayoutModel",
          "model_module_version": "1.2.0",
          "state": {
            "_view_name": "LayoutView",
            "grid_template_rows": null,
            "right": null,
            "justify_content": null,
            "_view_module": "@jupyter-widgets/base",
            "overflow": null,
            "_model_module_version": "1.2.0",
            "_view_count": null,
            "flex_flow": null,
            "width": null,
            "min_width": null,
            "border": null,
            "align_items": null,
            "bottom": null,
            "_model_module": "@jupyter-widgets/base",
            "top": null,
            "grid_column": null,
            "overflow_y": null,
            "overflow_x": null,
            "grid_auto_flow": null,
            "grid_area": null,
            "grid_template_columns": null,
            "flex": null,
            "_model_name": "LayoutModel",
            "justify_items": null,
            "grid_row": null,
            "max_height": null,
            "align_content": null,
            "visibility": null,
            "align_self": null,
            "height": null,
            "min_height": null,
            "padding": null,
            "grid_auto_rows": null,
            "grid_gap": null,
            "max_width": null,
            "order": null,
            "_view_module_version": "1.2.0",
            "grid_template_areas": null,
            "object_position": null,
            "object_fit": null,
            "grid_auto_columns": null,
            "margin": null,
            "display": null,
            "left": null
          }
        },
        "aa730b6f6f83476e9212a4b8ed731398": {
          "model_module": "@jupyter-widgets/controls",
          "model_name": "HBoxModel",
          "model_module_version": "1.5.0",
          "state": {
            "_view_name": "HBoxView",
            "_dom_classes": [],
            "_model_name": "HBoxModel",
            "_view_module": "@jupyter-widgets/controls",
            "_model_module_version": "1.5.0",
            "_view_count": null,
            "_view_module_version": "1.5.0",
            "box_style": "",
            "layout": "IPY_MODEL_54286c00114446249394a7df4956767c",
            "_model_module": "@jupyter-widgets/controls",
            "children": [
              "IPY_MODEL_a006a044aab74f0a8feb46da6ac86dfa",
              "IPY_MODEL_cef3b79bebdb460e8a817eea29a0c77d",
              "IPY_MODEL_29750d858da14165af01c3c0e01a4d0c"
            ]
          }
        },
        "54286c00114446249394a7df4956767c": {
          "model_module": "@jupyter-widgets/base",
          "model_name": "LayoutModel",
          "model_module_version": "1.2.0",
          "state": {
            "_view_name": "LayoutView",
            "grid_template_rows": null,
            "right": null,
            "justify_content": null,
            "_view_module": "@jupyter-widgets/base",
            "overflow": null,
            "_model_module_version": "1.2.0",
            "_view_count": null,
            "flex_flow": null,
            "width": null,
            "min_width": null,
            "border": null,
            "align_items": null,
            "bottom": null,
            "_model_module": "@jupyter-widgets/base",
            "top": null,
            "grid_column": null,
            "overflow_y": null,
            "overflow_x": null,
            "grid_auto_flow": null,
            "grid_area": null,
            "grid_template_columns": null,
            "flex": null,
            "_model_name": "LayoutModel",
            "justify_items": null,
            "grid_row": null,
            "max_height": null,
            "align_content": null,
            "visibility": null,
            "align_self": null,
            "height": null,
            "min_height": null,
            "padding": null,
            "grid_auto_rows": null,
            "grid_gap": null,
            "max_width": null,
            "order": null,
            "_view_module_version": "1.2.0",
            "grid_template_areas": null,
            "object_position": null,
            "object_fit": null,
            "grid_auto_columns": null,
            "margin": null,
            "display": null,
            "left": null
          }
        },
        "a006a044aab74f0a8feb46da6ac86dfa": {
          "model_module": "@jupyter-widgets/controls",
          "model_name": "HTMLModel",
          "model_module_version": "1.5.0",
          "state": {
            "_view_name": "HTMLView",
            "style": "IPY_MODEL_a2eaf4fa32e343f8a220b259f0d1b52d",
            "_dom_classes": [],
            "description": "",
            "_model_name": "HTMLModel",
            "placeholder": "​",
            "_view_module": "@jupyter-widgets/controls",
            "_model_module_version": "1.5.0",
            "value": "Feature collision: 100%",
            "_view_count": null,
            "_view_module_version": "1.5.0",
            "description_tooltip": null,
            "_model_module": "@jupyter-widgets/controls",
            "layout": "IPY_MODEL_e51c183b116b41339f595c307ab8fdb4"
          }
        },
        "cef3b79bebdb460e8a817eea29a0c77d": {
          "model_module": "@jupyter-widgets/controls",
          "model_name": "FloatProgressModel",
          "model_module_version": "1.5.0",
          "state": {
            "_view_name": "ProgressView",
            "style": "IPY_MODEL_51c34699493f4f4a9bb4463d3337b02d",
            "_dom_classes": [],
            "description": "",
            "_model_name": "FloatProgressModel",
            "bar_style": "success",
            "max": 1,
            "_view_module": "@jupyter-widgets/controls",
            "_model_module_version": "1.5.0",
            "value": 1,
            "_view_count": null,
            "_view_module_version": "1.5.0",
            "orientation": "horizontal",
            "min": 0,
            "description_tooltip": null,
            "_model_module": "@jupyter-widgets/controls",
            "layout": "IPY_MODEL_23ab9ecb15894785a6bc22b48f9b8675"
          }
        },
        "29750d858da14165af01c3c0e01a4d0c": {
          "model_module": "@jupyter-widgets/controls",
          "model_name": "HTMLModel",
          "model_module_version": "1.5.0",
          "state": {
            "_view_name": "HTMLView",
            "style": "IPY_MODEL_ab309d924a9d4e189047af851a96f78f",
            "_dom_classes": [],
            "description": "",
            "_model_name": "HTMLModel",
            "placeholder": "​",
            "_view_module": "@jupyter-widgets/controls",
            "_model_module_version": "1.5.0",
            "value": " 1/1 [00:00&lt;00:00, 13.04it/s]",
            "_view_count": null,
            "_view_module_version": "1.5.0",
            "description_tooltip": null,
            "_model_module": "@jupyter-widgets/controls",
            "layout": "IPY_MODEL_485acded98cd4c6eb1d3bdf453d13af3"
          }
        },
        "a2eaf4fa32e343f8a220b259f0d1b52d": {
          "model_module": "@jupyter-widgets/controls",
          "model_name": "DescriptionStyleModel",
          "model_module_version": "1.5.0",
          "state": {
            "_view_name": "StyleView",
            "_model_name": "DescriptionStyleModel",
            "description_width": "",
            "_view_module": "@jupyter-widgets/base",
            "_model_module_version": "1.5.0",
            "_view_count": null,
            "_view_module_version": "1.2.0",
            "_model_module": "@jupyter-widgets/controls"
          }
        },
        "e51c183b116b41339f595c307ab8fdb4": {
          "model_module": "@jupyter-widgets/base",
          "model_name": "LayoutModel",
          "model_module_version": "1.2.0",
          "state": {
            "_view_name": "LayoutView",
            "grid_template_rows": null,
            "right": null,
            "justify_content": null,
            "_view_module": "@jupyter-widgets/base",
            "overflow": null,
            "_model_module_version": "1.2.0",
            "_view_count": null,
            "flex_flow": null,
            "width": null,
            "min_width": null,
            "border": null,
            "align_items": null,
            "bottom": null,
            "_model_module": "@jupyter-widgets/base",
            "top": null,
            "grid_column": null,
            "overflow_y": null,
            "overflow_x": null,
            "grid_auto_flow": null,
            "grid_area": null,
            "grid_template_columns": null,
            "flex": null,
            "_model_name": "LayoutModel",
            "justify_items": null,
            "grid_row": null,
            "max_height": null,
            "align_content": null,
            "visibility": null,
            "align_self": null,
            "height": null,
            "min_height": null,
            "padding": null,
            "grid_auto_rows": null,
            "grid_gap": null,
            "max_width": null,
            "order": null,
            "_view_module_version": "1.2.0",
            "grid_template_areas": null,
            "object_position": null,
            "object_fit": null,
            "grid_auto_columns": null,
            "margin": null,
            "display": null,
            "left": null
          }
        },
        "51c34699493f4f4a9bb4463d3337b02d": {
          "model_module": "@jupyter-widgets/controls",
          "model_name": "ProgressStyleModel",
          "model_module_version": "1.5.0",
          "state": {
            "_view_name": "StyleView",
            "_model_name": "ProgressStyleModel",
            "description_width": "",
            "_view_module": "@jupyter-widgets/base",
            "_model_module_version": "1.5.0",
            "_view_count": null,
            "_view_module_version": "1.2.0",
            "bar_color": null,
            "_model_module": "@jupyter-widgets/controls"
          }
        },
        "23ab9ecb15894785a6bc22b48f9b8675": {
          "model_module": "@jupyter-widgets/base",
          "model_name": "LayoutModel",
          "model_module_version": "1.2.0",
          "state": {
            "_view_name": "LayoutView",
            "grid_template_rows": null,
            "right": null,
            "justify_content": null,
            "_view_module": "@jupyter-widgets/base",
            "overflow": null,
            "_model_module_version": "1.2.0",
            "_view_count": null,
            "flex_flow": null,
            "width": null,
            "min_width": null,
            "border": null,
            "align_items": null,
            "bottom": null,
            "_model_module": "@jupyter-widgets/base",
            "top": null,
            "grid_column": null,
            "overflow_y": null,
            "overflow_x": null,
            "grid_auto_flow": null,
            "grid_area": null,
            "grid_template_columns": null,
            "flex": null,
            "_model_name": "LayoutModel",
            "justify_items": null,
            "grid_row": null,
            "max_height": null,
            "align_content": null,
            "visibility": null,
            "align_self": null,
            "height": null,
            "min_height": null,
            "padding": null,
            "grid_auto_rows": null,
            "grid_gap": null,
            "max_width": null,
            "order": null,
            "_view_module_version": "1.2.0",
            "grid_template_areas": null,
            "object_position": null,
            "object_fit": null,
            "grid_auto_columns": null,
            "margin": null,
            "display": null,
            "left": null
          }
        },
        "ab309d924a9d4e189047af851a96f78f": {
          "model_module": "@jupyter-widgets/controls",
          "model_name": "DescriptionStyleModel",
          "model_module_version": "1.5.0",
          "state": {
            "_view_name": "StyleView",
            "_model_name": "DescriptionStyleModel",
            "description_width": "",
            "_view_module": "@jupyter-widgets/base",
            "_model_module_version": "1.5.0",
            "_view_count": null,
            "_view_module_version": "1.2.0",
            "_model_module": "@jupyter-widgets/controls"
          }
        },
        "485acded98cd4c6eb1d3bdf453d13af3": {
          "model_module": "@jupyter-widgets/base",
          "model_name": "LayoutModel",
          "model_module_version": "1.2.0",
          "state": {
            "_view_name": "LayoutView",
            "grid_template_rows": null,
            "right": null,
            "justify_content": null,
            "_view_module": "@jupyter-widgets/base",
            "overflow": null,
            "_model_module_version": "1.2.0",
            "_view_count": null,
            "flex_flow": null,
            "width": null,
            "min_width": null,
            "border": null,
            "align_items": null,
            "bottom": null,
            "_model_module": "@jupyter-widgets/base",
            "top": null,
            "grid_column": null,
            "overflow_y": null,
            "overflow_x": null,
            "grid_auto_flow": null,
            "grid_area": null,
            "grid_template_columns": null,
            "flex": null,
            "_model_name": "LayoutModel",
            "justify_items": null,
            "grid_row": null,
            "max_height": null,
            "align_content": null,
            "visibility": null,
            "align_self": null,
            "height": null,
            "min_height": null,
            "padding": null,
            "grid_auto_rows": null,
            "grid_gap": null,
            "max_width": null,
            "order": null,
            "_view_module_version": "1.2.0",
            "grid_template_areas": null,
            "object_position": null,
            "object_fit": null,
            "grid_auto_columns": null,
            "margin": null,
            "display": null,
            "left": null
          }
        },
        "91985422fa2f457cb5f235d5fe6833bb": {
          "model_module": "@jupyter-widgets/controls",
          "model_name": "HBoxModel",
          "model_module_version": "1.5.0",
          "state": {
            "_view_name": "HBoxView",
            "_dom_classes": [],
            "_model_name": "HBoxModel",
            "_view_module": "@jupyter-widgets/controls",
            "_model_module_version": "1.5.0",
            "_view_count": null,
            "_view_module_version": "1.5.0",
            "box_style": "",
            "layout": "IPY_MODEL_b4da4c2bc38643d3b7825e0932d93585",
            "_model_module": "@jupyter-widgets/controls",
            "children": [
              "IPY_MODEL_5d94bddc01244998ac52957c656cbec4",
              "IPY_MODEL_82c426a4f317496f94b372179822ba64",
              "IPY_MODEL_ac790cb58a4c4db7998f8b9c09b4b0ae"
            ]
          }
        },
        "b4da4c2bc38643d3b7825e0932d93585": {
          "model_module": "@jupyter-widgets/base",
          "model_name": "LayoutModel",
          "model_module_version": "1.2.0",
          "state": {
            "_view_name": "LayoutView",
            "grid_template_rows": null,
            "right": null,
            "justify_content": null,
            "_view_module": "@jupyter-widgets/base",
            "overflow": null,
            "_model_module_version": "1.2.0",
            "_view_count": null,
            "flex_flow": null,
            "width": null,
            "min_width": null,
            "border": null,
            "align_items": null,
            "bottom": null,
            "_model_module": "@jupyter-widgets/base",
            "top": null,
            "grid_column": null,
            "overflow_y": null,
            "overflow_x": null,
            "grid_auto_flow": null,
            "grid_area": null,
            "grid_template_columns": null,
            "flex": null,
            "_model_name": "LayoutModel",
            "justify_items": null,
            "grid_row": null,
            "max_height": null,
            "align_content": null,
            "visibility": null,
            "align_self": null,
            "height": null,
            "min_height": null,
            "padding": null,
            "grid_auto_rows": null,
            "grid_gap": null,
            "max_width": null,
            "order": null,
            "_view_module_version": "1.2.0",
            "grid_template_areas": null,
            "object_position": null,
            "object_fit": null,
            "grid_auto_columns": null,
            "margin": null,
            "display": null,
            "left": null
          }
        },
        "5d94bddc01244998ac52957c656cbec4": {
          "model_module": "@jupyter-widgets/controls",
          "model_name": "HTMLModel",
          "model_module_version": "1.5.0",
          "state": {
            "_view_name": "HTMLView",
            "style": "IPY_MODEL_484f9551f582414fa231d6e0a65633ab",
            "_dom_classes": [],
            "description": "",
            "_model_name": "HTMLModel",
            "placeholder": "​",
            "_view_module": "@jupyter-widgets/controls",
            "_model_module_version": "1.5.0",
            "value": "Feature collision: 100%",
            "_view_count": null,
            "_view_module_version": "1.5.0",
            "description_tooltip": null,
            "_model_module": "@jupyter-widgets/controls",
            "layout": "IPY_MODEL_3ab289d033b847fa8d1b350d4b96492f"
          }
        },
        "82c426a4f317496f94b372179822ba64": {
          "model_module": "@jupyter-widgets/controls",
          "model_name": "FloatProgressModel",
          "model_module_version": "1.5.0",
          "state": {
            "_view_name": "ProgressView",
            "style": "IPY_MODEL_674ce8fa76aa4e9088882c554a4d1041",
            "_dom_classes": [],
            "description": "",
            "_model_name": "FloatProgressModel",
            "bar_style": "success",
            "max": 1,
            "_view_module": "@jupyter-widgets/controls",
            "_model_module_version": "1.5.0",
            "value": 1,
            "_view_count": null,
            "_view_module_version": "1.5.0",
            "orientation": "horizontal",
            "min": 0,
            "description_tooltip": null,
            "_model_module": "@jupyter-widgets/controls",
            "layout": "IPY_MODEL_80f695be33d147a690cfe4f24ee765ad"
          }
        },
        "ac790cb58a4c4db7998f8b9c09b4b0ae": {
          "model_module": "@jupyter-widgets/controls",
          "model_name": "HTMLModel",
          "model_module_version": "1.5.0",
          "state": {
            "_view_name": "HTMLView",
            "style": "IPY_MODEL_4bde0c86a2624813806d379f77cd8188",
            "_dom_classes": [],
            "description": "",
            "_model_name": "HTMLModel",
            "placeholder": "​",
            "_view_module": "@jupyter-widgets/controls",
            "_model_module_version": "1.5.0",
            "value": " 1/1 [00:00&lt;00:00, 14.55it/s]",
            "_view_count": null,
            "_view_module_version": "1.5.0",
            "description_tooltip": null,
            "_model_module": "@jupyter-widgets/controls",
            "layout": "IPY_MODEL_636d75dbef44490f8f4a3bb63fe84459"
          }
        },
        "484f9551f582414fa231d6e0a65633ab": {
          "model_module": "@jupyter-widgets/controls",
          "model_name": "DescriptionStyleModel",
          "model_module_version": "1.5.0",
          "state": {
            "_view_name": "StyleView",
            "_model_name": "DescriptionStyleModel",
            "description_width": "",
            "_view_module": "@jupyter-widgets/base",
            "_model_module_version": "1.5.0",
            "_view_count": null,
            "_view_module_version": "1.2.0",
            "_model_module": "@jupyter-widgets/controls"
          }
        },
        "3ab289d033b847fa8d1b350d4b96492f": {
          "model_module": "@jupyter-widgets/base",
          "model_name": "LayoutModel",
          "model_module_version": "1.2.0",
          "state": {
            "_view_name": "LayoutView",
            "grid_template_rows": null,
            "right": null,
            "justify_content": null,
            "_view_module": "@jupyter-widgets/base",
            "overflow": null,
            "_model_module_version": "1.2.0",
            "_view_count": null,
            "flex_flow": null,
            "width": null,
            "min_width": null,
            "border": null,
            "align_items": null,
            "bottom": null,
            "_model_module": "@jupyter-widgets/base",
            "top": null,
            "grid_column": null,
            "overflow_y": null,
            "overflow_x": null,
            "grid_auto_flow": null,
            "grid_area": null,
            "grid_template_columns": null,
            "flex": null,
            "_model_name": "LayoutModel",
            "justify_items": null,
            "grid_row": null,
            "max_height": null,
            "align_content": null,
            "visibility": null,
            "align_self": null,
            "height": null,
            "min_height": null,
            "padding": null,
            "grid_auto_rows": null,
            "grid_gap": null,
            "max_width": null,
            "order": null,
            "_view_module_version": "1.2.0",
            "grid_template_areas": null,
            "object_position": null,
            "object_fit": null,
            "grid_auto_columns": null,
            "margin": null,
            "display": null,
            "left": null
          }
        },
        "674ce8fa76aa4e9088882c554a4d1041": {
          "model_module": "@jupyter-widgets/controls",
          "model_name": "ProgressStyleModel",
          "model_module_version": "1.5.0",
          "state": {
            "_view_name": "StyleView",
            "_model_name": "ProgressStyleModel",
            "description_width": "",
            "_view_module": "@jupyter-widgets/base",
            "_model_module_version": "1.5.0",
            "_view_count": null,
            "_view_module_version": "1.2.0",
            "bar_color": null,
            "_model_module": "@jupyter-widgets/controls"
          }
        },
        "80f695be33d147a690cfe4f24ee765ad": {
          "model_module": "@jupyter-widgets/base",
          "model_name": "LayoutModel",
          "model_module_version": "1.2.0",
          "state": {
            "_view_name": "LayoutView",
            "grid_template_rows": null,
            "right": null,
            "justify_content": null,
            "_view_module": "@jupyter-widgets/base",
            "overflow": null,
            "_model_module_version": "1.2.0",
            "_view_count": null,
            "flex_flow": null,
            "width": null,
            "min_width": null,
            "border": null,
            "align_items": null,
            "bottom": null,
            "_model_module": "@jupyter-widgets/base",
            "top": null,
            "grid_column": null,
            "overflow_y": null,
            "overflow_x": null,
            "grid_auto_flow": null,
            "grid_area": null,
            "grid_template_columns": null,
            "flex": null,
            "_model_name": "LayoutModel",
            "justify_items": null,
            "grid_row": null,
            "max_height": null,
            "align_content": null,
            "visibility": null,
            "align_self": null,
            "height": null,
            "min_height": null,
            "padding": null,
            "grid_auto_rows": null,
            "grid_gap": null,
            "max_width": null,
            "order": null,
            "_view_module_version": "1.2.0",
            "grid_template_areas": null,
            "object_position": null,
            "object_fit": null,
            "grid_auto_columns": null,
            "margin": null,
            "display": null,
            "left": null
          }
        },
        "4bde0c86a2624813806d379f77cd8188": {
          "model_module": "@jupyter-widgets/controls",
          "model_name": "DescriptionStyleModel",
          "model_module_version": "1.5.0",
          "state": {
            "_view_name": "StyleView",
            "_model_name": "DescriptionStyleModel",
            "description_width": "",
            "_view_module": "@jupyter-widgets/base",
            "_model_module_version": "1.5.0",
            "_view_count": null,
            "_view_module_version": "1.2.0",
            "_model_module": "@jupyter-widgets/controls"
          }
        },
        "636d75dbef44490f8f4a3bb63fe84459": {
          "model_module": "@jupyter-widgets/base",
          "model_name": "LayoutModel",
          "model_module_version": "1.2.0",
          "state": {
            "_view_name": "LayoutView",
            "grid_template_rows": null,
            "right": null,
            "justify_content": null,
            "_view_module": "@jupyter-widgets/base",
            "overflow": null,
            "_model_module_version": "1.2.0",
            "_view_count": null,
            "flex_flow": null,
            "width": null,
            "min_width": null,
            "border": null,
            "align_items": null,
            "bottom": null,
            "_model_module": "@jupyter-widgets/base",
            "top": null,
            "grid_column": null,
            "overflow_y": null,
            "overflow_x": null,
            "grid_auto_flow": null,
            "grid_area": null,
            "grid_template_columns": null,
            "flex": null,
            "_model_name": "LayoutModel",
            "justify_items": null,
            "grid_row": null,
            "max_height": null,
            "align_content": null,
            "visibility": null,
            "align_self": null,
            "height": null,
            "min_height": null,
            "padding": null,
            "grid_auto_rows": null,
            "grid_gap": null,
            "max_width": null,
            "order": null,
            "_view_module_version": "1.2.0",
            "grid_template_areas": null,
            "object_position": null,
            "object_fit": null,
            "grid_auto_columns": null,
            "margin": null,
            "display": null,
            "left": null
          }
        }
      }
    }
  },
  "cells": [
    {
      "cell_type": "code",
      "execution_count": null,
      "metadata": {
        "colab": {
          "base_uri": "https://localhost:8080/"
        },
        "id": "q7tjPz6UaNNC",
        "outputId": "0578ef34-9a6a-4032-8f44-ee877c435e74"
      },
      "outputs": [
        {
          "output_type": "stream",
          "name": "stdout",
          "text": [
            "Collecting adversarial-robustness-toolbox\n",
            "  Downloading adversarial_robustness_toolbox-1.8.1-py3-none-any.whl (1.1 MB)\n",
            "\u001b[?25l\r\u001b[K     |▎                               | 10 kB 29.3 MB/s eta 0:00:01\r\u001b[K     |▋                               | 20 kB 20.0 MB/s eta 0:00:01\r\u001b[K     |█                               | 30 kB 10.7 MB/s eta 0:00:01\r\u001b[K     |█▏                              | 40 kB 8.8 MB/s eta 0:00:01\r\u001b[K     |█▌                              | 51 kB 4.8 MB/s eta 0:00:01\r\u001b[K     |█▉                              | 61 kB 5.2 MB/s eta 0:00:01\r\u001b[K     |██                              | 71 kB 5.6 MB/s eta 0:00:01\r\u001b[K     |██▍                             | 81 kB 6.3 MB/s eta 0:00:01\r\u001b[K     |██▊                             | 92 kB 6.6 MB/s eta 0:00:01\r\u001b[K     |███                             | 102 kB 5.1 MB/s eta 0:00:01\r\u001b[K     |███▎                            | 112 kB 5.1 MB/s eta 0:00:01\r\u001b[K     |███▋                            | 122 kB 5.1 MB/s eta 0:00:01\r\u001b[K     |███▉                            | 133 kB 5.1 MB/s eta 0:00:01\r\u001b[K     |████▏                           | 143 kB 5.1 MB/s eta 0:00:01\r\u001b[K     |████▌                           | 153 kB 5.1 MB/s eta 0:00:01\r\u001b[K     |████▊                           | 163 kB 5.1 MB/s eta 0:00:01\r\u001b[K     |█████                           | 174 kB 5.1 MB/s eta 0:00:01\r\u001b[K     |█████▍                          | 184 kB 5.1 MB/s eta 0:00:01\r\u001b[K     |█████▋                          | 194 kB 5.1 MB/s eta 0:00:01\r\u001b[K     |██████                          | 204 kB 5.1 MB/s eta 0:00:01\r\u001b[K     |██████▎                         | 215 kB 5.1 MB/s eta 0:00:01\r\u001b[K     |██████▌                         | 225 kB 5.1 MB/s eta 0:00:01\r\u001b[K     |██████▉                         | 235 kB 5.1 MB/s eta 0:00:01\r\u001b[K     |███████▏                        | 245 kB 5.1 MB/s eta 0:00:01\r\u001b[K     |███████▍                        | 256 kB 5.1 MB/s eta 0:00:01\r\u001b[K     |███████▊                        | 266 kB 5.1 MB/s eta 0:00:01\r\u001b[K     |████████                        | 276 kB 5.1 MB/s eta 0:00:01\r\u001b[K     |████████▎                       | 286 kB 5.1 MB/s eta 0:00:01\r\u001b[K     |████████▋                       | 296 kB 5.1 MB/s eta 0:00:01\r\u001b[K     |█████████                       | 307 kB 5.1 MB/s eta 0:00:01\r\u001b[K     |█████████▏                      | 317 kB 5.1 MB/s eta 0:00:01\r\u001b[K     |█████████▌                      | 327 kB 5.1 MB/s eta 0:00:01\r\u001b[K     |█████████▉                      | 337 kB 5.1 MB/s eta 0:00:01\r\u001b[K     |██████████                      | 348 kB 5.1 MB/s eta 0:00:01\r\u001b[K     |██████████▍                     | 358 kB 5.1 MB/s eta 0:00:01\r\u001b[K     |██████████▊                     | 368 kB 5.1 MB/s eta 0:00:01\r\u001b[K     |███████████                     | 378 kB 5.1 MB/s eta 0:00:01\r\u001b[K     |███████████▎                    | 389 kB 5.1 MB/s eta 0:00:01\r\u001b[K     |███████████▋                    | 399 kB 5.1 MB/s eta 0:00:01\r\u001b[K     |███████████▉                    | 409 kB 5.1 MB/s eta 0:00:01\r\u001b[K     |████████████▏                   | 419 kB 5.1 MB/s eta 0:00:01\r\u001b[K     |████████████▌                   | 430 kB 5.1 MB/s eta 0:00:01\r\u001b[K     |████████████▊                   | 440 kB 5.1 MB/s eta 0:00:01\r\u001b[K     |█████████████                   | 450 kB 5.1 MB/s eta 0:00:01\r\u001b[K     |█████████████▍                  | 460 kB 5.1 MB/s eta 0:00:01\r\u001b[K     |█████████████▋                  | 471 kB 5.1 MB/s eta 0:00:01\r\u001b[K     |██████████████                  | 481 kB 5.1 MB/s eta 0:00:01\r\u001b[K     |██████████████▎                 | 491 kB 5.1 MB/s eta 0:00:01\r\u001b[K     |██████████████▌                 | 501 kB 5.1 MB/s eta 0:00:01\r\u001b[K     |██████████████▉                 | 512 kB 5.1 MB/s eta 0:00:01\r\u001b[K     |███████████████▏                | 522 kB 5.1 MB/s eta 0:00:01\r\u001b[K     |███████████████▍                | 532 kB 5.1 MB/s eta 0:00:01\r\u001b[K     |███████████████▊                | 542 kB 5.1 MB/s eta 0:00:01\r\u001b[K     |████████████████                | 552 kB 5.1 MB/s eta 0:00:01\r\u001b[K     |████████████████▎               | 563 kB 5.1 MB/s eta 0:00:01\r\u001b[K     |████████████████▋               | 573 kB 5.1 MB/s eta 0:00:01\r\u001b[K     |█████████████████               | 583 kB 5.1 MB/s eta 0:00:01\r\u001b[K     |█████████████████▏              | 593 kB 5.1 MB/s eta 0:00:01\r\u001b[K     |█████████████████▌              | 604 kB 5.1 MB/s eta 0:00:01\r\u001b[K     |█████████████████▉              | 614 kB 5.1 MB/s eta 0:00:01\r\u001b[K     |██████████████████              | 624 kB 5.1 MB/s eta 0:00:01\r\u001b[K     |██████████████████▍             | 634 kB 5.1 MB/s eta 0:00:01\r\u001b[K     |██████████████████▊             | 645 kB 5.1 MB/s eta 0:00:01\r\u001b[K     |███████████████████             | 655 kB 5.1 MB/s eta 0:00:01\r\u001b[K     |███████████████████▎            | 665 kB 5.1 MB/s eta 0:00:01\r\u001b[K     |███████████████████▋            | 675 kB 5.1 MB/s eta 0:00:01\r\u001b[K     |███████████████████▉            | 686 kB 5.1 MB/s eta 0:00:01\r\u001b[K     |████████████████████▏           | 696 kB 5.1 MB/s eta 0:00:01\r\u001b[K     |████████████████████▌           | 706 kB 5.1 MB/s eta 0:00:01\r\u001b[K     |████████████████████▊           | 716 kB 5.1 MB/s eta 0:00:01\r\u001b[K     |█████████████████████           | 727 kB 5.1 MB/s eta 0:00:01\r\u001b[K     |█████████████████████▍          | 737 kB 5.1 MB/s eta 0:00:01\r\u001b[K     |█████████████████████▋          | 747 kB 5.1 MB/s eta 0:00:01\r\u001b[K     |██████████████████████          | 757 kB 5.1 MB/s eta 0:00:01\r\u001b[K     |██████████████████████▎         | 768 kB 5.1 MB/s eta 0:00:01\r\u001b[K     |██████████████████████▌         | 778 kB 5.1 MB/s eta 0:00:01\r\u001b[K     |██████████████████████▉         | 788 kB 5.1 MB/s eta 0:00:01\r\u001b[K     |███████████████████████▏        | 798 kB 5.1 MB/s eta 0:00:01\r\u001b[K     |███████████████████████▍        | 808 kB 5.1 MB/s eta 0:00:01\r\u001b[K     |███████████████████████▊        | 819 kB 5.1 MB/s eta 0:00:01\r\u001b[K     |████████████████████████        | 829 kB 5.1 MB/s eta 0:00:01\r\u001b[K     |████████████████████████▎       | 839 kB 5.1 MB/s eta 0:00:01\r\u001b[K     |████████████████████████▋       | 849 kB 5.1 MB/s eta 0:00:01\r\u001b[K     |█████████████████████████       | 860 kB 5.1 MB/s eta 0:00:01\r\u001b[K     |█████████████████████████▏      | 870 kB 5.1 MB/s eta 0:00:01\r\u001b[K     |█████████████████████████▌      | 880 kB 5.1 MB/s eta 0:00:01\r\u001b[K     |█████████████████████████▉      | 890 kB 5.1 MB/s eta 0:00:01\r\u001b[K     |██████████████████████████      | 901 kB 5.1 MB/s eta 0:00:01\r\u001b[K     |██████████████████████████▍     | 911 kB 5.1 MB/s eta 0:00:01\r\u001b[K     |██████████████████████████▊     | 921 kB 5.1 MB/s eta 0:00:01\r\u001b[K     |███████████████████████████     | 931 kB 5.1 MB/s eta 0:00:01\r\u001b[K     |███████████████████████████▎    | 942 kB 5.1 MB/s eta 0:00:01\r\u001b[K     |███████████████████████████▋    | 952 kB 5.1 MB/s eta 0:00:01\r\u001b[K     |████████████████████████████    | 962 kB 5.1 MB/s eta 0:00:01\r\u001b[K     |████████████████████████████▏   | 972 kB 5.1 MB/s eta 0:00:01\r\u001b[K     |████████████████████████████▌   | 983 kB 5.1 MB/s eta 0:00:01\r\u001b[K     |████████████████████████████▉   | 993 kB 5.1 MB/s eta 0:00:01\r\u001b[K     |█████████████████████████████   | 1.0 MB 5.1 MB/s eta 0:00:01\r\u001b[K     |█████████████████████████████▍  | 1.0 MB 5.1 MB/s eta 0:00:01\r\u001b[K     |█████████████████████████████▊  | 1.0 MB 5.1 MB/s eta 0:00:01\r\u001b[K     |██████████████████████████████  | 1.0 MB 5.1 MB/s eta 0:00:01\r\u001b[K     |██████████████████████████████▎ | 1.0 MB 5.1 MB/s eta 0:00:01\r\u001b[K     |██████████████████████████████▋ | 1.1 MB 5.1 MB/s eta 0:00:01\r\u001b[K     |██████████████████████████████▉ | 1.1 MB 5.1 MB/s eta 0:00:01\r\u001b[K     |███████████████████████████████▏| 1.1 MB 5.1 MB/s eta 0:00:01\r\u001b[K     |███████████████████████████████▌| 1.1 MB 5.1 MB/s eta 0:00:01\r\u001b[K     |███████████████████████████████▊| 1.1 MB 5.1 MB/s eta 0:00:01\r\u001b[K     |████████████████████████████████| 1.1 MB 5.1 MB/s \n",
            "\u001b[?25hRequirement already satisfied: scikit-learn<1.1.0,>=0.22.2 in /usr/local/lib/python3.7/dist-packages (from adversarial-robustness-toolbox) (1.0.1)\n",
            "Requirement already satisfied: six in /usr/local/lib/python3.7/dist-packages (from adversarial-robustness-toolbox) (1.15.0)\n",
            "Requirement already satisfied: numpy>=1.18.0 in /usr/local/lib/python3.7/dist-packages (from adversarial-robustness-toolbox) (1.19.5)\n",
            "Requirement already satisfied: scipy>=1.4.1 in /usr/local/lib/python3.7/dist-packages (from adversarial-robustness-toolbox) (1.4.1)\n",
            "Requirement already satisfied: tqdm in /usr/local/lib/python3.7/dist-packages (from adversarial-robustness-toolbox) (4.62.3)\n",
            "Requirement already satisfied: setuptools in /usr/local/lib/python3.7/dist-packages (from adversarial-robustness-toolbox) (57.4.0)\n",
            "Collecting numba>=0.53.1\n",
            "  Downloading numba-0.54.1-cp37-cp37m-manylinux2014_x86_64.manylinux_2_17_x86_64.whl (3.3 MB)\n",
            "\u001b[K     |████████████████████████████████| 3.3 MB 31.6 MB/s \n",
            "\u001b[?25hCollecting llvmlite<0.38,>=0.37.0rc1\n",
            "  Downloading llvmlite-0.37.0-cp37-cp37m-manylinux2014_x86_64.whl (26.3 MB)\n",
            "\u001b[K     |████████████████████████████████| 26.3 MB 46.1 MB/s \n",
            "\u001b[?25hRequirement already satisfied: threadpoolctl>=2.0.0 in /usr/local/lib/python3.7/dist-packages (from scikit-learn<1.1.0,>=0.22.2->adversarial-robustness-toolbox) (3.0.0)\n",
            "Requirement already satisfied: joblib>=0.11 in /usr/local/lib/python3.7/dist-packages (from scikit-learn<1.1.0,>=0.22.2->adversarial-robustness-toolbox) (1.1.0)\n",
            "Installing collected packages: llvmlite, numba, adversarial-robustness-toolbox\n",
            "  Attempting uninstall: llvmlite\n",
            "    Found existing installation: llvmlite 0.34.0\n",
            "    Uninstalling llvmlite-0.34.0:\n",
            "      Successfully uninstalled llvmlite-0.34.0\n",
            "  Attempting uninstall: numba\n",
            "    Found existing installation: numba 0.51.2\n",
            "    Uninstalling numba-0.51.2:\n",
            "      Successfully uninstalled numba-0.51.2\n",
            "Successfully installed adversarial-robustness-toolbox-1.8.1 llvmlite-0.37.0 numba-0.54.1\n"
          ]
        }
      ],
      "source": [
        "!pip install adversarial-robustness-toolbox"
      ]
    },
    {
      "cell_type": "code",
      "source": [
        "!pip install sewar"
      ],
      "metadata": {
        "colab": {
          "base_uri": "https://localhost:8080/"
        },
        "id": "whPxpm9RbCH5",
        "outputId": "f12cb96e-e687-42da-f201-a5288891aebf"
      },
      "execution_count": null,
      "outputs": [
        {
          "output_type": "stream",
          "name": "stdout",
          "text": [
            "Collecting sewar\n",
            "  Downloading sewar-0.4.4.tar.gz (10 kB)\n",
            "Requirement already satisfied: numpy in /usr/local/lib/python3.7/dist-packages (from sewar) (1.19.5)\n",
            "Requirement already satisfied: scipy in /usr/local/lib/python3.7/dist-packages (from sewar) (1.4.1)\n",
            "Requirement already satisfied: Pillow in /usr/local/lib/python3.7/dist-packages (from sewar) (7.1.2)\n",
            "Building wheels for collected packages: sewar\n",
            "  Building wheel for sewar (setup.py) ... \u001b[?25l\u001b[?25hdone\n",
            "  Created wheel for sewar: filename=sewar-0.4.4-py3-none-any.whl size=10390 sha256=5c70fa645f169fd94c75513ec95f4a0b63db6860a5f4060b765d5056904c9601\n",
            "  Stored in directory: /root/.cache/pip/wheels/b5/00/df/f1ba40d0d44c95b0db52804e518c128d5631866b91ea1960ba\n",
            "Successfully built sewar\n",
            "Installing collected packages: sewar\n",
            "Successfully installed sewar-0.4.4\n"
          ]
        }
      ]
    },
    {
      "cell_type": "code",
      "source": [
        "from art.estimators.classification.blackbox import BlackBoxClassifierNeuralNetwork, BlackBoxClassifier\n",
        "import art.utils\n",
        "import numpy as np\n",
        "from art.defences.preprocessor import FeatureSqueezing, JpegCompression, SpatialSmoothing\n",
        "import tensorflow as tf\n",
        "#tf.enable_eager_execution()\n",
        "tf.compat.v1.disable_eager_execution()\n",
        "import tensorflow_hub as hub\n",
        "import numpy as np\n",
        "import matplotlib \n",
        "#mpl.use('tkagg')\n",
        "import matplotlib.pyplot as plt\n",
        "%matplotlib inline \n",
        "#import tensorflow_text\n",
        "import os\n",
        "from art.estimators.classification import KerasClassifier\n",
        "import art.utils\n",
        "# from art.utils import load_dataset\n",
        "from art.attacks.extraction import *\n",
        "from art.attacks.evasion import FastGradientMethod\n",
        "from art.attacks.evasion import FastGradientMethod, ProjectedGradientDescent, DeepFool, CarliniL2Method,BrendelBethgeAttack\n",
        "from art.attacks.evasion import BoundaryAttack\n",
        "from sewar.full_ref import mse, rmse, psnr, uqi, ssim, ergas, scc, rase, sam, msssim, vifp"
      ],
      "metadata": {
        "id": "MvdEX0p4asex"
      },
      "execution_count": null,
      "outputs": []
    },
    {
      "cell_type": "code",
      "source": [
        "!pip install -U 'fsspec>=0.3.3'"
      ],
      "metadata": {
        "colab": {
          "base_uri": "https://localhost:8080/"
        },
        "id": "lSbz_wHkbaup",
        "outputId": "a8dc8314-47f4-4299-d85b-83dffba65ad7"
      },
      "execution_count": null,
      "outputs": [
        {
          "output_type": "stream",
          "name": "stdout",
          "text": [
            "Collecting fsspec>=0.3.3\n",
            "  Downloading fsspec-2021.11.1-py3-none-any.whl (132 kB)\n",
            "\u001b[?25l\r\u001b[K     |██▌                             | 10 kB 22.3 MB/s eta 0:00:01\r\u001b[K     |█████                           | 20 kB 24.5 MB/s eta 0:00:01\r\u001b[K     |███████▍                        | 30 kB 11.1 MB/s eta 0:00:01\r\u001b[K     |█████████▉                      | 40 kB 9.2 MB/s eta 0:00:01\r\u001b[K     |████████████▎                   | 51 kB 5.1 MB/s eta 0:00:01\r\u001b[K     |██████████████▉                 | 61 kB 5.6 MB/s eta 0:00:01\r\u001b[K     |█████████████████▎              | 71 kB 5.4 MB/s eta 0:00:01\r\u001b[K     |███████████████████▊            | 81 kB 6.1 MB/s eta 0:00:01\r\u001b[K     |██████████████████████▏         | 92 kB 4.7 MB/s eta 0:00:01\r\u001b[K     |████████████████████████▋       | 102 kB 5.0 MB/s eta 0:00:01\r\u001b[K     |███████████████████████████     | 112 kB 5.0 MB/s eta 0:00:01\r\u001b[K     |█████████████████████████████▋  | 122 kB 5.0 MB/s eta 0:00:01\r\u001b[K     |████████████████████████████████| 132 kB 5.0 MB/s \n",
            "\u001b[?25hInstalling collected packages: fsspec\n",
            "Successfully installed fsspec-2021.11.1\n"
          ]
        }
      ]
    },
    {
      "cell_type": "code",
      "source": [
        "import tracemalloc\n",
        "import pandas as pd\n",
        "import dask.dataframe as dd\n",
        "import time"
      ],
      "metadata": {
        "id": "IE6EFtZIa-0L"
      },
      "execution_count": null,
      "outputs": []
    },
    {
      "cell_type": "code",
      "source": [
        "def tracing_start():\n",
        "    tracemalloc.stop()\n",
        "    print(\"nTracing Status : \", tracemalloc.is_tracing())\n",
        "    tracemalloc.start()\n",
        "    print(\"Tracing Status : \", tracemalloc.is_tracing())\n",
        "def tracing_mem():\n",
        "    first_size, first_peak = tracemalloc.get_traced_memory()\n",
        "    peak = first_peak/(1024*1024)\n",
        "    print(\"Peak Size in MB - \", peak)"
      ],
      "metadata": {
        "id": "PSZ8rZOlbKVB"
      },
      "execution_count": null,
      "outputs": []
    },
    {
      "cell_type": "code",
      "source": [
        "(x_train, y_train), (x_test, y_test), min_, max_ = art.utils.load_dataset(str(\"cifar10\")) \n",
        "print(\"x_train shape: \" + str(x_train.shape) + \"\\n\" + \"x_train size: \" + str(x_train.size))\n",
        "print(\"y_train shape: \" + str(y_train.shape) + \"\\n\" + \"x_train size: \" + str(y_train.size))\n",
        "print(\"x_test shape: \" + str(x_test.shape) + \"\\n\" + \"x_train size: \" + str(x_test.size))\n",
        "print(\"y_test shape: \" + str(y_test.shape) + \"\\n\" + \"x_train size: \" + str(y_test.size))\n",
        "\n",
        "\n",
        "# make a subset of test data\n",
        "idx = np.arange(len(x_test))\n",
        "subset_x_test = []\n",
        "subset_y_test = []\n",
        "y_label = np.where(y_test > 0)[1]\n",
        "for i in range(10):\n",
        "    mask = y_label == i\n",
        "    subset_y_test.append(y_test[mask][10:20])\n",
        "    subset_x_test.append(x_test[mask][10:20])\n",
        "\n",
        "subset_x_test = np.concatenate(subset_x_test,axis=0)\n",
        "subset_y_test = np.concatenate(subset_y_test,axis=0)"
      ],
      "metadata": {
        "colab": {
          "base_uri": "https://localhost:8080/"
        },
        "id": "maOl_0EUbe5x",
        "outputId": "81747ba3-4f46-4ca0-9b29-27ff94cd5256"
      },
      "execution_count": null,
      "outputs": [
        {
          "output_type": "stream",
          "name": "stdout",
          "text": [
            "x_train shape: (50000, 32, 32, 3)\n",
            "x_train size: 153600000\n",
            "y_train shape: (50000, 10)\n",
            "x_train size: 500000\n",
            "x_test shape: (10000, 32, 32, 3)\n",
            "x_train size: 30720000\n",
            "y_test shape: (10000, 10)\n",
            "x_train size: 100000\n"
          ]
        }
      ]
    },
    {
      "cell_type": "code",
      "source": [
        "model_url = \"https://tfhub.dev/deepmind/ganeval-cifar10-convnet/1\"\n",
        "model = hub.KerasLayer(model_url, input_shape=(32, 32, 3))\n",
        "victim_model = tf.keras.Sequential([\n",
        "        model,\n",
        "        tf.keras.layers.Activation('softmax')\n",
        "])\n",
        "\n",
        "victim_model.compile(loss=\"categorical_crossentropy\", optimizer=\"adam\", metrics=[\"accuracy\"])\n",
        "victim_model.summary()\n",
        "victim_classifier = KerasClassifier(model=victim_model, clip_values=(0., 1.))"
      ],
      "metadata": {
        "colab": {
          "base_uri": "https://localhost:8080/"
        },
        "id": "kaO6erApbhhR",
        "outputId": "efeaeaf5-a0d8-4187-fe01-c0462084e86c"
      },
      "execution_count": null,
      "outputs": [
        {
          "output_type": "stream",
          "name": "stdout",
          "text": [
            "Model: \"sequential_1\"\n",
            "_________________________________________________________________\n",
            " Layer (type)                Output Shape              Param #   \n",
            "=================================================================\n",
            " keras_layer_1 (KerasLayer)  (None, 10)                7796426   \n",
            "                                                                 \n",
            " activation_1 (Activation)   (None, 10)                0         \n",
            "                                                                 \n",
            "=================================================================\n",
            "Total params: 7,796,426\n",
            "Trainable params: 0\n",
            "Non-trainable params: 7,796,426\n",
            "_________________________________________________________________\n"
          ]
        }
      ]
    },
    {
      "cell_type": "markdown",
      "source": [
        "#PoisoningAttackAdversarialEmbedding"
      ],
      "metadata": {
        "id": "7pa7dyyXbz-U"
      }
    },
    {
      "cell_type": "code",
      "source": [
        "from art.attacks.poisoning.backdoor_attack import PoisoningAttackBackdoor\n",
        "from art.attacks.poisoning.adversarial_embedding_attack import PoisoningAttackAdversarialEmbedding\n",
        "from art.attacks.poisoning.perturbations import add_pattern_bd"
      ],
      "metadata": {
        "id": "uHm_wcySbmup"
      },
      "execution_count": null,
      "outputs": []
    },
    {
      "cell_type": "code",
      "source": [
        "from tensorflow.keras.layers import Conv2D, Dense, Dropout, Flatten, Input, MaxPooling2D\n",
        "from tensorflow.keras.models import Model\n",
        "from art.estimators.classification.keras import KerasClassifier"
      ],
      "metadata": {
        "id": "OcO2npjfb4fB"
      },
      "execution_count": null,
      "outputs": []
    },
    {
      "cell_type": "code",
      "source": [
        "subset_x_train_1 = x_train[0:500]\n",
        "subset_y_train_1 = y_train[0:500]\n",
        "\n",
        "subset_x_train_2 = x_train[0:1000]\n",
        "subset_y_train_2 = y_train[0:1000]\n",
        "\n",
        "subset_x_train_3 = x_train[0:2000]\n",
        "subset_y_train_3 = y_train[0:2000]"
      ],
      "metadata": {
        "id": "CKZhku5sb65x"
      },
      "execution_count": null,
      "outputs": []
    },
    {
      "cell_type": "code",
      "source": [
        "target = np.ones(10)\n",
        "target_idx = 9\n",
        "target[target_idx] = 2\n",
        "\n",
        "tracing_start()\n",
        "start = time.time()\n",
        "\n",
        "backdoor = PoisoningAttackBackdoor(add_pattern_bd)\n",
        "emb_attack = PoisoningAttackAdversarialEmbedding(victim_classifier, backdoor, 1, target,clone=False)\n",
        "classifier = emb_attack.poison_estimator(subset_x_train_1, subset_y_train_1, nb_epochs=1)\n",
        "\n",
        "end = time.time()\n",
        "print(\"time elapsed {} milli seconds\".format((end-start)*1000))\n",
        "tracing_mem()"
      ],
      "metadata": {
        "colab": {
          "base_uri": "https://localhost:8080/"
        },
        "id": "qFFKxouQb9D2",
        "outputId": "62a3b12b-6286-43d5-c8f8-e7e04db92075"
      },
      "execution_count": null,
      "outputs": [
        {
          "output_type": "stream",
          "name": "stdout",
          "text": [
            "nTracing Status :  False\n",
            "Tracing Status :  True\n",
            "WARNING:tensorflow:From /usr/local/lib/python3.7/dist-packages/keras/layers/normalization/batch_normalization.py:532: _colocate_with (from tensorflow.python.framework.ops) is deprecated and will be removed in a future version.\n",
            "Instructions for updating:\n",
            "Colocations handled automatically by placer.\n"
          ]
        },
        {
          "output_type": "stream",
          "name": "stderr",
          "text": [
            "/usr/local/lib/python3.7/dist-packages/keras/optimizer_v2/adam.py:105: UserWarning: The `lr` argument is deprecated, use `learning_rate` instead.\n",
            "  super(Adam, self).__init__(name, **kwargs)\n",
            "WARNING:tensorflow:From /usr/local/lib/python3.7/dist-packages/keras/layers/normalization/batch_normalization.py:532: _colocate_with (from tensorflow.python.framework.ops) is deprecated and will be removed in a future version.\n",
            "Instructions for updating:\n",
            "Colocations handled automatically by placer.\n"
          ]
        },
        {
          "output_type": "stream",
          "name": "stdout",
          "text": [
            "Train on 500 samples\n",
            "500/500 [==============================] - 9s 17ms/sample - loss: -1.4483 - sequential_1_loss: 6.3968 - backdoor_detect_loss: 0.7767 - sequential_1_accuracy: 0.9580 - backdoor_detect_accuracy: 0.5020\n",
            "time elapsed 11717.175960540771 milli seconds\n",
            "Peak Size in MB -  20.40753173828125\n"
          ]
        }
      ]
    },
    {
      "cell_type": "code",
      "source": [
        "import sklearn"
      ],
      "metadata": {
        "id": "O9MpCoDbb_sh"
      },
      "execution_count": null,
      "outputs": []
    },
    {
      "cell_type": "code",
      "source": [
        "# Evaluate the classifier on the adversarial examples\n",
        "preds = np.argmax(classifier.predict(subset_x_test), axis=1)\n",
        "acc = np.sum(preds == np.argmax(subset_y_test, axis=1)) / subset_y_test.shape[0]\n",
        "print(\"\\n Accuracy of classifier on PoisoningAttackAdversarialEmbedding 500 training: %.2f%%\" % (acc * 100))\n",
        "\n",
        "predict_maxvalue = preds\n",
        "dependent_maxvalue = np.argmax(subset_y_test, axis=1)\n",
        "\n",
        "print('accuracy',sklearn.metrics.accuracy_score(dependent_maxvalue,predict_maxvalue))\n",
        "print('precision',sklearn.metrics.precision_score(dependent_maxvalue,predict_maxvalue, average='weighted'))\n",
        "print('recall',sklearn.metrics.recall_score(dependent_maxvalue,predict_maxvalue, average='weighted'))\n",
        "print('f1-score',sklearn.metrics.f1_score(dependent_maxvalue,predict_maxvalue, average='weighted'))"
      ],
      "metadata": {
        "colab": {
          "base_uri": "https://localhost:8080/"
        },
        "id": "w14zrxnWcCrR",
        "outputId": "e6489f13-8a76-4e43-920f-491904b2ef86"
      },
      "execution_count": null,
      "outputs": [
        {
          "output_type": "stream",
          "name": "stderr",
          "text": [
            "/usr/local/lib/python3.7/dist-packages/keras/engine/training_v1.py:2079: UserWarning: `Model.state_updates` will be removed in a future version. This property should not be used in TensorFlow 2.0, as `updates` are applied automatically.\n",
            "  updates=self.state_updates,\n"
          ]
        },
        {
          "output_type": "stream",
          "name": "stdout",
          "text": [
            "\n",
            " Accuracy of classifier on PoisoningAttackAdversarialEmbedding 500 training: 97.00%\n",
            "accuracy 0.97\n",
            "precision 0.9697979797979798\n",
            "recall 0.97\n",
            "f1-score 0.9694486215538848\n"
          ]
        }
      ]
    },
    {
      "cell_type": "code",
      "source": [
        "target = np.ones(10)\n",
        "target_idx = 9\n",
        "target[target_idx] = 2\n",
        "\n",
        "tracing_start()\n",
        "start = time.time()\n",
        "\n",
        "#backdoor = PoisoningAttackBackdoor(add_pattern_bd)\n",
        "#emb_attack = PoisoningAttackAdversarialEmbedding(victim_classifier, backdoor, 1, target,clone=False)\n",
        "classifier_2 = emb_attack.poison_estimator(subset_x_train_2, subset_y_train_2, nb_epochs=1)\n",
        "\n",
        "end = time.time()\n",
        "print(\"time elapsed {} milli seconds\".format((end-start)*1000))\n",
        "tracing_mem()\n",
        "\n",
        "# Evaluate the classifier on the adversarial examples\n",
        "preds = np.argmax(classifier_2.predict(subset_x_test), axis=1)\n",
        "acc = np.sum(preds == np.argmax(subset_y_test, axis=1)) / subset_y_test.shape[0]\n",
        "print(\"\\n Accuracy of classifier on PoisoningAttackAdversarialEmbedding 1000 training: %.2f%%\" % (acc * 100))\n",
        "\n",
        "predict_maxvalue = preds\n",
        "dependent_maxvalue = np.argmax(subset_y_test, axis=1)\n",
        "\n",
        "print('accuracy',sklearn.metrics.accuracy_score(dependent_maxvalue,predict_maxvalue))\n",
        "print('precision',sklearn.metrics.precision_score(dependent_maxvalue,predict_maxvalue, average='weighted'))\n",
        "print('recall',sklearn.metrics.recall_score(dependent_maxvalue,predict_maxvalue, average='weighted'))\n",
        "print('f1-score',sklearn.metrics.f1_score(dependent_maxvalue,predict_maxvalue, average='weighted'))"
      ],
      "metadata": {
        "colab": {
          "base_uri": "https://localhost:8080/"
        },
        "id": "22QVT96zcInT",
        "outputId": "e6677ee9-a7ea-4a6b-c42c-74c3bd520047"
      },
      "execution_count": null,
      "outputs": [
        {
          "output_type": "stream",
          "name": "stdout",
          "text": [
            "nTracing Status :  False\n",
            "Tracing Status :  True\n",
            "Train on 1000 samples\n",
            "1000/1000 [==============================] - 0s 418us/sample - loss: -1.9687 - sequential_1_loss: 6.5014 - backdoor_detect_loss: 0.8563 - sequential_1_accuracy: 0.9520 - backdoor_detect_accuracy: 0.4770\n",
            "time elapsed 604.4697761535645 milli seconds\n",
            "Peak Size in MB -  29.195640563964844\n",
            "\n",
            " Accuracy of classifier on PoisoningAttackAdversarialEmbedding 1000 training: 97.00%\n",
            "accuracy 0.97\n",
            "precision 0.9697979797979798\n",
            "recall 0.97\n",
            "f1-score 0.9694486215538848\n"
          ]
        }
      ]
    },
    {
      "cell_type": "code",
      "source": [
        "target = np.ones(10)\n",
        "target_idx = 9\n",
        "target[target_idx] = 2\n",
        "\n",
        "tracing_start()\n",
        "start = time.time()\n",
        "\n",
        "#backdoor = PoisoningAttackBackdoor(add_pattern_bd)\n",
        "#emb_attack = PoisoningAttackAdversarialEmbedding(victim_classifier, backdoor, 1, target,clone=False)\n",
        "classifier_3 = emb_attack.poison_estimator(subset_x_train_3, subset_y_train_3, nb_epochs=1)\n",
        "\n",
        "end = time.time()\n",
        "print(\"time elapsed {} milli seconds\".format((end-start)*1000))\n",
        "tracing_mem()\n",
        "\n",
        "# Evaluate the classifier on the adversarial examples\n",
        "preds = np.argmax(classifier_3.predict(subset_x_test), axis=1)\n",
        "acc = np.sum(preds == np.argmax(subset_y_test, axis=1)) / subset_y_test.shape[0]\n",
        "print(\"\\n Accuracy of classifier on PoisoningAttackAdversarialEmbedding 2000 training: %.2f%%\" % (acc * 100))\n",
        "\n",
        "predict_maxvalue = preds\n",
        "dependent_maxvalue = np.argmax(subset_y_test, axis=1)\n",
        "\n",
        "print('accuracy',sklearn.metrics.accuracy_score(dependent_maxvalue,predict_maxvalue))\n",
        "print('precision',sklearn.metrics.precision_score(dependent_maxvalue,predict_maxvalue, average='weighted'))\n",
        "print('recall',sklearn.metrics.recall_score(dependent_maxvalue,predict_maxvalue, average='weighted'))\n",
        "print('f1-score',sklearn.metrics.f1_score(dependent_maxvalue,predict_maxvalue, average='weighted'))"
      ],
      "metadata": {
        "colab": {
          "base_uri": "https://localhost:8080/"
        },
        "id": "mXTuNFphcMu2",
        "outputId": "7561fc80-6a16-475c-b648-f89d19764b34"
      },
      "execution_count": null,
      "outputs": [
        {
          "output_type": "stream",
          "name": "stdout",
          "text": [
            "nTracing Status :  False\n",
            "Tracing Status :  True\n",
            "Train on 2000 samples\n",
            "2000/2000 [==============================] - 1s 370us/sample - loss: -5.1198 - sequential_1_loss: 5.7473 - backdoor_detect_loss: 1.1054 - sequential_1_accuracy: 0.9570 - backdoor_detect_accuracy: 0.4615\n",
            "time elapsed 1022.0663547515869 milli seconds\n",
            "Peak Size in MB -  54.73549461364746\n",
            "\n",
            " Accuracy of classifier on PoisoningAttackAdversarialEmbedding 2000 training: 97.00%\n",
            "accuracy 0.97\n",
            "precision 0.9697979797979798\n",
            "recall 0.97\n",
            "f1-score 0.9694486215538848\n"
          ]
        }
      ]
    },
    {
      "cell_type": "markdown",
      "source": [
        "#FeatureCollisionAttack"
      ],
      "metadata": {
        "id": "bDjagRsqe7Tj"
      }
    },
    {
      "cell_type": "code",
      "source": [
        "from art.attacks.poisoning.feature_collision_attack import FeatureCollisionAttack"
      ],
      "metadata": {
        "id": "DISnR-yre8CD"
      },
      "execution_count": null,
      "outputs": []
    },
    {
      "cell_type": "code",
      "source": [
        "def poison_dataset(classifier, x_clean, y_clean):\n",
        "        x_poison = np.copy(x_clean)\n",
        "        y_poison = np.copy(y_clean)\n",
        "        base = np.expand_dims(x_clean[0], axis=0)\n",
        "        target = np.expand_dims(x_clean[1], axis=0)\n",
        "        feature_layer = classifier.layer_names[-1]\n",
        "        attack = FeatureCollisionAttack(classifier, target, feature_layer, max_iter=1)\n",
        "        attack, attack_label = attack.poison(base)\n",
        "        x_poison = np.append(x_poison, attack, axis=0)\n",
        "        y_poison = np.append(y_poison, attack_label, axis=0)\n",
        "\n",
        "        return x_poison, y_poison"
      ],
      "metadata": {
        "id": "NDI7Ysk-fDGm"
      },
      "execution_count": null,
      "outputs": []
    },
    {
      "cell_type": "code",
      "source": [
        "x_adv, y_adv = poison_dataset(victim_classifier, x_train, y_train)"
      ],
      "metadata": {
        "colab": {
          "base_uri": "https://localhost:8080/",
          "height": 49,
          "referenced_widgets": [
            "ca7576bce5aa40729d621932de1e744c",
            "52ab3c68bb304d98ba37da7ef446cfcd",
            "907073f08b21471da59fe03d7fa45f29",
            "cb3b9e5f45eb4aa8998cc9e7c68441ec",
            "ec7281f555774e1d872fd4f4589b52cb",
            "f463bbc42107427583e858243d57b838",
            "485bf0589bd34467a39a262861d7bb3a",
            "763f8f26759c4bd8a8305bebcc919faf",
            "6045fe952523464dbc0ce34e0a609ef7",
            "47d7b7b30dfb486d94d8c5610b99a6e2",
            "e0ac0c1294f14f5bbc11b4c1a4a79e7c"
          ]
        },
        "id": "q1cgq6G2fHdH",
        "outputId": "594574cd-46c3-406d-fdbc-1f863db835b6"
      },
      "execution_count": null,
      "outputs": [
        {
          "output_type": "display_data",
          "data": {
            "application/vnd.jupyter.widget-view+json": {
              "model_id": "ca7576bce5aa40729d621932de1e744c",
              "version_minor": 0,
              "version_major": 2
            },
            "text/plain": [
              "Feature collision:   0%|          | 0/1 [00:00<?, ?it/s]"
            ]
          },
          "metadata": {}
        }
      ]
    },
    {
      "cell_type": "code",
      "source": [
        "tracing_start()\n",
        "start = time.time()\n",
        "\n",
        "model_1 = victim_classifier\n",
        "x_adv_1, y_adv_1 = poison_dataset(victim_classifier, subset_x_train_1, subset_y_train_1)\n",
        "model_1.fit(x_adv_1, y_adv_1, nb_epochs=1, batch_size=32)\n",
        "\n",
        "end = time.time()\n",
        "print(\"time elapsed {} milli seconds\".format((end-start)*1000))\n",
        "tracing_mem()\n",
        "\n",
        "# Evaluate the classifier on the adversarial examples\n",
        "preds = np.argmax(model_1.predict(subset_x_test), axis=1)\n",
        "acc = np.sum(preds == np.argmax(subset_y_test, axis=1)) / subset_y_test.shape[0]\n",
        "print(\"\\n Accuracy of classifier on FeatureCollisionAttack 500 training: %.2f%%\" % (acc * 100))\n",
        "\n",
        "predict_maxvalue = preds\n",
        "dependent_maxvalue = np.argmax(subset_y_test, axis=1)\n",
        "\n",
        "print('accuracy',sklearn.metrics.accuracy_score(dependent_maxvalue,predict_maxvalue))\n",
        "print('precision',sklearn.metrics.precision_score(dependent_maxvalue,predict_maxvalue, average='weighted'))\n",
        "print('recall',sklearn.metrics.recall_score(dependent_maxvalue,predict_maxvalue, average='weighted'))\n",
        "print('f1-score',sklearn.metrics.f1_score(dependent_maxvalue,predict_maxvalue, average='weighted'))"
      ],
      "metadata": {
        "colab": {
          "base_uri": "https://localhost:8080/",
          "height": 258,
          "referenced_widgets": [
            "9ee9f46141b940e09a2db3492fc75c3b",
            "89df74e676dd4563b67a1bcd5151cc70",
            "0283a4e93aeb441986119469302f4207",
            "5a44ee1f805440abb1288455344f9513",
            "c3b29fc890a4470fb63239d45d351e13",
            "067494883af34828a64f83a359a51cb7",
            "37d019641340422c8bec13bb1b2487cf",
            "8aecb2c4fa98431c8f3d319fb64e3b95",
            "80c092ecc09845e4be8e30d2f893410d",
            "fea08812cdfb41278048a02890d06e76",
            "2e1e256f337c43dd9b31ca9299aea91c"
          ]
        },
        "id": "8mnaukO9fLxv",
        "outputId": "a368c5f7-35e6-4f96-ff21-41a15f664d38"
      },
      "execution_count": null,
      "outputs": [
        {
          "output_type": "stream",
          "name": "stdout",
          "text": [
            "nTracing Status :  False\n",
            "Tracing Status :  True\n"
          ]
        },
        {
          "output_type": "display_data",
          "data": {
            "application/vnd.jupyter.widget-view+json": {
              "model_id": "9ee9f46141b940e09a2db3492fc75c3b",
              "version_minor": 0,
              "version_major": 2
            },
            "text/plain": [
              "Feature collision:   0%|          | 0/1 [00:00<?, ?it/s]"
            ]
          },
          "metadata": {}
        },
        {
          "output_type": "stream",
          "name": "stdout",
          "text": [
            "Train on 501 samples\n",
            "501/501 [==============================] - 1s 1ms/sample - loss: 0.0323 - accuracy: 0.9980\n",
            "time elapsed 1225.6858348846436 milli seconds\n",
            "Peak Size in MB -  35.41802978515625\n",
            "\n",
            " Accuracy of classifier on FeatureCollisionAttack 500 training: 97.00%\n",
            "accuracy 0.97\n",
            "precision 0.9697979797979798\n",
            "recall 0.97\n",
            "f1-score 0.9694486215538848\n"
          ]
        }
      ]
    },
    {
      "cell_type": "code",
      "source": [
        "tracing_start()\n",
        "start = time.time()\n",
        "\n",
        "model_2 = victim_classifier\n",
        "x_adv_2, y_adv_2 = poison_dataset(victim_classifier, subset_x_train_2, subset_y_train_2)\n",
        "model_2.fit(x_adv_2, y_adv_2, nb_epochs=1, batch_size=32)\n",
        "\n",
        "end = time.time()\n",
        "print(\"time elapsed {} milli seconds\".format((end-start)*1000))\n",
        "tracing_mem()\n",
        "\n",
        "# Evaluate the classifier on the adversarial examples\n",
        "preds = np.argmax(model_2.predict(subset_x_test), axis=1)\n",
        "acc = np.sum(preds == np.argmax(subset_y_test, axis=1)) / subset_y_test.shape[0]\n",
        "print(\"\\n Accuracy of classifier on FeatureCollisionAttack 1000 training: %.2f%%\" % (acc * 100))\n",
        "\n",
        "predict_maxvalue = preds\n",
        "dependent_maxvalue = np.argmax(subset_y_test, axis=1)\n",
        "\n",
        "print('accuracy',sklearn.metrics.accuracy_score(dependent_maxvalue,predict_maxvalue))\n",
        "print('precision',sklearn.metrics.precision_score(dependent_maxvalue,predict_maxvalue, average='weighted'))\n",
        "print('recall',sklearn.metrics.recall_score(dependent_maxvalue,predict_maxvalue, average='weighted'))\n",
        "print('f1-score',sklearn.metrics.f1_score(dependent_maxvalue,predict_maxvalue, average='weighted'))"
      ],
      "metadata": {
        "colab": {
          "base_uri": "https://localhost:8080/",
          "height": 258,
          "referenced_widgets": [
            "aa730b6f6f83476e9212a4b8ed731398",
            "54286c00114446249394a7df4956767c",
            "a006a044aab74f0a8feb46da6ac86dfa",
            "cef3b79bebdb460e8a817eea29a0c77d",
            "29750d858da14165af01c3c0e01a4d0c",
            "a2eaf4fa32e343f8a220b259f0d1b52d",
            "e51c183b116b41339f595c307ab8fdb4",
            "51c34699493f4f4a9bb4463d3337b02d",
            "23ab9ecb15894785a6bc22b48f9b8675",
            "ab309d924a9d4e189047af851a96f78f",
            "485acded98cd4c6eb1d3bdf453d13af3"
          ]
        },
        "id": "Z_1F-d6lfQD0",
        "outputId": "cdf78b63-fd36-4905-a98e-73ed20f8c6b2"
      },
      "execution_count": null,
      "outputs": [
        {
          "output_type": "stream",
          "name": "stdout",
          "text": [
            "nTracing Status :  False\n",
            "Tracing Status :  True\n"
          ]
        },
        {
          "output_type": "display_data",
          "data": {
            "application/vnd.jupyter.widget-view+json": {
              "model_id": "aa730b6f6f83476e9212a4b8ed731398",
              "version_minor": 0,
              "version_major": 2
            },
            "text/plain": [
              "Feature collision:   0%|          | 0/1 [00:00<?, ?it/s]"
            ]
          },
          "metadata": {}
        },
        {
          "output_type": "stream",
          "name": "stdout",
          "text": [
            "Train on 1001 samples\n",
            "1001/1001 [==============================] - 0s 307us/sample - loss: 0.0172 - accuracy: 0.9990\n",
            "time elapsed 566.3485527038574 milli seconds\n",
            "Peak Size in MB -  70.5872573852539\n",
            "\n",
            " Accuracy of classifier on FeatureCollisionAttack 1000 training: 97.00%\n",
            "accuracy 0.97\n",
            "precision 0.9697979797979798\n",
            "recall 0.97\n",
            "f1-score 0.9694486215538848\n"
          ]
        }
      ]
    },
    {
      "cell_type": "code",
      "source": [
        "tracing_start()\n",
        "start = time.time()\n",
        "\n",
        "model_3 = victim_classifier\n",
        "x_adv_3_fe, y_adv_3_fe = poison_dataset(victim_classifier, subset_x_test, subset_y_test)\n",
        "model_1.fit(x_adv_3_fe, y_adv_3_fe, nb_epochs=1, batch_size=32)\n",
        "\n",
        "end = time.time()\n",
        "print(\"time elapsed {} milli seconds\".format((end-start)*1000))\n",
        "tracing_mem()\n",
        "\n",
        "# Evaluate the classifier on the adversarial examples\n",
        "preds = np.argmax(model_3.predict(subset_x_test), axis=1)\n",
        "acc = np.sum(preds == np.argmax(subset_y_test, axis=1)) / subset_y_test.shape[0]\n",
        "print(\"\\n Accuracy of classifier on FeatureCollisionAttack 2000 training: %.2f%%\" % (acc * 100))\n",
        "\n",
        "predict_maxvalue = preds\n",
        "dependent_maxvalue = np.argmax(subset_y_test, axis=1)\n",
        "\n",
        "print('accuracy',sklearn.metrics.accuracy_score(dependent_maxvalue,predict_maxvalue))\n",
        "print('precision',sklearn.metrics.precision_score(dependent_maxvalue,predict_maxvalue, average='weighted'))\n",
        "print('recall',sklearn.metrics.recall_score(dependent_maxvalue,predict_maxvalue, average='weighted'))\n",
        "print('f1-score',sklearn.metrics.f1_score(dependent_maxvalue,predict_maxvalue, average='weighted'))"
      ],
      "metadata": {
        "colab": {
          "base_uri": "https://localhost:8080/",
          "height": 258,
          "referenced_widgets": [
            "91985422fa2f457cb5f235d5fe6833bb",
            "b4da4c2bc38643d3b7825e0932d93585",
            "5d94bddc01244998ac52957c656cbec4",
            "82c426a4f317496f94b372179822ba64",
            "ac790cb58a4c4db7998f8b9c09b4b0ae",
            "484f9551f582414fa231d6e0a65633ab",
            "3ab289d033b847fa8d1b350d4b96492f",
            "674ce8fa76aa4e9088882c554a4d1041",
            "80f695be33d147a690cfe4f24ee765ad",
            "4bde0c86a2624813806d379f77cd8188",
            "636d75dbef44490f8f4a3bb63fe84459"
          ]
        },
        "id": "SjMtWCsRfV6w",
        "outputId": "0e934e26-2316-40e4-f86f-e4c33e6dc898"
      },
      "execution_count": null,
      "outputs": [
        {
          "output_type": "stream",
          "name": "stdout",
          "text": [
            "nTracing Status :  False\n",
            "Tracing Status :  True\n"
          ]
        },
        {
          "output_type": "display_data",
          "data": {
            "application/vnd.jupyter.widget-view+json": {
              "model_id": "91985422fa2f457cb5f235d5fe6833bb",
              "version_minor": 0,
              "version_major": 2
            },
            "text/plain": [
              "Feature collision:   0%|          | 0/1 [00:00<?, ?it/s]"
            ]
          },
          "metadata": {}
        },
        {
          "output_type": "stream",
          "name": "stdout",
          "text": [
            "Train on 101 samples\n",
            "101/101 [==============================] - 0s 337us/sample - loss: 0.1574 - accuracy: 0.9604\n",
            "time elapsed 272.247314453125 milli seconds\n",
            "Peak Size in MB -  7.283014297485352\n",
            "\n",
            " Accuracy of classifier on FeatureCollisionAttack 2000 training: 97.00%\n",
            "accuracy 0.97\n",
            "precision 0.9697979797979798\n",
            "recall 0.97\n",
            "f1-score 0.9694486215538848\n"
          ]
        }
      ]
    },
    {
      "cell_type": "code",
      "source": [
        ""
      ],
      "metadata": {
        "id": "9AoV9muUf682"
      },
      "execution_count": null,
      "outputs": []
    }
  ]
}