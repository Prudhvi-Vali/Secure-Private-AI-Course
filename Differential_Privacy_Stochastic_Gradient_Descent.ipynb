{
  "nbformat": 4,
  "nbformat_minor": 0,
  "metadata": {
    "colab": {
      "name": "DPSGD_TF.ipynb",
      "provenance": [],
      "collapsed_sections": [],
      "machine_shape": "hm"
    },
    "kernelspec": {
      "name": "python3",
      "display_name": "Python 3"
    },
    "language_info": {
      "name": "python"
    },
    "accelerator": "GPU"
  },
  "cells": [
    {
      "cell_type": "code",
      "metadata": {
        "colab": {
          "base_uri": "https://localhost:8080/"
        },
        "id": "8MazLEfMWxtG",
        "outputId": "07794bfd-33fa-4a65-e7bd-53f72cb266db"
      },
      "source": [
        " import tensorflow as tf\n",
        "tf.compat.v1.disable_v2_behavior()\n",
        "\n",
        "import numpy as np\n",
        "\n",
        "tf.get_logger().setLevel('ERROR')"
      ],
      "execution_count": null,
      "outputs": [
        {
          "output_type": "stream",
          "name": "stdout",
          "text": [
            "WARNING:tensorflow:From /usr/local/lib/python3.7/dist-packages/tensorflow/python/compat/v2_compat.py:111: disable_resource_variables (from tensorflow.python.ops.variable_scope) is deprecated and will be removed in a future version.\n",
            "Instructions for updating:\n",
            "non-resource variables are not supported in the long term\n"
          ]
        }
      ]
    },
    {
      "cell_type": "code",
      "metadata": {
        "colab": {
          "base_uri": "https://localhost:8080/"
        },
        "id": "ZYscSX43XB5_",
        "outputId": "9c4cc42b-6e3d-4c11-9ba4-6fa6756a5773"
      },
      "source": [
        "pip install tensorflow-privacy"
      ],
      "execution_count": null,
      "outputs": [
        {
          "output_type": "stream",
          "name": "stdout",
          "text": [
            "Collecting tensorflow-privacy\n",
            "  Downloading tensorflow_privacy-0.7.3-py3-none-any.whl (251 kB)\n",
            "\u001b[K     |████████████████████████████████| 251 kB 7.2 MB/s \n",
            "\u001b[?25hRequirement already satisfied: tensorflow-probability>=0.13.0 in /usr/local/lib/python3.7/dist-packages (from tensorflow-privacy) (0.15.0)\n",
            "Requirement already satisfied: scipy>=0.17 in /usr/local/lib/python3.7/dist-packages (from tensorflow-privacy) (1.4.1)\n",
            "Collecting tensorflow-datasets>=4.4.0\n",
            "  Downloading tensorflow_datasets-4.4.0-py3-none-any.whl (4.0 MB)\n",
            "\u001b[K     |████████████████████████████████| 4.0 MB 75.9 MB/s \n",
            "\u001b[?25hRequirement already satisfied: mpmath in /usr/local/lib/python3.7/dist-packages (from tensorflow-privacy) (1.2.1)\n",
            "Requirement already satisfied: dm-tree~=0.1.1 in /usr/local/lib/python3.7/dist-packages (from tensorflow-privacy) (0.1.6)\n",
            "Requirement already satisfied: attrs>=21.2.0 in /usr/local/lib/python3.7/dist-packages (from tensorflow-privacy) (21.2.0)\n",
            "Requirement already satisfied: tensorflow-estimator>=2.3.0 in /usr/local/lib/python3.7/dist-packages (from tensorflow-privacy) (2.7.0)\n",
            "Requirement already satisfied: six>=1.12.0 in /usr/local/lib/python3.7/dist-packages (from dm-tree~=0.1.1->tensorflow-privacy) (1.15.0)\n",
            "Requirement already satisfied: numpy>=1.13.3 in /usr/local/lib/python3.7/dist-packages (from scipy>=0.17->tensorflow-privacy) (1.19.5)\n",
            "Requirement already satisfied: requests>=2.19.0 in /usr/local/lib/python3.7/dist-packages (from tensorflow-datasets>=4.4.0->tensorflow-privacy) (2.23.0)\n",
            "Requirement already satisfied: tensorflow-metadata in /usr/local/lib/python3.7/dist-packages (from tensorflow-datasets>=4.4.0->tensorflow-privacy) (1.4.0)\n",
            "Requirement already satisfied: promise in /usr/local/lib/python3.7/dist-packages (from tensorflow-datasets>=4.4.0->tensorflow-privacy) (2.3)\n",
            "Requirement already satisfied: typing-extensions in /usr/local/lib/python3.7/dist-packages (from tensorflow-datasets>=4.4.0->tensorflow-privacy) (3.10.0.2)\n",
            "Requirement already satisfied: importlib-resources in /usr/local/lib/python3.7/dist-packages (from tensorflow-datasets>=4.4.0->tensorflow-privacy) (5.4.0)\n",
            "Requirement already satisfied: absl-py in /usr/local/lib/python3.7/dist-packages (from tensorflow-datasets>=4.4.0->tensorflow-privacy) (0.12.0)\n",
            "Requirement already satisfied: future in /usr/local/lib/python3.7/dist-packages (from tensorflow-datasets>=4.4.0->tensorflow-privacy) (0.16.0)\n",
            "Requirement already satisfied: tqdm in /usr/local/lib/python3.7/dist-packages (from tensorflow-datasets>=4.4.0->tensorflow-privacy) (4.62.3)\n",
            "Requirement already satisfied: termcolor in /usr/local/lib/python3.7/dist-packages (from tensorflow-datasets>=4.4.0->tensorflow-privacy) (1.1.0)\n",
            "Requirement already satisfied: dill in /usr/local/lib/python3.7/dist-packages (from tensorflow-datasets>=4.4.0->tensorflow-privacy) (0.3.4)\n",
            "Requirement already satisfied: protobuf>=3.12.2 in /usr/local/lib/python3.7/dist-packages (from tensorflow-datasets>=4.4.0->tensorflow-privacy) (3.17.3)\n",
            "Requirement already satisfied: idna<3,>=2.5 in /usr/local/lib/python3.7/dist-packages (from requests>=2.19.0->tensorflow-datasets>=4.4.0->tensorflow-privacy) (2.10)\n",
            "Requirement already satisfied: chardet<4,>=3.0.2 in /usr/local/lib/python3.7/dist-packages (from requests>=2.19.0->tensorflow-datasets>=4.4.0->tensorflow-privacy) (3.0.4)\n",
            "Requirement already satisfied: certifi>=2017.4.17 in /usr/local/lib/python3.7/dist-packages (from requests>=2.19.0->tensorflow-datasets>=4.4.0->tensorflow-privacy) (2021.10.8)\n",
            "Requirement already satisfied: urllib3!=1.25.0,!=1.25.1,<1.26,>=1.21.1 in /usr/local/lib/python3.7/dist-packages (from requests>=2.19.0->tensorflow-datasets>=4.4.0->tensorflow-privacy) (1.24.3)\n",
            "Requirement already satisfied: cloudpickle>=1.3 in /usr/local/lib/python3.7/dist-packages (from tensorflow-probability>=0.13.0->tensorflow-privacy) (1.3.0)\n",
            "Requirement already satisfied: gast>=0.3.2 in /usr/local/lib/python3.7/dist-packages (from tensorflow-probability>=0.13.0->tensorflow-privacy) (0.4.0)\n",
            "Requirement already satisfied: decorator in /usr/local/lib/python3.7/dist-packages (from tensorflow-probability>=0.13.0->tensorflow-privacy) (4.4.2)\n",
            "Requirement already satisfied: zipp>=3.1.0 in /usr/local/lib/python3.7/dist-packages (from importlib-resources->tensorflow-datasets>=4.4.0->tensorflow-privacy) (3.6.0)\n",
            "Requirement already satisfied: googleapis-common-protos<2,>=1.52.0 in /usr/local/lib/python3.7/dist-packages (from tensorflow-metadata->tensorflow-datasets>=4.4.0->tensorflow-privacy) (1.53.0)\n",
            "Installing collected packages: tensorflow-datasets, tensorflow-privacy\n",
            "  Attempting uninstall: tensorflow-datasets\n",
            "    Found existing installation: tensorflow-datasets 4.0.1\n",
            "    Uninstalling tensorflow-datasets-4.0.1:\n",
            "      Successfully uninstalled tensorflow-datasets-4.0.1\n",
            "Successfully installed tensorflow-datasets-4.4.0 tensorflow-privacy-0.7.3\n"
          ]
        }
      ]
    },
    {
      "cell_type": "code",
      "metadata": {
        "id": "GtPvub_zXCJV"
      },
      "source": [
        "import tensorflow_privacy\n",
        "import keras\n",
        "from tensorflow_privacy.privacy.analysis import compute_dp_sgd_privacy"
      ],
      "execution_count": null,
      "outputs": []
    },
    {
      "cell_type": "code",
      "metadata": {
        "colab": {
          "base_uri": "https://localhost:8080/"
        },
        "id": "p0yyQmG7XFQh",
        "outputId": "ccaccb23-4c2b-4e0a-ea57-bafeed602ee7"
      },
      "source": [
        "(x_train, y_train), (x_test, y_test) = keras.datasets.cifar100.load_data()\n",
        "\n",
        "x_train = np.array(x_train, dtype=np.float32) / 255\n",
        "x_test = np.array(x_test, dtype=np.float32) / 255\n",
        "\n",
        "x_train = x_train.reshape(x_train.shape[0], 32, 32, 3)\n",
        "x_test = x_test.reshape(x_test.shape[0], 32, 32, 3)\n",
        "\n",
        "y_train = np.array(y_train, dtype=np.int32)\n",
        "y_test = np.array(y_test, dtype=np.int32)\n",
        "\n",
        "y_train = tf.keras.utils.to_categorical(y_train, num_classes=100)\n",
        "y_test = tf.keras.utils.to_categorical(y_test, num_classes=100)\n",
        "\n",
        "assert x_train.min() == 0.\n",
        "assert x_train.max() == 1.\n",
        "assert x_test.min() == 0.\n",
        "assert x_test.max() == 1.\n",
        "\n",
        "\n",
        "assert x_train.shape == (50000, 32, 32, 3)\n",
        "assert x_test.shape == (10000, 32, 32, 3)\n",
        "assert y_train.shape == (50000, 100)\n",
        "assert y_test.shape == (10000, 100)"
      ],
      "execution_count": null,
      "outputs": [
        {
          "output_type": "stream",
          "name": "stdout",
          "text": [
            "Downloading data from https://www.cs.toronto.edu/~kriz/cifar-100-python.tar.gz\n",
            "169009152/169001437 [==============================] - 4s 0us/step\n",
            "169017344/169001437 [==============================] - 4s 0us/step\n"
          ]
        }
      ]
    },
    {
      "cell_type": "code",
      "metadata": {
        "id": "1hdgNcz7XIY2"
      },
      "source": [
        "epochs = 100\n",
        "batch_size = 250"
      ],
      "execution_count": null,
      "outputs": []
    },
    {
      "cell_type": "code",
      "metadata": {
        "id": "2rXq5nJZXKqk"
      },
      "source": [
        "l2_norm_clip = 1.0\n",
        "noise_multiplier = 0.1\n",
        "num_microbatches = 250\n",
        "learning_rate = 0.15\n",
        "\n",
        "if batch_size % num_microbatches != 0:\n",
        "  raise ValueError('Batch size should be an integer multiple of the number of microbatches')"
      ],
      "execution_count": null,
      "outputs": []
    },
    {
      "cell_type": "code",
      "metadata": {
        "id": "EHDYQ_uLXN3p"
      },
      "source": [
        "model = tf.keras.Sequential([\n",
        "    tf.keras.layers.Conv2D(16, 8,\n",
        "                           strides=2,\n",
        "                           padding='same',\n",
        "                           activation='relu',\n",
        "                           input_shape=(32, 32, 3)),\n",
        "    tf.keras.layers.MaxPool2D(2, 1),\n",
        "    tf.keras.layers.Conv2D(32, 4,\n",
        "                           strides=2,\n",
        "                           padding='valid',\n",
        "                           activation='relu'),\n",
        "    tf.keras.layers.MaxPool2D(2, 1),\n",
        "    tf.keras.layers.Flatten(),\n",
        "    tf.keras.layers.Dense(32, activation='relu'),\n",
        "    tf.keras.layers.Dense(100)\n",
        "])"
      ],
      "execution_count": null,
      "outputs": []
    },
    {
      "cell_type": "code",
      "metadata": {
        "id": "PlCzE6aRXP3o"
      },
      "source": [
        "optimizer = tensorflow_privacy.DPKerasSGDOptimizer(\n",
        "    l2_norm_clip=l2_norm_clip,\n",
        "    noise_multiplier=noise_multiplier,\n",
        "    num_microbatches=num_microbatches,\n",
        "    learning_rate=learning_rate)\n",
        "\n",
        "loss = tf.keras.losses.CategoricalCrossentropy(\n",
        "    from_logits=True, reduction=tf.losses.Reduction.NONE)"
      ],
      "execution_count": null,
      "outputs": []
    },
    {
      "cell_type": "code",
      "metadata": {
        "colab": {
          "base_uri": "https://localhost:8080/"
        },
        "id": "U-y8Xn9FXSgB",
        "outputId": "9b61c5b6-57a2-4f14-ba6c-aaaeb1b13fcd"
      },
      "source": [
        "model.compile(optimizer=optimizer, loss=loss, metrics=['accuracy'])\n",
        "\n",
        "model.fit(x_train, y_train,\n",
        "          epochs=epochs,\n",
        "          validation_data=(x_test, y_test),\n",
        "          batch_size=batch_size)"
      ],
      "execution_count": null,
      "outputs": [
        {
          "output_type": "stream",
          "name": "stdout",
          "text": [
            "Train on 50000 samples, validate on 10000 samples\n",
            "Epoch 1/100\n",
            "50000/50000 [==============================] - ETA: 0s - loss: 4.6016 - acc: 0.0101"
          ]
        },
        {
          "output_type": "stream",
          "name": "stderr",
          "text": [
            "/usr/local/lib/python3.7/dist-packages/keras/engine/training_v1.py:2057: UserWarning: `Model.state_updates` will be removed in a future version. This property should not be used in TensorFlow 2.0, as `updates` are applied automatically.\n",
            "  updates = self.state_updates\n"
          ]
        },
        {
          "output_type": "stream",
          "name": "stdout",
          "text": [
            "\b\b\b\b\b\b\b\b\b\b\b\b\b\b\b\b\b\b\b\b\b\b\b\b\b\b\b\b\b\b\b\b\b\b\b\b\b\b\b\b\b\b\b\b\b\b\b\b\b\b\b\b\b\b\b\b\b\b\b\b\b\b\b\b\b\b\b\b\b\b\b\b\b\b\b\b\b\b\b\b\b\b\b\r50000/50000 [==============================] - 68s 1ms/sample - loss: 4.6016 - acc: 0.0101 - val_loss: 4.5941 - val_acc: 0.0137\n",
            "Epoch 2/100\n",
            "50000/50000 [==============================] - 47s 939us/sample - loss: 4.5803 - acc: 0.0168 - val_loss: 4.5617 - val_acc: 0.0169\n",
            "Epoch 3/100\n",
            "50000/50000 [==============================] - 47s 940us/sample - loss: 4.5363 - acc: 0.0245 - val_loss: 4.5073 - val_acc: 0.0266\n",
            "Epoch 4/100\n",
            "50000/50000 [==============================] - 47s 939us/sample - loss: 4.4804 - acc: 0.0304 - val_loss: 4.4517 - val_acc: 0.0320\n",
            "Epoch 5/100\n",
            "50000/50000 [==============================] - 47s 938us/sample - loss: 4.4270 - acc: 0.0353 - val_loss: 4.4049 - val_acc: 0.0358\n",
            "Epoch 6/100\n",
            "50000/50000 [==============================] - 47s 938us/sample - loss: 4.3804 - acc: 0.0389 - val_loss: 4.3621 - val_acc: 0.0411\n",
            "Epoch 7/100\n",
            "50000/50000 [==============================] - 47s 939us/sample - loss: 4.3409 - acc: 0.0439 - val_loss: 4.3221 - val_acc: 0.0473\n",
            "Epoch 8/100\n",
            "50000/50000 [==============================] - 47s 938us/sample - loss: 4.3029 - acc: 0.0489 - val_loss: 4.2869 - val_acc: 0.0494\n",
            "Epoch 9/100\n",
            "50000/50000 [==============================] - 47s 940us/sample - loss: 4.2686 - acc: 0.0528 - val_loss: 4.2585 - val_acc: 0.0560\n",
            "Epoch 10/100\n",
            "50000/50000 [==============================] - 47s 940us/sample - loss: 4.2346 - acc: 0.0573 - val_loss: 4.2200 - val_acc: 0.0600\n",
            "Epoch 11/100\n",
            "50000/50000 [==============================] - 47s 939us/sample - loss: 4.2044 - acc: 0.0623 - val_loss: 4.1992 - val_acc: 0.0626\n",
            "Epoch 12/100\n",
            "50000/50000 [==============================] - 47s 939us/sample - loss: 4.1784 - acc: 0.0666 - val_loss: 4.1708 - val_acc: 0.0671\n",
            "Epoch 13/100\n",
            "50000/50000 [==============================] - 47s 939us/sample - loss: 4.1545 - acc: 0.0711 - val_loss: 4.1481 - val_acc: 0.0692\n",
            "Epoch 14/100\n",
            "50000/50000 [==============================] - 47s 940us/sample - loss: 4.1330 - acc: 0.0740 - val_loss: 4.1246 - val_acc: 0.0739\n",
            "Epoch 15/100\n",
            "50000/50000 [==============================] - 47s 940us/sample - loss: 4.1140 - acc: 0.0764 - val_loss: 4.1083 - val_acc: 0.0757\n",
            "Epoch 16/100\n",
            "50000/50000 [==============================] - 47s 939us/sample - loss: 4.0965 - acc: 0.0792 - val_loss: 4.0907 - val_acc: 0.0790\n",
            "Epoch 17/100\n",
            "50000/50000 [==============================] - 47s 939us/sample - loss: 4.0790 - acc: 0.0834 - val_loss: 4.0761 - val_acc: 0.0796\n",
            "Epoch 18/100\n",
            "50000/50000 [==============================] - 47s 939us/sample - loss: 4.0662 - acc: 0.0864 - val_loss: 4.0586 - val_acc: 0.0873\n",
            "Epoch 19/100\n",
            "50000/50000 [==============================] - 47s 940us/sample - loss: 4.0527 - acc: 0.0877 - val_loss: 4.0469 - val_acc: 0.0894\n",
            "Epoch 20/100\n",
            "50000/50000 [==============================] - 47s 944us/sample - loss: 4.0383 - acc: 0.0899 - val_loss: 4.0350 - val_acc: 0.0891\n",
            "Epoch 21/100\n",
            "50000/50000 [==============================] - 47s 939us/sample - loss: 4.0264 - acc: 0.0924 - val_loss: 4.0218 - val_acc: 0.0903\n",
            "Epoch 22/100\n",
            "50000/50000 [==============================] - 47s 939us/sample - loss: 4.0146 - acc: 0.0934 - val_loss: 4.0226 - val_acc: 0.0950\n",
            "Epoch 23/100\n",
            "50000/50000 [==============================] - 47s 938us/sample - loss: 4.0037 - acc: 0.0964 - val_loss: 4.0017 - val_acc: 0.0995\n",
            "Epoch 24/100\n",
            "50000/50000 [==============================] - 47s 940us/sample - loss: 3.9918 - acc: 0.0996 - val_loss: 3.9878 - val_acc: 0.0986\n",
            "Epoch 25/100\n",
            "50000/50000 [==============================] - 47s 938us/sample - loss: 3.9803 - acc: 0.1000 - val_loss: 3.9822 - val_acc: 0.1015\n",
            "Epoch 26/100\n",
            "50000/50000 [==============================] - 47s 938us/sample - loss: 3.9697 - acc: 0.1028 - val_loss: 3.9721 - val_acc: 0.1020\n",
            "Epoch 27/100\n",
            "50000/50000 [==============================] - 47s 938us/sample - loss: 3.9598 - acc: 0.1050 - val_loss: 3.9610 - val_acc: 0.1023\n",
            "Epoch 28/100\n",
            "50000/50000 [==============================] - 47s 938us/sample - loss: 3.9493 - acc: 0.1064 - val_loss: 3.9477 - val_acc: 0.1043\n",
            "Epoch 29/100\n",
            "50000/50000 [==============================] - 47s 940us/sample - loss: 3.9399 - acc: 0.1072 - val_loss: 3.9371 - val_acc: 0.1076\n",
            "Epoch 30/100\n",
            "50000/50000 [==============================] - 47s 940us/sample - loss: 3.9294 - acc: 0.1093 - val_loss: 3.9272 - val_acc: 0.1055\n",
            "Epoch 31/100\n",
            "50000/50000 [==============================] - 47s 938us/sample - loss: 3.9196 - acc: 0.1097 - val_loss: 3.9213 - val_acc: 0.1104\n",
            "Epoch 32/100\n",
            "50000/50000 [==============================] - 47s 940us/sample - loss: 3.9087 - acc: 0.1117 - val_loss: 3.9204 - val_acc: 0.1070\n",
            "Epoch 33/100\n",
            "50000/50000 [==============================] - 47s 939us/sample - loss: 3.9003 - acc: 0.1134 - val_loss: 3.8995 - val_acc: 0.1101\n",
            "Epoch 34/100\n",
            "50000/50000 [==============================] - 47s 939us/sample - loss: 3.8905 - acc: 0.1153 - val_loss: 3.8930 - val_acc: 0.1135\n",
            "Epoch 35/100\n",
            "50000/50000 [==============================] - 47s 939us/sample - loss: 3.8809 - acc: 0.1169 - val_loss: 3.8816 - val_acc: 0.1156\n",
            "Epoch 36/100\n",
            "50000/50000 [==============================] - 47s 940us/sample - loss: 3.8704 - acc: 0.1185 - val_loss: 3.8722 - val_acc: 0.1150\n",
            "Epoch 37/100\n",
            "50000/50000 [==============================] - 47s 939us/sample - loss: 3.8613 - acc: 0.1207 - val_loss: 3.8625 - val_acc: 0.1178\n",
            "Epoch 38/100\n",
            "50000/50000 [==============================] - 47s 939us/sample - loss: 3.8514 - acc: 0.1211 - val_loss: 3.8530 - val_acc: 0.1188\n",
            "Epoch 39/100\n",
            "50000/50000 [==============================] - 47s 939us/sample - loss: 3.8425 - acc: 0.1226 - val_loss: 3.8508 - val_acc: 0.1191\n",
            "Epoch 40/100\n",
            "50000/50000 [==============================] - 47s 939us/sample - loss: 3.8325 - acc: 0.1252 - val_loss: 3.8377 - val_acc: 0.1210\n",
            "Epoch 41/100\n",
            "50000/50000 [==============================] - 47s 940us/sample - loss: 3.8241 - acc: 0.1258 - val_loss: 3.8284 - val_acc: 0.1220\n",
            "Epoch 42/100\n",
            "50000/50000 [==============================] - 47s 939us/sample - loss: 3.8156 - acc: 0.1284 - val_loss: 3.8187 - val_acc: 0.1208\n",
            "Epoch 43/100\n",
            "50000/50000 [==============================] - 47s 940us/sample - loss: 3.8064 - acc: 0.1285 - val_loss: 3.8113 - val_acc: 0.1238\n",
            "Epoch 44/100\n",
            "50000/50000 [==============================] - 47s 939us/sample - loss: 3.7968 - acc: 0.1295 - val_loss: 3.8092 - val_acc: 0.1271\n",
            "Epoch 45/100\n",
            "50000/50000 [==============================] - 47s 939us/sample - loss: 3.7893 - acc: 0.1306 - val_loss: 3.7980 - val_acc: 0.1283\n",
            "Epoch 46/100\n",
            "50000/50000 [==============================] - 47s 938us/sample - loss: 3.7805 - acc: 0.1322 - val_loss: 3.7928 - val_acc: 0.1306\n",
            "Epoch 47/100\n",
            "50000/50000 [==============================] - 47s 938us/sample - loss: 3.7734 - acc: 0.1334 - val_loss: 3.7841 - val_acc: 0.1318\n",
            "Epoch 48/100\n",
            "50000/50000 [==============================] - 47s 939us/sample - loss: 3.7630 - acc: 0.1357 - val_loss: 3.7739 - val_acc: 0.1316\n",
            "Epoch 49/100\n",
            "50000/50000 [==============================] - 47s 938us/sample - loss: 3.7561 - acc: 0.1362 - val_loss: 3.7658 - val_acc: 0.1336\n",
            "Epoch 50/100\n",
            "50000/50000 [==============================] - 47s 938us/sample - loss: 3.7481 - acc: 0.1377 - val_loss: 3.7773 - val_acc: 0.1340\n",
            "Epoch 51/100\n",
            "50000/50000 [==============================] - 47s 937us/sample - loss: 3.7417 - acc: 0.1398 - val_loss: 3.7554 - val_acc: 0.1351\n",
            "Epoch 52/100\n",
            "50000/50000 [==============================] - 47s 939us/sample - loss: 3.7325 - acc: 0.1407 - val_loss: 3.7456 - val_acc: 0.1362\n",
            "Epoch 53/100\n",
            "50000/50000 [==============================] - 47s 939us/sample - loss: 3.7253 - acc: 0.1412 - val_loss: 3.7511 - val_acc: 0.1374\n",
            "Epoch 54/100\n",
            "50000/50000 [==============================] - 47s 940us/sample - loss: 3.7188 - acc: 0.1432 - val_loss: 3.7483 - val_acc: 0.1366\n",
            "Epoch 55/100\n",
            "50000/50000 [==============================] - 47s 939us/sample - loss: 3.7103 - acc: 0.1441 - val_loss: 3.7294 - val_acc: 0.1416\n",
            "Epoch 56/100\n",
            "50000/50000 [==============================] - 47s 940us/sample - loss: 3.7047 - acc: 0.1447 - val_loss: 3.7276 - val_acc: 0.1450\n",
            "Epoch 57/100\n",
            "50000/50000 [==============================] - 47s 939us/sample - loss: 3.6992 - acc: 0.1465 - val_loss: 3.7163 - val_acc: 0.1436\n",
            "Epoch 58/100\n",
            "50000/50000 [==============================] - 47s 939us/sample - loss: 3.6926 - acc: 0.1483 - val_loss: 3.7056 - val_acc: 0.1459\n",
            "Epoch 59/100\n",
            "50000/50000 [==============================] - 47s 939us/sample - loss: 3.6849 - acc: 0.1484 - val_loss: 3.7203 - val_acc: 0.1448\n",
            "Epoch 60/100\n",
            "50000/50000 [==============================] - 47s 940us/sample - loss: 3.6777 - acc: 0.1501 - val_loss: 3.7030 - val_acc: 0.1492\n",
            "Epoch 61/100\n",
            "50000/50000 [==============================] - 47s 938us/sample - loss: 3.6751 - acc: 0.1517 - val_loss: 3.7030 - val_acc: 0.1472\n",
            "Epoch 62/100\n",
            "50000/50000 [==============================] - 47s 939us/sample - loss: 3.6665 - acc: 0.1516 - val_loss: 3.6854 - val_acc: 0.1503\n",
            "Epoch 63/100\n",
            "50000/50000 [==============================] - 47s 939us/sample - loss: 3.6613 - acc: 0.1527 - val_loss: 3.6890 - val_acc: 0.1501\n",
            "Epoch 64/100\n",
            "50000/50000 [==============================] - 47s 939us/sample - loss: 3.6557 - acc: 0.1541 - val_loss: 3.6812 - val_acc: 0.1501\n",
            "Epoch 65/100\n",
            "50000/50000 [==============================] - 47s 939us/sample - loss: 3.6493 - acc: 0.1559 - val_loss: 3.6718 - val_acc: 0.1523\n",
            "Epoch 66/100\n",
            "50000/50000 [==============================] - 47s 939us/sample - loss: 3.6444 - acc: 0.1552 - val_loss: 3.6820 - val_acc: 0.1523\n",
            "Epoch 67/100\n",
            "50000/50000 [==============================] - 47s 939us/sample - loss: 3.6376 - acc: 0.1573 - val_loss: 3.6629 - val_acc: 0.1554\n",
            "Epoch 68/100\n",
            "50000/50000 [==============================] - 47s 939us/sample - loss: 3.6323 - acc: 0.1578 - val_loss: 3.6552 - val_acc: 0.1585\n",
            "Epoch 69/100\n",
            "50000/50000 [==============================] - 47s 939us/sample - loss: 3.6285 - acc: 0.1579 - val_loss: 3.6481 - val_acc: 0.1577\n",
            "Epoch 70/100\n",
            "50000/50000 [==============================] - 47s 938us/sample - loss: 3.6238 - acc: 0.1600 - val_loss: 3.6534 - val_acc: 0.1577\n",
            "Epoch 71/100\n",
            "50000/50000 [==============================] - 47s 939us/sample - loss: 3.6177 - acc: 0.1601 - val_loss: 3.6424 - val_acc: 0.1614\n",
            "Epoch 72/100\n",
            "50000/50000 [==============================] - 47s 938us/sample - loss: 3.6126 - acc: 0.1610 - val_loss: 3.6405 - val_acc: 0.1625\n",
            "Epoch 73/100\n",
            "50000/50000 [==============================] - 47s 938us/sample - loss: 3.6072 - acc: 0.1623 - val_loss: 3.6388 - val_acc: 0.1612\n",
            "Epoch 74/100\n",
            "50000/50000 [==============================] - 47s 938us/sample - loss: 3.6029 - acc: 0.1634 - val_loss: 3.6370 - val_acc: 0.1607\n",
            "Epoch 75/100\n",
            "50000/50000 [==============================] - 47s 937us/sample - loss: 3.5976 - acc: 0.1643 - val_loss: 3.6314 - val_acc: 0.1638\n",
            "Epoch 76/100\n",
            "50000/50000 [==============================] - 47s 939us/sample - loss: 3.5931 - acc: 0.1658 - val_loss: 3.6207 - val_acc: 0.1656\n",
            "Epoch 77/100\n",
            "50000/50000 [==============================] - 47s 936us/sample - loss: 3.5885 - acc: 0.1661 - val_loss: 3.6212 - val_acc: 0.1611\n",
            "Epoch 78/100\n",
            "50000/50000 [==============================] - 47s 934us/sample - loss: 3.5852 - acc: 0.1670 - val_loss: 3.6161 - val_acc: 0.1672\n",
            "Epoch 79/100\n",
            "50000/50000 [==============================] - 47s 940us/sample - loss: 3.5796 - acc: 0.1664 - val_loss: 3.6127 - val_acc: 0.1661\n",
            "Epoch 80/100\n",
            "50000/50000 [==============================] - 47s 939us/sample - loss: 3.5746 - acc: 0.1691 - val_loss: 3.6068 - val_acc: 0.1671\n",
            "Epoch 81/100\n",
            "50000/50000 [==============================] - 47s 938us/sample - loss: 3.5710 - acc: 0.1699 - val_loss: 3.6026 - val_acc: 0.1672\n",
            "Epoch 82/100\n",
            "50000/50000 [==============================] - 47s 938us/sample - loss: 3.5673 - acc: 0.1705 - val_loss: 3.6045 - val_acc: 0.1666\n",
            "Epoch 83/100\n",
            "50000/50000 [==============================] - 47s 939us/sample - loss: 3.5628 - acc: 0.1712 - val_loss: 3.5964 - val_acc: 0.1662\n",
            "Epoch 84/100\n",
            "50000/50000 [==============================] - 47s 938us/sample - loss: 3.5587 - acc: 0.1715 - val_loss: 3.5933 - val_acc: 0.1711\n",
            "Epoch 85/100\n",
            "50000/50000 [==============================] - 47s 939us/sample - loss: 3.5547 - acc: 0.1716 - val_loss: 3.5856 - val_acc: 0.1699\n",
            "Epoch 86/100\n",
            "50000/50000 [==============================] - 47s 940us/sample - loss: 3.5510 - acc: 0.1735 - val_loss: 3.5865 - val_acc: 0.1745\n",
            "Epoch 87/100\n",
            "50000/50000 [==============================] - 47s 938us/sample - loss: 3.5475 - acc: 0.1740 - val_loss: 3.5817 - val_acc: 0.1708\n",
            "Epoch 88/100\n",
            "50000/50000 [==============================] - 47s 939us/sample - loss: 3.5429 - acc: 0.1749 - val_loss: 3.5780 - val_acc: 0.1707\n",
            "Epoch 89/100\n",
            "50000/50000 [==============================] - 47s 940us/sample - loss: 3.5396 - acc: 0.1754 - val_loss: 3.5781 - val_acc: 0.1713\n",
            "Epoch 90/100\n",
            "50000/50000 [==============================] - 47s 939us/sample - loss: 3.5351 - acc: 0.1766 - val_loss: 3.5713 - val_acc: 0.1718\n",
            "Epoch 91/100\n",
            "50000/50000 [==============================] - 47s 939us/sample - loss: 3.5310 - acc: 0.1789 - val_loss: 3.5956 - val_acc: 0.1685\n",
            "Epoch 92/100\n",
            "50000/50000 [==============================] - 47s 939us/sample - loss: 3.5279 - acc: 0.1784 - val_loss: 3.5657 - val_acc: 0.1746\n",
            "Epoch 93/100\n",
            "50000/50000 [==============================] - 47s 938us/sample - loss: 3.5228 - acc: 0.1793 - val_loss: 3.5718 - val_acc: 0.1742\n",
            "Epoch 94/100\n",
            "50000/50000 [==============================] - 47s 937us/sample - loss: 3.5212 - acc: 0.1803 - val_loss: 3.5653 - val_acc: 0.1744\n",
            "Epoch 95/100\n",
            "50000/50000 [==============================] - 47s 940us/sample - loss: 3.5145 - acc: 0.1805 - val_loss: 3.5674 - val_acc: 0.1757\n",
            "Epoch 96/100\n",
            "50000/50000 [==============================] - 47s 940us/sample - loss: 3.5122 - acc: 0.1811 - val_loss: 3.5521 - val_acc: 0.1770\n",
            "Epoch 97/100\n",
            "50000/50000 [==============================] - 47s 939us/sample - loss: 3.5078 - acc: 0.1820 - val_loss: 3.5537 - val_acc: 0.1763\n",
            "Epoch 98/100\n",
            "50000/50000 [==============================] - 47s 939us/sample - loss: 3.5042 - acc: 0.1830 - val_loss: 3.5427 - val_acc: 0.1784\n",
            "Epoch 99/100\n",
            "50000/50000 [==============================] - 47s 939us/sample - loss: 3.5007 - acc: 0.1842 - val_loss: 3.5472 - val_acc: 0.1785\n",
            "Epoch 100/100\n",
            "50000/50000 [==============================] - 47s 939us/sample - loss: 3.4977 - acc: 0.1832 - val_loss: 3.5411 - val_acc: 0.1764\n"
          ]
        },
        {
          "output_type": "execute_result",
          "data": {
            "text/plain": [
              "<keras.callbacks.History at 0x7f9ca0f92950>"
            ]
          },
          "metadata": {},
          "execution_count": 12
        }
      ]
    },
    {
      "cell_type": "code",
      "metadata": {
        "colab": {
          "base_uri": "https://localhost:8080/"
        },
        "id": "kfDWkAkPXVHj",
        "outputId": "2c9131dd-2988-4e17-8851-1908285660b4"
      },
      "source": [
        "compute_dp_sgd_privacy.compute_dp_sgd_privacy(n=x_train.shape[0],\n",
        "                                              batch_size=batch_size,\n",
        "                                              noise_multiplier=noise_multiplier,\n",
        "                                              epochs=epochs,\n",
        "                                              delta= 4e-05)"
      ],
      "execution_count": null,
      "outputs": [
        {
          "output_type": "stream",
          "name": "stdout",
          "text": [
            "DP-SGD with sampling rate = 0.5% and noise_multiplier = 0.1 iterated over 20000 steps satisfies differential privacy with eps = 7.2e+05 and delta = 4e-05.\n",
            "The optimal RDP order is 1.25.\n",
            "The privacy estimate is likely to be improved by expanding the set of orders.\n"
          ]
        },
        {
          "output_type": "execute_result",
          "data": {
            "text/plain": [
              "(720216.0577628489, 1.25)"
            ]
          },
          "metadata": {},
          "execution_count": 20
        }
      ]
    },
    {
      "cell_type": "markdown",
      "metadata": {
        "id": "fcFujUlG1Irh"
      },
      "source": [
        " DPKerasAdamOptimizer"
      ]
    },
    {
      "cell_type": "code",
      "metadata": {
        "id": "IP5lyQaw0vhF"
      },
      "source": [
        "optimizer2 = tensorflow_privacy.DPKerasAdamOptimizer(\n",
        "    l2_norm_clip=l2_norm_clip,\n",
        "    noise_multiplier=noise_multiplier,\n",
        "    num_microbatches=num_microbatches,\n",
        "    learning_rate=learning_rate)\n",
        "\n",
        "loss = tf.keras.losses.CategoricalCrossentropy(\n",
        "    from_logits=True, reduction=tf.losses.Reduction.NONE)"
      ],
      "execution_count": null,
      "outputs": []
    },
    {
      "cell_type": "code",
      "metadata": {
        "colab": {
          "base_uri": "https://localhost:8080/"
        },
        "id": "9-quXvW11PgC",
        "outputId": "260f1808-138d-4870-b4a5-2a158999476b"
      },
      "source": [
        "model.compile(optimizer=optimizer2, loss=loss, metrics=['accuracy'])\n",
        "\n",
        "model.fit(x_train, y_train,\n",
        "          epochs=50,\n",
        "          validation_data=(x_test, y_test),\n",
        "          batch_size=batch_size)"
      ],
      "execution_count": null,
      "outputs": [
        {
          "output_type": "stream",
          "name": "stdout",
          "text": [
            "Train on 50000 samples, validate on 10000 samples\n",
            "Epoch 1/50\n",
            "50000/50000 [==============================] - ETA: 0s - loss: 16.2405 - acc: 0.0108"
          ]
        },
        {
          "output_type": "stream",
          "name": "stderr",
          "text": [
            "/usr/local/lib/python3.7/dist-packages/keras/engine/training_v1.py:2057: UserWarning: `Model.state_updates` will be removed in a future version. This property should not be used in TensorFlow 2.0, as `updates` are applied automatically.\n",
            "  updates = self.state_updates\n"
          ]
        },
        {
          "output_type": "stream",
          "name": "stdout",
          "text": [
            "\b\b\b\b\b\b\b\b\b\b\b\b\b\b\b\b\b\b\b\b\b\b\b\b\b\b\b\b\b\b\b\b\b\b\b\b\b\b\b\b\b\b\b\b\b\b\b\b\b\b\b\b\b\b\b\b\b\b\b\b\b\b\b\b\b\b\b\b\b\b\b\b\b\b\b\b\b\b\b\b\b\b\b\b\r50000/50000 [==============================] - 62s 1ms/sample - loss: 16.2405 - acc: 0.0108 - val_loss: 4.6258 - val_acc: 0.0100\n",
            "Epoch 2/50\n",
            "50000/50000 [==============================] - 47s 940us/sample - loss: 5.1622 - acc: 0.0098 - val_loss: 5.4248 - val_acc: 0.0100\n",
            "Epoch 3/50\n",
            "50000/50000 [==============================] - 47s 938us/sample - loss: 8.4272 - acc: 0.0105 - val_loss: 8.2673 - val_acc: 0.0100\n",
            "Epoch 4/50\n",
            "50000/50000 [==============================] - 47s 940us/sample - loss: 8.3369 - acc: 0.0098 - val_loss: 13.5662 - val_acc: 0.0100\n",
            "Epoch 5/50\n",
            "50000/50000 [==============================] - 47s 938us/sample - loss: 8.2061 - acc: 0.0098 - val_loss: 7.2915 - val_acc: 0.0100\n",
            "Epoch 6/50\n",
            "50000/50000 [==============================] - 47s 939us/sample - loss: 15.0850 - acc: 0.0096 - val_loss: 16.6405 - val_acc: 0.0100\n",
            "Epoch 7/50\n",
            "50000/50000 [==============================] - 47s 939us/sample - loss: 22.5254 - acc: 0.0092 - val_loss: 9.1942 - val_acc: 0.0100\n",
            "Epoch 8/50\n",
            "50000/50000 [==============================] - 47s 940us/sample - loss: 12.1217 - acc: 0.0097 - val_loss: 12.6712 - val_acc: 0.0100\n",
            "Epoch 9/50\n",
            "50000/50000 [==============================] - 47s 939us/sample - loss: 11.4148 - acc: 0.0092 - val_loss: 39.8154 - val_acc: 0.0102\n",
            "Epoch 10/50\n",
            "50000/50000 [==============================] - 47s 938us/sample - loss: 19.1602 - acc: 0.0095 - val_loss: 12.7961 - val_acc: 0.0100\n",
            "Epoch 11/50\n",
            "50000/50000 [==============================] - 47s 939us/sample - loss: 15.1050 - acc: 0.0098 - val_loss: 45.3872 - val_acc: 0.0100\n",
            "Epoch 12/50\n",
            "50000/50000 [==============================] - 47s 938us/sample - loss: 40.4534 - acc: 0.0091 - val_loss: 89.7753 - val_acc: 0.0099\n",
            "Epoch 13/50\n",
            "50000/50000 [==============================] - 47s 939us/sample - loss: 36.3998 - acc: 0.0100 - val_loss: 135.1844 - val_acc: 0.0100\n",
            "Epoch 14/50\n",
            "50000/50000 [==============================] - 47s 941us/sample - loss: 63.3013 - acc: 0.0098 - val_loss: 90.7382 - val_acc: 0.0100\n",
            "Epoch 15/50\n",
            "50000/50000 [==============================] - 47s 938us/sample - loss: 36.6801 - acc: 0.0103 - val_loss: 78.7273 - val_acc: 0.0100\n",
            "Epoch 16/50\n",
            "50000/50000 [==============================] - 47s 939us/sample - loss: 19.0841 - acc: 0.0092 - val_loss: 50.3812 - val_acc: 0.0100\n",
            "Epoch 17/50\n",
            "50000/50000 [==============================] - 47s 938us/sample - loss: 42.6003 - acc: 0.0100 - val_loss: 44.2041 - val_acc: 0.0100\n",
            "Epoch 18/50\n",
            "50000/50000 [==============================] - 47s 939us/sample - loss: 41.2028 - acc: 0.0094 - val_loss: 63.3416 - val_acc: 0.0100\n",
            "Epoch 19/50\n",
            "50000/50000 [==============================] - 47s 938us/sample - loss: 77.4643 - acc: 0.0107 - val_loss: 62.4677 - val_acc: 0.0099\n",
            "Epoch 20/50\n",
            "50000/50000 [==============================] - 47s 940us/sample - loss: 85.3798 - acc: 0.0096 - val_loss: 77.1538 - val_acc: 0.0100\n",
            "Epoch 21/50\n",
            "50000/50000 [==============================] - 47s 939us/sample - loss: 110.1285 - acc: 0.0091 - val_loss: 112.5452 - val_acc: 0.0100\n",
            "Epoch 22/50\n",
            "50000/50000 [==============================] - 47s 938us/sample - loss: 68.5088 - acc: 0.0104 - val_loss: 14.6608 - val_acc: 0.0100\n",
            "Epoch 23/50\n",
            "50000/50000 [==============================] - 47s 938us/sample - loss: 70.6826 - acc: 0.0097 - val_loss: 12.4346 - val_acc: 0.0100\n",
            "Epoch 24/50\n",
            "50000/50000 [==============================] - 47s 937us/sample - loss: 20.9673 - acc: 0.0092 - val_loss: 8.9739 - val_acc: 0.0100\n",
            "Epoch 25/50\n",
            "50000/50000 [==============================] - 47s 938us/sample - loss: 80.3245 - acc: 0.0095 - val_loss: 28.3980 - val_acc: 0.0100\n",
            "Epoch 26/50\n",
            "50000/50000 [==============================] - 47s 935us/sample - loss: 66.2556 - acc: 0.0096 - val_loss: 136.8288 - val_acc: 0.0100\n",
            "Epoch 27/50\n",
            "50000/50000 [==============================] - 47s 940us/sample - loss: 94.9385 - acc: 0.0099 - val_loss: 72.9524 - val_acc: 0.0100\n",
            "Epoch 28/50\n",
            "50000/50000 [==============================] - 47s 940us/sample - loss: 141.5494 - acc: 0.0099 - val_loss: 242.4295 - val_acc: 0.0100\n",
            "Epoch 29/50\n",
            "50000/50000 [==============================] - 47s 939us/sample - loss: 116.4013 - acc: 0.0097 - val_loss: 322.0283 - val_acc: 0.0100\n",
            "Epoch 30/50\n",
            "50000/50000 [==============================] - 47s 939us/sample - loss: 107.4881 - acc: 0.0097 - val_loss: 342.2102 - val_acc: 0.0100\n",
            "Epoch 31/50\n",
            "50000/50000 [==============================] - 47s 939us/sample - loss: 60.7106 - acc: 0.0097 - val_loss: 359.2946 - val_acc: 0.0100\n",
            "Epoch 32/50\n",
            "50000/50000 [==============================] - 47s 938us/sample - loss: 174.8263 - acc: 0.0093 - val_loss: 340.7993 - val_acc: 0.0100\n",
            "Epoch 33/50\n",
            "50000/50000 [==============================] - 47s 940us/sample - loss: 93.8456 - acc: 0.0099 - val_loss: 208.2675 - val_acc: 0.0100\n",
            "Epoch 34/50\n",
            "50000/50000 [==============================] - 47s 940us/sample - loss: 90.4310 - acc: 0.0099 - val_loss: 574.7831 - val_acc: 0.0100\n",
            "Epoch 35/50\n",
            "50000/50000 [==============================] - 47s 940us/sample - loss: 222.7298 - acc: 0.0092 - val_loss: 232.1184 - val_acc: 0.0100\n",
            "Epoch 36/50\n",
            "50000/50000 [==============================] - 47s 938us/sample - loss: 202.1500 - acc: 0.0104 - val_loss: 177.5308 - val_acc: 0.0100\n",
            "Epoch 37/50\n",
            "50000/50000 [==============================] - 47s 939us/sample - loss: 163.6530 - acc: 0.0100 - val_loss: 273.0126 - val_acc: 0.0100\n",
            "Epoch 38/50\n",
            "50000/50000 [==============================] - 47s 940us/sample - loss: 188.2323 - acc: 0.0105 - val_loss: 93.5936 - val_acc: 0.0100\n",
            "Epoch 39/50\n",
            "50000/50000 [==============================] - 47s 940us/sample - loss: 32.5320 - acc: 0.0106 - val_loss: 9.8063 - val_acc: 0.0100\n",
            "Epoch 40/50\n",
            "50000/50000 [==============================] - 47s 939us/sample - loss: 102.6796 - acc: 0.0097 - val_loss: 4.6288 - val_acc: 0.0100\n",
            "Epoch 41/50\n",
            "50000/50000 [==============================] - 47s 940us/sample - loss: 46.6810 - acc: 0.0092 - val_loss: 92.9210 - val_acc: 0.0100\n",
            "Epoch 42/50\n",
            "50000/50000 [==============================] - 47s 939us/sample - loss: 78.9960 - acc: 0.0104 - val_loss: 514.8678 - val_acc: 0.0100\n",
            "Epoch 43/50\n",
            "50000/50000 [==============================] - 47s 940us/sample - loss: 174.2895 - acc: 0.0104 - val_loss: 297.8706 - val_acc: 0.0100\n",
            "Epoch 44/50\n",
            "50000/50000 [==============================] - 47s 940us/sample - loss: 212.0790 - acc: 0.0098 - val_loss: 335.3281 - val_acc: 0.0100\n",
            "Epoch 45/50\n",
            "50000/50000 [==============================] - 47s 939us/sample - loss: 146.2581 - acc: 0.0099 - val_loss: 276.2533 - val_acc: 0.0100\n",
            "Epoch 46/50\n",
            "50000/50000 [==============================] - 47s 940us/sample - loss: 113.9093 - acc: 0.0090 - val_loss: 89.8448 - val_acc: 0.0100\n",
            "Epoch 47/50\n",
            "50000/50000 [==============================] - 47s 940us/sample - loss: 178.8192 - acc: 0.0094 - val_loss: 596.7162 - val_acc: 0.0100\n",
            "Epoch 48/50\n",
            "50000/50000 [==============================] - 47s 939us/sample - loss: 182.8177 - acc: 0.0097 - val_loss: 666.1868 - val_acc: 0.0100\n",
            "Epoch 49/50\n",
            "50000/50000 [==============================] - 47s 940us/sample - loss: 601.1169 - acc: 0.0097 - val_loss: 158.7513 - val_acc: 0.0100\n",
            "Epoch 50/50\n",
            "50000/50000 [==============================] - 47s 940us/sample - loss: 323.2815 - acc: 0.0096 - val_loss: 175.6825 - val_acc: 0.0100\n"
          ]
        },
        {
          "output_type": "execute_result",
          "data": {
            "text/plain": [
              "<keras.callbacks.History at 0x7f9b7cfa4050>"
            ]
          },
          "metadata": {},
          "execution_count": 25
        }
      ]
    },
    {
      "cell_type": "markdown",
      "metadata": {
        "id": "n0WkbKCe2Pu3"
      },
      "source": [
        "DPKerasAdagradOptimizer"
      ]
    },
    {
      "cell_type": "code",
      "metadata": {
        "id": "dgEQEdfa2T0a"
      },
      "source": [
        "optimizer3 = tensorflow_privacy.DPKerasAdagradOptimizer(\n",
        "    l2_norm_clip=l2_norm_clip,\n",
        "    noise_multiplier=noise_multiplier,\n",
        "    num_microbatches=num_microbatches,\n",
        "    learning_rate=learning_rate)\n",
        "\n",
        "loss = tf.keras.losses.CategoricalCrossentropy(\n",
        "    from_logits=True, reduction=tf.losses.Reduction.NONE)"
      ],
      "execution_count": null,
      "outputs": []
    },
    {
      "cell_type": "code",
      "metadata": {
        "colab": {
          "base_uri": "https://localhost:8080/"
        },
        "id": "PrFFfE4R7tuj",
        "outputId": "49e83bcf-9c27-455e-b0b0-c635b2527eea"
      },
      "source": [
        "model.compile(optimizer=optimizer3, loss=loss, metrics=['accuracy'])\n",
        "\n",
        "model.fit(x_train, y_train,\n",
        "          epochs=50,\n",
        "          validation_data=(x_test, y_test),\n",
        "          batch_size=batch_size)"
      ],
      "execution_count": null,
      "outputs": [
        {
          "output_type": "stream",
          "name": "stdout",
          "text": [
            "Train on 50000 samples, validate on 10000 samples\n",
            "Epoch 1/50\n",
            "50000/50000 [==============================] - ETA: 0s - loss: 113.4696 - acc: 0.0098"
          ]
        },
        {
          "output_type": "stream",
          "name": "stderr",
          "text": [
            "/usr/local/lib/python3.7/dist-packages/keras/engine/training_v1.py:2057: UserWarning: `Model.state_updates` will be removed in a future version. This property should not be used in TensorFlow 2.0, as `updates` are applied automatically.\n",
            "  updates = self.state_updates\n"
          ]
        },
        {
          "output_type": "stream",
          "name": "stdout",
          "text": [
            "\b\b\b\b\b\b\b\b\b\b\b\b\b\b\b\b\b\b\b\b\b\b\b\b\b\b\b\b\b\b\b\b\b\b\b\b\b\b\b\b\b\b\b\b\b\b\b\b\b\b\b\b\b\b\b\b\b\b\b\b\b\b\b\b\b\b\b\b\b\b\b\b\b\b\b\b\b\b\b\b\b\b\b\b\b\r50000/50000 [==============================] - 63s 1ms/sample - loss: 113.4696 - acc: 0.0098 - val_loss: 174.5423 - val_acc: 0.0100\n",
            "Epoch 2/50\n",
            "50000/50000 [==============================] - 47s 941us/sample - loss: 113.0945 - acc: 0.0095 - val_loss: 173.9655 - val_acc: 0.0100\n",
            "Epoch 3/50\n",
            "50000/50000 [==============================] - 47s 941us/sample - loss: 112.3110 - acc: 0.0096 - val_loss: 174.6044 - val_acc: 0.0100\n",
            "Epoch 4/50\n",
            "50000/50000 [==============================] - 47s 940us/sample - loss: 111.9937 - acc: 0.0095 - val_loss: 174.4421 - val_acc: 0.0100\n",
            "Epoch 5/50\n",
            "50000/50000 [==============================] - 47s 940us/sample - loss: 110.9883 - acc: 0.0094 - val_loss: 174.6652 - val_acc: 0.0100\n",
            "Epoch 6/50\n",
            "50000/50000 [==============================] - 47s 940us/sample - loss: 110.5566 - acc: 0.0089 - val_loss: 174.0176 - val_acc: 0.0099\n",
            "Epoch 7/50\n",
            "50000/50000 [==============================] - 47s 941us/sample - loss: 110.1707 - acc: 0.0089 - val_loss: 174.9289 - val_acc: 0.0100\n",
            "Epoch 8/50\n",
            "50000/50000 [==============================] - 47s 939us/sample - loss: 109.7109 - acc: 0.0092 - val_loss: 174.8905 - val_acc: 0.0100\n",
            "Epoch 9/50\n",
            "50000/50000 [==============================] - 47s 940us/sample - loss: 109.4143 - acc: 0.0091 - val_loss: 174.9230 - val_acc: 0.0100\n",
            "Epoch 10/50\n",
            "50000/50000 [==============================] - 47s 941us/sample - loss: 108.7737 - acc: 0.0087 - val_loss: 175.5041 - val_acc: 0.0100\n",
            "Epoch 11/50\n",
            "50000/50000 [==============================] - 47s 939us/sample - loss: 108.2304 - acc: 0.0084 - val_loss: 175.0466 - val_acc: 0.0100\n",
            "Epoch 12/50\n",
            "50000/50000 [==============================] - 47s 939us/sample - loss: 107.8496 - acc: 0.0088 - val_loss: 174.2668 - val_acc: 0.0100\n",
            "Epoch 13/50\n",
            "50000/50000 [==============================] - 47s 941us/sample - loss: 107.2407 - acc: 0.0091 - val_loss: 174.9862 - val_acc: 0.0100\n",
            "Epoch 14/50\n",
            "50000/50000 [==============================] - 47s 940us/sample - loss: 106.5218 - acc: 0.0084 - val_loss: 174.6721 - val_acc: 0.0100\n",
            "Epoch 15/50\n",
            "50000/50000 [==============================] - 47s 941us/sample - loss: 106.2145 - acc: 0.0084 - val_loss: 173.9639 - val_acc: 0.0100\n",
            "Epoch 16/50\n",
            "50000/50000 [==============================] - 47s 941us/sample - loss: 105.9287 - acc: 0.0087 - val_loss: 174.6202 - val_acc: 0.0100\n",
            "Epoch 17/50\n",
            "50000/50000 [==============================] - 47s 940us/sample - loss: 105.2731 - acc: 0.0090 - val_loss: 174.2667 - val_acc: 0.0100\n",
            "Epoch 18/50\n",
            "50000/50000 [==============================] - 47s 941us/sample - loss: 104.9846 - acc: 0.0092 - val_loss: 173.1987 - val_acc: 0.0100\n",
            "Epoch 19/50\n",
            "50000/50000 [==============================] - 47s 940us/sample - loss: 104.4606 - acc: 0.0077 - val_loss: 173.2668 - val_acc: 0.0100\n",
            "Epoch 20/50\n",
            "50000/50000 [==============================] - 47s 941us/sample - loss: 103.9476 - acc: 0.0090 - val_loss: 172.8601 - val_acc: 0.0100\n",
            "Epoch 21/50\n",
            "50000/50000 [==============================] - 47s 940us/sample - loss: 103.4558 - acc: 0.0083 - val_loss: 172.7274 - val_acc: 0.0100\n",
            "Epoch 22/50\n",
            "50000/50000 [==============================] - 47s 940us/sample - loss: 103.0906 - acc: 0.0092 - val_loss: 172.6822 - val_acc: 0.0100\n",
            "Epoch 23/50\n",
            "50000/50000 [==============================] - 47s 940us/sample - loss: 102.4251 - acc: 0.0092 - val_loss: 171.6686 - val_acc: 0.0100\n",
            "Epoch 24/50\n",
            "50000/50000 [==============================] - 47s 940us/sample - loss: 101.8537 - acc: 0.0092 - val_loss: 170.6996 - val_acc: 0.0100\n",
            "Epoch 25/50\n",
            "50000/50000 [==============================] - 47s 939us/sample - loss: 101.3980 - acc: 0.0093 - val_loss: 171.3557 - val_acc: 0.0100\n",
            "Epoch 26/50\n",
            "50000/50000 [==============================] - 47s 940us/sample - loss: 100.8359 - acc: 0.0093 - val_loss: 171.2256 - val_acc: 0.0100\n",
            "Epoch 27/50\n",
            "50000/50000 [==============================] - 47s 939us/sample - loss: 100.4419 - acc: 0.0088 - val_loss: 171.2477 - val_acc: 0.0100\n",
            "Epoch 28/50\n",
            "50000/50000 [==============================] - 47s 940us/sample - loss: 100.0946 - acc: 0.0089 - val_loss: 170.7712 - val_acc: 0.0100\n",
            "Epoch 29/50\n",
            "50000/50000 [==============================] - 47s 941us/sample - loss: 99.7050 - acc: 0.0085 - val_loss: 170.8673 - val_acc: 0.0100\n",
            "Epoch 30/50\n",
            "50000/50000 [==============================] - 47s 940us/sample - loss: 99.6785 - acc: 0.0085 - val_loss: 170.7509 - val_acc: 0.0100\n",
            "Epoch 31/50\n",
            "50000/50000 [==============================] - 47s 939us/sample - loss: 99.3463 - acc: 0.0088 - val_loss: 171.3442 - val_acc: 0.0100\n",
            "Epoch 32/50\n",
            "50000/50000 [==============================] - 47s 940us/sample - loss: 98.6650 - acc: 0.0087 - val_loss: 171.7474 - val_acc: 0.0100\n",
            "Epoch 33/50\n",
            "50000/50000 [==============================] - 47s 941us/sample - loss: 98.3220 - acc: 0.0089 - val_loss: 170.1293 - val_acc: 0.0100\n",
            "Epoch 34/50\n",
            "50000/50000 [==============================] - 47s 941us/sample - loss: 97.8552 - acc: 0.0090 - val_loss: 170.0916 - val_acc: 0.0100\n",
            "Epoch 35/50\n",
            "50000/50000 [==============================] - 47s 940us/sample - loss: 97.0276 - acc: 0.0085 - val_loss: 169.0857 - val_acc: 0.0100\n",
            "Epoch 36/50\n",
            "50000/50000 [==============================] - 47s 939us/sample - loss: 96.7288 - acc: 0.0085 - val_loss: 169.1507 - val_acc: 0.0100\n",
            "Epoch 37/50\n",
            "50000/50000 [==============================] - 47s 939us/sample - loss: 96.4705 - acc: 0.0084 - val_loss: 169.3398 - val_acc: 0.0100\n",
            "Epoch 38/50\n",
            "50000/50000 [==============================] - 47s 940us/sample - loss: 96.1916 - acc: 0.0095 - val_loss: 168.9292 - val_acc: 0.0100\n",
            "Epoch 39/50\n",
            "50000/50000 [==============================] - 47s 939us/sample - loss: 95.9034 - acc: 0.0090 - val_loss: 169.4207 - val_acc: 0.0100\n",
            "Epoch 40/50\n",
            "50000/50000 [==============================] - 47s 940us/sample - loss: 95.5117 - acc: 0.0090 - val_loss: 169.0087 - val_acc: 0.0100\n",
            "Epoch 41/50\n",
            "50000/50000 [==============================] - 47s 942us/sample - loss: 95.1946 - acc: 0.0086 - val_loss: 169.3956 - val_acc: 0.0100\n",
            "Epoch 42/50\n",
            "50000/50000 [==============================] - 47s 941us/sample - loss: 94.7929 - acc: 0.0085 - val_loss: 169.5021 - val_acc: 0.0100\n",
            "Epoch 43/50\n",
            "50000/50000 [==============================] - 47s 942us/sample - loss: 94.2860 - acc: 0.0086 - val_loss: 169.5090 - val_acc: 0.0100\n",
            "Epoch 44/50\n",
            "50000/50000 [==============================] - 47s 941us/sample - loss: 94.0888 - acc: 0.0087 - val_loss: 169.6019 - val_acc: 0.0100\n",
            "Epoch 45/50\n",
            "50000/50000 [==============================] - 47s 941us/sample - loss: 93.4351 - acc: 0.0084 - val_loss: 169.9003 - val_acc: 0.0100\n",
            "Epoch 46/50\n",
            "50000/50000 [==============================] - 47s 938us/sample - loss: 93.0647 - acc: 0.0086 - val_loss: 170.1148 - val_acc: 0.0100\n",
            "Epoch 47/50\n",
            "50000/50000 [==============================] - 47s 937us/sample - loss: 92.5874 - acc: 0.0089 - val_loss: 170.6428 - val_acc: 0.0100\n",
            "Epoch 48/50\n",
            "50000/50000 [==============================] - 47s 942us/sample - loss: 92.4792 - acc: 0.0087 - val_loss: 170.6416 - val_acc: 0.0100\n",
            "Epoch 49/50\n",
            "50000/50000 [==============================] - 47s 940us/sample - loss: 92.0996 - acc: 0.0093 - val_loss: 169.2248 - val_acc: 0.0100\n",
            "Epoch 50/50\n",
            "50000/50000 [==============================] - 47s 941us/sample - loss: 91.8651 - acc: 0.0089 - val_loss: 168.0798 - val_acc: 0.0100\n"
          ]
        },
        {
          "output_type": "execute_result",
          "data": {
            "text/plain": [
              "<keras.callbacks.History at 0x7f9b7cfb47d0>"
            ]
          },
          "metadata": {},
          "execution_count": 30
        }
      ]
    },
    {
      "cell_type": "code",
      "metadata": {
        "id": "eeEXmxVOJlJ1"
      },
      "source": [
        ""
      ],
      "execution_count": null,
      "outputs": []
    }
  ]
}